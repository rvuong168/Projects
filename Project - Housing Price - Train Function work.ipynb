{
 "cells": [
  {
   "cell_type": "code",
   "execution_count": 1,
   "metadata": {},
   "outputs": [],
   "source": [
    "import pandas as pd \n",
    "import numpy as np\n",
    "import matplotlib.pyplot as plt \n",
    "from sklearn.model_selection import train_test_split\n",
    "from sklearn.preprocessing import OrdinalEncoder, MinMaxScaler\n",
    "from sklearn.linear_model import Lasso, Ridge, LinearRegression\n",
    "from sklearn.metrics import mean_squared_error\n",
    "import category_encoders as ce\n",
    "import xgboost as xgb\n",
    "from datetime import datetime"
   ]
  },
  {
   "cell_type": "code",
   "execution_count": 2,
   "metadata": {},
   "outputs": [],
   "source": [
    "train = pd.read_csv(r'C:\\Users\\rvuon\\OneDrive\\Documents\\GitHub\\githubtest\\Data\\train.csv')"
   ]
  },
  {
   "cell_type": "code",
   "execution_count": 3,
   "metadata": {},
   "outputs": [],
   "source": [
    "def fillna_groupby_train(df, feature, group, agg_funct):\n",
    "    df[feature] = df.groupby(group)[feature].transform(lambda x: x.fillna(x.agg(agg_funct).iloc[0]))\n",
    "    return df\n"
   ]
  },
  {
   "cell_type": "code",
   "execution_count": 4,
   "metadata": {},
   "outputs": [],
   "source": [
    "def fillna_NA(df, feature):\n",
    "    df[feature] = np.where(df[feature]).isnull(), 'NA', df[feature]\n",
    "    return df"
   ]
  },
  {
   "cell_type": "code",
   "execution_count": 5,
   "metadata": {},
   "outputs": [],
   "source": [
    "def fillna_ZERO(df, feature):\n",
    "    df[feature] = np.where(df[feature].isnull(), 0, df[feature])\n",
    "    return df"
   ]
  },
  {
   "cell_type": "code",
   "execution_count": 6,
   "metadata": {},
   "outputs": [],
   "source": [
    "def fillna__NA_basedon_feat_equalzero(df, depend_feat, feature):\n",
    "    df[feature] = np.where((df[feature].isnull()) & (df[depend_feat]==0), 'NA', df[feature])\n",
    "    return df\n"
   ]
  },
  {
   "cell_type": "code",
   "execution_count": 7,
   "metadata": {},
   "outputs": [],
   "source": [
    "def fillna__NA_basedon_feat_greaterzero(df, depend_feat, feature):\n",
    "    df[feature] = np.where((df[feature].isnull()) & (df[depend_feat]> 0), 'NA', df[feature])\n",
    "    return df"
   ]
  },
  {
   "cell_type": "code",
   "execution_count": 8,
   "metadata": {},
   "outputs": [],
   "source": [
    "def fillna__value_basedon_feat_greaterzero(df, depend_feat, feature, value):\n",
    "    df[feature] = np.where((df[feature].isnull()) & (df[depend_feat]> 0), value, df[feature])\n",
    "    return df"
   ]
  },
  {
   "cell_type": "code",
   "execution_count": 9,
   "metadata": {},
   "outputs": [],
   "source": [
    "def fillna__mode(df, feature):\n",
    "    df[feature] = np.where(df[feature].isnull(), df[feature].mode(), df[feature])\n",
    "    return df"
   ]
  },
  {
   "cell_type": "code",
   "execution_count": 10,
   "metadata": {},
   "outputs": [],
   "source": [
    "def fillna_ZERO_basedon_feat_equalzero(df, depend_feat, feature):\n",
    "    df[feature] = np.where((df[feature].isnull()) & (df[depend_feat]==0), 0, df[feature])\n",
    "    return df"
   ]
  },
  {
   "cell_type": "markdown",
   "metadata": {},
   "source": []
  },
  {
   "cell_type": "code",
   "execution_count": 11,
   "metadata": {},
   "outputs": [],
   "source": [
    "def fillna_MiscFeature(df):\n",
    "    df['MiscFeature'] = np.where((df['MiscFeature'].isnull()) & (df['GarageType']=='2Types'), 'Gar2', df['MiscFeature'])\n",
    "    df['MiscFeature'] = np.where(df['MiscFeature'].isnull(), 'NA', df['MiscFeature'])\n",
    "    return df"
   ]
  },
  {
   "cell_type": "code",
   "execution_count": 12,
   "metadata": {},
   "outputs": [],
   "source": [
    "def fillna_BsmtFinType2(df):\n",
    "    df['BsmtFinType2'] = np.where((df['BsmtFinType2'].isnull() & df['BsmtUnfSF'] > 0), 'Unf', df['BsmtFinType2'])\n",
    "    df['BsmtFinType2'] = np.where(df['BsmtFinType2'].isnull(), 'NA', df['BsmtFinType2'])\n",
    "    return df\n"
   ]
  },
  {
   "cell_type": "code",
   "execution_count": 13,
   "metadata": {},
   "outputs": [],
   "source": [
    "def feateng_age(df, feat, newfeat):\n",
    "    df[newfeat] = datetime.now().year - df[feat]\n",
    "    return df"
   ]
  },
  {
   "cell_type": "code",
   "execution_count": 14,
   "metadata": {},
   "outputs": [],
   "source": [
    "def feateng_ratio(df, feat1, feat2, newfeat):\n",
    "    df[newfeat] = (df[feat1]/df[feat2]).round(2)\n",
    "    return df"
   ]
  },
  {
   "cell_type": "code",
   "execution_count": 15,
   "metadata": {},
   "outputs": [],
   "source": [
    "def feateng_has_YN(df, feat, newfeat):\n",
    "    df[newfeat]= np.where(df[feat]=='Y', 1, 0)\n",
    "    return df"
   ]
  },
  {
   "cell_type": "code",
   "execution_count": 16,
   "metadata": {},
   "outputs": [],
   "source": [
    "def feateng_has_greaterzero(df, feat, newfeat):\n",
    "    df[newfeat] = df[feat].apply(lambda x: 1 if x > 0 else 0)\n",
    "    return df"
   ]
  },
  {
   "cell_type": "code",
   "execution_count": 17,
   "metadata": {},
   "outputs": [],
   "source": [
    "def change_dtype(df, feat, dtype):\n",
    "    df[feat] = df[feat].astype(dtype)\n",
    "    return "
   ]
  },
  {
   "cell_type": "code",
   "execution_count": 18,
   "metadata": {},
   "outputs": [],
   "source": [
    "def convert_datetime(df, feat, type):\n",
    "    type_mapping = {'month':'month', 'year':'year'}\n",
    "    df[feat] = pd.to_datetime(df[feat]).dt.__getattribute__(type_mapping[type])\n",
    "    return df\n"
   ]
  },
  {
   "cell_type": "code",
   "execution_count": 19,
   "metadata": {},
   "outputs": [
    {
     "data": {
      "text/plain": [
       "<matplotlib.collections.PathCollection at 0x26dc22a6050>"
      ]
     },
     "execution_count": 19,
     "metadata": {},
     "output_type": "execute_result"
    },
    {
     "data": {
      "image/png": "[encoded data removed]",
      "text/plain": [
       "<Figure size 640x480 with 1 Axes>"
      ]
     },
     "metadata": {},
     "output_type": "display_data"
    }
   ],
   "source": [
    "plt.scatter(train['GrLivArea'], train['SalePrice'])"
   ]
  },
  {
   "cell_type": "code",
   "execution_count": 20,
   "metadata": {},
   "outputs": [
    {
     "data": {
      "text/plain": [
       "Id             0\n",
       "CentralAir     0\n",
       "GarageYrBlt    0\n",
       "GarageType     0\n",
       "FireplaceQu    0\n",
       "              ..\n",
       "MasVnrArea     0\n",
       "MasVnrType     0\n",
       "Exterior2nd    0\n",
       "Exterior1st    0\n",
       "SalePrice      0\n",
       "Length: 81, dtype: int64"
      ]
     },
     "execution_count": 20,
     "metadata": {},
     "output_type": "execute_result"
    }
   ],
   "source": [
    "fillna_groupby_train(train, 'LotFrontage', 'Neighborhood', 'mode')\n",
    "\n",
    "fillna_NA(train, ['Alley', 'MasVnrType', 'BsmtQual', 'BsmtCond', 'BsmtFinType1', 'Fence'])\n",
    "fillna_ZERO(train, 'MasVnrArea')\n",
    "\n",
    "\n",
    "fillna__NA_basedon_feat_equalzero(train, 'TotalBsmtSF', 'BsmtExposure')\n",
    "fillna__NA_basedon_feat_equalzero(train, 'Fireplaces', 'FireplaceQu')\n",
    "fillna__NA_basedon_feat_equalzero(train, 'GarageCars', 'GarageType')\n",
    "fillna__NA_basedon_feat_equalzero(train, 'GarageCars', 'GarageYrBlt')\n",
    "fillna__NA_basedon_feat_equalzero(train, 'GarageCars', 'GarageFinish')\n",
    "fillna__NA_basedon_feat_equalzero(train, 'GarageCars', 'GarageQual')\n",
    "fillna__NA_basedon_feat_equalzero(train, 'GarageCars', 'GarageCond')\n",
    "fillna__NA_basedon_feat_equalzero(train, 'PoolArea', 'PoolQC')\n",
    "\n",
    "fillna__mode(train, ['Electrical', 'BsmtExposure'])\n",
    "\n",
    "fillna_BsmtFinType2(train)\n",
    "fillna_MiscFeature(train)\n",
    "\n",
    "train.isnull().sum().sort_values(ascending=False)\n",
    "\n"
   ]
  }
 ],
 "metadata": {
  "kernelspec": {
   "display_name": "Python 3",
   "language": "python",
   "name": "python3"
  },
  "language_info": {
   "codemirror_mode": {
    "name": "ipython",
    "version": 3
   },
   "file_extension": ".py",
   "mimetype": "text/x-python",
   "name": "python",
   "nbconvert_exporter": "python",
   "pygments_lexer": "ipython3",
   "version": "3.11.8"
  }
 },
 "nbformat": 4,
 "nbformat_minor": 2
}
