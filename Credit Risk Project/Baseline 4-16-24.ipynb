{
 "cells": [
  {
   "cell_type": "code",
   "execution_count": 2,
   "metadata": {},
   "outputs": [],
   "source": [
    "import pandas as pd \n",
    "import numpy as np\n",
    "import matplotlib.pyplot as plt\n"
   ]
  },
  {
   "cell_type": "markdown",
   "metadata": {},
   "source": [
    "# TRAIN"
   ]
  },
  {
   "cell_type": "code",
   "execution_count": 3,
   "metadata": {},
   "outputs": [],
   "source": [
    "# train = pd.read_csv('/Volumes/Samsung USB/Data Science/Projects/Credit Risk project/Data/application_train.csv')\n",
    "# train"
   ]
  },
  {
   "cell_type": "code",
   "execution_count": 4,
   "metadata": {},
   "outputs": [
    {
     "data": {
      "text/html": [
       "<div>\n",
       "<style scoped>\n",
       "    .dataframe tbody tr th:only-of-type {\n",
       "        vertical-align: middle;\n",
       "    }\n",
       "\n",
       "    .dataframe tbody tr th {\n",
       "        vertical-align: top;\n",
       "    }\n",
       "\n",
       "    .dataframe thead th {\n",
       "        text-align: right;\n",
       "    }\n",
       "</style>\n",
       "<table border=\"1\" class=\"dataframe\">\n",
       "  <thead>\n",
       "    <tr style=\"text-align: right;\">\n",
       "      <th></th>\n",
       "      <th>SK_ID_CURR</th>\n",
       "      <th>TARGET</th>\n",
       "      <th>NAME_CONTRACT_TYPE</th>\n",
       "      <th>CODE_GENDER</th>\n",
       "      <th>FLAG_OWN_CAR</th>\n",
       "      <th>FLAG_OWN_REALTY</th>\n",
       "      <th>CNT_CHILDREN</th>\n",
       "      <th>AMT_INCOME_TOTAL</th>\n",
       "      <th>AMT_CREDIT</th>\n",
       "      <th>AMT_ANNUITY</th>\n",
       "      <th>...</th>\n",
       "      <th>FLAG_DOCUMENT_18</th>\n",
       "      <th>FLAG_DOCUMENT_19</th>\n",
       "      <th>FLAG_DOCUMENT_20</th>\n",
       "      <th>FLAG_DOCUMENT_21</th>\n",
       "      <th>AMT_REQ_CREDIT_BUREAU_HOUR</th>\n",
       "      <th>AMT_REQ_CREDIT_BUREAU_DAY</th>\n",
       "      <th>AMT_REQ_CREDIT_BUREAU_WEEK</th>\n",
       "      <th>AMT_REQ_CREDIT_BUREAU_MON</th>\n",
       "      <th>AMT_REQ_CREDIT_BUREAU_QRT</th>\n",
       "      <th>AMT_REQ_CREDIT_BUREAU_YEAR</th>\n",
       "    </tr>\n",
       "  </thead>\n",
       "  <tbody>\n",
       "    <tr>\n",
       "      <th>0</th>\n",
       "      <td>100002</td>\n",
       "      <td>1</td>\n",
       "      <td>Cash loans</td>\n",
       "      <td>M</td>\n",
       "      <td>N</td>\n",
       "      <td>Y</td>\n",
       "      <td>0</td>\n",
       "      <td>202500.0</td>\n",
       "      <td>406597.5</td>\n",
       "      <td>24700.5</td>\n",
       "      <td>...</td>\n",
       "      <td>0</td>\n",
       "      <td>0</td>\n",
       "      <td>0</td>\n",
       "      <td>0</td>\n",
       "      <td>0.0</td>\n",
       "      <td>0.0</td>\n",
       "      <td>0.0</td>\n",
       "      <td>0.0</td>\n",
       "      <td>0.0</td>\n",
       "      <td>1.0</td>\n",
       "    </tr>\n",
       "    <tr>\n",
       "      <th>1</th>\n",
       "      <td>100003</td>\n",
       "      <td>0</td>\n",
       "      <td>Cash loans</td>\n",
       "      <td>F</td>\n",
       "      <td>N</td>\n",
       "      <td>N</td>\n",
       "      <td>0</td>\n",
       "      <td>270000.0</td>\n",
       "      <td>1293502.5</td>\n",
       "      <td>35698.5</td>\n",
       "      <td>...</td>\n",
       "      <td>0</td>\n",
       "      <td>0</td>\n",
       "      <td>0</td>\n",
       "      <td>0</td>\n",
       "      <td>0.0</td>\n",
       "      <td>0.0</td>\n",
       "      <td>0.0</td>\n",
       "      <td>0.0</td>\n",
       "      <td>0.0</td>\n",
       "      <td>0.0</td>\n",
       "    </tr>\n",
       "    <tr>\n",
       "      <th>2</th>\n",
       "      <td>100004</td>\n",
       "      <td>0</td>\n",
       "      <td>Revolving loans</td>\n",
       "      <td>M</td>\n",
       "      <td>Y</td>\n",
       "      <td>Y</td>\n",
       "      <td>0</td>\n",
       "      <td>67500.0</td>\n",
       "      <td>135000.0</td>\n",
       "      <td>6750.0</td>\n",
       "      <td>...</td>\n",
       "      <td>0</td>\n",
       "      <td>0</td>\n",
       "      <td>0</td>\n",
       "      <td>0</td>\n",
       "      <td>0.0</td>\n",
       "      <td>0.0</td>\n",
       "      <td>0.0</td>\n",
       "      <td>0.0</td>\n",
       "      <td>0.0</td>\n",
       "      <td>0.0</td>\n",
       "    </tr>\n",
       "    <tr>\n",
       "      <th>3</th>\n",
       "      <td>100006</td>\n",
       "      <td>0</td>\n",
       "      <td>Cash loans</td>\n",
       "      <td>F</td>\n",
       "      <td>N</td>\n",
       "      <td>Y</td>\n",
       "      <td>0</td>\n",
       "      <td>135000.0</td>\n",
       "      <td>312682.5</td>\n",
       "      <td>29686.5</td>\n",
       "      <td>...</td>\n",
       "      <td>0</td>\n",
       "      <td>0</td>\n",
       "      <td>0</td>\n",
       "      <td>0</td>\n",
       "      <td>NaN</td>\n",
       "      <td>NaN</td>\n",
       "      <td>NaN</td>\n",
       "      <td>NaN</td>\n",
       "      <td>NaN</td>\n",
       "      <td>NaN</td>\n",
       "    </tr>\n",
       "    <tr>\n",
       "      <th>4</th>\n",
       "      <td>100007</td>\n",
       "      <td>0</td>\n",
       "      <td>Cash loans</td>\n",
       "      <td>M</td>\n",
       "      <td>N</td>\n",
       "      <td>Y</td>\n",
       "      <td>0</td>\n",
       "      <td>121500.0</td>\n",
       "      <td>513000.0</td>\n",
       "      <td>21865.5</td>\n",
       "      <td>...</td>\n",
       "      <td>0</td>\n",
       "      <td>0</td>\n",
       "      <td>0</td>\n",
       "      <td>0</td>\n",
       "      <td>0.0</td>\n",
       "      <td>0.0</td>\n",
       "      <td>0.0</td>\n",
       "      <td>0.0</td>\n",
       "      <td>0.0</td>\n",
       "      <td>0.0</td>\n",
       "    </tr>\n",
       "    <tr>\n",
       "      <th>...</th>\n",
       "      <td>...</td>\n",
       "      <td>...</td>\n",
       "      <td>...</td>\n",
       "      <td>...</td>\n",
       "      <td>...</td>\n",
       "      <td>...</td>\n",
       "      <td>...</td>\n",
       "      <td>...</td>\n",
       "      <td>...</td>\n",
       "      <td>...</td>\n",
       "      <td>...</td>\n",
       "      <td>...</td>\n",
       "      <td>...</td>\n",
       "      <td>...</td>\n",
       "      <td>...</td>\n",
       "      <td>...</td>\n",
       "      <td>...</td>\n",
       "      <td>...</td>\n",
       "      <td>...</td>\n",
       "      <td>...</td>\n",
       "      <td>...</td>\n",
       "    </tr>\n",
       "    <tr>\n",
       "      <th>307506</th>\n",
       "      <td>456251</td>\n",
       "      <td>0</td>\n",
       "      <td>Cash loans</td>\n",
       "      <td>M</td>\n",
       "      <td>N</td>\n",
       "      <td>N</td>\n",
       "      <td>0</td>\n",
       "      <td>157500.0</td>\n",
       "      <td>254700.0</td>\n",
       "      <td>27558.0</td>\n",
       "      <td>...</td>\n",
       "      <td>0</td>\n",
       "      <td>0</td>\n",
       "      <td>0</td>\n",
       "      <td>0</td>\n",
       "      <td>NaN</td>\n",
       "      <td>NaN</td>\n",
       "      <td>NaN</td>\n",
       "      <td>NaN</td>\n",
       "      <td>NaN</td>\n",
       "      <td>NaN</td>\n",
       "    </tr>\n",
       "    <tr>\n",
       "      <th>307507</th>\n",
       "      <td>456252</td>\n",
       "      <td>0</td>\n",
       "      <td>Cash loans</td>\n",
       "      <td>F</td>\n",
       "      <td>N</td>\n",
       "      <td>Y</td>\n",
       "      <td>0</td>\n",
       "      <td>72000.0</td>\n",
       "      <td>269550.0</td>\n",
       "      <td>12001.5</td>\n",
       "      <td>...</td>\n",
       "      <td>0</td>\n",
       "      <td>0</td>\n",
       "      <td>0</td>\n",
       "      <td>0</td>\n",
       "      <td>NaN</td>\n",
       "      <td>NaN</td>\n",
       "      <td>NaN</td>\n",
       "      <td>NaN</td>\n",
       "      <td>NaN</td>\n",
       "      <td>NaN</td>\n",
       "    </tr>\n",
       "    <tr>\n",
       "      <th>307508</th>\n",
       "      <td>456253</td>\n",
       "      <td>0</td>\n",
       "      <td>Cash loans</td>\n",
       "      <td>F</td>\n",
       "      <td>N</td>\n",
       "      <td>Y</td>\n",
       "      <td>0</td>\n",
       "      <td>153000.0</td>\n",
       "      <td>677664.0</td>\n",
       "      <td>29979.0</td>\n",
       "      <td>...</td>\n",
       "      <td>0</td>\n",
       "      <td>0</td>\n",
       "      <td>0</td>\n",
       "      <td>0</td>\n",
       "      <td>1.0</td>\n",
       "      <td>0.0</td>\n",
       "      <td>0.0</td>\n",
       "      <td>1.0</td>\n",
       "      <td>0.0</td>\n",
       "      <td>1.0</td>\n",
       "    </tr>\n",
       "    <tr>\n",
       "      <th>307509</th>\n",
       "      <td>456254</td>\n",
       "      <td>1</td>\n",
       "      <td>Cash loans</td>\n",
       "      <td>F</td>\n",
       "      <td>N</td>\n",
       "      <td>Y</td>\n",
       "      <td>0</td>\n",
       "      <td>171000.0</td>\n",
       "      <td>370107.0</td>\n",
       "      <td>20205.0</td>\n",
       "      <td>...</td>\n",
       "      <td>0</td>\n",
       "      <td>0</td>\n",
       "      <td>0</td>\n",
       "      <td>0</td>\n",
       "      <td>0.0</td>\n",
       "      <td>0.0</td>\n",
       "      <td>0.0</td>\n",
       "      <td>0.0</td>\n",
       "      <td>0.0</td>\n",
       "      <td>0.0</td>\n",
       "    </tr>\n",
       "    <tr>\n",
       "      <th>307510</th>\n",
       "      <td>456255</td>\n",
       "      <td>0</td>\n",
       "      <td>Cash loans</td>\n",
       "      <td>F</td>\n",
       "      <td>N</td>\n",
       "      <td>N</td>\n",
       "      <td>0</td>\n",
       "      <td>157500.0</td>\n",
       "      <td>675000.0</td>\n",
       "      <td>49117.5</td>\n",
       "      <td>...</td>\n",
       "      <td>0</td>\n",
       "      <td>0</td>\n",
       "      <td>0</td>\n",
       "      <td>0</td>\n",
       "      <td>0.0</td>\n",
       "      <td>0.0</td>\n",
       "      <td>0.0</td>\n",
       "      <td>2.0</td>\n",
       "      <td>0.0</td>\n",
       "      <td>1.0</td>\n",
       "    </tr>\n",
       "  </tbody>\n",
       "</table>\n",
       "<p>307511 rows × 122 columns</p>\n",
       "</div>"
      ],
      "text/plain": [
       "        SK_ID_CURR  TARGET NAME_CONTRACT_TYPE CODE_GENDER FLAG_OWN_CAR  \\\n",
       "0           100002       1         Cash loans           M            N   \n",
       "1           100003       0         Cash loans           F            N   \n",
       "2           100004       0    Revolving loans           M            Y   \n",
       "3           100006       0         Cash loans           F            N   \n",
       "4           100007       0         Cash loans           M            N   \n",
       "...            ...     ...                ...         ...          ...   \n",
       "307506      456251       0         Cash loans           M            N   \n",
       "307507      456252       0         Cash loans           F            N   \n",
       "307508      456253       0         Cash loans           F            N   \n",
       "307509      456254       1         Cash loans           F            N   \n",
       "307510      456255       0         Cash loans           F            N   \n",
       "\n",
       "       FLAG_OWN_REALTY  CNT_CHILDREN  AMT_INCOME_TOTAL  AMT_CREDIT  \\\n",
       "0                    Y             0          202500.0    406597.5   \n",
       "1                    N             0          270000.0   1293502.5   \n",
       "2                    Y             0           67500.0    135000.0   \n",
       "3                    Y             0          135000.0    312682.5   \n",
       "4                    Y             0          121500.0    513000.0   \n",
       "...                ...           ...               ...         ...   \n",
       "307506               N             0          157500.0    254700.0   \n",
       "307507               Y             0           72000.0    269550.0   \n",
       "307508               Y             0          153000.0    677664.0   \n",
       "307509               Y             0          171000.0    370107.0   \n",
       "307510               N             0          157500.0    675000.0   \n",
       "\n",
       "        AMT_ANNUITY  ...  FLAG_DOCUMENT_18 FLAG_DOCUMENT_19 FLAG_DOCUMENT_20  \\\n",
       "0           24700.5  ...                 0                0                0   \n",
       "1           35698.5  ...                 0                0                0   \n",
       "2            6750.0  ...                 0                0                0   \n",
       "3           29686.5  ...                 0                0                0   \n",
       "4           21865.5  ...                 0                0                0   \n",
       "...             ...  ...               ...              ...              ...   \n",
       "307506      27558.0  ...                 0                0                0   \n",
       "307507      12001.5  ...                 0                0                0   \n",
       "307508      29979.0  ...                 0                0                0   \n",
       "307509      20205.0  ...                 0                0                0   \n",
       "307510      49117.5  ...                 0                0                0   \n",
       "\n",
       "       FLAG_DOCUMENT_21 AMT_REQ_CREDIT_BUREAU_HOUR AMT_REQ_CREDIT_BUREAU_DAY  \\\n",
       "0                     0                        0.0                       0.0   \n",
       "1                     0                        0.0                       0.0   \n",
       "2                     0                        0.0                       0.0   \n",
       "3                     0                        NaN                       NaN   \n",
       "4                     0                        0.0                       0.0   \n",
       "...                 ...                        ...                       ...   \n",
       "307506                0                        NaN                       NaN   \n",
       "307507                0                        NaN                       NaN   \n",
       "307508                0                        1.0                       0.0   \n",
       "307509                0                        0.0                       0.0   \n",
       "307510                0                        0.0                       0.0   \n",
       "\n",
       "        AMT_REQ_CREDIT_BUREAU_WEEK  AMT_REQ_CREDIT_BUREAU_MON  \\\n",
       "0                              0.0                        0.0   \n",
       "1                              0.0                        0.0   \n",
       "2                              0.0                        0.0   \n",
       "3                              NaN                        NaN   \n",
       "4                              0.0                        0.0   \n",
       "...                            ...                        ...   \n",
       "307506                         NaN                        NaN   \n",
       "307507                         NaN                        NaN   \n",
       "307508                         0.0                        1.0   \n",
       "307509                         0.0                        0.0   \n",
       "307510                         0.0                        2.0   \n",
       "\n",
       "        AMT_REQ_CREDIT_BUREAU_QRT  AMT_REQ_CREDIT_BUREAU_YEAR  \n",
       "0                             0.0                         1.0  \n",
       "1                             0.0                         0.0  \n",
       "2                             0.0                         0.0  \n",
       "3                             NaN                         NaN  \n",
       "4                             0.0                         0.0  \n",
       "...                           ...                         ...  \n",
       "307506                        NaN                         NaN  \n",
       "307507                        NaN                         NaN  \n",
       "307508                        0.0                         1.0  \n",
       "307509                        0.0                         0.0  \n",
       "307510                        0.0                         1.0  \n",
       "\n",
       "[307511 rows x 122 columns]"
      ]
     },
     "execution_count": 4,
     "metadata": {},
     "output_type": "execute_result"
    }
   ],
   "source": [
    "train = pd.read_csv(r'D:\\Data Science\\Projects\\Credit Risk project\\Data\\application_train.csv')\n",
    "train"
   ]
  },
  {
   "cell_type": "markdown",
   "metadata": {},
   "source": [
    "## Data Cleaning"
   ]
  },
  {
   "cell_type": "markdown",
   "metadata": {},
   "source": [
    "### Null Features"
   ]
  },
  {
   "cell_type": "code",
   "execution_count": 5,
   "metadata": {},
   "outputs": [
    {
     "data": {
      "text/plain": [
       "SK_ID_CURR                    0.000000\n",
       "TARGET                        0.000000\n",
       "NAME_CONTRACT_TYPE            0.000000\n",
       "CODE_GENDER                   0.000000\n",
       "FLAG_OWN_CAR                  0.000000\n",
       "                                ...   \n",
       "AMT_REQ_CREDIT_BUREAU_DAY     0.135016\n",
       "AMT_REQ_CREDIT_BUREAU_WEEK    0.135016\n",
       "AMT_REQ_CREDIT_BUREAU_MON     0.135016\n",
       "AMT_REQ_CREDIT_BUREAU_QRT     0.135016\n",
       "AMT_REQ_CREDIT_BUREAU_YEAR    0.135016\n",
       "Length: 122, dtype: float64"
      ]
     },
     "execution_count": 5,
     "metadata": {},
     "output_type": "execute_result"
    }
   ],
   "source": [
    "def fraction_missing(column):\n",
    "    total_rows = len(column)\n",
    "    missing_count = column.isnull().sum()\n",
    "    return missing_count/total_rows\n",
    "\n",
    "missing_fraction = train.apply(fraction_missing)\n",
    "missing_fraction"
   ]
  },
  {
   "cell_type": "code",
   "execution_count": 6,
   "metadata": {},
   "outputs": [
    {
     "data": {
      "text/plain": [
       "COMMONAREA_AVG              0.698723\n",
       "COMMONAREA_MEDI             0.698723\n",
       "COMMONAREA_MODE             0.698723\n",
       "NONLIVINGAPARTMENTS_MEDI    0.694330\n",
       "NONLIVINGAPARTMENTS_AVG     0.694330\n",
       "NONLIVINGAPARTMENTS_MODE    0.694330\n",
       "FONDKAPREMONT_MODE          0.683862\n",
       "LIVINGAPARTMENTS_MEDI       0.683550\n",
       "LIVINGAPARTMENTS_AVG        0.683550\n",
       "LIVINGAPARTMENTS_MODE       0.683550\n",
       "FLOORSMIN_MODE              0.678486\n",
       "FLOORSMIN_MEDI              0.678486\n",
       "FLOORSMIN_AVG               0.678486\n",
       "YEARS_BUILD_MODE            0.664978\n",
       "YEARS_BUILD_AVG             0.664978\n",
       "YEARS_BUILD_MEDI            0.664978\n",
       "OWN_CAR_AGE                 0.659908\n",
       "LANDAREA_AVG                0.593767\n",
       "LANDAREA_MEDI               0.593767\n",
       "LANDAREA_MODE               0.593767\n",
       "BASEMENTAREA_MEDI           0.585160\n",
       "BASEMENTAREA_AVG            0.585160\n",
       "BASEMENTAREA_MODE           0.585160\n",
       "EXT_SOURCE_1                0.563811\n",
       "NONLIVINGAREA_MODE          0.551792\n",
       "NONLIVINGAREA_MEDI          0.551792\n",
       "NONLIVINGAREA_AVG           0.551792\n",
       "ELEVATORS_MODE              0.532960\n",
       "ELEVATORS_MEDI              0.532960\n",
       "ELEVATORS_AVG               0.532960\n",
       "WALLSMATERIAL_MODE          0.508408\n",
       "APARTMENTS_MEDI             0.507497\n",
       "APARTMENTS_MODE             0.507497\n",
       "APARTMENTS_AVG              0.507497\n",
       "ENTRANCES_MODE              0.503488\n",
       "ENTRANCES_AVG               0.503488\n",
       "ENTRANCES_MEDI              0.503488\n",
       "LIVINGAREA_MEDI             0.501933\n",
       "LIVINGAREA_AVG              0.501933\n",
       "LIVINGAREA_MODE             0.501933\n",
       "HOUSETYPE_MODE              0.501761\n",
       "dtype: float64"
      ]
     },
     "execution_count": 6,
     "metadata": {},
     "output_type": "execute_result"
    }
   ],
   "source": [
    "high_missing_features_train = missing_fraction[missing_fraction > 0.5]\n",
    "high_missing_features_train = high_missing_features_train.sort_values(ascending=False)\n",
    "high_missing_features_train"
   ]
  },
  {
   "cell_type": "code",
   "execution_count": 7,
   "metadata": {},
   "outputs": [
    {
     "name": "stdout",
     "output_type": "stream",
     "text": [
      "<class 'pandas.core.frame.DataFrame'>\n",
      "RangeIndex: 307511 entries, 0 to 307510\n",
      "Data columns (total 81 columns):\n",
      " #   Column                        Non-Null Count   Dtype  \n",
      "---  ------                        --------------   -----  \n",
      " 0   SK_ID_CURR                    307511 non-null  int64  \n",
      " 1   TARGET                        307511 non-null  int64  \n",
      " 2   NAME_CONTRACT_TYPE            307511 non-null  object \n",
      " 3   CODE_GENDER                   307511 non-null  object \n",
      " 4   FLAG_OWN_CAR                  307511 non-null  object \n",
      " 5   FLAG_OWN_REALTY               307511 non-null  object \n",
      " 6   CNT_CHILDREN                  307511 non-null  int64  \n",
      " 7   AMT_INCOME_TOTAL              307511 non-null  float64\n",
      " 8   AMT_CREDIT                    307511 non-null  float64\n",
      " 9   AMT_ANNUITY                   307499 non-null  float64\n",
      " 10  AMT_GOODS_PRICE               307233 non-null  float64\n",
      " 11  NAME_TYPE_SUITE               306219 non-null  object \n",
      " 12  NAME_INCOME_TYPE              307511 non-null  object \n",
      " 13  NAME_EDUCATION_TYPE           307511 non-null  object \n",
      " 14  NAME_FAMILY_STATUS            307511 non-null  object \n",
      " 15  NAME_HOUSING_TYPE             307511 non-null  object \n",
      " 16  REGION_POPULATION_RELATIVE    307511 non-null  float64\n",
      " 17  DAYS_BIRTH                    307511 non-null  int64  \n",
      " 18  DAYS_EMPLOYED                 307511 non-null  int64  \n",
      " 19  DAYS_REGISTRATION             307511 non-null  float64\n",
      " 20  DAYS_ID_PUBLISH               307511 non-null  int64  \n",
      " 21  FLAG_MOBIL                    307511 non-null  int64  \n",
      " 22  FLAG_EMP_PHONE                307511 non-null  int64  \n",
      " 23  FLAG_WORK_PHONE               307511 non-null  int64  \n",
      " 24  FLAG_CONT_MOBILE              307511 non-null  int64  \n",
      " 25  FLAG_PHONE                    307511 non-null  int64  \n",
      " 26  FLAG_EMAIL                    307511 non-null  int64  \n",
      " 27  OCCUPATION_TYPE               211120 non-null  object \n",
      " 28  CNT_FAM_MEMBERS               307509 non-null  float64\n",
      " 29  REGION_RATING_CLIENT          307511 non-null  int64  \n",
      " 30  REGION_RATING_CLIENT_W_CITY   307511 non-null  int64  \n",
      " 31  WEEKDAY_APPR_PROCESS_START    307511 non-null  object \n",
      " 32  HOUR_APPR_PROCESS_START       307511 non-null  int64  \n",
      " 33  REG_REGION_NOT_LIVE_REGION    307511 non-null  int64  \n",
      " 34  REG_REGION_NOT_WORK_REGION    307511 non-null  int64  \n",
      " 35  LIVE_REGION_NOT_WORK_REGION   307511 non-null  int64  \n",
      " 36  REG_CITY_NOT_LIVE_CITY        307511 non-null  int64  \n",
      " 37  REG_CITY_NOT_WORK_CITY        307511 non-null  int64  \n",
      " 38  LIVE_CITY_NOT_WORK_CITY       307511 non-null  int64  \n",
      " 39  ORGANIZATION_TYPE             307511 non-null  object \n",
      " 40  EXT_SOURCE_2                  306851 non-null  float64\n",
      " 41  EXT_SOURCE_3                  246546 non-null  float64\n",
      " 42  YEARS_BEGINEXPLUATATION_AVG   157504 non-null  float64\n",
      " 43  FLOORSMAX_AVG                 154491 non-null  float64\n",
      " 44  YEARS_BEGINEXPLUATATION_MODE  157504 non-null  float64\n",
      " 45  FLOORSMAX_MODE                154491 non-null  float64\n",
      " 46  YEARS_BEGINEXPLUATATION_MEDI  157504 non-null  float64\n",
      " 47  FLOORSMAX_MEDI                154491 non-null  float64\n",
      " 48  TOTALAREA_MODE                159080 non-null  float64\n",
      " 49  EMERGENCYSTATE_MODE           161756 non-null  object \n",
      " 50  OBS_30_CNT_SOCIAL_CIRCLE      306490 non-null  float64\n",
      " 51  DEF_30_CNT_SOCIAL_CIRCLE      306490 non-null  float64\n",
      " 52  OBS_60_CNT_SOCIAL_CIRCLE      306490 non-null  float64\n",
      " 53  DEF_60_CNT_SOCIAL_CIRCLE      306490 non-null  float64\n",
      " 54  DAYS_LAST_PHONE_CHANGE        307510 non-null  float64\n",
      " 55  FLAG_DOCUMENT_2               307511 non-null  int64  \n",
      " 56  FLAG_DOCUMENT_3               307511 non-null  int64  \n",
      " 57  FLAG_DOCUMENT_4               307511 non-null  int64  \n",
      " 58  FLAG_DOCUMENT_5               307511 non-null  int64  \n",
      " 59  FLAG_DOCUMENT_6               307511 non-null  int64  \n",
      " 60  FLAG_DOCUMENT_7               307511 non-null  int64  \n",
      " 61  FLAG_DOCUMENT_8               307511 non-null  int64  \n",
      " 62  FLAG_DOCUMENT_9               307511 non-null  int64  \n",
      " 63  FLAG_DOCUMENT_10              307511 non-null  int64  \n",
      " 64  FLAG_DOCUMENT_11              307511 non-null  int64  \n",
      " 65  FLAG_DOCUMENT_12              307511 non-null  int64  \n",
      " 66  FLAG_DOCUMENT_13              307511 non-null  int64  \n",
      " 67  FLAG_DOCUMENT_14              307511 non-null  int64  \n",
      " 68  FLAG_DOCUMENT_15              307511 non-null  int64  \n",
      " 69  FLAG_DOCUMENT_16              307511 non-null  int64  \n",
      " 70  FLAG_DOCUMENT_17              307511 non-null  int64  \n",
      " 71  FLAG_DOCUMENT_18              307511 non-null  int64  \n",
      " 72  FLAG_DOCUMENT_19              307511 non-null  int64  \n",
      " 73  FLAG_DOCUMENT_20              307511 non-null  int64  \n",
      " 74  FLAG_DOCUMENT_21              307511 non-null  int64  \n",
      " 75  AMT_REQ_CREDIT_BUREAU_HOUR    265992 non-null  float64\n",
      " 76  AMT_REQ_CREDIT_BUREAU_DAY     265992 non-null  float64\n",
      " 77  AMT_REQ_CREDIT_BUREAU_WEEK    265992 non-null  float64\n",
      " 78  AMT_REQ_CREDIT_BUREAU_MON     265992 non-null  float64\n",
      " 79  AMT_REQ_CREDIT_BUREAU_QRT     265992 non-null  float64\n",
      " 80  AMT_REQ_CREDIT_BUREAU_YEAR    265992 non-null  float64\n",
      "dtypes: float64(27), int64(41), object(13)\n",
      "memory usage: 190.0+ MB\n"
     ]
    }
   ],
   "source": [
    "train = train.drop(columns=high_missing_features_train.index)\n",
    "train.info()"
   ]
  },
  {
   "cell_type": "code",
   "execution_count": 8,
   "metadata": {},
   "outputs": [
    {
     "data": {
      "text/plain": [
       "EMERGENCYSTATE_MODE           145755\n",
       "OCCUPATION_TYPE                96391\n",
       "NAME_TYPE_SUITE                 1292\n",
       "NAME_CONTRACT_TYPE                 0\n",
       "CODE_GENDER                        0\n",
       "FLAG_OWN_CAR                       0\n",
       "FLAG_OWN_REALTY                    0\n",
       "NAME_INCOME_TYPE                   0\n",
       "NAME_EDUCATION_TYPE                0\n",
       "NAME_FAMILY_STATUS                 0\n",
       "NAME_HOUSING_TYPE                  0\n",
       "WEEKDAY_APPR_PROCESS_START         0\n",
       "ORGANIZATION_TYPE                  0\n",
       "dtype: int64"
      ]
     },
     "execution_count": 8,
     "metadata": {},
     "output_type": "execute_result"
    }
   ],
   "source": [
    "train.select_dtypes(include='object').isnull().sum().sort_values(ascending=False)"
   ]
  },
  {
   "cell_type": "markdown",
   "metadata": {},
   "source": [
    "### Filling Category Nulls"
   ]
  },
  {
   "cell_type": "code",
   "execution_count": 9,
   "metadata": {},
   "outputs": [
    {
     "data": {
      "text/html": [
       "<div>\n",
       "<style scoped>\n",
       "    .dataframe tbody tr th:only-of-type {\n",
       "        vertical-align: middle;\n",
       "    }\n",
       "\n",
       "    .dataframe tbody tr th {\n",
       "        vertical-align: top;\n",
       "    }\n",
       "\n",
       "    .dataframe thead th {\n",
       "        text-align: right;\n",
       "    }\n",
       "</style>\n",
       "<table border=\"1\" class=\"dataframe\">\n",
       "  <thead>\n",
       "    <tr style=\"text-align: right;\">\n",
       "      <th></th>\n",
       "      <th>SK_ID_CURR</th>\n",
       "      <th>TARGET</th>\n",
       "      <th>NAME_CONTRACT_TYPE</th>\n",
       "      <th>CODE_GENDER</th>\n",
       "      <th>FLAG_OWN_CAR</th>\n",
       "      <th>FLAG_OWN_REALTY</th>\n",
       "      <th>CNT_CHILDREN</th>\n",
       "      <th>AMT_INCOME_TOTAL</th>\n",
       "      <th>AMT_CREDIT</th>\n",
       "      <th>AMT_ANNUITY</th>\n",
       "      <th>...</th>\n",
       "      <th>FLAG_DOCUMENT_18</th>\n",
       "      <th>FLAG_DOCUMENT_19</th>\n",
       "      <th>FLAG_DOCUMENT_20</th>\n",
       "      <th>FLAG_DOCUMENT_21</th>\n",
       "      <th>AMT_REQ_CREDIT_BUREAU_HOUR</th>\n",
       "      <th>AMT_REQ_CREDIT_BUREAU_DAY</th>\n",
       "      <th>AMT_REQ_CREDIT_BUREAU_WEEK</th>\n",
       "      <th>AMT_REQ_CREDIT_BUREAU_MON</th>\n",
       "      <th>AMT_REQ_CREDIT_BUREAU_QRT</th>\n",
       "      <th>AMT_REQ_CREDIT_BUREAU_YEAR</th>\n",
       "    </tr>\n",
       "  </thead>\n",
       "  <tbody>\n",
       "    <tr>\n",
       "      <th>0</th>\n",
       "      <td>100002</td>\n",
       "      <td>1</td>\n",
       "      <td>Cash loans</td>\n",
       "      <td>M</td>\n",
       "      <td>N</td>\n",
       "      <td>Y</td>\n",
       "      <td>0</td>\n",
       "      <td>202500.0</td>\n",
       "      <td>406597.5</td>\n",
       "      <td>24700.5</td>\n",
       "      <td>...</td>\n",
       "      <td>0</td>\n",
       "      <td>0</td>\n",
       "      <td>0</td>\n",
       "      <td>0</td>\n",
       "      <td>0.0</td>\n",
       "      <td>0.0</td>\n",
       "      <td>0.0</td>\n",
       "      <td>0.0</td>\n",
       "      <td>0.0</td>\n",
       "      <td>1.0</td>\n",
       "    </tr>\n",
       "    <tr>\n",
       "      <th>1</th>\n",
       "      <td>100003</td>\n",
       "      <td>0</td>\n",
       "      <td>Cash loans</td>\n",
       "      <td>F</td>\n",
       "      <td>N</td>\n",
       "      <td>N</td>\n",
       "      <td>0</td>\n",
       "      <td>270000.0</td>\n",
       "      <td>1293502.5</td>\n",
       "      <td>35698.5</td>\n",
       "      <td>...</td>\n",
       "      <td>0</td>\n",
       "      <td>0</td>\n",
       "      <td>0</td>\n",
       "      <td>0</td>\n",
       "      <td>0.0</td>\n",
       "      <td>0.0</td>\n",
       "      <td>0.0</td>\n",
       "      <td>0.0</td>\n",
       "      <td>0.0</td>\n",
       "      <td>0.0</td>\n",
       "    </tr>\n",
       "    <tr>\n",
       "      <th>2</th>\n",
       "      <td>100004</td>\n",
       "      <td>0</td>\n",
       "      <td>Revolving loans</td>\n",
       "      <td>M</td>\n",
       "      <td>Y</td>\n",
       "      <td>Y</td>\n",
       "      <td>0</td>\n",
       "      <td>67500.0</td>\n",
       "      <td>135000.0</td>\n",
       "      <td>6750.0</td>\n",
       "      <td>...</td>\n",
       "      <td>0</td>\n",
       "      <td>0</td>\n",
       "      <td>0</td>\n",
       "      <td>0</td>\n",
       "      <td>0.0</td>\n",
       "      <td>0.0</td>\n",
       "      <td>0.0</td>\n",
       "      <td>0.0</td>\n",
       "      <td>0.0</td>\n",
       "      <td>0.0</td>\n",
       "    </tr>\n",
       "    <tr>\n",
       "      <th>3</th>\n",
       "      <td>100006</td>\n",
       "      <td>0</td>\n",
       "      <td>Cash loans</td>\n",
       "      <td>F</td>\n",
       "      <td>N</td>\n",
       "      <td>Y</td>\n",
       "      <td>0</td>\n",
       "      <td>135000.0</td>\n",
       "      <td>312682.5</td>\n",
       "      <td>29686.5</td>\n",
       "      <td>...</td>\n",
       "      <td>0</td>\n",
       "      <td>0</td>\n",
       "      <td>0</td>\n",
       "      <td>0</td>\n",
       "      <td>NaN</td>\n",
       "      <td>NaN</td>\n",
       "      <td>NaN</td>\n",
       "      <td>NaN</td>\n",
       "      <td>NaN</td>\n",
       "      <td>NaN</td>\n",
       "    </tr>\n",
       "    <tr>\n",
       "      <th>4</th>\n",
       "      <td>100007</td>\n",
       "      <td>0</td>\n",
       "      <td>Cash loans</td>\n",
       "      <td>M</td>\n",
       "      <td>N</td>\n",
       "      <td>Y</td>\n",
       "      <td>0</td>\n",
       "      <td>121500.0</td>\n",
       "      <td>513000.0</td>\n",
       "      <td>21865.5</td>\n",
       "      <td>...</td>\n",
       "      <td>0</td>\n",
       "      <td>0</td>\n",
       "      <td>0</td>\n",
       "      <td>0</td>\n",
       "      <td>0.0</td>\n",
       "      <td>0.0</td>\n",
       "      <td>0.0</td>\n",
       "      <td>0.0</td>\n",
       "      <td>0.0</td>\n",
       "      <td>0.0</td>\n",
       "    </tr>\n",
       "    <tr>\n",
       "      <th>...</th>\n",
       "      <td>...</td>\n",
       "      <td>...</td>\n",
       "      <td>...</td>\n",
       "      <td>...</td>\n",
       "      <td>...</td>\n",
       "      <td>...</td>\n",
       "      <td>...</td>\n",
       "      <td>...</td>\n",
       "      <td>...</td>\n",
       "      <td>...</td>\n",
       "      <td>...</td>\n",
       "      <td>...</td>\n",
       "      <td>...</td>\n",
       "      <td>...</td>\n",
       "      <td>...</td>\n",
       "      <td>...</td>\n",
       "      <td>...</td>\n",
       "      <td>...</td>\n",
       "      <td>...</td>\n",
       "      <td>...</td>\n",
       "      <td>...</td>\n",
       "    </tr>\n",
       "    <tr>\n",
       "      <th>307506</th>\n",
       "      <td>456251</td>\n",
       "      <td>0</td>\n",
       "      <td>Cash loans</td>\n",
       "      <td>M</td>\n",
       "      <td>N</td>\n",
       "      <td>N</td>\n",
       "      <td>0</td>\n",
       "      <td>157500.0</td>\n",
       "      <td>254700.0</td>\n",
       "      <td>27558.0</td>\n",
       "      <td>...</td>\n",
       "      <td>0</td>\n",
       "      <td>0</td>\n",
       "      <td>0</td>\n",
       "      <td>0</td>\n",
       "      <td>NaN</td>\n",
       "      <td>NaN</td>\n",
       "      <td>NaN</td>\n",
       "      <td>NaN</td>\n",
       "      <td>NaN</td>\n",
       "      <td>NaN</td>\n",
       "    </tr>\n",
       "    <tr>\n",
       "      <th>307507</th>\n",
       "      <td>456252</td>\n",
       "      <td>0</td>\n",
       "      <td>Cash loans</td>\n",
       "      <td>F</td>\n",
       "      <td>N</td>\n",
       "      <td>Y</td>\n",
       "      <td>0</td>\n",
       "      <td>72000.0</td>\n",
       "      <td>269550.0</td>\n",
       "      <td>12001.5</td>\n",
       "      <td>...</td>\n",
       "      <td>0</td>\n",
       "      <td>0</td>\n",
       "      <td>0</td>\n",
       "      <td>0</td>\n",
       "      <td>NaN</td>\n",
       "      <td>NaN</td>\n",
       "      <td>NaN</td>\n",
       "      <td>NaN</td>\n",
       "      <td>NaN</td>\n",
       "      <td>NaN</td>\n",
       "    </tr>\n",
       "    <tr>\n",
       "      <th>307508</th>\n",
       "      <td>456253</td>\n",
       "      <td>0</td>\n",
       "      <td>Cash loans</td>\n",
       "      <td>F</td>\n",
       "      <td>N</td>\n",
       "      <td>Y</td>\n",
       "      <td>0</td>\n",
       "      <td>153000.0</td>\n",
       "      <td>677664.0</td>\n",
       "      <td>29979.0</td>\n",
       "      <td>...</td>\n",
       "      <td>0</td>\n",
       "      <td>0</td>\n",
       "      <td>0</td>\n",
       "      <td>0</td>\n",
       "      <td>1.0</td>\n",
       "      <td>0.0</td>\n",
       "      <td>0.0</td>\n",
       "      <td>1.0</td>\n",
       "      <td>0.0</td>\n",
       "      <td>1.0</td>\n",
       "    </tr>\n",
       "    <tr>\n",
       "      <th>307509</th>\n",
       "      <td>456254</td>\n",
       "      <td>1</td>\n",
       "      <td>Cash loans</td>\n",
       "      <td>F</td>\n",
       "      <td>N</td>\n",
       "      <td>Y</td>\n",
       "      <td>0</td>\n",
       "      <td>171000.0</td>\n",
       "      <td>370107.0</td>\n",
       "      <td>20205.0</td>\n",
       "      <td>...</td>\n",
       "      <td>0</td>\n",
       "      <td>0</td>\n",
       "      <td>0</td>\n",
       "      <td>0</td>\n",
       "      <td>0.0</td>\n",
       "      <td>0.0</td>\n",
       "      <td>0.0</td>\n",
       "      <td>0.0</td>\n",
       "      <td>0.0</td>\n",
       "      <td>0.0</td>\n",
       "    </tr>\n",
       "    <tr>\n",
       "      <th>307510</th>\n",
       "      <td>456255</td>\n",
       "      <td>0</td>\n",
       "      <td>Cash loans</td>\n",
       "      <td>F</td>\n",
       "      <td>N</td>\n",
       "      <td>N</td>\n",
       "      <td>0</td>\n",
       "      <td>157500.0</td>\n",
       "      <td>675000.0</td>\n",
       "      <td>49117.5</td>\n",
       "      <td>...</td>\n",
       "      <td>0</td>\n",
       "      <td>0</td>\n",
       "      <td>0</td>\n",
       "      <td>0</td>\n",
       "      <td>0.0</td>\n",
       "      <td>0.0</td>\n",
       "      <td>0.0</td>\n",
       "      <td>2.0</td>\n",
       "      <td>0.0</td>\n",
       "      <td>1.0</td>\n",
       "    </tr>\n",
       "  </tbody>\n",
       "</table>\n",
       "<p>307511 rows × 81 columns</p>\n",
       "</div>"
      ],
      "text/plain": [
       "        SK_ID_CURR  TARGET NAME_CONTRACT_TYPE CODE_GENDER FLAG_OWN_CAR  \\\n",
       "0           100002       1         Cash loans           M            N   \n",
       "1           100003       0         Cash loans           F            N   \n",
       "2           100004       0    Revolving loans           M            Y   \n",
       "3           100006       0         Cash loans           F            N   \n",
       "4           100007       0         Cash loans           M            N   \n",
       "...            ...     ...                ...         ...          ...   \n",
       "307506      456251       0         Cash loans           M            N   \n",
       "307507      456252       0         Cash loans           F            N   \n",
       "307508      456253       0         Cash loans           F            N   \n",
       "307509      456254       1         Cash loans           F            N   \n",
       "307510      456255       0         Cash loans           F            N   \n",
       "\n",
       "       FLAG_OWN_REALTY  CNT_CHILDREN  AMT_INCOME_TOTAL  AMT_CREDIT  \\\n",
       "0                    Y             0          202500.0    406597.5   \n",
       "1                    N             0          270000.0   1293502.5   \n",
       "2                    Y             0           67500.0    135000.0   \n",
       "3                    Y             0          135000.0    312682.5   \n",
       "4                    Y             0          121500.0    513000.0   \n",
       "...                ...           ...               ...         ...   \n",
       "307506               N             0          157500.0    254700.0   \n",
       "307507               Y             0           72000.0    269550.0   \n",
       "307508               Y             0          153000.0    677664.0   \n",
       "307509               Y             0          171000.0    370107.0   \n",
       "307510               N             0          157500.0    675000.0   \n",
       "\n",
       "        AMT_ANNUITY  ...  FLAG_DOCUMENT_18 FLAG_DOCUMENT_19 FLAG_DOCUMENT_20  \\\n",
       "0           24700.5  ...                 0                0                0   \n",
       "1           35698.5  ...                 0                0                0   \n",
       "2            6750.0  ...                 0                0                0   \n",
       "3           29686.5  ...                 0                0                0   \n",
       "4           21865.5  ...                 0                0                0   \n",
       "...             ...  ...               ...              ...              ...   \n",
       "307506      27558.0  ...                 0                0                0   \n",
       "307507      12001.5  ...                 0                0                0   \n",
       "307508      29979.0  ...                 0                0                0   \n",
       "307509      20205.0  ...                 0                0                0   \n",
       "307510      49117.5  ...                 0                0                0   \n",
       "\n",
       "       FLAG_DOCUMENT_21 AMT_REQ_CREDIT_BUREAU_HOUR AMT_REQ_CREDIT_BUREAU_DAY  \\\n",
       "0                     0                        0.0                       0.0   \n",
       "1                     0                        0.0                       0.0   \n",
       "2                     0                        0.0                       0.0   \n",
       "3                     0                        NaN                       NaN   \n",
       "4                     0                        0.0                       0.0   \n",
       "...                 ...                        ...                       ...   \n",
       "307506                0                        NaN                       NaN   \n",
       "307507                0                        NaN                       NaN   \n",
       "307508                0                        1.0                       0.0   \n",
       "307509                0                        0.0                       0.0   \n",
       "307510                0                        0.0                       0.0   \n",
       "\n",
       "        AMT_REQ_CREDIT_BUREAU_WEEK  AMT_REQ_CREDIT_BUREAU_MON  \\\n",
       "0                              0.0                        0.0   \n",
       "1                              0.0                        0.0   \n",
       "2                              0.0                        0.0   \n",
       "3                              NaN                        NaN   \n",
       "4                              0.0                        0.0   \n",
       "...                            ...                        ...   \n",
       "307506                         NaN                        NaN   \n",
       "307507                         NaN                        NaN   \n",
       "307508                         0.0                        1.0   \n",
       "307509                         0.0                        0.0   \n",
       "307510                         0.0                        2.0   \n",
       "\n",
       "        AMT_REQ_CREDIT_BUREAU_QRT  AMT_REQ_CREDIT_BUREAU_YEAR  \n",
       "0                             0.0                         1.0  \n",
       "1                             0.0                         0.0  \n",
       "2                             0.0                         0.0  \n",
       "3                             NaN                         NaN  \n",
       "4                             0.0                         0.0  \n",
       "...                           ...                         ...  \n",
       "307506                        NaN                         NaN  \n",
       "307507                        NaN                         NaN  \n",
       "307508                        0.0                         1.0  \n",
       "307509                        0.0                         0.0  \n",
       "307510                        0.0                         1.0  \n",
       "\n",
       "[307511 rows x 81 columns]"
      ]
     },
     "execution_count": 9,
     "metadata": {},
     "output_type": "execute_result"
    }
   ],
   "source": [
    "train"
   ]
  },
  {
   "cell_type": "markdown",
   "metadata": {},
   "source": [
    "#### EMERGENCYSTATE_MODE"
   ]
  },
  {
   "cell_type": "code",
   "execution_count": 10,
   "metadata": {},
   "outputs": [
    {
     "data": {
      "text/plain": [
       "EMERGENCYSTATE_MODE\n",
       "No     159428\n",
       "NaN    145755\n",
       "Yes      2328\n",
       "Name: count, dtype: int64"
      ]
     },
     "execution_count": 10,
     "metadata": {},
     "output_type": "execute_result"
    }
   ],
   "source": [
    "train['EMERGENCYSTATE_MODE'].value_counts(dropna=False)"
   ]
  },
  {
   "cell_type": "code",
   "execution_count": 11,
   "metadata": {},
   "outputs": [
    {
     "data": {
      "text/plain": [
       "0"
      ]
     },
     "execution_count": 11,
     "metadata": {},
     "output_type": "execute_result"
    }
   ],
   "source": [
    "train['EMERGENCYSTATE_MODE'] = np.where(train['EMERGENCYSTATE_MODE'].isnull(), train['EMERGENCYSTATE_MODE'].mode(), train['EMERGENCYSTATE_MODE'])\n",
    "train['EMERGENCYSTATE_MODE'].isnull().sum()"
   ]
  },
  {
   "cell_type": "markdown",
   "metadata": {},
   "source": [
    "#### OCCUPATION_TYPE"
   ]
  },
  {
   "cell_type": "code",
   "execution_count": 12,
   "metadata": {},
   "outputs": [
    {
     "data": {
      "text/plain": [
       "OCCUPATION_TYPE\n",
       "NaN                      96391\n",
       "Laborers                 55186\n",
       "Sales staff              32102\n",
       "Core staff               27570\n",
       "Managers                 21371\n",
       "Drivers                  18603\n",
       "High skill tech staff    11380\n",
       "Accountants               9813\n",
       "Medicine staff            8537\n",
       "Security staff            6721\n",
       "Cooking staff             5946\n",
       "Cleaning staff            4653\n",
       "Private service staff     2652\n",
       "Low-skill Laborers        2093\n",
       "Waiters/barmen staff      1348\n",
       "Secretaries               1305\n",
       "Realty agents              751\n",
       "HR staff                   563\n",
       "IT staff                   526\n",
       "Name: count, dtype: int64"
      ]
     },
     "execution_count": 12,
     "metadata": {},
     "output_type": "execute_result"
    }
   ],
   "source": [
    "train['OCCUPATION_TYPE'].value_counts(dropna=False)"
   ]
  },
  {
   "cell_type": "code",
   "execution_count": 13,
   "metadata": {},
   "outputs": [
    {
     "data": {
      "text/plain": [
       "NAME_EDUCATION_TYPE\n",
       "Secondary / secondary special    218391\n",
       "Higher education                  74863\n",
       "Incomplete higher                 10277\n",
       "Lower secondary                    3816\n",
       "Academic degree                     164\n",
       "Name: count, dtype: int64"
      ]
     },
     "execution_count": 13,
     "metadata": {},
     "output_type": "execute_result"
    }
   ],
   "source": [
    "train['NAME_EDUCATION_TYPE'].value_counts()"
   ]
  },
  {
   "cell_type": "code",
   "execution_count": 14,
   "metadata": {},
   "outputs": [
    {
     "data": {
      "text/plain": [
       "3816"
      ]
     },
     "execution_count": 14,
     "metadata": {},
     "output_type": "execute_result"
    }
   ],
   "source": [
    "train['OCCUPATION_TYPE'] = train.groupby('NAME_EDUCATION_TYPE')['OCCUPATION_TYPE'].transform(lambda x: x.fillna(x.mode()).iloc[0])\n",
    "train['OCCUPATION_TYPE'].isnull().sum()"
   ]
  },
  {
   "cell_type": "code",
   "execution_count": 15,
   "metadata": {},
   "outputs": [
    {
     "data": {
      "text/plain": [
       "0"
      ]
     },
     "execution_count": 15,
     "metadata": {},
     "output_type": "execute_result"
    }
   ],
   "source": [
    "train['OCCUPATION_TYPE'] = train.groupby('ORGANIZATION_TYPE')['OCCUPATION_TYPE'].transform(lambda x: x.fillna(x.mode()).iloc[0])\n",
    "train['OCCUPATION_TYPE'].isnull().sum()"
   ]
  },
  {
   "cell_type": "markdown",
   "metadata": {},
   "source": [
    "#### NAME_TYPE_SUITE"
   ]
  },
  {
   "cell_type": "code",
   "execution_count": 16,
   "metadata": {},
   "outputs": [
    {
     "data": {
      "text/plain": [
       "NAME_TYPE_SUITE\n",
       "Unaccompanied      248526\n",
       "Family              40149\n",
       "Spouse, partner     11370\n",
       "Children             3267\n",
       "Other_B              1770\n",
       "NaN                  1292\n",
       "Other_A               866\n",
       "Group of people       271\n",
       "Name: count, dtype: int64"
      ]
     },
     "execution_count": 16,
     "metadata": {},
     "output_type": "execute_result"
    }
   ],
   "source": [
    "train['NAME_TYPE_SUITE'].value_counts(dropna=False)"
   ]
  },
  {
   "cell_type": "code",
   "execution_count": 17,
   "metadata": {},
   "outputs": [
    {
     "data": {
      "text/plain": [
       "2"
      ]
     },
     "execution_count": 17,
     "metadata": {},
     "output_type": "execute_result"
    }
   ],
   "source": [
    "train['NAME_TYPE_SUITE'] = train.groupby('NAME_FAMILY_STATUS')['NAME_TYPE_SUITE'].transform(lambda x: x.fillna(x.mode()).iloc[0])\n",
    "train['NAME_TYPE_SUITE'].isnull().sum()"
   ]
  },
  {
   "cell_type": "code",
   "execution_count": 18,
   "metadata": {},
   "outputs": [
    {
     "data": {
      "text/plain": [
       "0"
      ]
     },
     "execution_count": 18,
     "metadata": {},
     "output_type": "execute_result"
    }
   ],
   "source": [
    "train['NAME_TYPE_SUITE'] = np.where(train['NAME_TYPE_SUITE'].isnull(), train['NAME_TYPE_SUITE'].mode(), train['NAME_TYPE_SUITE'])\n",
    "train['NAME_TYPE_SUITE'].isnull().sum()"
   ]
  },
  {
   "cell_type": "markdown",
   "metadata": {},
   "source": [
    "#### NAME_EDUCATION_TYPE"
   ]
  },
  {
   "cell_type": "code",
   "execution_count": 19,
   "metadata": {},
   "outputs": [],
   "source": [
    "train['NAME_EDUCATION_TYPE'] = np.where(train['NAME_EDUCATION_TYPE']=='Secondary / secondary special', 'Secondary', train['NAME_EDUCATION_TYPE'])"
   ]
  },
  {
   "cell_type": "markdown",
   "metadata": {},
   "source": [
    "### Filling Numerical Nulls"
   ]
  },
  {
   "cell_type": "code",
   "execution_count": 20,
   "metadata": {},
   "outputs": [
    {
     "data": {
      "text/plain": [
       "FLOORSMAX_MEDI                  153020\n",
       "FLOORSMAX_MODE                  153020\n",
       "FLOORSMAX_AVG                   153020\n",
       "YEARS_BEGINEXPLUATATION_MEDI    150007\n",
       "YEARS_BEGINEXPLUATATION_MODE    150007\n",
       "YEARS_BEGINEXPLUATATION_AVG     150007\n",
       "TOTALAREA_MODE                  148431\n",
       "EXT_SOURCE_3                     60965\n",
       "AMT_REQ_CREDIT_BUREAU_QRT        41519\n",
       "AMT_REQ_CREDIT_BUREAU_MON        41519\n",
       "AMT_REQ_CREDIT_BUREAU_WEEK       41519\n",
       "AMT_REQ_CREDIT_BUREAU_DAY        41519\n",
       "AMT_REQ_CREDIT_BUREAU_HOUR       41519\n",
       "AMT_REQ_CREDIT_BUREAU_YEAR       41519\n",
       "OBS_60_CNT_SOCIAL_CIRCLE          1021\n",
       "DEF_30_CNT_SOCIAL_CIRCLE          1021\n",
       "OBS_30_CNT_SOCIAL_CIRCLE          1021\n",
       "DEF_60_CNT_SOCIAL_CIRCLE          1021\n",
       "EXT_SOURCE_2                       660\n",
       "AMT_GOODS_PRICE                    278\n",
       "AMT_ANNUITY                         12\n",
       "CNT_FAM_MEMBERS                      2\n",
       "DAYS_LAST_PHONE_CHANGE               1\n",
       "FLAG_DOCUMENT_13                     0\n",
       "FLAG_DOCUMENT_7                      0\n",
       "FLAG_DOCUMENT_8                      0\n",
       "FLAG_DOCUMENT_9                      0\n",
       "FLAG_DOCUMENT_10                     0\n",
       "FLAG_DOCUMENT_6                      0\n",
       "FLAG_DOCUMENT_11                     0\n",
       "FLAG_DOCUMENT_12                     0\n",
       "FLAG_DOCUMENT_15                     0\n",
       "FLAG_DOCUMENT_14                     0\n",
       "FLAG_DOCUMENT_4                      0\n",
       "FLAG_DOCUMENT_16                     0\n",
       "FLAG_DOCUMENT_17                     0\n",
       "FLAG_DOCUMENT_18                     0\n",
       "FLAG_DOCUMENT_19                     0\n",
       "FLAG_DOCUMENT_20                     0\n",
       "FLAG_DOCUMENT_21                     0\n",
       "AMT_CREDIT                           0\n",
       "AMT_INCOME_TOTAL                     0\n",
       "CNT_CHILDREN                         0\n",
       "FLAG_DOCUMENT_5                      0\n",
       "FLAG_WORK_PHONE                      0\n",
       "FLAG_DOCUMENT_3                      0\n",
       "REG_CITY_NOT_WORK_CITY               0\n",
       "FLAG_PHONE                           0\n",
       "FLAG_EMAIL                           0\n",
       "REGION_RATING_CLIENT                 0\n",
       "REGION_RATING_CLIENT_W_CITY          0\n",
       "HOUR_APPR_PROCESS_START              0\n",
       "REG_REGION_NOT_LIVE_REGION           0\n",
       "REG_REGION_NOT_WORK_REGION           0\n",
       "LIVE_REGION_NOT_WORK_REGION          0\n",
       "REG_CITY_NOT_LIVE_CITY               0\n",
       "LIVE_CITY_NOT_WORK_CITY              0\n",
       "FLAG_DOCUMENT_2                      0\n",
       "FLAG_EMP_PHONE                       0\n",
       "FLAG_MOBIL                           0\n",
       "DAYS_ID_PUBLISH                      0\n",
       "DAYS_REGISTRATION                    0\n",
       "DAYS_EMPLOYED                        0\n",
       "TARGET                               0\n",
       "DAYS_BIRTH                           0\n",
       "REGION_POPULATION_RELATIVE           0\n",
       "FLAG_CONT_MOBILE                     0\n",
       "SK_ID_CURR                           0\n",
       "dtype: int64"
      ]
     },
     "execution_count": 20,
     "metadata": {},
     "output_type": "execute_result"
    }
   ],
   "source": [
    "pd.set_option('display.max_rows', None)\n",
    "train.select_dtypes(include=('int', 'float')).isnull().sum().sort_values(ascending=False)"
   ]
  },
  {
   "cell_type": "code",
   "execution_count": 21,
   "metadata": {},
   "outputs": [],
   "source": [
    "pd.reset_option('display.max_rows')"
   ]
  },
  {
   "cell_type": "markdown",
   "metadata": {},
   "source": [
    "#### FLOORSMAX_MEDI"
   ]
  },
  {
   "cell_type": "code",
   "execution_count": 22,
   "metadata": {},
   "outputs": [
    {
     "data": {
      "text/plain": [
       "FLOORSMAX_MEDI\n",
       "0.1667    63607\n",
       "0.3333    33279\n",
       "0.0417    14832\n",
       "0.3750     8207\n",
       "0.1250     7079\n",
       "0.0833     6657\n",
       "0.4583     3089\n",
       "0.0000     2995\n",
       "0.6250     2042\n",
       "0.5417     1860\n",
       "0.2500     1684\n",
       "0.6667     1675\n",
       "0.2083     1544\n",
       "0.2917      567\n",
       "0.1042      460\n",
       "0.3542      459\n",
       "0.5833      439\n",
       "0.3958      346\n",
       "0.4167      329\n",
       "0.1458      321\n",
       "0.5000      312\n",
       "0.2708      291\n",
       "0.1875      245\n",
       "0.8750      223\n",
       "0.4792      220\n",
       "0.7083      204\n",
       "1.0000      170\n",
       "0.4375      138\n",
       "0.7500      136\n",
       "0.0625      132\n",
       "0.3125      131\n",
       "0.2292      128\n",
       "0.0208      126\n",
       "0.6042      115\n",
       "0.9583       95\n",
       "0.7917       61\n",
       "0.5208       47\n",
       "0.5625       46\n",
       "0.8333       39\n",
       "0.9167       37\n",
       "0.6458       30\n",
       "0.7708       27\n",
       "0.6875       24\n",
       "0.8125       23\n",
       "0.7292       10\n",
       "0.9375        4\n",
       "0.8542        3\n",
       "0.8958        2\n",
       "0.9792        1\n",
       "Name: count, dtype: int64"
      ]
     },
     "execution_count": 22,
     "metadata": {},
     "output_type": "execute_result"
    }
   ],
   "source": [
    "train['FLOORSMAX_MEDI'].value_counts()"
   ]
  },
  {
   "cell_type": "code",
   "execution_count": 23,
   "metadata": {},
   "outputs": [
    {
     "data": {
      "text/plain": [
       "0"
      ]
     },
     "execution_count": 23,
     "metadata": {},
     "output_type": "execute_result"
    }
   ],
   "source": [
    "train['FLOORSMAX_MEDI'] = np.where(train['FLOORSMAX_MEDI'].isnull(), train['FLOORSMAX_MEDI'].mean(), train['FLOORSMAX_MEDI'])\n",
    "train['FLOORSMAX_MEDI'].isnull().sum()"
   ]
  },
  {
   "cell_type": "markdown",
   "metadata": {},
   "source": [
    "#### FLOORSMAX_MODE"
   ]
  },
  {
   "cell_type": "code",
   "execution_count": 24,
   "metadata": {},
   "outputs": [
    {
     "data": {
      "text/plain": [
       "FLOORSMAX_MODE\n",
       "NaN       153020\n",
       "0.1667     65550\n",
       "0.3333     34373\n",
       "0.0417     15616\n",
       "0.3750      8321\n",
       "0.1250      7267\n",
       "0.0833      6785\n",
       "0.0000      3415\n",
       "0.4583      3216\n",
       "0.6250      2075\n",
       "0.5417      1836\n",
       "0.6667      1710\n",
       "0.2083      1505\n",
       "0.2500       572\n",
       "0.2917       511\n",
       "0.5833       391\n",
       "0.4167       236\n",
       "0.8750       229\n",
       "0.7083       199\n",
       "0.5000       184\n",
       "1.0000       164\n",
       "0.7500       124\n",
       "0.9583        94\n",
       "0.7917        58\n",
       "0.9167        38\n",
       "0.8333        22\n",
       "Name: count, dtype: int64"
      ]
     },
     "execution_count": 24,
     "metadata": {},
     "output_type": "execute_result"
    }
   ],
   "source": [
    "train['FLOORSMAX_MODE'].value_counts(dropna=False)"
   ]
  },
  {
   "cell_type": "code",
   "execution_count": 25,
   "metadata": {},
   "outputs": [
    {
     "data": {
      "text/plain": [
       "0"
      ]
     },
     "execution_count": 25,
     "metadata": {},
     "output_type": "execute_result"
    }
   ],
   "source": [
    "train['FLOORSMAX_MODE'] = np.where(train['FLOORSMAX_MODE'].isnull(), train['FLOORSMAX_MODE'].mode(), train['FLOORSMAX_MODE'])\n",
    "train['FLOORSMAX_MODE'].isnull().sum()"
   ]
  },
  {
   "cell_type": "markdown",
   "metadata": {},
   "source": [
    "#### FLOORSMAX_AVG"
   ]
  },
  {
   "cell_type": "code",
   "execution_count": 26,
   "metadata": {},
   "outputs": [
    {
     "data": {
      "text/plain": [
       "FLOORSMAX_AVG\n",
       "NaN       153020\n",
       "0.1667     61875\n",
       "0.3333     31909\n",
       "0.0417     14600\n",
       "0.3750      7926\n",
       "           ...  \n",
       "0.1792         1\n",
       "0.2200         1\n",
       "0.1133         1\n",
       "0.0900         1\n",
       "0.2042         1\n",
       "Name: count, Length: 404, dtype: int64"
      ]
     },
     "execution_count": 26,
     "metadata": {},
     "output_type": "execute_result"
    }
   ],
   "source": [
    "train['FLOORSMAX_AVG'].value_counts(dropna=False)"
   ]
  },
  {
   "cell_type": "code",
   "execution_count": 27,
   "metadata": {},
   "outputs": [
    {
     "data": {
      "text/plain": [
       "0.22628190703665588"
      ]
     },
     "execution_count": 27,
     "metadata": {},
     "output_type": "execute_result"
    }
   ],
   "source": [
    "train['FLOORSMAX_AVG'].mean()"
   ]
  },
  {
   "cell_type": "code",
   "execution_count": 28,
   "metadata": {},
   "outputs": [
    {
     "data": {
      "text/plain": [
       "0"
      ]
     },
     "execution_count": 28,
     "metadata": {},
     "output_type": "execute_result"
    }
   ],
   "source": [
    "train['FLOORSMAX_AVG'] = np.where(train['FLOORSMAX_AVG'].isnull(), train['FLOORSMAX_AVG'].mean(), train['FLOORSMAX_AVG'])\n",
    "train['FLOORSMAX_AVG'].isnull().sum()"
   ]
  },
  {
   "cell_type": "markdown",
   "metadata": {},
   "source": [
    "#### YEARS_BEGINEXPLUATATION_MEDI"
   ]
  },
  {
   "cell_type": "code",
   "execution_count": 29,
   "metadata": {},
   "outputs": [
    {
     "data": {
      "text/plain": [
       "0"
      ]
     },
     "execution_count": 29,
     "metadata": {},
     "output_type": "execute_result"
    }
   ],
   "source": [
    "train['YEARS_BEGINEXPLUATATION_MEDI'] = np.where(train['YEARS_BEGINEXPLUATATION_MEDI'].isnull(), train['YEARS_BEGINEXPLUATATION_MEDI'].mean(), train['YEARS_BEGINEXPLUATATION_MEDI'])\n",
    "train['YEARS_BEGINEXPLUATATION_MEDI'].isnull().sum()"
   ]
  },
  {
   "cell_type": "markdown",
   "metadata": {},
   "source": [
    "#### YEARS_BEGINEXPLUATATION_MODE"
   ]
  },
  {
   "cell_type": "code",
   "execution_count": 30,
   "metadata": {},
   "outputs": [
    {
     "data": {
      "text/plain": [
       "0"
      ]
     },
     "execution_count": 30,
     "metadata": {},
     "output_type": "execute_result"
    }
   ],
   "source": [
    "train['YEARS_BEGINEXPLUATATION_MODE'] = np.where(train['YEARS_BEGINEXPLUATATION_MODE'].isnull(), train['YEARS_BEGINEXPLUATATION_MODE'].mode(), train['YEARS_BEGINEXPLUATATION_MODE'])\n",
    "train['YEARS_BEGINEXPLUATATION_MODE'].isnull().sum()"
   ]
  },
  {
   "cell_type": "markdown",
   "metadata": {},
   "source": [
    "#### YEARS_BEGINEXPLUATATION_AVG"
   ]
  },
  {
   "cell_type": "code",
   "execution_count": 31,
   "metadata": {},
   "outputs": [
    {
     "data": {
      "text/plain": [
       "0"
      ]
     },
     "execution_count": 31,
     "metadata": {},
     "output_type": "execute_result"
    }
   ],
   "source": [
    "train['YEARS_BEGINEXPLUATATION_AVG'] = np.where(train['YEARS_BEGINEXPLUATATION_AVG'].isnull(), train['YEARS_BEGINEXPLUATATION_AVG'].mean(), train['YEARS_BEGINEXPLUATATION_AVG'])\n",
    "train['YEARS_BEGINEXPLUATATION_AVG'].isnull().sum()"
   ]
  },
  {
   "cell_type": "markdown",
   "metadata": {},
   "source": [
    "#### TOTALAREA_MODE"
   ]
  },
  {
   "cell_type": "code",
   "execution_count": 32,
   "metadata": {},
   "outputs": [
    {
     "data": {
      "text/plain": [
       "TOTALAREA_MODE\n",
       "0.0000    582\n",
       "0.0570    247\n",
       "0.0547    230\n",
       "0.0550    227\n",
       "0.0555    227\n",
       "         ... \n",
       "0.3445      1\n",
       "0.2894      1\n",
       "0.8712      1\n",
       "0.5775      1\n",
       "0.7970      1\n",
       "Name: count, Length: 5116, dtype: int64"
      ]
     },
     "execution_count": 32,
     "metadata": {},
     "output_type": "execute_result"
    }
   ],
   "source": [
    "train['TOTALAREA_MODE'].value_counts()"
   ]
  },
  {
   "cell_type": "code",
   "execution_count": 33,
   "metadata": {},
   "outputs": [
    {
     "data": {
      "text/plain": [
       "18681"
      ]
     },
     "execution_count": 33,
     "metadata": {},
     "output_type": "execute_result"
    }
   ],
   "source": [
    "train['TOTALAREA_MODE'] = train.groupby('NAME_HOUSING_TYPE')['TOTALAREA_MODE'].transform(lambda x: x.fillna(x.mode()).iloc[0])\n",
    "train['TOTALAREA_MODE'].isnull().sum()"
   ]
  },
  {
   "cell_type": "code",
   "execution_count": 34,
   "metadata": {},
   "outputs": [
    {
     "data": {
      "text/plain": [
       "0"
      ]
     },
     "execution_count": 34,
     "metadata": {},
     "output_type": "execute_result"
    }
   ],
   "source": [
    "train['TOTALAREA_MODE'] = np.where(train['TOTALAREA_MODE'].isnull(), train['TOTALAREA_MODE'].mode(), train['TOTALAREA_MODE'])\n",
    "train['TOTALAREA_MODE'].isnull().sum()"
   ]
  },
  {
   "cell_type": "markdown",
   "metadata": {},
   "source": [
    "#### EXT_SOURCE_3"
   ]
  },
  {
   "cell_type": "code",
   "execution_count": 35,
   "metadata": {},
   "outputs": [
    {
     "data": {
      "text/plain": [
       "EXT_SOURCE_3\n",
       "NaN         60965\n",
       "0.746300     1460\n",
       "0.713631     1315\n",
       "0.694093     1276\n",
       "0.670652     1191\n",
       "            ...  \n",
       "0.028674        1\n",
       "0.025272        1\n",
       "0.021492        1\n",
       "0.014556        1\n",
       "0.043227        1\n",
       "Name: count, Length: 815, dtype: int64"
      ]
     },
     "execution_count": 35,
     "metadata": {},
     "output_type": "execute_result"
    }
   ],
   "source": [
    "train['EXT_SOURCE_3'].value_counts(dropna=False)"
   ]
  },
  {
   "cell_type": "code",
   "execution_count": 36,
   "metadata": {},
   "outputs": [
    {
     "data": {
      "text/plain": [
       "0"
      ]
     },
     "execution_count": 36,
     "metadata": {},
     "output_type": "execute_result"
    }
   ],
   "source": [
    "train['EXT_SOURCE_3'] = np.where(train['EXT_SOURCE_3'].isnull(), train['EXT_SOURCE_3'].mean(), train['EXT_SOURCE_3'])\n",
    "train['EXT_SOURCE_3'].isnull().sum()"
   ]
  },
  {
   "cell_type": "markdown",
   "metadata": {},
   "source": [
    "#### AMT_REQ_CREDIT_BUREAU_QRT "
   ]
  },
  {
   "cell_type": "code",
   "execution_count": 37,
   "metadata": {},
   "outputs": [
    {
     "data": {
      "text/plain": [
       "AMT_REQ_CREDIT_BUREAU_QRT\n",
       "0.0      215417\n",
       "NaN       41519\n",
       "1.0       33862\n",
       "2.0       14412\n",
       "3.0        1717\n",
       "4.0         476\n",
       "5.0          64\n",
       "6.0          28\n",
       "8.0           7\n",
       "7.0           7\n",
       "261.0         1\n",
       "19.0          1\n",
       "Name: count, dtype: int64"
      ]
     },
     "execution_count": 37,
     "metadata": {},
     "output_type": "execute_result"
    }
   ],
   "source": [
    "train['AMT_REQ_CREDIT_BUREAU_QRT'].value_counts(dropna=False)"
   ]
  },
  {
   "cell_type": "code",
   "execution_count": 38,
   "metadata": {},
   "outputs": [
    {
     "data": {
      "text/plain": [
       "0"
      ]
     },
     "execution_count": 38,
     "metadata": {},
     "output_type": "execute_result"
    }
   ],
   "source": [
    "train['AMT_REQ_CREDIT_BUREAU_QRT'] = np.where(train['AMT_REQ_CREDIT_BUREAU_QRT'].isnull(), train['AMT_REQ_CREDIT_BUREAU_QRT'].mode(), train['AMT_REQ_CREDIT_BUREAU_QRT'])\n",
    "train['AMT_REQ_CREDIT_BUREAU_QRT'].isnull().sum()"
   ]
  },
  {
   "cell_type": "markdown",
   "metadata": {},
   "source": [
    "#### AMT_REQ_CREDIT_BUREAU_MON"
   ]
  },
  {
   "cell_type": "code",
   "execution_count": 39,
   "metadata": {},
   "outputs": [
    {
     "data": {
      "text/plain": [
       "AMT_REQ_CREDIT_BUREAU_MON\n",
       "0.0     222233\n",
       "NaN      41519\n",
       "1.0      33147\n",
       "2.0       5386\n",
       "3.0       1991\n",
       "4.0       1076\n",
       "5.0        602\n",
       "6.0        343\n",
       "7.0        298\n",
       "9.0        206\n",
       "8.0        185\n",
       "10.0       132\n",
       "11.0       119\n",
       "12.0        77\n",
       "13.0        72\n",
       "14.0        40\n",
       "15.0        35\n",
       "16.0        23\n",
       "17.0        14\n",
       "18.0         6\n",
       "19.0         3\n",
       "24.0         1\n",
       "23.0         1\n",
       "27.0         1\n",
       "22.0         1\n",
       "Name: count, dtype: int64"
      ]
     },
     "execution_count": 39,
     "metadata": {},
     "output_type": "execute_result"
    }
   ],
   "source": [
    "train['AMT_REQ_CREDIT_BUREAU_MON'].value_counts(dropna=False)"
   ]
  },
  {
   "cell_type": "code",
   "execution_count": 40,
   "metadata": {},
   "outputs": [
    {
     "data": {
      "text/plain": [
       "0"
      ]
     },
     "execution_count": 40,
     "metadata": {},
     "output_type": "execute_result"
    }
   ],
   "source": [
    "train['AMT_REQ_CREDIT_BUREAU_MON'] = np.where(train['AMT_REQ_CREDIT_BUREAU_MON'].isnull(), train['AMT_REQ_CREDIT_BUREAU_MON'].mode(), train['AMT_REQ_CREDIT_BUREAU_MON'])\n",
    "train['AMT_REQ_CREDIT_BUREAU_MON'].isnull().sum()"
   ]
  },
  {
   "cell_type": "markdown",
   "metadata": {},
   "source": [
    "#### AMT_REQ_CREDIT_BUREAU_WEEK"
   ]
  },
  {
   "cell_type": "code",
   "execution_count": 41,
   "metadata": {},
   "outputs": [
    {
     "data": {
      "text/plain": [
       "AMT_REQ_CREDIT_BUREAU_WEEK\n",
       "0.0    257456\n",
       "NaN     41519\n",
       "1.0      8208\n",
       "2.0       199\n",
       "3.0        58\n",
       "4.0        34\n",
       "6.0        20\n",
       "5.0        10\n",
       "8.0         5\n",
       "7.0         2\n",
       "Name: count, dtype: int64"
      ]
     },
     "execution_count": 41,
     "metadata": {},
     "output_type": "execute_result"
    }
   ],
   "source": [
    "train['AMT_REQ_CREDIT_BUREAU_WEEK'].value_counts(dropna=False)"
   ]
  },
  {
   "cell_type": "code",
   "execution_count": 42,
   "metadata": {},
   "outputs": [
    {
     "data": {
      "text/plain": [
       "0"
      ]
     },
     "execution_count": 42,
     "metadata": {},
     "output_type": "execute_result"
    }
   ],
   "source": [
    "train['AMT_REQ_CREDIT_BUREAU_WEEK'] = np.where(train['AMT_REQ_CREDIT_BUREAU_WEEK'].isnull(), train['AMT_REQ_CREDIT_BUREAU_WEEK'].mode(), train['AMT_REQ_CREDIT_BUREAU_WEEK'])\n",
    "train['AMT_REQ_CREDIT_BUREAU_WEEK'].isnull().sum()"
   ]
  },
  {
   "cell_type": "markdown",
   "metadata": {},
   "source": [
    "#### AMT_REQ_CREDIT_BUREAU_DAY"
   ]
  },
  {
   "cell_type": "code",
   "execution_count": 43,
   "metadata": {},
   "outputs": [
    {
     "data": {
      "text/plain": [
       "AMT_REQ_CREDIT_BUREAU_DAY\n",
       "0.0    264503\n",
       "NaN     41519\n",
       "1.0      1292\n",
       "2.0       106\n",
       "3.0        45\n",
       "4.0        26\n",
       "5.0         9\n",
       "6.0         8\n",
       "9.0         2\n",
       "8.0         1\n",
       "Name: count, dtype: int64"
      ]
     },
     "execution_count": 43,
     "metadata": {},
     "output_type": "execute_result"
    }
   ],
   "source": [
    "train['AMT_REQ_CREDIT_BUREAU_DAY'].value_counts(dropna=False)"
   ]
  },
  {
   "cell_type": "code",
   "execution_count": 44,
   "metadata": {},
   "outputs": [
    {
     "data": {
      "text/plain": [
       "0"
      ]
     },
     "execution_count": 44,
     "metadata": {},
     "output_type": "execute_result"
    }
   ],
   "source": [
    "train['AMT_REQ_CREDIT_BUREAU_DAY'] = np.where(train['AMT_REQ_CREDIT_BUREAU_DAY'].isnull(), train['AMT_REQ_CREDIT_BUREAU_DAY'].mode(), train['AMT_REQ_CREDIT_BUREAU_DAY'])\n",
    "train['AMT_REQ_CREDIT_BUREAU_DAY'].isnull().sum()"
   ]
  },
  {
   "cell_type": "markdown",
   "metadata": {},
   "source": [
    "#### AMT_REQ_CREDIT_BUREAU_HOUR"
   ]
  },
  {
   "cell_type": "code",
   "execution_count": 45,
   "metadata": {},
   "outputs": [
    {
     "data": {
      "text/plain": [
       "AMT_REQ_CREDIT_BUREAU_HOUR\n",
       "0.0    264366\n",
       "NaN     41519\n",
       "1.0      1560\n",
       "2.0        56\n",
       "3.0         9\n",
       "4.0         1\n",
       "Name: count, dtype: int64"
      ]
     },
     "execution_count": 45,
     "metadata": {},
     "output_type": "execute_result"
    }
   ],
   "source": [
    "train['AMT_REQ_CREDIT_BUREAU_HOUR'].value_counts(dropna=False)"
   ]
  },
  {
   "cell_type": "code",
   "execution_count": 46,
   "metadata": {},
   "outputs": [
    {
     "data": {
      "text/plain": [
       "0"
      ]
     },
     "execution_count": 46,
     "metadata": {},
     "output_type": "execute_result"
    }
   ],
   "source": [
    "train['AMT_REQ_CREDIT_BUREAU_HOUR'] = np.where(train['AMT_REQ_CREDIT_BUREAU_HOUR'].isnull(), train['AMT_REQ_CREDIT_BUREAU_HOUR'].mode(), train['AMT_REQ_CREDIT_BUREAU_HOUR'])\n",
    "train['AMT_REQ_CREDIT_BUREAU_HOUR'].isnull().sum()"
   ]
  },
  {
   "cell_type": "markdown",
   "metadata": {},
   "source": [
    "#### AMT_REQ_CREDIT_BUREAU_YEAR"
   ]
  },
  {
   "cell_type": "code",
   "execution_count": 47,
   "metadata": {},
   "outputs": [
    {
     "data": {
      "text/plain": [
       "AMT_REQ_CREDIT_BUREAU_YEAR\n",
       "0.0     71801\n",
       "1.0     63405\n",
       "2.0     50192\n",
       "NaN     41519\n",
       "3.0     33628\n",
       "4.0     20714\n",
       "5.0     12052\n",
       "6.0      6967\n",
       "7.0      3869\n",
       "8.0      2127\n",
       "9.0      1096\n",
       "11.0       31\n",
       "12.0       30\n",
       "10.0       22\n",
       "13.0       19\n",
       "14.0       10\n",
       "17.0        7\n",
       "15.0        6\n",
       "19.0        4\n",
       "18.0        4\n",
       "16.0        3\n",
       "25.0        1\n",
       "23.0        1\n",
       "22.0        1\n",
       "21.0        1\n",
       "20.0        1\n",
       "Name: count, dtype: int64"
      ]
     },
     "execution_count": 47,
     "metadata": {},
     "output_type": "execute_result"
    }
   ],
   "source": [
    "train['AMT_REQ_CREDIT_BUREAU_YEAR'].value_counts(dropna=False)"
   ]
  },
  {
   "cell_type": "code",
   "execution_count": 48,
   "metadata": {},
   "outputs": [
    {
     "data": {
      "text/plain": [
       "0"
      ]
     },
     "execution_count": 48,
     "metadata": {},
     "output_type": "execute_result"
    }
   ],
   "source": [
    "train['AMT_REQ_CREDIT_BUREAU_YEAR'] = np.where(train['AMT_REQ_CREDIT_BUREAU_YEAR'].isnull(), train['AMT_REQ_CREDIT_BUREAU_YEAR'].mode(), train['AMT_REQ_CREDIT_BUREAU_YEAR'])\n",
    "train['AMT_REQ_CREDIT_BUREAU_YEAR'].isnull().sum()"
   ]
  },
  {
   "cell_type": "markdown",
   "metadata": {},
   "source": [
    "#### OBS_60_CNT_SOCIAL_CIRCLE "
   ]
  },
  {
   "cell_type": "code",
   "execution_count": 49,
   "metadata": {},
   "outputs": [
    {
     "data": {
      "text/plain": [
       "OBS_60_CNT_SOCIAL_CIRCLE\n",
       "0.0      164666\n",
       "1.0       48870\n",
       "2.0       29766\n",
       "3.0       20215\n",
       "4.0       13946\n",
       "5.0        9463\n",
       "6.0        6349\n",
       "7.0        4344\n",
       "8.0        2886\n",
       "9.0        1959\n",
       "10.0       1335\n",
       "NaN        1021\n",
       "11.0        837\n",
       "12.0        620\n",
       "13.0        401\n",
       "14.0        238\n",
       "15.0        166\n",
       "16.0        137\n",
       "17.0         73\n",
       "18.0         49\n",
       "19.0         44\n",
       "20.0         30\n",
       "21.0         28\n",
       "22.0         20\n",
       "23.0         13\n",
       "24.0         12\n",
       "25.0         11\n",
       "27.0          5\n",
       "29.0          2\n",
       "28.0          1\n",
       "47.0          1\n",
       "344.0         1\n",
       "30.0          1\n",
       "26.0          1\n",
       "Name: count, dtype: int64"
      ]
     },
     "execution_count": 49,
     "metadata": {},
     "output_type": "execute_result"
    }
   ],
   "source": [
    "train['OBS_60_CNT_SOCIAL_CIRCLE'].value_counts(dropna=False)"
   ]
  },
  {
   "cell_type": "code",
   "execution_count": 50,
   "metadata": {},
   "outputs": [
    {
     "data": {
      "text/plain": [
       "0"
      ]
     },
     "execution_count": 50,
     "metadata": {},
     "output_type": "execute_result"
    }
   ],
   "source": [
    "train['OBS_60_CNT_SOCIAL_CIRCLE'] = np.where(train['OBS_60_CNT_SOCIAL_CIRCLE'].isnull(), train['OBS_60_CNT_SOCIAL_CIRCLE'].mode(), train['OBS_60_CNT_SOCIAL_CIRCLE'])\n",
    "train['OBS_60_CNT_SOCIAL_CIRCLE'].isnull().sum()"
   ]
  },
  {
   "cell_type": "markdown",
   "metadata": {},
   "source": [
    "#### DEF_30_CNT_SOCIAL_CIRCLE"
   ]
  },
  {
   "cell_type": "code",
   "execution_count": 51,
   "metadata": {},
   "outputs": [
    {
     "data": {
      "text/plain": [
       "DEF_30_CNT_SOCIAL_CIRCLE\n",
       "0.0     271324\n",
       "1.0      28328\n",
       "2.0       5323\n",
       "3.0       1192\n",
       "NaN       1021\n",
       "4.0        253\n",
       "5.0         56\n",
       "6.0         11\n",
       "7.0          1\n",
       "34.0         1\n",
       "8.0          1\n",
       "Name: count, dtype: int64"
      ]
     },
     "execution_count": 51,
     "metadata": {},
     "output_type": "execute_result"
    }
   ],
   "source": [
    "train['DEF_30_CNT_SOCIAL_CIRCLE'].value_counts(dropna=False)"
   ]
  },
  {
   "cell_type": "code",
   "execution_count": 52,
   "metadata": {},
   "outputs": [
    {
     "data": {
      "text/plain": [
       "0"
      ]
     },
     "execution_count": 52,
     "metadata": {},
     "output_type": "execute_result"
    }
   ],
   "source": [
    "train['DEF_30_CNT_SOCIAL_CIRCLE'] = np.where(train['DEF_30_CNT_SOCIAL_CIRCLE'].isnull(), train['DEF_30_CNT_SOCIAL_CIRCLE'].mode(), train['DEF_30_CNT_SOCIAL_CIRCLE'])\n",
    "train['DEF_30_CNT_SOCIAL_CIRCLE'].isnull().sum()"
   ]
  },
  {
   "cell_type": "markdown",
   "metadata": {},
   "source": [
    "#### OBS_30_CNT_SOCIAL_CIRCLE"
   ]
  },
  {
   "cell_type": "code",
   "execution_count": 53,
   "metadata": {},
   "outputs": [
    {
     "data": {
      "text/plain": [
       "OBS_30_CNT_SOCIAL_CIRCLE\n",
       "0.0      163910\n",
       "1.0       48783\n",
       "2.0       29808\n",
       "3.0       20322\n",
       "4.0       14143\n",
       "5.0        9553\n",
       "6.0        6453\n",
       "7.0        4390\n",
       "8.0        2967\n",
       "9.0        2003\n",
       "10.0       1376\n",
       "NaN        1021\n",
       "11.0        852\n",
       "12.0        652\n",
       "13.0        411\n",
       "14.0        258\n",
       "15.0        166\n",
       "16.0        133\n",
       "17.0         88\n",
       "18.0         46\n",
       "19.0         44\n",
       "20.0         30\n",
       "21.0         29\n",
       "22.0         22\n",
       "23.0         15\n",
       "25.0         11\n",
       "24.0         11\n",
       "27.0          5\n",
       "26.0          3\n",
       "30.0          2\n",
       "28.0          1\n",
       "29.0          1\n",
       "47.0          1\n",
       "348.0         1\n",
       "Name: count, dtype: int64"
      ]
     },
     "execution_count": 53,
     "metadata": {},
     "output_type": "execute_result"
    }
   ],
   "source": [
    "train['OBS_30_CNT_SOCIAL_CIRCLE'].value_counts(dropna=False)"
   ]
  },
  {
   "cell_type": "code",
   "execution_count": 54,
   "metadata": {},
   "outputs": [
    {
     "data": {
      "text/plain": [
       "0"
      ]
     },
     "execution_count": 54,
     "metadata": {},
     "output_type": "execute_result"
    }
   ],
   "source": [
    "train['OBS_30_CNT_SOCIAL_CIRCLE'] = np.where(train['OBS_30_CNT_SOCIAL_CIRCLE'].isnull(), train['OBS_30_CNT_SOCIAL_CIRCLE'].mode(), train['OBS_30_CNT_SOCIAL_CIRCLE'])\n",
    "train['OBS_30_CNT_SOCIAL_CIRCLE'].isnull().sum()"
   ]
  },
  {
   "cell_type": "markdown",
   "metadata": {},
   "source": [
    "#### DEF_60_CNT_SOCIAL_CIRCLE"
   ]
  },
  {
   "cell_type": "code",
   "execution_count": 55,
   "metadata": {},
   "outputs": [
    {
     "data": {
      "text/plain": [
       "0"
      ]
     },
     "execution_count": 55,
     "metadata": {},
     "output_type": "execute_result"
    }
   ],
   "source": [
    "train['DEF_60_CNT_SOCIAL_CIRCLE'] = np.where(train['DEF_60_CNT_SOCIAL_CIRCLE'].isnull(), train['DEF_60_CNT_SOCIAL_CIRCLE'].mode(), train['DEF_60_CNT_SOCIAL_CIRCLE'])\n",
    "train['DEF_60_CNT_SOCIAL_CIRCLE'].isnull().sum()"
   ]
  },
  {
   "cell_type": "markdown",
   "metadata": {},
   "source": [
    "#### EXT_SOURCE_2"
   ]
  },
  {
   "cell_type": "code",
   "execution_count": 56,
   "metadata": {},
   "outputs": [
    {
     "data": {
      "text/plain": [
       "EXT_SOURCE_2\n",
       "0.285898    721\n",
       "NaN         660\n",
       "0.262258    417\n",
       "0.265256    343\n",
       "0.159679    322\n",
       "           ... \n",
       "0.004725      1\n",
       "0.257313      1\n",
       "0.282030      1\n",
       "0.181540      1\n",
       "0.267834      1\n",
       "Name: count, Length: 119832, dtype: int64"
      ]
     },
     "execution_count": 56,
     "metadata": {},
     "output_type": "execute_result"
    }
   ],
   "source": [
    "train['EXT_SOURCE_2'].value_counts(dropna=False)"
   ]
  },
  {
   "cell_type": "code",
   "execution_count": 57,
   "metadata": {},
   "outputs": [
    {
     "data": {
      "text/plain": [
       "0"
      ]
     },
     "execution_count": 57,
     "metadata": {},
     "output_type": "execute_result"
    }
   ],
   "source": [
    "train['EXT_SOURCE_2'] = np.where(train['EXT_SOURCE_2'].isnull(), train['EXT_SOURCE_2'].mean(), train['EXT_SOURCE_2'])\n",
    "train['EXT_SOURCE_2'].isnull().sum()"
   ]
  },
  {
   "cell_type": "markdown",
   "metadata": {},
   "source": [
    "#### AMT_GOODS_PRICE"
   ]
  },
  {
   "cell_type": "code",
   "execution_count": 58,
   "metadata": {},
   "outputs": [
    {
     "data": {
      "text/plain": [
       "AMT_GOODS_PRICE\n",
       "450000.0     26022\n",
       "225000.0     25282\n",
       "675000.0     24962\n",
       "900000.0     15416\n",
       "270000.0     11428\n",
       "             ...  \n",
       "447606.0         1\n",
       "2106000.0        1\n",
       "894654.0         1\n",
       "323982.0         1\n",
       "743863.5         1\n",
       "Name: count, Length: 1003, dtype: int64"
      ]
     },
     "execution_count": 58,
     "metadata": {},
     "output_type": "execute_result"
    }
   ],
   "source": [
    "train['AMT_GOODS_PRICE'].value_counts(dropna=False)"
   ]
  },
  {
   "cell_type": "code",
   "execution_count": 59,
   "metadata": {},
   "outputs": [
    {
     "data": {
      "text/plain": [
       "0"
      ]
     },
     "execution_count": 59,
     "metadata": {},
     "output_type": "execute_result"
    }
   ],
   "source": [
    "train['AMT_GOODS_PRICE'] = np.where(train['AMT_GOODS_PRICE'].isnull(), train['AMT_GOODS_PRICE'].mean(), train['AMT_GOODS_PRICE'])\n",
    "train['AMT_GOODS_PRICE'].isnull().sum()"
   ]
  },
  {
   "cell_type": "code",
   "execution_count": 60,
   "metadata": {},
   "outputs": [],
   "source": [
    "train['AMT_GOODS_PRICE'] = train['AMT_GOODS_PRICE'].round(20)"
   ]
  },
  {
   "cell_type": "markdown",
   "metadata": {},
   "source": [
    "#### AMT_ANNUITY"
   ]
  },
  {
   "cell_type": "code",
   "execution_count": 61,
   "metadata": {},
   "outputs": [
    {
     "data": {
      "text/plain": [
       "AMT_ANNUITY\n",
       "9000.0      6385\n",
       "13500.0     5514\n",
       "6750.0      2279\n",
       "10125.0     2035\n",
       "37800.0     1602\n",
       "            ... \n",
       "79902.0        1\n",
       "106969.5       1\n",
       "60885.0        1\n",
       "59661.0        1\n",
       "77809.5        1\n",
       "Name: count, Length: 13673, dtype: int64"
      ]
     },
     "execution_count": 61,
     "metadata": {},
     "output_type": "execute_result"
    }
   ],
   "source": [
    "train['AMT_ANNUITY'].value_counts(dropna=False)"
   ]
  },
  {
   "cell_type": "code",
   "execution_count": 62,
   "metadata": {},
   "outputs": [
    {
     "data": {
      "text/plain": [
       "0"
      ]
     },
     "execution_count": 62,
     "metadata": {},
     "output_type": "execute_result"
    }
   ],
   "source": [
    "train['AMT_ANNUITY'] = np.where(train['AMT_ANNUITY'].isnull(), train['AMT_ANNUITY'].mean(), train['AMT_ANNUITY'])\n",
    "train['AMT_ANNUITY'].isnull().sum()"
   ]
  },
  {
   "cell_type": "markdown",
   "metadata": {},
   "source": [
    "#### CNT_FAM_MEMBERS"
   ]
  },
  {
   "cell_type": "code",
   "execution_count": 63,
   "metadata": {},
   "outputs": [
    {
     "data": {
      "text/plain": [
       "0"
      ]
     },
     "execution_count": 63,
     "metadata": {},
     "output_type": "execute_result"
    }
   ],
   "source": [
    "train['CNT_FAM_MEMBERS'] = np.where(train['CNT_FAM_MEMBERS'].isnull(), train['CNT_FAM_MEMBERS'].mode(), train['CNT_FAM_MEMBERS'])\n",
    "train['CNT_FAM_MEMBERS'].isnull().sum()"
   ]
  },
  {
   "cell_type": "markdown",
   "metadata": {},
   "source": [
    "#### DAYS_LAST_PHONE_CHANGE"
   ]
  },
  {
   "cell_type": "code",
   "execution_count": 64,
   "metadata": {},
   "outputs": [
    {
     "data": {
      "text/plain": [
       "0"
      ]
     },
     "execution_count": 64,
     "metadata": {},
     "output_type": "execute_result"
    }
   ],
   "source": [
    "train['DAYS_LAST_PHONE_CHANGE'] = np.where(train['DAYS_LAST_PHONE_CHANGE'].isnull(), train['DAYS_LAST_PHONE_CHANGE'].mode(), train['DAYS_LAST_PHONE_CHANGE'])\n",
    "train['DAYS_LAST_PHONE_CHANGE'].isnull().sum()"
   ]
  },
  {
   "cell_type": "code",
   "execution_count": 65,
   "metadata": {},
   "outputs": [
    {
     "data": {
      "text/plain": [
       "SK_ID_CURR                    0\n",
       "EXT_SOURCE_3                  0\n",
       "FLAG_DOCUMENT_6               0\n",
       "FLAG_DOCUMENT_5               0\n",
       "FLAG_DOCUMENT_4               0\n",
       "                             ..\n",
       "FLAG_EMAIL                    0\n",
       "FLAG_PHONE                    0\n",
       "FLAG_CONT_MOBILE              0\n",
       "FLAG_WORK_PHONE               0\n",
       "AMT_REQ_CREDIT_BUREAU_YEAR    0\n",
       "Length: 81, dtype: int64"
      ]
     },
     "execution_count": 65,
     "metadata": {},
     "output_type": "execute_result"
    }
   ],
   "source": [
    "train.isnull().sum().sort_values(ascending=False)"
   ]
  },
  {
   "cell_type": "markdown",
   "metadata": {},
   "source": [
    "# BUREAU BALANCE"
   ]
  },
  {
   "cell_type": "code",
   "execution_count": 66,
   "metadata": {},
   "outputs": [
    {
     "data": {
      "text/html": [
       "<div>\n",
       "<style scoped>\n",
       "    .dataframe tbody tr th:only-of-type {\n",
       "        vertical-align: middle;\n",
       "    }\n",
       "\n",
       "    .dataframe tbody tr th {\n",
       "        vertical-align: top;\n",
       "    }\n",
       "\n",
       "    .dataframe thead th {\n",
       "        text-align: right;\n",
       "    }\n",
       "</style>\n",
       "<table border=\"1\" class=\"dataframe\">\n",
       "  <thead>\n",
       "    <tr style=\"text-align: right;\">\n",
       "      <th></th>\n",
       "      <th>SK_ID_BUREAU</th>\n",
       "      <th>MONTHS_BALANCE</th>\n",
       "      <th>STATUS</th>\n",
       "    </tr>\n",
       "  </thead>\n",
       "  <tbody>\n",
       "    <tr>\n",
       "      <th>0</th>\n",
       "      <td>5715448</td>\n",
       "      <td>0</td>\n",
       "      <td>C</td>\n",
       "    </tr>\n",
       "    <tr>\n",
       "      <th>1</th>\n",
       "      <td>5715448</td>\n",
       "      <td>-1</td>\n",
       "      <td>C</td>\n",
       "    </tr>\n",
       "    <tr>\n",
       "      <th>2</th>\n",
       "      <td>5715448</td>\n",
       "      <td>-2</td>\n",
       "      <td>C</td>\n",
       "    </tr>\n",
       "    <tr>\n",
       "      <th>3</th>\n",
       "      <td>5715448</td>\n",
       "      <td>-3</td>\n",
       "      <td>C</td>\n",
       "    </tr>\n",
       "    <tr>\n",
       "      <th>4</th>\n",
       "      <td>5715448</td>\n",
       "      <td>-4</td>\n",
       "      <td>C</td>\n",
       "    </tr>\n",
       "    <tr>\n",
       "      <th>...</th>\n",
       "      <td>...</td>\n",
       "      <td>...</td>\n",
       "      <td>...</td>\n",
       "    </tr>\n",
       "    <tr>\n",
       "      <th>27299920</th>\n",
       "      <td>5041336</td>\n",
       "      <td>-47</td>\n",
       "      <td>X</td>\n",
       "    </tr>\n",
       "    <tr>\n",
       "      <th>27299921</th>\n",
       "      <td>5041336</td>\n",
       "      <td>-48</td>\n",
       "      <td>X</td>\n",
       "    </tr>\n",
       "    <tr>\n",
       "      <th>27299922</th>\n",
       "      <td>5041336</td>\n",
       "      <td>-49</td>\n",
       "      <td>X</td>\n",
       "    </tr>\n",
       "    <tr>\n",
       "      <th>27299923</th>\n",
       "      <td>5041336</td>\n",
       "      <td>-50</td>\n",
       "      <td>X</td>\n",
       "    </tr>\n",
       "    <tr>\n",
       "      <th>27299924</th>\n",
       "      <td>5041336</td>\n",
       "      <td>-51</td>\n",
       "      <td>X</td>\n",
       "    </tr>\n",
       "  </tbody>\n",
       "</table>\n",
       "<p>27299925 rows × 3 columns</p>\n",
       "</div>"
      ],
      "text/plain": [
       "          SK_ID_BUREAU  MONTHS_BALANCE STATUS\n",
       "0              5715448               0      C\n",
       "1              5715448              -1      C\n",
       "2              5715448              -2      C\n",
       "3              5715448              -3      C\n",
       "4              5715448              -4      C\n",
       "...                ...             ...    ...\n",
       "27299920       5041336             -47      X\n",
       "27299921       5041336             -48      X\n",
       "27299922       5041336             -49      X\n",
       "27299923       5041336             -50      X\n",
       "27299924       5041336             -51      X\n",
       "\n",
       "[27299925 rows x 3 columns]"
      ]
     },
     "execution_count": 66,
     "metadata": {},
     "output_type": "execute_result"
    }
   ],
   "source": [
    "bb = pd.read_csv(r'C:\\Users\\rvuon\\OneDrive\\Documents\\Learning Fuze\\database\\Project Loan\\home-credit-default-risk\\bureau_balance.csv')\n",
    "bb"
   ]
  },
  {
   "cell_type": "code",
   "execution_count": 67,
   "metadata": {},
   "outputs": [
    {
     "data": {
      "text/plain": [
       "SK_ID_BUREAU      0\n",
       "MONTHS_BALANCE    0\n",
       "STATUS            0\n",
       "dtype: int64"
      ]
     },
     "execution_count": 67,
     "metadata": {},
     "output_type": "execute_result"
    }
   ],
   "source": [
    "bb.isnull().sum().sort_values(ascending=False)"
   ]
  },
  {
   "cell_type": "code",
   "execution_count": 68,
   "metadata": {},
   "outputs": [
    {
     "data": {
      "text/plain": [
       "STATUS\n",
       "C    13646993\n",
       "0     7499507\n",
       "X     5810482\n",
       "1      242347\n",
       "5       62406\n",
       "2       23419\n",
       "3        8924\n",
       "4        5847\n",
       "Name: count, dtype: int64"
      ]
     },
     "execution_count": 68,
     "metadata": {},
     "output_type": "execute_result"
    }
   ],
   "source": [
    "bb['STATUS'].value_counts()"
   ]
  },
  {
   "cell_type": "markdown",
   "metadata": {},
   "source": [
    "# BUREAU"
   ]
  },
  {
   "cell_type": "code",
   "execution_count": 69,
   "metadata": {},
   "outputs": [
    {
     "data": {
      "text/html": [
       "<div>\n",
       "<style scoped>\n",
       "    .dataframe tbody tr th:only-of-type {\n",
       "        vertical-align: middle;\n",
       "    }\n",
       "\n",
       "    .dataframe tbody tr th {\n",
       "        vertical-align: top;\n",
       "    }\n",
       "\n",
       "    .dataframe thead th {\n",
       "        text-align: right;\n",
       "    }\n",
       "</style>\n",
       "<table border=\"1\" class=\"dataframe\">\n",
       "  <thead>\n",
       "    <tr style=\"text-align: right;\">\n",
       "      <th></th>\n",
       "      <th>SK_ID_CURR</th>\n",
       "      <th>SK_ID_BUREAU</th>\n",
       "      <th>CREDIT_ACTIVE</th>\n",
       "      <th>CREDIT_CURRENCY</th>\n",
       "      <th>DAYS_CREDIT</th>\n",
       "      <th>CREDIT_DAY_OVERDUE</th>\n",
       "      <th>DAYS_CREDIT_ENDDATE</th>\n",
       "      <th>DAYS_ENDDATE_FACT</th>\n",
       "      <th>AMT_CREDIT_MAX_OVERDUE</th>\n",
       "      <th>CNT_CREDIT_PROLONG</th>\n",
       "      <th>AMT_CREDIT_SUM</th>\n",
       "      <th>AMT_CREDIT_SUM_DEBT</th>\n",
       "      <th>AMT_CREDIT_SUM_LIMIT</th>\n",
       "      <th>AMT_CREDIT_SUM_OVERDUE</th>\n",
       "      <th>CREDIT_TYPE</th>\n",
       "      <th>DAYS_CREDIT_UPDATE</th>\n",
       "      <th>AMT_ANNUITY</th>\n",
       "    </tr>\n",
       "  </thead>\n",
       "  <tbody>\n",
       "    <tr>\n",
       "      <th>0</th>\n",
       "      <td>215354</td>\n",
       "      <td>5714462</td>\n",
       "      <td>Closed</td>\n",
       "      <td>currency 1</td>\n",
       "      <td>-497</td>\n",
       "      <td>0</td>\n",
       "      <td>-153.0</td>\n",
       "      <td>-153.0</td>\n",
       "      <td>NaN</td>\n",
       "      <td>0</td>\n",
       "      <td>91323.00</td>\n",
       "      <td>0.0</td>\n",
       "      <td>NaN</td>\n",
       "      <td>0.0</td>\n",
       "      <td>Consumer credit</td>\n",
       "      <td>-131</td>\n",
       "      <td>NaN</td>\n",
       "    </tr>\n",
       "    <tr>\n",
       "      <th>1</th>\n",
       "      <td>215354</td>\n",
       "      <td>5714463</td>\n",
       "      <td>Active</td>\n",
       "      <td>currency 1</td>\n",
       "      <td>-208</td>\n",
       "      <td>0</td>\n",
       "      <td>1075.0</td>\n",
       "      <td>NaN</td>\n",
       "      <td>NaN</td>\n",
       "      <td>0</td>\n",
       "      <td>225000.00</td>\n",
       "      <td>171342.0</td>\n",
       "      <td>NaN</td>\n",
       "      <td>0.0</td>\n",
       "      <td>Credit card</td>\n",
       "      <td>-20</td>\n",
       "      <td>NaN</td>\n",
       "    </tr>\n",
       "    <tr>\n",
       "      <th>2</th>\n",
       "      <td>215354</td>\n",
       "      <td>5714464</td>\n",
       "      <td>Active</td>\n",
       "      <td>currency 1</td>\n",
       "      <td>-203</td>\n",
       "      <td>0</td>\n",
       "      <td>528.0</td>\n",
       "      <td>NaN</td>\n",
       "      <td>NaN</td>\n",
       "      <td>0</td>\n",
       "      <td>464323.50</td>\n",
       "      <td>NaN</td>\n",
       "      <td>NaN</td>\n",
       "      <td>0.0</td>\n",
       "      <td>Consumer credit</td>\n",
       "      <td>-16</td>\n",
       "      <td>NaN</td>\n",
       "    </tr>\n",
       "    <tr>\n",
       "      <th>3</th>\n",
       "      <td>215354</td>\n",
       "      <td>5714465</td>\n",
       "      <td>Active</td>\n",
       "      <td>currency 1</td>\n",
       "      <td>-203</td>\n",
       "      <td>0</td>\n",
       "      <td>NaN</td>\n",
       "      <td>NaN</td>\n",
       "      <td>NaN</td>\n",
       "      <td>0</td>\n",
       "      <td>90000.00</td>\n",
       "      <td>NaN</td>\n",
       "      <td>NaN</td>\n",
       "      <td>0.0</td>\n",
       "      <td>Credit card</td>\n",
       "      <td>-16</td>\n",
       "      <td>NaN</td>\n",
       "    </tr>\n",
       "    <tr>\n",
       "      <th>4</th>\n",
       "      <td>215354</td>\n",
       "      <td>5714466</td>\n",
       "      <td>Active</td>\n",
       "      <td>currency 1</td>\n",
       "      <td>-629</td>\n",
       "      <td>0</td>\n",
       "      <td>1197.0</td>\n",
       "      <td>NaN</td>\n",
       "      <td>77674.5</td>\n",
       "      <td>0</td>\n",
       "      <td>2700000.00</td>\n",
       "      <td>NaN</td>\n",
       "      <td>NaN</td>\n",
       "      <td>0.0</td>\n",
       "      <td>Consumer credit</td>\n",
       "      <td>-21</td>\n",
       "      <td>NaN</td>\n",
       "    </tr>\n",
       "    <tr>\n",
       "      <th>...</th>\n",
       "      <td>...</td>\n",
       "      <td>...</td>\n",
       "      <td>...</td>\n",
       "      <td>...</td>\n",
       "      <td>...</td>\n",
       "      <td>...</td>\n",
       "      <td>...</td>\n",
       "      <td>...</td>\n",
       "      <td>...</td>\n",
       "      <td>...</td>\n",
       "      <td>...</td>\n",
       "      <td>...</td>\n",
       "      <td>...</td>\n",
       "      <td>...</td>\n",
       "      <td>...</td>\n",
       "      <td>...</td>\n",
       "      <td>...</td>\n",
       "    </tr>\n",
       "    <tr>\n",
       "      <th>1716423</th>\n",
       "      <td>259355</td>\n",
       "      <td>5057750</td>\n",
       "      <td>Active</td>\n",
       "      <td>currency 1</td>\n",
       "      <td>-44</td>\n",
       "      <td>0</td>\n",
       "      <td>-30.0</td>\n",
       "      <td>NaN</td>\n",
       "      <td>0.0</td>\n",
       "      <td>0</td>\n",
       "      <td>11250.00</td>\n",
       "      <td>11250.0</td>\n",
       "      <td>0.0</td>\n",
       "      <td>0.0</td>\n",
       "      <td>Microloan</td>\n",
       "      <td>-19</td>\n",
       "      <td>NaN</td>\n",
       "    </tr>\n",
       "    <tr>\n",
       "      <th>1716424</th>\n",
       "      <td>100044</td>\n",
       "      <td>5057754</td>\n",
       "      <td>Closed</td>\n",
       "      <td>currency 1</td>\n",
       "      <td>-2648</td>\n",
       "      <td>0</td>\n",
       "      <td>-2433.0</td>\n",
       "      <td>-2493.0</td>\n",
       "      <td>5476.5</td>\n",
       "      <td>0</td>\n",
       "      <td>38130.84</td>\n",
       "      <td>0.0</td>\n",
       "      <td>0.0</td>\n",
       "      <td>0.0</td>\n",
       "      <td>Consumer credit</td>\n",
       "      <td>-2493</td>\n",
       "      <td>NaN</td>\n",
       "    </tr>\n",
       "    <tr>\n",
       "      <th>1716425</th>\n",
       "      <td>100044</td>\n",
       "      <td>5057762</td>\n",
       "      <td>Closed</td>\n",
       "      <td>currency 1</td>\n",
       "      <td>-1809</td>\n",
       "      <td>0</td>\n",
       "      <td>-1628.0</td>\n",
       "      <td>-970.0</td>\n",
       "      <td>NaN</td>\n",
       "      <td>0</td>\n",
       "      <td>15570.00</td>\n",
       "      <td>NaN</td>\n",
       "      <td>NaN</td>\n",
       "      <td>0.0</td>\n",
       "      <td>Consumer credit</td>\n",
       "      <td>-967</td>\n",
       "      <td>NaN</td>\n",
       "    </tr>\n",
       "    <tr>\n",
       "      <th>1716426</th>\n",
       "      <td>246829</td>\n",
       "      <td>5057770</td>\n",
       "      <td>Closed</td>\n",
       "      <td>currency 1</td>\n",
       "      <td>-1878</td>\n",
       "      <td>0</td>\n",
       "      <td>-1513.0</td>\n",
       "      <td>-1513.0</td>\n",
       "      <td>NaN</td>\n",
       "      <td>0</td>\n",
       "      <td>36000.00</td>\n",
       "      <td>0.0</td>\n",
       "      <td>0.0</td>\n",
       "      <td>0.0</td>\n",
       "      <td>Consumer credit</td>\n",
       "      <td>-1508</td>\n",
       "      <td>NaN</td>\n",
       "    </tr>\n",
       "    <tr>\n",
       "      <th>1716427</th>\n",
       "      <td>246829</td>\n",
       "      <td>5057778</td>\n",
       "      <td>Closed</td>\n",
       "      <td>currency 1</td>\n",
       "      <td>-463</td>\n",
       "      <td>0</td>\n",
       "      <td>NaN</td>\n",
       "      <td>-387.0</td>\n",
       "      <td>NaN</td>\n",
       "      <td>0</td>\n",
       "      <td>22500.00</td>\n",
       "      <td>0.0</td>\n",
       "      <td>NaN</td>\n",
       "      <td>0.0</td>\n",
       "      <td>Microloan</td>\n",
       "      <td>-387</td>\n",
       "      <td>NaN</td>\n",
       "    </tr>\n",
       "  </tbody>\n",
       "</table>\n",
       "<p>1716428 rows × 17 columns</p>\n",
       "</div>"
      ],
      "text/plain": [
       "         SK_ID_CURR  SK_ID_BUREAU CREDIT_ACTIVE CREDIT_CURRENCY  DAYS_CREDIT  \\\n",
       "0            215354       5714462        Closed      currency 1         -497   \n",
       "1            215354       5714463        Active      currency 1         -208   \n",
       "2            215354       5714464        Active      currency 1         -203   \n",
       "3            215354       5714465        Active      currency 1         -203   \n",
       "4            215354       5714466        Active      currency 1         -629   \n",
       "...             ...           ...           ...             ...          ...   \n",
       "1716423      259355       5057750        Active      currency 1          -44   \n",
       "1716424      100044       5057754        Closed      currency 1        -2648   \n",
       "1716425      100044       5057762        Closed      currency 1        -1809   \n",
       "1716426      246829       5057770        Closed      currency 1        -1878   \n",
       "1716427      246829       5057778        Closed      currency 1         -463   \n",
       "\n",
       "         CREDIT_DAY_OVERDUE  DAYS_CREDIT_ENDDATE  DAYS_ENDDATE_FACT  \\\n",
       "0                         0               -153.0             -153.0   \n",
       "1                         0               1075.0                NaN   \n",
       "2                         0                528.0                NaN   \n",
       "3                         0                  NaN                NaN   \n",
       "4                         0               1197.0                NaN   \n",
       "...                     ...                  ...                ...   \n",
       "1716423                   0                -30.0                NaN   \n",
       "1716424                   0              -2433.0            -2493.0   \n",
       "1716425                   0              -1628.0             -970.0   \n",
       "1716426                   0              -1513.0            -1513.0   \n",
       "1716427                   0                  NaN             -387.0   \n",
       "\n",
       "         AMT_CREDIT_MAX_OVERDUE  CNT_CREDIT_PROLONG  AMT_CREDIT_SUM  \\\n",
       "0                           NaN                   0        91323.00   \n",
       "1                           NaN                   0       225000.00   \n",
       "2                           NaN                   0       464323.50   \n",
       "3                           NaN                   0        90000.00   \n",
       "4                       77674.5                   0      2700000.00   \n",
       "...                         ...                 ...             ...   \n",
       "1716423                     0.0                   0        11250.00   \n",
       "1716424                  5476.5                   0        38130.84   \n",
       "1716425                     NaN                   0        15570.00   \n",
       "1716426                     NaN                   0        36000.00   \n",
       "1716427                     NaN                   0        22500.00   \n",
       "\n",
       "         AMT_CREDIT_SUM_DEBT  AMT_CREDIT_SUM_LIMIT  AMT_CREDIT_SUM_OVERDUE  \\\n",
       "0                        0.0                   NaN                     0.0   \n",
       "1                   171342.0                   NaN                     0.0   \n",
       "2                        NaN                   NaN                     0.0   \n",
       "3                        NaN                   NaN                     0.0   \n",
       "4                        NaN                   NaN                     0.0   \n",
       "...                      ...                   ...                     ...   \n",
       "1716423              11250.0                   0.0                     0.0   \n",
       "1716424                  0.0                   0.0                     0.0   \n",
       "1716425                  NaN                   NaN                     0.0   \n",
       "1716426                  0.0                   0.0                     0.0   \n",
       "1716427                  0.0                   NaN                     0.0   \n",
       "\n",
       "             CREDIT_TYPE  DAYS_CREDIT_UPDATE  AMT_ANNUITY  \n",
       "0        Consumer credit                -131          NaN  \n",
       "1            Credit card                 -20          NaN  \n",
       "2        Consumer credit                 -16          NaN  \n",
       "3            Credit card                 -16          NaN  \n",
       "4        Consumer credit                 -21          NaN  \n",
       "...                  ...                 ...          ...  \n",
       "1716423        Microloan                 -19          NaN  \n",
       "1716424  Consumer credit               -2493          NaN  \n",
       "1716425  Consumer credit                -967          NaN  \n",
       "1716426  Consumer credit               -1508          NaN  \n",
       "1716427        Microloan                -387          NaN  \n",
       "\n",
       "[1716428 rows x 17 columns]"
      ]
     },
     "execution_count": 69,
     "metadata": {},
     "output_type": "execute_result"
    }
   ],
   "source": [
    "b = pd.read_csv(r'C:\\Users\\rvuon\\OneDrive\\Documents\\Learning Fuze\\database\\Project Loan\\home-credit-default-risk\\bureau.csv')\n",
    "b"
   ]
  },
  {
   "cell_type": "code",
   "execution_count": 70,
   "metadata": {},
   "outputs": [
    {
     "name": "stdout",
     "output_type": "stream",
     "text": [
      "<class 'pandas.core.frame.DataFrame'>\n",
      "RangeIndex: 1716428 entries, 0 to 1716427\n",
      "Data columns (total 17 columns):\n",
      " #   Column                  Dtype  \n",
      "---  ------                  -----  \n",
      " 0   SK_ID_CURR              int64  \n",
      " 1   SK_ID_BUREAU            int64  \n",
      " 2   CREDIT_ACTIVE           object \n",
      " 3   CREDIT_CURRENCY         object \n",
      " 4   DAYS_CREDIT             int64  \n",
      " 5   CREDIT_DAY_OVERDUE      int64  \n",
      " 6   DAYS_CREDIT_ENDDATE     float64\n",
      " 7   DAYS_ENDDATE_FACT       float64\n",
      " 8   AMT_CREDIT_MAX_OVERDUE  float64\n",
      " 9   CNT_CREDIT_PROLONG      int64  \n",
      " 10  AMT_CREDIT_SUM          float64\n",
      " 11  AMT_CREDIT_SUM_DEBT     float64\n",
      " 12  AMT_CREDIT_SUM_LIMIT    float64\n",
      " 13  AMT_CREDIT_SUM_OVERDUE  float64\n",
      " 14  CREDIT_TYPE             object \n",
      " 15  DAYS_CREDIT_UPDATE      int64  \n",
      " 16  AMT_ANNUITY             float64\n",
      "dtypes: float64(8), int64(6), object(3)\n",
      "memory usage: 222.6+ MB\n"
     ]
    }
   ],
   "source": [
    "b.info()"
   ]
  },
  {
   "cell_type": "code",
   "execution_count": 71,
   "metadata": {},
   "outputs": [
    {
     "data": {
      "text/plain": [
       "AMT_ANNUITY               1226791\n",
       "AMT_CREDIT_MAX_OVERDUE    1124488\n",
       "DAYS_ENDDATE_FACT          633653\n",
       "AMT_CREDIT_SUM_LIMIT       591780\n",
       "AMT_CREDIT_SUM_DEBT        257669\n",
       "DAYS_CREDIT_ENDDATE        105553\n",
       "AMT_CREDIT_SUM                 13\n",
       "CREDIT_ACTIVE                   0\n",
       "CREDIT_CURRENCY                 0\n",
       "DAYS_CREDIT                     0\n",
       "CREDIT_DAY_OVERDUE              0\n",
       "SK_ID_BUREAU                    0\n",
       "CNT_CREDIT_PROLONG              0\n",
       "AMT_CREDIT_SUM_OVERDUE          0\n",
       "CREDIT_TYPE                     0\n",
       "DAYS_CREDIT_UPDATE              0\n",
       "SK_ID_CURR                      0\n",
       "dtype: int64"
      ]
     },
     "execution_count": 71,
     "metadata": {},
     "output_type": "execute_result"
    }
   ],
   "source": [
    "b.isnull().sum().sort_values(ascending=False)"
   ]
  },
  {
   "cell_type": "markdown",
   "metadata": {},
   "source": [
    "## Data Cleaning"
   ]
  },
  {
   "cell_type": "code",
   "execution_count": 72,
   "metadata": {},
   "outputs": [
    {
     "data": {
      "text/html": [
       "<div>\n",
       "<style scoped>\n",
       "    .dataframe tbody tr th:only-of-type {\n",
       "        vertical-align: middle;\n",
       "    }\n",
       "\n",
       "    .dataframe tbody tr th {\n",
       "        vertical-align: top;\n",
       "    }\n",
       "\n",
       "    .dataframe thead th {\n",
       "        text-align: right;\n",
       "    }\n",
       "</style>\n",
       "<table border=\"1\" class=\"dataframe\">\n",
       "  <thead>\n",
       "    <tr style=\"text-align: right;\">\n",
       "      <th></th>\n",
       "      <th>SK_ID_CURR</th>\n",
       "      <th>SK_ID_BUREAU</th>\n",
       "      <th>CREDIT_ACTIVE</th>\n",
       "      <th>CREDIT_CURRENCY</th>\n",
       "      <th>DAYS_CREDIT</th>\n",
       "      <th>CREDIT_DAY_OVERDUE</th>\n",
       "      <th>DAYS_CREDIT_ENDDATE</th>\n",
       "      <th>DAYS_ENDDATE_FACT</th>\n",
       "      <th>AMT_CREDIT_MAX_OVERDUE</th>\n",
       "      <th>CNT_CREDIT_PROLONG</th>\n",
       "      <th>AMT_CREDIT_SUM</th>\n",
       "      <th>AMT_CREDIT_SUM_DEBT</th>\n",
       "      <th>AMT_CREDIT_SUM_LIMIT</th>\n",
       "      <th>AMT_CREDIT_SUM_OVERDUE</th>\n",
       "      <th>CREDIT_TYPE</th>\n",
       "      <th>DAYS_CREDIT_UPDATE</th>\n",
       "      <th>AMT_ANNUITY</th>\n",
       "    </tr>\n",
       "  </thead>\n",
       "  <tbody>\n",
       "  </tbody>\n",
       "</table>\n",
       "</div>"
      ],
      "text/plain": [
       "Empty DataFrame\n",
       "Columns: [SK_ID_CURR, SK_ID_BUREAU, CREDIT_ACTIVE, CREDIT_CURRENCY, DAYS_CREDIT, CREDIT_DAY_OVERDUE, DAYS_CREDIT_ENDDATE, DAYS_ENDDATE_FACT, AMT_CREDIT_MAX_OVERDUE, CNT_CREDIT_PROLONG, AMT_CREDIT_SUM, AMT_CREDIT_SUM_DEBT, AMT_CREDIT_SUM_LIMIT, AMT_CREDIT_SUM_OVERDUE, CREDIT_TYPE, DAYS_CREDIT_UPDATE, AMT_ANNUITY]\n",
       "Index: []"
      ]
     },
     "execution_count": 72,
     "metadata": {},
     "output_type": "execute_result"
    }
   ],
   "source": [
    "duplicates = b.duplicated()\n",
    "b[duplicates]"
   ]
  },
  {
   "cell_type": "code",
   "execution_count": 73,
   "metadata": {},
   "outputs": [
    {
     "data": {
      "text/plain": [
       "SK_ID_CURR                0.000000\n",
       "SK_ID_BUREAU              0.000000\n",
       "CREDIT_ACTIVE             0.000000\n",
       "CREDIT_CURRENCY           0.000000\n",
       "DAYS_CREDIT               0.000000\n",
       "CREDIT_DAY_OVERDUE        0.000000\n",
       "DAYS_CREDIT_ENDDATE       0.061496\n",
       "DAYS_ENDDATE_FACT         0.369170\n",
       "AMT_CREDIT_MAX_OVERDUE    0.655133\n",
       "CNT_CREDIT_PROLONG        0.000000\n",
       "AMT_CREDIT_SUM            0.000008\n",
       "AMT_CREDIT_SUM_DEBT       0.150119\n",
       "AMT_CREDIT_SUM_LIMIT      0.344774\n",
       "AMT_CREDIT_SUM_OVERDUE    0.000000\n",
       "CREDIT_TYPE               0.000000\n",
       "DAYS_CREDIT_UPDATE        0.000000\n",
       "AMT_ANNUITY               0.714735\n",
       "dtype: float64"
      ]
     },
     "execution_count": 73,
     "metadata": {},
     "output_type": "execute_result"
    }
   ],
   "source": [
    "def fraction_missing(column):\n",
    "    total_rows = len(column)\n",
    "    missing_count = column.isnull().sum()\n",
    "    return missing_count/total_rows\n",
    "\n",
    "missing_fraction = b.apply(fraction_missing)\n",
    "missing_fraction"
   ]
  },
  {
   "cell_type": "code",
   "execution_count": 74,
   "metadata": {},
   "outputs": [
    {
     "data": {
      "text/plain": [
       "AMT_ANNUITY               0.714735\n",
       "AMT_CREDIT_MAX_OVERDUE    0.655133\n",
       "dtype: float64"
      ]
     },
     "execution_count": 74,
     "metadata": {},
     "output_type": "execute_result"
    }
   ],
   "source": [
    "high_missing_features_b = missing_fraction[missing_fraction > 0.5]\n",
    "high_missing_features_b = high_missing_features_b.sort_values(ascending=False)\n",
    "high_missing_features_b"
   ]
  },
  {
   "cell_type": "code",
   "execution_count": 75,
   "metadata": {},
   "outputs": [
    {
     "data": {
      "text/plain": [
       "CREDIT_ACTIVE      0\n",
       "CREDIT_CURRENCY    0\n",
       "CREDIT_TYPE        0\n",
       "dtype: int64"
      ]
     },
     "execution_count": 75,
     "metadata": {},
     "output_type": "execute_result"
    }
   ],
   "source": [
    "b.select_dtypes(include='object').isnull().sum().sort_values(ascending=False)"
   ]
  },
  {
   "cell_type": "code",
   "execution_count": 76,
   "metadata": {},
   "outputs": [
    {
     "data": {
      "text/plain": [
       "AMT_ANNUITY               1226791\n",
       "AMT_CREDIT_MAX_OVERDUE    1124488\n",
       "DAYS_ENDDATE_FACT          633653\n",
       "AMT_CREDIT_SUM_LIMIT       591780\n",
       "AMT_CREDIT_SUM_DEBT        257669\n",
       "DAYS_CREDIT_ENDDATE        105553\n",
       "AMT_CREDIT_SUM                 13\n",
       "SK_ID_CURR                      0\n",
       "SK_ID_BUREAU                    0\n",
       "DAYS_CREDIT                     0\n",
       "CREDIT_DAY_OVERDUE              0\n",
       "CNT_CREDIT_PROLONG              0\n",
       "AMT_CREDIT_SUM_OVERDUE          0\n",
       "DAYS_CREDIT_UPDATE              0\n",
       "dtype: int64"
      ]
     },
     "execution_count": 76,
     "metadata": {},
     "output_type": "execute_result"
    }
   ],
   "source": [
    "b.select_dtypes(include=('int', 'float')).isnull().sum().sort_values(ascending=False)"
   ]
  },
  {
   "cell_type": "markdown",
   "metadata": {},
   "source": [
    "### Fill Numerical Nulls"
   ]
  },
  {
   "cell_type": "markdown",
   "metadata": {},
   "source": [
    "#### AMT_ANNUITY"
   ]
  },
  {
   "cell_type": "code",
   "execution_count": 77,
   "metadata": {},
   "outputs": [
    {
     "data": {
      "text/plain": [
       "AMT_ANNUITY\n",
       "NaN           1226791\n",
       "0.000          256915\n",
       "4500.000         5182\n",
       "13500.000        3147\n",
       "22500.000        2502\n",
       "               ...   \n",
       "21228.750           1\n",
       "7263.270            1\n",
       "49215.015           1\n",
       "144405.000          1\n",
       "24351.435           1\n",
       "Name: count, Length: 40322, dtype: int64"
      ]
     },
     "execution_count": 77,
     "metadata": {},
     "output_type": "execute_result"
    }
   ],
   "source": [
    "b['AMT_ANNUITY'].value_counts(dropna=False)"
   ]
  },
  {
   "cell_type": "code",
   "execution_count": 78,
   "metadata": {},
   "outputs": [
    {
     "data": {
      "text/plain": [
       "CREDIT_TYPE\n",
       "Another type of loan                            30619.190593\n",
       "Car loan                                        33889.117467\n",
       "Cash loan (non-earmarked)                       16102.715294\n",
       "Consumer credit                                 15389.301249\n",
       "Credit card                                     12379.794494\n",
       "Interbank credit                                         NaN\n",
       "Loan for business development                   39319.372875\n",
       "Loan for purchase of shares (margin lending)    46868.490000\n",
       "Loan for the purchase of equipment              31635.855000\n",
       "Loan for working capital replenishment          17103.931216\n",
       "Microloan                                        7966.019973\n",
       "Mobile operator loan                             4054.500000\n",
       "Mortgage                                        69662.136225\n",
       "Real estate loan                                17786.970000\n",
       "Unknown type of loan                            20592.980722\n",
       "Name: AMT_ANNUITY, dtype: float64"
      ]
     },
     "execution_count": 78,
     "metadata": {},
     "output_type": "execute_result"
    }
   ],
   "source": [
    "b.groupby('CREDIT_TYPE')['AMT_ANNUITY'].mean()"
   ]
  },
  {
   "cell_type": "code",
   "execution_count": 79,
   "metadata": {},
   "outputs": [
    {
     "data": {
      "text/plain": [
       "1"
      ]
     },
     "execution_count": 79,
     "metadata": {},
     "output_type": "execute_result"
    }
   ],
   "source": [
    "b['AMT_ANNUITY'] = b.groupby('CREDIT_TYPE')['AMT_ANNUITY'].transform(lambda x: x.fillna(x.mean()))\n",
    "b['AMT_ANNUITY'].isnull().sum()"
   ]
  },
  {
   "cell_type": "code",
   "execution_count": 80,
   "metadata": {},
   "outputs": [
    {
     "data": {
      "text/plain": [
       "0"
      ]
     },
     "execution_count": 80,
     "metadata": {},
     "output_type": "execute_result"
    }
   ],
   "source": [
    "b['AMT_ANNUITY'] = np.where(b['AMT_ANNUITY'].isnull(), b['AMT_ANNUITY'].mean(), b['AMT_ANNUITY'])\n",
    "b['AMT_ANNUITY'].isnull().sum()"
   ]
  },
  {
   "cell_type": "markdown",
   "metadata": {},
   "source": [
    "#### AMT_CREDIT_MAX_OVERDUE"
   ]
  },
  {
   "cell_type": "code",
   "execution_count": 81,
   "metadata": {},
   "outputs": [
    {
     "data": {
      "text/plain": [
       "AMT_CREDIT_MAX_OVERDUE\n",
       "NaN          1124488\n",
       "0.000         470650\n",
       "1440.000         688\n",
       "225.000          405\n",
       "45.000           377\n",
       "              ...   \n",
       "38506.500          1\n",
       "47700.000          1\n",
       "4093.470           1\n",
       "4009.140           1\n",
       "5693.625           1\n",
       "Name: count, Length: 68252, dtype: int64"
      ]
     },
     "execution_count": 81,
     "metadata": {},
     "output_type": "execute_result"
    }
   ],
   "source": [
    "b['AMT_CREDIT_MAX_OVERDUE'].value_counts(dropna=False)"
   ]
  },
  {
   "cell_type": "code",
   "execution_count": 82,
   "metadata": {},
   "outputs": [
    {
     "data": {
      "text/html": [
       "<div>\n",
       "<style scoped>\n",
       "    .dataframe tbody tr th:only-of-type {\n",
       "        vertical-align: middle;\n",
       "    }\n",
       "\n",
       "    .dataframe tbody tr th {\n",
       "        vertical-align: top;\n",
       "    }\n",
       "\n",
       "    .dataframe thead th {\n",
       "        text-align: right;\n",
       "    }\n",
       "</style>\n",
       "<table border=\"1\" class=\"dataframe\">\n",
       "  <thead>\n",
       "    <tr style=\"text-align: right;\">\n",
       "      <th></th>\n",
       "      <th>SK_ID_CURR</th>\n",
       "      <th>SK_ID_BUREAU</th>\n",
       "      <th>CREDIT_ACTIVE</th>\n",
       "      <th>CREDIT_CURRENCY</th>\n",
       "      <th>DAYS_CREDIT</th>\n",
       "      <th>CREDIT_DAY_OVERDUE</th>\n",
       "      <th>DAYS_CREDIT_ENDDATE</th>\n",
       "      <th>DAYS_ENDDATE_FACT</th>\n",
       "      <th>AMT_CREDIT_MAX_OVERDUE</th>\n",
       "      <th>CNT_CREDIT_PROLONG</th>\n",
       "      <th>AMT_CREDIT_SUM</th>\n",
       "      <th>AMT_CREDIT_SUM_DEBT</th>\n",
       "      <th>AMT_CREDIT_SUM_LIMIT</th>\n",
       "      <th>AMT_CREDIT_SUM_OVERDUE</th>\n",
       "      <th>CREDIT_TYPE</th>\n",
       "      <th>DAYS_CREDIT_UPDATE</th>\n",
       "      <th>AMT_ANNUITY</th>\n",
       "    </tr>\n",
       "  </thead>\n",
       "  <tbody>\n",
       "    <tr>\n",
       "      <th>5</th>\n",
       "      <td>215354</td>\n",
       "      <td>5714467</td>\n",
       "      <td>Active</td>\n",
       "      <td>currency 1</td>\n",
       "      <td>-273</td>\n",
       "      <td>0</td>\n",
       "      <td>27460.0</td>\n",
       "      <td>NaN</td>\n",
       "      <td>0.0</td>\n",
       "      <td>0</td>\n",
       "      <td>180000.000</td>\n",
       "      <td>71017.38</td>\n",
       "      <td>108982.62</td>\n",
       "      <td>0.0</td>\n",
       "      <td>Credit card</td>\n",
       "      <td>-31</td>\n",
       "      <td>12379.794494</td>\n",
       "    </tr>\n",
       "    <tr>\n",
       "      <th>6</th>\n",
       "      <td>215354</td>\n",
       "      <td>5714468</td>\n",
       "      <td>Active</td>\n",
       "      <td>currency 1</td>\n",
       "      <td>-43</td>\n",
       "      <td>0</td>\n",
       "      <td>79.0</td>\n",
       "      <td>NaN</td>\n",
       "      <td>0.0</td>\n",
       "      <td>0</td>\n",
       "      <td>42103.800</td>\n",
       "      <td>42103.80</td>\n",
       "      <td>0.00</td>\n",
       "      <td>0.0</td>\n",
       "      <td>Consumer credit</td>\n",
       "      <td>-22</td>\n",
       "      <td>15389.301249</td>\n",
       "    </tr>\n",
       "    <tr>\n",
       "      <th>8</th>\n",
       "      <td>162297</td>\n",
       "      <td>5714470</td>\n",
       "      <td>Closed</td>\n",
       "      <td>currency 1</td>\n",
       "      <td>-1146</td>\n",
       "      <td>0</td>\n",
       "      <td>-811.0</td>\n",
       "      <td>-840.0</td>\n",
       "      <td>0.0</td>\n",
       "      <td>0</td>\n",
       "      <td>103007.700</td>\n",
       "      <td>0.00</td>\n",
       "      <td>0.00</td>\n",
       "      <td>0.0</td>\n",
       "      <td>Consumer credit</td>\n",
       "      <td>-840</td>\n",
       "      <td>15389.301249</td>\n",
       "    </tr>\n",
       "    <tr>\n",
       "      <th>9</th>\n",
       "      <td>162297</td>\n",
       "      <td>5714471</td>\n",
       "      <td>Active</td>\n",
       "      <td>currency 1</td>\n",
       "      <td>-1146</td>\n",
       "      <td>0</td>\n",
       "      <td>-484.0</td>\n",
       "      <td>NaN</td>\n",
       "      <td>0.0</td>\n",
       "      <td>0</td>\n",
       "      <td>4500.000</td>\n",
       "      <td>0.00</td>\n",
       "      <td>0.00</td>\n",
       "      <td>0.0</td>\n",
       "      <td>Credit card</td>\n",
       "      <td>-690</td>\n",
       "      <td>12379.794494</td>\n",
       "    </tr>\n",
       "    <tr>\n",
       "      <th>10</th>\n",
       "      <td>162297</td>\n",
       "      <td>5714472</td>\n",
       "      <td>Active</td>\n",
       "      <td>currency 1</td>\n",
       "      <td>-1146</td>\n",
       "      <td>0</td>\n",
       "      <td>-180.0</td>\n",
       "      <td>NaN</td>\n",
       "      <td>0.0</td>\n",
       "      <td>0</td>\n",
       "      <td>337500.000</td>\n",
       "      <td>0.00</td>\n",
       "      <td>0.00</td>\n",
       "      <td>0.0</td>\n",
       "      <td>Credit card</td>\n",
       "      <td>-690</td>\n",
       "      <td>12379.794494</td>\n",
       "    </tr>\n",
       "    <tr>\n",
       "      <th>...</th>\n",
       "      <td>...</td>\n",
       "      <td>...</td>\n",
       "      <td>...</td>\n",
       "      <td>...</td>\n",
       "      <td>...</td>\n",
       "      <td>...</td>\n",
       "      <td>...</td>\n",
       "      <td>...</td>\n",
       "      <td>...</td>\n",
       "      <td>...</td>\n",
       "      <td>...</td>\n",
       "      <td>...</td>\n",
       "      <td>...</td>\n",
       "      <td>...</td>\n",
       "      <td>...</td>\n",
       "      <td>...</td>\n",
       "      <td>...</td>\n",
       "    </tr>\n",
       "    <tr>\n",
       "      <th>1716406</th>\n",
       "      <td>335468</td>\n",
       "      <td>5057618</td>\n",
       "      <td>Closed</td>\n",
       "      <td>currency 1</td>\n",
       "      <td>-2517</td>\n",
       "      <td>0</td>\n",
       "      <td>-660.0</td>\n",
       "      <td>-2363.0</td>\n",
       "      <td>0.0</td>\n",
       "      <td>0</td>\n",
       "      <td>473940.000</td>\n",
       "      <td>0.00</td>\n",
       "      <td>0.00</td>\n",
       "      <td>0.0</td>\n",
       "      <td>Car loan</td>\n",
       "      <td>-2363</td>\n",
       "      <td>33889.117467</td>\n",
       "    </tr>\n",
       "    <tr>\n",
       "      <th>1716409</th>\n",
       "      <td>146896</td>\n",
       "      <td>5057636</td>\n",
       "      <td>Closed</td>\n",
       "      <td>currency 1</td>\n",
       "      <td>-1705</td>\n",
       "      <td>0</td>\n",
       "      <td>-582.0</td>\n",
       "      <td>-582.0</td>\n",
       "      <td>0.0</td>\n",
       "      <td>0</td>\n",
       "      <td>0.000</td>\n",
       "      <td>0.00</td>\n",
       "      <td>0.00</td>\n",
       "      <td>0.0</td>\n",
       "      <td>Credit card</td>\n",
       "      <td>-582</td>\n",
       "      <td>12379.794494</td>\n",
       "    </tr>\n",
       "    <tr>\n",
       "      <th>1716411</th>\n",
       "      <td>232118</td>\n",
       "      <td>5057652</td>\n",
       "      <td>Closed</td>\n",
       "      <td>currency 1</td>\n",
       "      <td>-821</td>\n",
       "      <td>0</td>\n",
       "      <td>-425.0</td>\n",
       "      <td>-545.0</td>\n",
       "      <td>0.0</td>\n",
       "      <td>0</td>\n",
       "      <td>108765.720</td>\n",
       "      <td>0.00</td>\n",
       "      <td>0.00</td>\n",
       "      <td>0.0</td>\n",
       "      <td>Consumer credit</td>\n",
       "      <td>-545</td>\n",
       "      <td>15389.301249</td>\n",
       "    </tr>\n",
       "    <tr>\n",
       "      <th>1716418</th>\n",
       "      <td>433007</td>\n",
       "      <td>5057708</td>\n",
       "      <td>Closed</td>\n",
       "      <td>currency 1</td>\n",
       "      <td>-1389</td>\n",
       "      <td>0</td>\n",
       "      <td>-1299.0</td>\n",
       "      <td>-1299.0</td>\n",
       "      <td>0.0</td>\n",
       "      <td>0</td>\n",
       "      <td>334158.435</td>\n",
       "      <td>0.00</td>\n",
       "      <td>0.00</td>\n",
       "      <td>0.0</td>\n",
       "      <td>Consumer credit</td>\n",
       "      <td>-1299</td>\n",
       "      <td>15389.301249</td>\n",
       "    </tr>\n",
       "    <tr>\n",
       "      <th>1716423</th>\n",
       "      <td>259355</td>\n",
       "      <td>5057750</td>\n",
       "      <td>Active</td>\n",
       "      <td>currency 1</td>\n",
       "      <td>-44</td>\n",
       "      <td>0</td>\n",
       "      <td>-30.0</td>\n",
       "      <td>NaN</td>\n",
       "      <td>0.0</td>\n",
       "      <td>0</td>\n",
       "      <td>11250.000</td>\n",
       "      <td>11250.00</td>\n",
       "      <td>0.00</td>\n",
       "      <td>0.0</td>\n",
       "      <td>Microloan</td>\n",
       "      <td>-19</td>\n",
       "      <td>7966.019973</td>\n",
       "    </tr>\n",
       "  </tbody>\n",
       "</table>\n",
       "<p>470650 rows × 17 columns</p>\n",
       "</div>"
      ],
      "text/plain": [
       "         SK_ID_CURR  SK_ID_BUREAU CREDIT_ACTIVE CREDIT_CURRENCY  DAYS_CREDIT  \\\n",
       "5            215354       5714467        Active      currency 1         -273   \n",
       "6            215354       5714468        Active      currency 1          -43   \n",
       "8            162297       5714470        Closed      currency 1        -1146   \n",
       "9            162297       5714471        Active      currency 1        -1146   \n",
       "10           162297       5714472        Active      currency 1        -1146   \n",
       "...             ...           ...           ...             ...          ...   \n",
       "1716406      335468       5057618        Closed      currency 1        -2517   \n",
       "1716409      146896       5057636        Closed      currency 1        -1705   \n",
       "1716411      232118       5057652        Closed      currency 1         -821   \n",
       "1716418      433007       5057708        Closed      currency 1        -1389   \n",
       "1716423      259355       5057750        Active      currency 1          -44   \n",
       "\n",
       "         CREDIT_DAY_OVERDUE  DAYS_CREDIT_ENDDATE  DAYS_ENDDATE_FACT  \\\n",
       "5                         0              27460.0                NaN   \n",
       "6                         0                 79.0                NaN   \n",
       "8                         0               -811.0             -840.0   \n",
       "9                         0               -484.0                NaN   \n",
       "10                        0               -180.0                NaN   \n",
       "...                     ...                  ...                ...   \n",
       "1716406                   0               -660.0            -2363.0   \n",
       "1716409                   0               -582.0             -582.0   \n",
       "1716411                   0               -425.0             -545.0   \n",
       "1716418                   0              -1299.0            -1299.0   \n",
       "1716423                   0                -30.0                NaN   \n",
       "\n",
       "         AMT_CREDIT_MAX_OVERDUE  CNT_CREDIT_PROLONG  AMT_CREDIT_SUM  \\\n",
       "5                           0.0                   0      180000.000   \n",
       "6                           0.0                   0       42103.800   \n",
       "8                           0.0                   0      103007.700   \n",
       "9                           0.0                   0        4500.000   \n",
       "10                          0.0                   0      337500.000   \n",
       "...                         ...                 ...             ...   \n",
       "1716406                     0.0                   0      473940.000   \n",
       "1716409                     0.0                   0           0.000   \n",
       "1716411                     0.0                   0      108765.720   \n",
       "1716418                     0.0                   0      334158.435   \n",
       "1716423                     0.0                   0       11250.000   \n",
       "\n",
       "         AMT_CREDIT_SUM_DEBT  AMT_CREDIT_SUM_LIMIT  AMT_CREDIT_SUM_OVERDUE  \\\n",
       "5                   71017.38             108982.62                     0.0   \n",
       "6                   42103.80                  0.00                     0.0   \n",
       "8                       0.00                  0.00                     0.0   \n",
       "9                       0.00                  0.00                     0.0   \n",
       "10                      0.00                  0.00                     0.0   \n",
       "...                      ...                   ...                     ...   \n",
       "1716406                 0.00                  0.00                     0.0   \n",
       "1716409                 0.00                  0.00                     0.0   \n",
       "1716411                 0.00                  0.00                     0.0   \n",
       "1716418                 0.00                  0.00                     0.0   \n",
       "1716423             11250.00                  0.00                     0.0   \n",
       "\n",
       "             CREDIT_TYPE  DAYS_CREDIT_UPDATE   AMT_ANNUITY  \n",
       "5            Credit card                 -31  12379.794494  \n",
       "6        Consumer credit                 -22  15389.301249  \n",
       "8        Consumer credit                -840  15389.301249  \n",
       "9            Credit card                -690  12379.794494  \n",
       "10           Credit card                -690  12379.794494  \n",
       "...                  ...                 ...           ...  \n",
       "1716406         Car loan               -2363  33889.117467  \n",
       "1716409      Credit card                -582  12379.794494  \n",
       "1716411  Consumer credit                -545  15389.301249  \n",
       "1716418  Consumer credit               -1299  15389.301249  \n",
       "1716423        Microloan                 -19   7966.019973  \n",
       "\n",
       "[470650 rows x 17 columns]"
      ]
     },
     "execution_count": 82,
     "metadata": {},
     "output_type": "execute_result"
    }
   ],
   "source": [
    "b[b['AMT_CREDIT_MAX_OVERDUE']==0]"
   ]
  },
  {
   "cell_type": "code",
   "execution_count": 83,
   "metadata": {},
   "outputs": [
    {
     "data": {
      "text/html": [
       "<div>\n",
       "<style scoped>\n",
       "    .dataframe tbody tr th:only-of-type {\n",
       "        vertical-align: middle;\n",
       "    }\n",
       "\n",
       "    .dataframe tbody tr th {\n",
       "        vertical-align: top;\n",
       "    }\n",
       "\n",
       "    .dataframe thead th {\n",
       "        text-align: right;\n",
       "    }\n",
       "</style>\n",
       "<table border=\"1\" class=\"dataframe\">\n",
       "  <thead>\n",
       "    <tr style=\"text-align: right;\">\n",
       "      <th></th>\n",
       "      <th>SK_ID_CURR</th>\n",
       "      <th>SK_ID_BUREAU</th>\n",
       "      <th>CREDIT_ACTIVE</th>\n",
       "      <th>CREDIT_CURRENCY</th>\n",
       "      <th>DAYS_CREDIT</th>\n",
       "      <th>CREDIT_DAY_OVERDUE</th>\n",
       "      <th>DAYS_CREDIT_ENDDATE</th>\n",
       "      <th>DAYS_ENDDATE_FACT</th>\n",
       "      <th>AMT_CREDIT_MAX_OVERDUE</th>\n",
       "      <th>CNT_CREDIT_PROLONG</th>\n",
       "      <th>AMT_CREDIT_SUM</th>\n",
       "      <th>AMT_CREDIT_SUM_DEBT</th>\n",
       "      <th>AMT_CREDIT_SUM_LIMIT</th>\n",
       "      <th>AMT_CREDIT_SUM_OVERDUE</th>\n",
       "      <th>CREDIT_TYPE</th>\n",
       "      <th>DAYS_CREDIT_UPDATE</th>\n",
       "      <th>AMT_ANNUITY</th>\n",
       "    </tr>\n",
       "  </thead>\n",
       "  <tbody>\n",
       "    <tr>\n",
       "      <th>0</th>\n",
       "      <td>215354</td>\n",
       "      <td>5714462</td>\n",
       "      <td>Closed</td>\n",
       "      <td>currency 1</td>\n",
       "      <td>-497</td>\n",
       "      <td>0</td>\n",
       "      <td>-153.0</td>\n",
       "      <td>-153.0</td>\n",
       "      <td>NaN</td>\n",
       "      <td>0</td>\n",
       "      <td>91323.00</td>\n",
       "      <td>0.0</td>\n",
       "      <td>NaN</td>\n",
       "      <td>0.0</td>\n",
       "      <td>Consumer credit</td>\n",
       "      <td>-131</td>\n",
       "      <td>15389.301249</td>\n",
       "    </tr>\n",
       "    <tr>\n",
       "      <th>1</th>\n",
       "      <td>215354</td>\n",
       "      <td>5714463</td>\n",
       "      <td>Active</td>\n",
       "      <td>currency 1</td>\n",
       "      <td>-208</td>\n",
       "      <td>0</td>\n",
       "      <td>1075.0</td>\n",
       "      <td>NaN</td>\n",
       "      <td>NaN</td>\n",
       "      <td>0</td>\n",
       "      <td>225000.00</td>\n",
       "      <td>171342.0</td>\n",
       "      <td>NaN</td>\n",
       "      <td>0.0</td>\n",
       "      <td>Credit card</td>\n",
       "      <td>-20</td>\n",
       "      <td>12379.794494</td>\n",
       "    </tr>\n",
       "    <tr>\n",
       "      <th>2</th>\n",
       "      <td>215354</td>\n",
       "      <td>5714464</td>\n",
       "      <td>Active</td>\n",
       "      <td>currency 1</td>\n",
       "      <td>-203</td>\n",
       "      <td>0</td>\n",
       "      <td>528.0</td>\n",
       "      <td>NaN</td>\n",
       "      <td>NaN</td>\n",
       "      <td>0</td>\n",
       "      <td>464323.50</td>\n",
       "      <td>NaN</td>\n",
       "      <td>NaN</td>\n",
       "      <td>0.0</td>\n",
       "      <td>Consumer credit</td>\n",
       "      <td>-16</td>\n",
       "      <td>15389.301249</td>\n",
       "    </tr>\n",
       "    <tr>\n",
       "      <th>3</th>\n",
       "      <td>215354</td>\n",
       "      <td>5714465</td>\n",
       "      <td>Active</td>\n",
       "      <td>currency 1</td>\n",
       "      <td>-203</td>\n",
       "      <td>0</td>\n",
       "      <td>NaN</td>\n",
       "      <td>NaN</td>\n",
       "      <td>NaN</td>\n",
       "      <td>0</td>\n",
       "      <td>90000.00</td>\n",
       "      <td>NaN</td>\n",
       "      <td>NaN</td>\n",
       "      <td>0.0</td>\n",
       "      <td>Credit card</td>\n",
       "      <td>-16</td>\n",
       "      <td>12379.794494</td>\n",
       "    </tr>\n",
       "    <tr>\n",
       "      <th>4</th>\n",
       "      <td>215354</td>\n",
       "      <td>5714466</td>\n",
       "      <td>Active</td>\n",
       "      <td>currency 1</td>\n",
       "      <td>-629</td>\n",
       "      <td>0</td>\n",
       "      <td>1197.0</td>\n",
       "      <td>NaN</td>\n",
       "      <td>77674.5</td>\n",
       "      <td>0</td>\n",
       "      <td>2700000.00</td>\n",
       "      <td>NaN</td>\n",
       "      <td>NaN</td>\n",
       "      <td>0.0</td>\n",
       "      <td>Consumer credit</td>\n",
       "      <td>-21</td>\n",
       "      <td>15389.301249</td>\n",
       "    </tr>\n",
       "    <tr>\n",
       "      <th>...</th>\n",
       "      <td>...</td>\n",
       "      <td>...</td>\n",
       "      <td>...</td>\n",
       "      <td>...</td>\n",
       "      <td>...</td>\n",
       "      <td>...</td>\n",
       "      <td>...</td>\n",
       "      <td>...</td>\n",
       "      <td>...</td>\n",
       "      <td>...</td>\n",
       "      <td>...</td>\n",
       "      <td>...</td>\n",
       "      <td>...</td>\n",
       "      <td>...</td>\n",
       "      <td>...</td>\n",
       "      <td>...</td>\n",
       "      <td>...</td>\n",
       "    </tr>\n",
       "    <tr>\n",
       "      <th>1716423</th>\n",
       "      <td>259355</td>\n",
       "      <td>5057750</td>\n",
       "      <td>Active</td>\n",
       "      <td>currency 1</td>\n",
       "      <td>-44</td>\n",
       "      <td>0</td>\n",
       "      <td>-30.0</td>\n",
       "      <td>NaN</td>\n",
       "      <td>0.0</td>\n",
       "      <td>0</td>\n",
       "      <td>11250.00</td>\n",
       "      <td>11250.0</td>\n",
       "      <td>0.0</td>\n",
       "      <td>0.0</td>\n",
       "      <td>Microloan</td>\n",
       "      <td>-19</td>\n",
       "      <td>7966.019973</td>\n",
       "    </tr>\n",
       "    <tr>\n",
       "      <th>1716424</th>\n",
       "      <td>100044</td>\n",
       "      <td>5057754</td>\n",
       "      <td>Closed</td>\n",
       "      <td>currency 1</td>\n",
       "      <td>-2648</td>\n",
       "      <td>0</td>\n",
       "      <td>-2433.0</td>\n",
       "      <td>-2493.0</td>\n",
       "      <td>5476.5</td>\n",
       "      <td>0</td>\n",
       "      <td>38130.84</td>\n",
       "      <td>0.0</td>\n",
       "      <td>0.0</td>\n",
       "      <td>0.0</td>\n",
       "      <td>Consumer credit</td>\n",
       "      <td>-2493</td>\n",
       "      <td>15389.301249</td>\n",
       "    </tr>\n",
       "    <tr>\n",
       "      <th>1716425</th>\n",
       "      <td>100044</td>\n",
       "      <td>5057762</td>\n",
       "      <td>Closed</td>\n",
       "      <td>currency 1</td>\n",
       "      <td>-1809</td>\n",
       "      <td>0</td>\n",
       "      <td>-1628.0</td>\n",
       "      <td>-970.0</td>\n",
       "      <td>NaN</td>\n",
       "      <td>0</td>\n",
       "      <td>15570.00</td>\n",
       "      <td>NaN</td>\n",
       "      <td>NaN</td>\n",
       "      <td>0.0</td>\n",
       "      <td>Consumer credit</td>\n",
       "      <td>-967</td>\n",
       "      <td>15389.301249</td>\n",
       "    </tr>\n",
       "    <tr>\n",
       "      <th>1716426</th>\n",
       "      <td>246829</td>\n",
       "      <td>5057770</td>\n",
       "      <td>Closed</td>\n",
       "      <td>currency 1</td>\n",
       "      <td>-1878</td>\n",
       "      <td>0</td>\n",
       "      <td>-1513.0</td>\n",
       "      <td>-1513.0</td>\n",
       "      <td>NaN</td>\n",
       "      <td>0</td>\n",
       "      <td>36000.00</td>\n",
       "      <td>0.0</td>\n",
       "      <td>0.0</td>\n",
       "      <td>0.0</td>\n",
       "      <td>Consumer credit</td>\n",
       "      <td>-1508</td>\n",
       "      <td>15389.301249</td>\n",
       "    </tr>\n",
       "    <tr>\n",
       "      <th>1716427</th>\n",
       "      <td>246829</td>\n",
       "      <td>5057778</td>\n",
       "      <td>Closed</td>\n",
       "      <td>currency 1</td>\n",
       "      <td>-463</td>\n",
       "      <td>0</td>\n",
       "      <td>NaN</td>\n",
       "      <td>-387.0</td>\n",
       "      <td>NaN</td>\n",
       "      <td>0</td>\n",
       "      <td>22500.00</td>\n",
       "      <td>0.0</td>\n",
       "      <td>NaN</td>\n",
       "      <td>0.0</td>\n",
       "      <td>Microloan</td>\n",
       "      <td>-387</td>\n",
       "      <td>7966.019973</td>\n",
       "    </tr>\n",
       "  </tbody>\n",
       "</table>\n",
       "<p>1712270 rows × 17 columns</p>\n",
       "</div>"
      ],
      "text/plain": [
       "         SK_ID_CURR  SK_ID_BUREAU CREDIT_ACTIVE CREDIT_CURRENCY  DAYS_CREDIT  \\\n",
       "0            215354       5714462        Closed      currency 1         -497   \n",
       "1            215354       5714463        Active      currency 1         -208   \n",
       "2            215354       5714464        Active      currency 1         -203   \n",
       "3            215354       5714465        Active      currency 1         -203   \n",
       "4            215354       5714466        Active      currency 1         -629   \n",
       "...             ...           ...           ...             ...          ...   \n",
       "1716423      259355       5057750        Active      currency 1          -44   \n",
       "1716424      100044       5057754        Closed      currency 1        -2648   \n",
       "1716425      100044       5057762        Closed      currency 1        -1809   \n",
       "1716426      246829       5057770        Closed      currency 1        -1878   \n",
       "1716427      246829       5057778        Closed      currency 1         -463   \n",
       "\n",
       "         CREDIT_DAY_OVERDUE  DAYS_CREDIT_ENDDATE  DAYS_ENDDATE_FACT  \\\n",
       "0                         0               -153.0             -153.0   \n",
       "1                         0               1075.0                NaN   \n",
       "2                         0                528.0                NaN   \n",
       "3                         0                  NaN                NaN   \n",
       "4                         0               1197.0                NaN   \n",
       "...                     ...                  ...                ...   \n",
       "1716423                   0                -30.0                NaN   \n",
       "1716424                   0              -2433.0            -2493.0   \n",
       "1716425                   0              -1628.0             -970.0   \n",
       "1716426                   0              -1513.0            -1513.0   \n",
       "1716427                   0                  NaN             -387.0   \n",
       "\n",
       "         AMT_CREDIT_MAX_OVERDUE  CNT_CREDIT_PROLONG  AMT_CREDIT_SUM  \\\n",
       "0                           NaN                   0        91323.00   \n",
       "1                           NaN                   0       225000.00   \n",
       "2                           NaN                   0       464323.50   \n",
       "3                           NaN                   0        90000.00   \n",
       "4                       77674.5                   0      2700000.00   \n",
       "...                         ...                 ...             ...   \n",
       "1716423                     0.0                   0        11250.00   \n",
       "1716424                  5476.5                   0        38130.84   \n",
       "1716425                     NaN                   0        15570.00   \n",
       "1716426                     NaN                   0        36000.00   \n",
       "1716427                     NaN                   0        22500.00   \n",
       "\n",
       "         AMT_CREDIT_SUM_DEBT  AMT_CREDIT_SUM_LIMIT  AMT_CREDIT_SUM_OVERDUE  \\\n",
       "0                        0.0                   NaN                     0.0   \n",
       "1                   171342.0                   NaN                     0.0   \n",
       "2                        NaN                   NaN                     0.0   \n",
       "3                        NaN                   NaN                     0.0   \n",
       "4                        NaN                   NaN                     0.0   \n",
       "...                      ...                   ...                     ...   \n",
       "1716423              11250.0                   0.0                     0.0   \n",
       "1716424                  0.0                   0.0                     0.0   \n",
       "1716425                  NaN                   NaN                     0.0   \n",
       "1716426                  0.0                   0.0                     0.0   \n",
       "1716427                  0.0                   NaN                     0.0   \n",
       "\n",
       "             CREDIT_TYPE  DAYS_CREDIT_UPDATE   AMT_ANNUITY  \n",
       "0        Consumer credit                -131  15389.301249  \n",
       "1            Credit card                 -20  12379.794494  \n",
       "2        Consumer credit                 -16  15389.301249  \n",
       "3            Credit card                 -16  12379.794494  \n",
       "4        Consumer credit                 -21  15389.301249  \n",
       "...                  ...                 ...           ...  \n",
       "1716423        Microloan                 -19   7966.019973  \n",
       "1716424  Consumer credit               -2493  15389.301249  \n",
       "1716425  Consumer credit                -967  15389.301249  \n",
       "1716426  Consumer credit               -1508  15389.301249  \n",
       "1716427        Microloan                -387   7966.019973  \n",
       "\n",
       "[1712270 rows x 17 columns]"
      ]
     },
     "execution_count": 83,
     "metadata": {},
     "output_type": "execute_result"
    }
   ],
   "source": [
    "b[b['AMT_CREDIT_SUM_OVERDUE']==0]"
   ]
  },
  {
   "cell_type": "code",
   "execution_count": 84,
   "metadata": {},
   "outputs": [
    {
     "data": {
      "text/plain": [
       "3409"
      ]
     },
     "execution_count": 84,
     "metadata": {},
     "output_type": "execute_result"
    }
   ],
   "source": [
    "b['AMT_CREDIT_MAX_OVERDUE'] = np.where((b['AMT_CREDIT_MAX_OVERDUE'].isnull()) & (b['AMT_CREDIT_SUM_OVERDUE']==0.0), 0, b['AMT_CREDIT_MAX_OVERDUE'])\n",
    "b['AMT_CREDIT_MAX_OVERDUE'].isnull().sum()"
   ]
  },
  {
   "cell_type": "code",
   "execution_count": 85,
   "metadata": {},
   "outputs": [
    {
     "data": {
      "text/plain": [
       "0"
      ]
     },
     "execution_count": 85,
     "metadata": {},
     "output_type": "execute_result"
    }
   ],
   "source": [
    "b['AMT_CREDIT_MAX_OVERDUE'] = np.where(b['AMT_CREDIT_MAX_OVERDUE'].isnull(), b['AMT_CREDIT_MAX_OVERDUE'].mean(), b['AMT_CREDIT_MAX_OVERDUE'])\n",
    "b['AMT_CREDIT_MAX_OVERDUE'].isnull().sum()"
   ]
  },
  {
   "cell_type": "markdown",
   "metadata": {},
   "source": [
    "#### DAYS_ENDDATE_FACT"
   ]
  },
  {
   "cell_type": "code",
   "execution_count": 86,
   "metadata": {},
   "outputs": [
    {
     "data": {
      "text/plain": [
       "DAYS_ENDDATE_FACT\n",
       " NaN       633653\n",
       "-329.0        811\n",
       "-273.0        794\n",
       "-301.0        791\n",
       "-91.0         785\n",
       "            ...  \n",
       "-2905.0         1\n",
       "-2898.0         1\n",
       "-2900.0         1\n",
       "-2922.0         1\n",
       "-2891.0         1\n",
       "Name: count, Length: 2918, dtype: int64"
      ]
     },
     "execution_count": 86,
     "metadata": {},
     "output_type": "execute_result"
    }
   ],
   "source": [
    "b['DAYS_ENDDATE_FACT'].value_counts(dropna=False)"
   ]
  },
  {
   "cell_type": "code",
   "execution_count": 87,
   "metadata": {},
   "outputs": [
    {
     "data": {
      "text/plain": [
       "0"
      ]
     },
     "execution_count": 87,
     "metadata": {},
     "output_type": "execute_result"
    }
   ],
   "source": [
    "b['DAYS_ENDDATE_FACT'] = np.where(b['DAYS_ENDDATE_FACT'].isnull, b['DAYS_CREDIT_UPDATE'], b['DAYS_ENDDATE_FACT'])\n",
    "b['DAYS_ENDDATE_FACT'].isnull().sum()"
   ]
  },
  {
   "cell_type": "markdown",
   "metadata": {},
   "source": [
    "#### AMT_CREDIT_SUM_LIMIT"
   ]
  },
  {
   "cell_type": "code",
   "execution_count": 88,
   "metadata": {},
   "outputs": [
    {
     "data": {
      "text/plain": [
       "AMT_CREDIT_SUM_LIMIT\n",
       "0.000          1050142\n",
       "NaN             591780\n",
       "135000.000        2178\n",
       "4500.000          1474\n",
       "45000.000         1335\n",
       "                ...   \n",
       "275075.100           1\n",
       "20639.160            1\n",
       "49464.000            1\n",
       "1004866.920          1\n",
       "135035.865           1\n",
       "Name: count, Length: 51727, dtype: int64"
      ]
     },
     "execution_count": 88,
     "metadata": {},
     "output_type": "execute_result"
    }
   ],
   "source": [
    "b['AMT_CREDIT_SUM_LIMIT'].value_counts(dropna=False)"
   ]
  },
  {
   "cell_type": "code",
   "execution_count": 89,
   "metadata": {},
   "outputs": [
    {
     "data": {
      "text/html": [
       "<div>\n",
       "<style scoped>\n",
       "    .dataframe tbody tr th:only-of-type {\n",
       "        vertical-align: middle;\n",
       "    }\n",
       "\n",
       "    .dataframe tbody tr th {\n",
       "        vertical-align: top;\n",
       "    }\n",
       "\n",
       "    .dataframe thead th {\n",
       "        text-align: right;\n",
       "    }\n",
       "</style>\n",
       "<table border=\"1\" class=\"dataframe\">\n",
       "  <thead>\n",
       "    <tr style=\"text-align: right;\">\n",
       "      <th></th>\n",
       "      <th>AMT_CREDIT_SUM_LIMIT</th>\n",
       "      <th>AMT_CREDIT_SUM_DEBT</th>\n",
       "      <th>AMT_CREDIT_SUM</th>\n",
       "    </tr>\n",
       "  </thead>\n",
       "  <tbody>\n",
       "    <tr>\n",
       "      <th>6</th>\n",
       "      <td>0.0</td>\n",
       "      <td>42103.8</td>\n",
       "      <td>42103.80</td>\n",
       "    </tr>\n",
       "    <tr>\n",
       "      <th>7</th>\n",
       "      <td>0.0</td>\n",
       "      <td>0.0</td>\n",
       "      <td>76878.45</td>\n",
       "    </tr>\n",
       "    <tr>\n",
       "      <th>8</th>\n",
       "      <td>0.0</td>\n",
       "      <td>0.0</td>\n",
       "      <td>103007.70</td>\n",
       "    </tr>\n",
       "    <tr>\n",
       "      <th>9</th>\n",
       "      <td>0.0</td>\n",
       "      <td>0.0</td>\n",
       "      <td>4500.00</td>\n",
       "    </tr>\n",
       "    <tr>\n",
       "      <th>10</th>\n",
       "      <td>0.0</td>\n",
       "      <td>0.0</td>\n",
       "      <td>337500.00</td>\n",
       "    </tr>\n",
       "    <tr>\n",
       "      <th>...</th>\n",
       "      <td>...</td>\n",
       "      <td>...</td>\n",
       "      <td>...</td>\n",
       "    </tr>\n",
       "    <tr>\n",
       "      <th>1716419</th>\n",
       "      <td>0.0</td>\n",
       "      <td>0.0</td>\n",
       "      <td>28248.84</td>\n",
       "    </tr>\n",
       "    <tr>\n",
       "      <th>1716420</th>\n",
       "      <td>0.0</td>\n",
       "      <td>0.0</td>\n",
       "      <td>27000.00</td>\n",
       "    </tr>\n",
       "    <tr>\n",
       "      <th>1716423</th>\n",
       "      <td>0.0</td>\n",
       "      <td>11250.0</td>\n",
       "      <td>11250.00</td>\n",
       "    </tr>\n",
       "    <tr>\n",
       "      <th>1716424</th>\n",
       "      <td>0.0</td>\n",
       "      <td>0.0</td>\n",
       "      <td>38130.84</td>\n",
       "    </tr>\n",
       "    <tr>\n",
       "      <th>1716426</th>\n",
       "      <td>0.0</td>\n",
       "      <td>0.0</td>\n",
       "      <td>36000.00</td>\n",
       "    </tr>\n",
       "  </tbody>\n",
       "</table>\n",
       "<p>1050142 rows × 3 columns</p>\n",
       "</div>"
      ],
      "text/plain": [
       "         AMT_CREDIT_SUM_LIMIT  AMT_CREDIT_SUM_DEBT  AMT_CREDIT_SUM\n",
       "6                         0.0              42103.8        42103.80\n",
       "7                         0.0                  0.0        76878.45\n",
       "8                         0.0                  0.0       103007.70\n",
       "9                         0.0                  0.0         4500.00\n",
       "10                        0.0                  0.0       337500.00\n",
       "...                       ...                  ...             ...\n",
       "1716419                   0.0                  0.0        28248.84\n",
       "1716420                   0.0                  0.0        27000.00\n",
       "1716423                   0.0              11250.0        11250.00\n",
       "1716424                   0.0                  0.0        38130.84\n",
       "1716426                   0.0                  0.0        36000.00\n",
       "\n",
       "[1050142 rows x 3 columns]"
      ]
     },
     "execution_count": 89,
     "metadata": {},
     "output_type": "execute_result"
    }
   ],
   "source": [
    "b[b['AMT_CREDIT_SUM_LIMIT']==0.0][['AMT_CREDIT_SUM_LIMIT', 'AMT_CREDIT_SUM_DEBT', 'AMT_CREDIT_SUM']]"
   ]
  },
  {
   "cell_type": "code",
   "execution_count": 90,
   "metadata": {},
   "outputs": [
    {
     "data": {
      "text/plain": [
       "584055"
      ]
     },
     "execution_count": 90,
     "metadata": {},
     "output_type": "execute_result"
    }
   ],
   "source": [
    "b['AMT_CREDIT_SUM_LIMIT'] = np.where((b['AMT_CREDIT_SUM_LIMIT'].isnull()) & (b['AMT_CREDIT_SUM_DEBT']==0.0) & (b['AMT_CREDIT_SUM']==0.0), 0.0, b['AMT_CREDIT_SUM_LIMIT'])\n",
    "b['AMT_CREDIT_SUM_LIMIT'].isnull().sum()"
   ]
  },
  {
   "cell_type": "code",
   "execution_count": 91,
   "metadata": {},
   "outputs": [
    {
     "data": {
      "text/plain": [
       "582076"
      ]
     },
     "execution_count": 91,
     "metadata": {},
     "output_type": "execute_result"
    }
   ],
   "source": [
    "b['AMT_CREDIT_SUM_LIMIT'] = np.where((b['AMT_CREDIT_SUM_LIMIT'].isnull()) & (b['AMT_CREDIT_SUM'] == b['AMT_CREDIT_SUM_DEBT']), 0.0, b['AMT_CREDIT_SUM_LIMIT'])\n",
    "b['AMT_CREDIT_SUM_LIMIT'].isnull().sum()"
   ]
  },
  {
   "cell_type": "code",
   "execution_count": 92,
   "metadata": {},
   "outputs": [
    {
     "data": {
      "text/plain": [
       "53179"
      ]
     },
     "execution_count": 92,
     "metadata": {},
     "output_type": "execute_result"
    }
   ],
   "source": [
    "b['AMT_CREDIT_SUM_LIMIT'] = b.groupby('SK_ID_CURR')['AMT_CREDIT_SUM_LIMIT'].transform(lambda x: x.fillna(x.mean()))\n",
    "b['AMT_CREDIT_SUM_LIMIT'].isnull().sum()"
   ]
  },
  {
   "cell_type": "code",
   "execution_count": 93,
   "metadata": {},
   "outputs": [
    {
     "data": {
      "text/plain": [
       "0"
      ]
     },
     "execution_count": 93,
     "metadata": {},
     "output_type": "execute_result"
    }
   ],
   "source": [
    "b['AMT_CREDIT_SUM_LIMIT'] = np.where(b['AMT_CREDIT_SUM_LIMIT'].isnull(), b['AMT_CREDIT_SUM_LIMIT'].median(), b['AMT_CREDIT_SUM_LIMIT'])\n",
    "b['AMT_CREDIT_SUM_LIMIT'].isnull().sum()\n"
   ]
  },
  {
   "cell_type": "markdown",
   "metadata": {},
   "source": [
    "#### AMT_CREDIT_SUM_DEBT"
   ]
  },
  {
   "cell_type": "code",
   "execution_count": 94,
   "metadata": {},
   "outputs": [
    {
     "data": {
      "text/plain": [
       "AMT_CREDIT_SUM_DEBT\n",
       " 0.000          1016434\n",
       " NaN             257669\n",
       " 4.500              653\n",
       "-450.000            543\n",
       " 135000.000         344\n",
       "                 ...   \n",
       " 1396746.000          1\n",
       " 650376.000           1\n",
       " 477810.000           1\n",
       " 312660.765           1\n",
       " 1092226.500          1\n",
       "Name: count, Length: 226538, dtype: int64"
      ]
     },
     "execution_count": 94,
     "metadata": {},
     "output_type": "execute_result"
    }
   ],
   "source": [
    "b['AMT_CREDIT_SUM_DEBT'].value_counts(dropna=False)"
   ]
  },
  {
   "cell_type": "code",
   "execution_count": 95,
   "metadata": {},
   "outputs": [
    {
     "data": {
      "text/html": [
       "<div>\n",
       "<style scoped>\n",
       "    .dataframe tbody tr th:only-of-type {\n",
       "        vertical-align: middle;\n",
       "    }\n",
       "\n",
       "    .dataframe tbody tr th {\n",
       "        vertical-align: top;\n",
       "    }\n",
       "\n",
       "    .dataframe thead th {\n",
       "        text-align: right;\n",
       "    }\n",
       "</style>\n",
       "<table border=\"1\" class=\"dataframe\">\n",
       "  <thead>\n",
       "    <tr style=\"text-align: right;\">\n",
       "      <th></th>\n",
       "      <th>AMT_CREDIT_SUM_LIMIT</th>\n",
       "      <th>AMT_CREDIT_SUM_DEBT</th>\n",
       "      <th>AMT_CREDIT_SUM</th>\n",
       "    </tr>\n",
       "  </thead>\n",
       "  <tbody>\n",
       "    <tr>\n",
       "      <th>0</th>\n",
       "      <td>36327.54</td>\n",
       "      <td>0.0</td>\n",
       "      <td>91323.00</td>\n",
       "    </tr>\n",
       "    <tr>\n",
       "      <th>7</th>\n",
       "      <td>0.00</td>\n",
       "      <td>0.0</td>\n",
       "      <td>76878.45</td>\n",
       "    </tr>\n",
       "    <tr>\n",
       "      <th>8</th>\n",
       "      <td>0.00</td>\n",
       "      <td>0.0</td>\n",
       "      <td>103007.70</td>\n",
       "    </tr>\n",
       "    <tr>\n",
       "      <th>9</th>\n",
       "      <td>0.00</td>\n",
       "      <td>0.0</td>\n",
       "      <td>4500.00</td>\n",
       "    </tr>\n",
       "    <tr>\n",
       "      <th>10</th>\n",
       "      <td>0.00</td>\n",
       "      <td>0.0</td>\n",
       "      <td>337500.00</td>\n",
       "    </tr>\n",
       "    <tr>\n",
       "      <th>...</th>\n",
       "      <td>...</td>\n",
       "      <td>...</td>\n",
       "      <td>...</td>\n",
       "    </tr>\n",
       "    <tr>\n",
       "      <th>1716421</th>\n",
       "      <td>0.00</td>\n",
       "      <td>0.0</td>\n",
       "      <td>195408.00</td>\n",
       "    </tr>\n",
       "    <tr>\n",
       "      <th>1716422</th>\n",
       "      <td>0.00</td>\n",
       "      <td>0.0</td>\n",
       "      <td>202500.00</td>\n",
       "    </tr>\n",
       "    <tr>\n",
       "      <th>1716424</th>\n",
       "      <td>0.00</td>\n",
       "      <td>0.0</td>\n",
       "      <td>38130.84</td>\n",
       "    </tr>\n",
       "    <tr>\n",
       "      <th>1716426</th>\n",
       "      <td>0.00</td>\n",
       "      <td>0.0</td>\n",
       "      <td>36000.00</td>\n",
       "    </tr>\n",
       "    <tr>\n",
       "      <th>1716427</th>\n",
       "      <td>0.00</td>\n",
       "      <td>0.0</td>\n",
       "      <td>22500.00</td>\n",
       "    </tr>\n",
       "  </tbody>\n",
       "</table>\n",
       "<p>1016434 rows × 3 columns</p>\n",
       "</div>"
      ],
      "text/plain": [
       "         AMT_CREDIT_SUM_LIMIT  AMT_CREDIT_SUM_DEBT  AMT_CREDIT_SUM\n",
       "0                    36327.54                  0.0        91323.00\n",
       "7                        0.00                  0.0        76878.45\n",
       "8                        0.00                  0.0       103007.70\n",
       "9                        0.00                  0.0         4500.00\n",
       "10                       0.00                  0.0       337500.00\n",
       "...                       ...                  ...             ...\n",
       "1716421                  0.00                  0.0       195408.00\n",
       "1716422                  0.00                  0.0       202500.00\n",
       "1716424                  0.00                  0.0        38130.84\n",
       "1716426                  0.00                  0.0        36000.00\n",
       "1716427                  0.00                  0.0        22500.00\n",
       "\n",
       "[1016434 rows x 3 columns]"
      ]
     },
     "execution_count": 95,
     "metadata": {},
     "output_type": "execute_result"
    }
   ],
   "source": [
    "b[b['AMT_CREDIT_SUM_DEBT']==0][['AMT_CREDIT_SUM_LIMIT', 'AMT_CREDIT_SUM_DEBT', 'AMT_CREDIT_SUM']]"
   ]
  },
  {
   "cell_type": "code",
   "execution_count": 96,
   "metadata": {},
   "outputs": [
    {
     "data": {
      "text/plain": [
       "55657"
      ]
     },
     "execution_count": 96,
     "metadata": {},
     "output_type": "execute_result"
    }
   ],
   "source": [
    "b['AMT_CREDIT_SUM_DEBT'] = np.where((b['AMT_CREDIT_SUM_DEBT'].isnull()) & (b['AMT_CREDIT_SUM_LIMIT']==0.00), 0.0, b['AMT_CREDIT_SUM_DEBT'])\n",
    "b['AMT_CREDIT_SUM_DEBT'].isnull().sum()"
   ]
  },
  {
   "cell_type": "code",
   "execution_count": 97,
   "metadata": {},
   "outputs": [
    {
     "data": {
      "text/html": [
       "<div>\n",
       "<style scoped>\n",
       "    .dataframe tbody tr th:only-of-type {\n",
       "        vertical-align: middle;\n",
       "    }\n",
       "\n",
       "    .dataframe tbody tr th {\n",
       "        vertical-align: top;\n",
       "    }\n",
       "\n",
       "    .dataframe thead th {\n",
       "        text-align: right;\n",
       "    }\n",
       "</style>\n",
       "<table border=\"1\" class=\"dataframe\">\n",
       "  <thead>\n",
       "    <tr style=\"text-align: right;\">\n",
       "      <th></th>\n",
       "      <th>AMT_CREDIT_SUM_LIMIT</th>\n",
       "      <th>AMT_CREDIT_SUM_DEBT</th>\n",
       "      <th>AMT_CREDIT_SUM</th>\n",
       "    </tr>\n",
       "  </thead>\n",
       "  <tbody>\n",
       "    <tr>\n",
       "      <th>1</th>\n",
       "      <td>36327.540</td>\n",
       "      <td>171342.00</td>\n",
       "      <td>225000.0</td>\n",
       "    </tr>\n",
       "    <tr>\n",
       "      <th>5</th>\n",
       "      <td>108982.620</td>\n",
       "      <td>71017.38</td>\n",
       "      <td>180000.0</td>\n",
       "    </tr>\n",
       "    <tr>\n",
       "      <th>6</th>\n",
       "      <td>0.000</td>\n",
       "      <td>42103.80</td>\n",
       "      <td>42103.8</td>\n",
       "    </tr>\n",
       "    <tr>\n",
       "      <th>13</th>\n",
       "      <td>0.000</td>\n",
       "      <td>76905.00</td>\n",
       "      <td>89910.0</td>\n",
       "    </tr>\n",
       "    <tr>\n",
       "      <th>17</th>\n",
       "      <td>57080.025</td>\n",
       "      <td>520920.00</td>\n",
       "      <td>450000.0</td>\n",
       "    </tr>\n",
       "    <tr>\n",
       "      <th>...</th>\n",
       "      <td>...</td>\n",
       "      <td>...</td>\n",
       "      <td>...</td>\n",
       "    </tr>\n",
       "    <tr>\n",
       "      <th>1716403</th>\n",
       "      <td>0.000</td>\n",
       "      <td>1092226.50</td>\n",
       "      <td>1431000.0</td>\n",
       "    </tr>\n",
       "    <tr>\n",
       "      <th>1716404</th>\n",
       "      <td>0.000</td>\n",
       "      <td>432787.50</td>\n",
       "      <td>450000.0</td>\n",
       "    </tr>\n",
       "    <tr>\n",
       "      <th>1716412</th>\n",
       "      <td>0.000</td>\n",
       "      <td>10971.00</td>\n",
       "      <td>225000.0</td>\n",
       "    </tr>\n",
       "    <tr>\n",
       "      <th>1716417</th>\n",
       "      <td>75150.000</td>\n",
       "      <td>2466.00</td>\n",
       "      <td>67500.0</td>\n",
       "    </tr>\n",
       "    <tr>\n",
       "      <th>1716423</th>\n",
       "      <td>0.000</td>\n",
       "      <td>11250.00</td>\n",
       "      <td>11250.0</td>\n",
       "    </tr>\n",
       "  </tbody>\n",
       "</table>\n",
       "<p>433881 rows × 3 columns</p>\n",
       "</div>"
      ],
      "text/plain": [
       "         AMT_CREDIT_SUM_LIMIT  AMT_CREDIT_SUM_DEBT  AMT_CREDIT_SUM\n",
       "1                   36327.540            171342.00        225000.0\n",
       "5                  108982.620             71017.38        180000.0\n",
       "6                       0.000             42103.80         42103.8\n",
       "13                      0.000             76905.00         89910.0\n",
       "17                  57080.025            520920.00        450000.0\n",
       "...                       ...                  ...             ...\n",
       "1716403                 0.000           1092226.50       1431000.0\n",
       "1716404                 0.000            432787.50        450000.0\n",
       "1716412                 0.000             10971.00        225000.0\n",
       "1716417             75150.000              2466.00         67500.0\n",
       "1716423                 0.000             11250.00         11250.0\n",
       "\n",
       "[433881 rows x 3 columns]"
      ]
     },
     "execution_count": 97,
     "metadata": {},
     "output_type": "execute_result"
    }
   ],
   "source": [
    "b[b['AMT_CREDIT_SUM_DEBT']>1][['AMT_CREDIT_SUM_LIMIT', 'AMT_CREDIT_SUM_DEBT', 'AMT_CREDIT_SUM']]"
   ]
  },
  {
   "cell_type": "code",
   "execution_count": 98,
   "metadata": {},
   "outputs": [
    {
     "data": {
      "text/plain": [
       "0"
      ]
     },
     "execution_count": 98,
     "metadata": {},
     "output_type": "execute_result"
    }
   ],
   "source": [
    "b['AMT_CREDIT_SUM_DEBT'] = np.where(b['AMT_CREDIT_SUM_DEBT'].isnull(), b['AMT_CREDIT_SUM_DEBT'].mean(), b['AMT_CREDIT_SUM_DEBT'])\n",
    "b['AMT_CREDIT_SUM_DEBT'].isnull().sum()"
   ]
  },
  {
   "cell_type": "markdown",
   "metadata": {},
   "source": [
    "#### DAYS_CREDIT_ENDDATE"
   ]
  },
  {
   "cell_type": "code",
   "execution_count": 99,
   "metadata": {},
   "outputs": [
    {
     "data": {
      "text/plain": [
       "DAYS_CREDIT_ENDDATE\n",
       " NaN       105553\n",
       " 0.0          883\n",
       " 3.0          845\n",
       "-7.0          837\n",
       " 1.0          830\n",
       "            ...  \n",
       " 3827.0         1\n",
       " 5585.0         1\n",
       " 5833.0         1\n",
       " 7277.0         1\n",
       " 5650.0         1\n",
       "Name: count, Length: 14097, dtype: int64"
      ]
     },
     "execution_count": 99,
     "metadata": {},
     "output_type": "execute_result"
    }
   ],
   "source": [
    "b['DAYS_CREDIT_ENDDATE'].value_counts(dropna=False)"
   ]
  },
  {
   "cell_type": "code",
   "execution_count": 100,
   "metadata": {},
   "outputs": [
    {
     "data": {
      "text/plain": [
       "-42060.0"
      ]
     },
     "execution_count": 100,
     "metadata": {},
     "output_type": "execute_result"
    }
   ],
   "source": [
    "b['DAYS_CREDIT_ENDDATE'].min()"
   ]
  },
  {
   "cell_type": "code",
   "execution_count": 101,
   "metadata": {},
   "outputs": [
    {
     "data": {
      "image/png": "[encoded data removed]",
      "text/plain": [
       "<Figure size 640x480 with 1 Axes>"
      ]
     },
     "metadata": {},
     "output_type": "display_data"
    }
   ],
   "source": [
    "plt.hist(b['DAYS_CREDIT_ENDDATE'], bins=1000);"
   ]
  },
  {
   "cell_type": "code",
   "execution_count": 102,
   "metadata": {},
   "outputs": [
    {
     "data": {
      "text/plain": [
       "510.51736230309615"
      ]
     },
     "execution_count": 102,
     "metadata": {},
     "output_type": "execute_result"
    }
   ],
   "source": [
    "b['DAYS_CREDIT_ENDDATE'].mean()"
   ]
  },
  {
   "cell_type": "code",
   "execution_count": 103,
   "metadata": {},
   "outputs": [
    {
     "data": {
      "text/plain": [
       "-330.0"
      ]
     },
     "execution_count": 103,
     "metadata": {},
     "output_type": "execute_result"
    }
   ],
   "source": [
    "b['DAYS_CREDIT_ENDDATE'].median()"
   ]
  },
  {
   "cell_type": "code",
   "execution_count": 104,
   "metadata": {},
   "outputs": [
    {
     "data": {
      "text/plain": [
       "0"
      ]
     },
     "execution_count": 104,
     "metadata": {},
     "output_type": "execute_result"
    }
   ],
   "source": [
    "b['DAYS_CREDIT_ENDDATE'] = np.where(b['DAYS_CREDIT_ENDDATE'].isnull(), b['DAYS_CREDIT_UPDATE'], b['DAYS_CREDIT_ENDDATE'])\n",
    "b['DAYS_CREDIT_ENDDATE'].isnull().sum()"
   ]
  },
  {
   "cell_type": "markdown",
   "metadata": {},
   "source": [
    "#### AMT_CREDIT_SUM"
   ]
  },
  {
   "cell_type": "code",
   "execution_count": 105,
   "metadata": {},
   "outputs": [
    {
     "data": {
      "text/plain": [
       "AMT_CREDIT_SUM\n",
       "0.000         66582\n",
       "225000.000    57608\n",
       "135000.000    50195\n",
       "450000.000    37156\n",
       "90000.000     36940\n",
       "              ...  \n",
       "18915.030         1\n",
       "167026.095        1\n",
       "57044.250         1\n",
       "69295.410         1\n",
       "108765.720        1\n",
       "Name: count, Length: 236709, dtype: int64"
      ]
     },
     "execution_count": 105,
     "metadata": {},
     "output_type": "execute_result"
    }
   ],
   "source": [
    "b['AMT_CREDIT_SUM'].value_counts(dropna=False)"
   ]
  },
  {
   "cell_type": "code",
   "execution_count": 106,
   "metadata": {},
   "outputs": [
    {
     "data": {
      "text/plain": [
       "0"
      ]
     },
     "execution_count": 106,
     "metadata": {},
     "output_type": "execute_result"
    }
   ],
   "source": [
    "b['AMT_CREDIT_SUM'] = np.where(b['AMT_CREDIT_SUM'].isnull(), b['AMT_CREDIT_SUM'].mean(), b['AMT_CREDIT_SUM'])\n",
    "b['AMT_CREDIT_SUM'].isnull().sum()"
   ]
  },
  {
   "cell_type": "code",
   "execution_count": 107,
   "metadata": {},
   "outputs": [
    {
     "data": {
      "text/plain": [
       "SK_ID_CURR                0\n",
       "SK_ID_BUREAU              0\n",
       "CREDIT_ACTIVE             0\n",
       "CREDIT_CURRENCY           0\n",
       "DAYS_CREDIT               0\n",
       "CREDIT_DAY_OVERDUE        0\n",
       "DAYS_CREDIT_ENDDATE       0\n",
       "DAYS_ENDDATE_FACT         0\n",
       "AMT_CREDIT_MAX_OVERDUE    0\n",
       "CNT_CREDIT_PROLONG        0\n",
       "AMT_CREDIT_SUM            0\n",
       "AMT_CREDIT_SUM_DEBT       0\n",
       "AMT_CREDIT_SUM_LIMIT      0\n",
       "AMT_CREDIT_SUM_OVERDUE    0\n",
       "CREDIT_TYPE               0\n",
       "DAYS_CREDIT_UPDATE        0\n",
       "AMT_ANNUITY               0\n",
       "dtype: int64"
      ]
     },
     "execution_count": 107,
     "metadata": {},
     "output_type": "execute_result"
    }
   ],
   "source": [
    "b.isnull().sum()"
   ]
  },
  {
   "cell_type": "markdown",
   "metadata": {},
   "source": [
    "### Feature Engineering"
   ]
  },
  {
   "cell_type": "code",
   "execution_count": 108,
   "metadata": {},
   "outputs": [
    {
     "name": "stdout",
     "output_type": "stream",
     "text": [
      "<class 'pandas.core.frame.DataFrame'>\n",
      "RangeIndex: 1716428 entries, 0 to 1716427\n",
      "Data columns (total 17 columns):\n",
      " #   Column                  Dtype  \n",
      "---  ------                  -----  \n",
      " 0   SK_ID_CURR              int64  \n",
      " 1   SK_ID_BUREAU            int64  \n",
      " 2   CREDIT_ACTIVE           object \n",
      " 3   CREDIT_CURRENCY         object \n",
      " 4   DAYS_CREDIT             int64  \n",
      " 5   CREDIT_DAY_OVERDUE      int64  \n",
      " 6   DAYS_CREDIT_ENDDATE     float64\n",
      " 7   DAYS_ENDDATE_FACT       float64\n",
      " 8   AMT_CREDIT_MAX_OVERDUE  float64\n",
      " 9   CNT_CREDIT_PROLONG      int64  \n",
      " 10  AMT_CREDIT_SUM          float64\n",
      " 11  AMT_CREDIT_SUM_DEBT     float64\n",
      " 12  AMT_CREDIT_SUM_LIMIT    float64\n",
      " 13  AMT_CREDIT_SUM_OVERDUE  float64\n",
      " 14  CREDIT_TYPE             object \n",
      " 15  DAYS_CREDIT_UPDATE      int64  \n",
      " 16  AMT_ANNUITY             float64\n",
      "dtypes: float64(8), int64(6), object(3)\n",
      "memory usage: 222.6+ MB\n"
     ]
    }
   ],
   "source": [
    "b.info()"
   ]
  },
  {
   "cell_type": "markdown",
   "metadata": {},
   "source": [
    "### Groupby SK_ID_CURR"
   ]
  },
  {
   "cell_type": "code",
   "execution_count": 109,
   "metadata": {},
   "outputs": [],
   "source": [
    "b = b[['SK_ID_BUREAU', 'SK_ID_CURR', 'CREDIT_ACTIVE','CREDIT_TYPE', 'CREDIT_DAY_OVERDUE', 'AMT_CREDIT_MAX_OVERDUE', 'CNT_CREDIT_PROLONG', 'AMT_CREDIT_SUM', 'AMT_CREDIT_SUM_DEBT', 'AMT_CREDIT_SUM_LIMIT', 'AMT_CREDIT_SUM_OVERDUE']]"
   ]
  },
  {
   "cell_type": "code",
   "execution_count": 110,
   "metadata": {},
   "outputs": [
    {
     "data": {
      "text/html": [
       "<div>\n",
       "<style scoped>\n",
       "    .dataframe tbody tr th:only-of-type {\n",
       "        vertical-align: middle;\n",
       "    }\n",
       "\n",
       "    .dataframe tbody tr th {\n",
       "        vertical-align: top;\n",
       "    }\n",
       "\n",
       "    .dataframe thead th {\n",
       "        text-align: right;\n",
       "    }\n",
       "</style>\n",
       "<table border=\"1\" class=\"dataframe\">\n",
       "  <thead>\n",
       "    <tr style=\"text-align: right;\">\n",
       "      <th></th>\n",
       "      <th>SK_ID_CURR</th>\n",
       "      <th>CREDIT_ACTIVE</th>\n",
       "      <th>CREDIT_TYPE</th>\n",
       "      <th>CNT_CREDIT_PROLONG</th>\n",
       "      <th>CREDIT_DAY_OVERDUE</th>\n",
       "      <th>AMT_CREDIT_MAX_OVERDUE</th>\n",
       "      <th>AMT_CREDIT_SUM</th>\n",
       "      <th>AMT_CREDIT_SUM_DEBT</th>\n",
       "      <th>AMT_CREDIT_SUM_LIMIT</th>\n",
       "      <th>AMT_CREDIT_SUM_OVERDUE</th>\n",
       "    </tr>\n",
       "  </thead>\n",
       "  <tbody>\n",
       "    <tr>\n",
       "      <th>0</th>\n",
       "      <td>100001</td>\n",
       "      <td>Closed</td>\n",
       "      <td>Consumer credit</td>\n",
       "      <td>0.000000</td>\n",
       "      <td>0.0</td>\n",
       "      <td>0.000000</td>\n",
       "      <td>2.076236e+05</td>\n",
       "      <td>85240.928571</td>\n",
       "      <td>0.000</td>\n",
       "      <td>0.0</td>\n",
       "    </tr>\n",
       "    <tr>\n",
       "      <th>1</th>\n",
       "      <td>100002</td>\n",
       "      <td>Closed</td>\n",
       "      <td>Consumer credit</td>\n",
       "      <td>0.000000</td>\n",
       "      <td>0.0</td>\n",
       "      <td>1050.643125</td>\n",
       "      <td>1.081319e+05</td>\n",
       "      <td>75876.536759</td>\n",
       "      <td>6397.713</td>\n",
       "      <td>0.0</td>\n",
       "    </tr>\n",
       "    <tr>\n",
       "      <th>2</th>\n",
       "      <td>100003</td>\n",
       "      <td>Closed</td>\n",
       "      <td>Consumer credit</td>\n",
       "      <td>0.000000</td>\n",
       "      <td>0.0</td>\n",
       "      <td>0.000000</td>\n",
       "      <td>2.543501e+05</td>\n",
       "      <td>0.000000</td>\n",
       "      <td>202500.000</td>\n",
       "      <td>0.0</td>\n",
       "    </tr>\n",
       "    <tr>\n",
       "      <th>3</th>\n",
       "      <td>100004</td>\n",
       "      <td>Closed</td>\n",
       "      <td>Consumer credit</td>\n",
       "      <td>0.000000</td>\n",
       "      <td>0.0</td>\n",
       "      <td>0.000000</td>\n",
       "      <td>9.451890e+04</td>\n",
       "      <td>0.000000</td>\n",
       "      <td>0.000</td>\n",
       "      <td>0.0</td>\n",
       "    </tr>\n",
       "    <tr>\n",
       "      <th>4</th>\n",
       "      <td>100005</td>\n",
       "      <td>Active</td>\n",
       "      <td>Consumer credit</td>\n",
       "      <td>0.000000</td>\n",
       "      <td>0.0</td>\n",
       "      <td>0.000000</td>\n",
       "      <td>2.190420e+05</td>\n",
       "      <td>189469.500000</td>\n",
       "      <td>0.000</td>\n",
       "      <td>0.0</td>\n",
       "    </tr>\n",
       "    <tr>\n",
       "      <th>...</th>\n",
       "      <td>...</td>\n",
       "      <td>...</td>\n",
       "      <td>...</td>\n",
       "      <td>...</td>\n",
       "      <td>...</td>\n",
       "      <td>...</td>\n",
       "      <td>...</td>\n",
       "      <td>...</td>\n",
       "      <td>...</td>\n",
       "      <td>...</td>\n",
       "    </tr>\n",
       "    <tr>\n",
       "      <th>305806</th>\n",
       "      <td>456249</td>\n",
       "      <td>Closed</td>\n",
       "      <td>Consumer credit</td>\n",
       "      <td>0.000000</td>\n",
       "      <td>0.0</td>\n",
       "      <td>2364.230769</td>\n",
       "      <td>2.841430e+05</td>\n",
       "      <td>12543.923077</td>\n",
       "      <td>0.000</td>\n",
       "      <td>0.0</td>\n",
       "    </tr>\n",
       "    <tr>\n",
       "      <th>305807</th>\n",
       "      <td>456250</td>\n",
       "      <td>Active</td>\n",
       "      <td>Consumer credit</td>\n",
       "      <td>0.000000</td>\n",
       "      <td>0.0</td>\n",
       "      <td>0.000000</td>\n",
       "      <td>1.028820e+06</td>\n",
       "      <td>744013.365000</td>\n",
       "      <td>19422.795</td>\n",
       "      <td>0.0</td>\n",
       "    </tr>\n",
       "    <tr>\n",
       "      <th>305808</th>\n",
       "      <td>456253</td>\n",
       "      <td>Active</td>\n",
       "      <td>Consumer credit</td>\n",
       "      <td>0.000000</td>\n",
       "      <td>0.0</td>\n",
       "      <td>0.000000</td>\n",
       "      <td>9.900000e+05</td>\n",
       "      <td>448958.250000</td>\n",
       "      <td>0.000</td>\n",
       "      <td>0.0</td>\n",
       "    </tr>\n",
       "    <tr>\n",
       "      <th>305809</th>\n",
       "      <td>456254</td>\n",
       "      <td>Closed</td>\n",
       "      <td>Consumer credit</td>\n",
       "      <td>0.000000</td>\n",
       "      <td>0.0</td>\n",
       "      <td>0.000000</td>\n",
       "      <td>4.500000e+04</td>\n",
       "      <td>0.000000</td>\n",
       "      <td>0.000</td>\n",
       "      <td>0.0</td>\n",
       "    </tr>\n",
       "    <tr>\n",
       "      <th>305810</th>\n",
       "      <td>456255</td>\n",
       "      <td>Closed</td>\n",
       "      <td>Consumer credit</td>\n",
       "      <td>0.090909</td>\n",
       "      <td>0.0</td>\n",
       "      <td>5480.218636</td>\n",
       "      <td>3.456290e+05</td>\n",
       "      <td>139537.546364</td>\n",
       "      <td>0.000</td>\n",
       "      <td>0.0</td>\n",
       "    </tr>\n",
       "  </tbody>\n",
       "</table>\n",
       "<p>305811 rows × 10 columns</p>\n",
       "</div>"
      ],
      "text/plain": [
       "        SK_ID_CURR CREDIT_ACTIVE      CREDIT_TYPE  CNT_CREDIT_PROLONG  \\\n",
       "0           100001        Closed  Consumer credit            0.000000   \n",
       "1           100002        Closed  Consumer credit            0.000000   \n",
       "2           100003        Closed  Consumer credit            0.000000   \n",
       "3           100004        Closed  Consumer credit            0.000000   \n",
       "4           100005        Active  Consumer credit            0.000000   \n",
       "...            ...           ...              ...                 ...   \n",
       "305806      456249        Closed  Consumer credit            0.000000   \n",
       "305807      456250        Active  Consumer credit            0.000000   \n",
       "305808      456253        Active  Consumer credit            0.000000   \n",
       "305809      456254        Closed  Consumer credit            0.000000   \n",
       "305810      456255        Closed  Consumer credit            0.090909   \n",
       "\n",
       "        CREDIT_DAY_OVERDUE  AMT_CREDIT_MAX_OVERDUE  AMT_CREDIT_SUM  \\\n",
       "0                      0.0                0.000000    2.076236e+05   \n",
       "1                      0.0             1050.643125    1.081319e+05   \n",
       "2                      0.0                0.000000    2.543501e+05   \n",
       "3                      0.0                0.000000    9.451890e+04   \n",
       "4                      0.0                0.000000    2.190420e+05   \n",
       "...                    ...                     ...             ...   \n",
       "305806                 0.0             2364.230769    2.841430e+05   \n",
       "305807                 0.0                0.000000    1.028820e+06   \n",
       "305808                 0.0                0.000000    9.900000e+05   \n",
       "305809                 0.0                0.000000    4.500000e+04   \n",
       "305810                 0.0             5480.218636    3.456290e+05   \n",
       "\n",
       "        AMT_CREDIT_SUM_DEBT  AMT_CREDIT_SUM_LIMIT  AMT_CREDIT_SUM_OVERDUE  \n",
       "0              85240.928571                 0.000                     0.0  \n",
       "1              75876.536759              6397.713                     0.0  \n",
       "2                  0.000000            202500.000                     0.0  \n",
       "3                  0.000000                 0.000                     0.0  \n",
       "4             189469.500000                 0.000                     0.0  \n",
       "...                     ...                   ...                     ...  \n",
       "305806         12543.923077                 0.000                     0.0  \n",
       "305807        744013.365000             19422.795                     0.0  \n",
       "305808        448958.250000                 0.000                     0.0  \n",
       "305809             0.000000                 0.000                     0.0  \n",
       "305810        139537.546364                 0.000                     0.0  \n",
       "\n",
       "[305811 rows x 10 columns]"
      ]
     },
     "execution_count": 110,
     "metadata": {},
     "output_type": "execute_result"
    }
   ],
   "source": [
    "### Group by SK_ID_CURR and take the mean and mode of each feature\n",
    "\n",
    "mode_func = lambda x: x.mode().iloc[0]\n",
    "mean_func = 'mean'\n",
    "agg_funcs = {\n",
    "    'CREDIT_ACTIVE': mode_func,\n",
    "    'CREDIT_TYPE': mode_func,\n",
    "    'CNT_CREDIT_PROLONG': mean_func,\n",
    "    'CREDIT_DAY_OVERDUE': mean_func,\n",
    "    'AMT_CREDIT_MAX_OVERDUE': mean_func,\n",
    "    'AMT_CREDIT_SUM': mean_func,\n",
    "    'AMT_CREDIT_SUM_DEBT': mean_func,\n",
    "    'AMT_CREDIT_SUM_LIMIT': mean_func,\n",
    "    'AMT_CREDIT_SUM_OVERDUE': mean_func\n",
    "    }\n",
    "\n",
    "b = b.groupby('SK_ID_CURR').agg(agg_funcs).reset_index()\n",
    "b"
   ]
  },
  {
   "cell_type": "markdown",
   "metadata": {},
   "source": [
    "# Credit Card Balance"
   ]
  },
  {
   "cell_type": "code",
   "execution_count": 111,
   "metadata": {},
   "outputs": [
    {
     "data": {
      "text/html": [
       "<div>\n",
       "<style scoped>\n",
       "    .dataframe tbody tr th:only-of-type {\n",
       "        vertical-align: middle;\n",
       "    }\n",
       "\n",
       "    .dataframe tbody tr th {\n",
       "        vertical-align: top;\n",
       "    }\n",
       "\n",
       "    .dataframe thead th {\n",
       "        text-align: right;\n",
       "    }\n",
       "</style>\n",
       "<table border=\"1\" class=\"dataframe\">\n",
       "  <thead>\n",
       "    <tr style=\"text-align: right;\">\n",
       "      <th></th>\n",
       "      <th>SK_ID_PREV</th>\n",
       "      <th>SK_ID_CURR</th>\n",
       "      <th>MONTHS_BALANCE</th>\n",
       "      <th>AMT_BALANCE</th>\n",
       "      <th>AMT_CREDIT_LIMIT_ACTUAL</th>\n",
       "      <th>AMT_DRAWINGS_ATM_CURRENT</th>\n",
       "      <th>AMT_DRAWINGS_CURRENT</th>\n",
       "      <th>AMT_DRAWINGS_OTHER_CURRENT</th>\n",
       "      <th>AMT_DRAWINGS_POS_CURRENT</th>\n",
       "      <th>AMT_INST_MIN_REGULARITY</th>\n",
       "      <th>...</th>\n",
       "      <th>AMT_RECIVABLE</th>\n",
       "      <th>AMT_TOTAL_RECEIVABLE</th>\n",
       "      <th>CNT_DRAWINGS_ATM_CURRENT</th>\n",
       "      <th>CNT_DRAWINGS_CURRENT</th>\n",
       "      <th>CNT_DRAWINGS_OTHER_CURRENT</th>\n",
       "      <th>CNT_DRAWINGS_POS_CURRENT</th>\n",
       "      <th>CNT_INSTALMENT_MATURE_CUM</th>\n",
       "      <th>NAME_CONTRACT_STATUS</th>\n",
       "      <th>SK_DPD</th>\n",
       "      <th>SK_DPD_DEF</th>\n",
       "    </tr>\n",
       "  </thead>\n",
       "  <tbody>\n",
       "    <tr>\n",
       "      <th>0</th>\n",
       "      <td>2562384</td>\n",
       "      <td>378907</td>\n",
       "      <td>-6</td>\n",
       "      <td>56.970</td>\n",
       "      <td>135000</td>\n",
       "      <td>0.0</td>\n",
       "      <td>877.5</td>\n",
       "      <td>0.0</td>\n",
       "      <td>877.5</td>\n",
       "      <td>1700.325</td>\n",
       "      <td>...</td>\n",
       "      <td>0.000</td>\n",
       "      <td>0.000</td>\n",
       "      <td>0.0</td>\n",
       "      <td>1</td>\n",
       "      <td>0.0</td>\n",
       "      <td>1.0</td>\n",
       "      <td>35.0</td>\n",
       "      <td>Active</td>\n",
       "      <td>0</td>\n",
       "      <td>0</td>\n",
       "    </tr>\n",
       "    <tr>\n",
       "      <th>1</th>\n",
       "      <td>2582071</td>\n",
       "      <td>363914</td>\n",
       "      <td>-1</td>\n",
       "      <td>63975.555</td>\n",
       "      <td>45000</td>\n",
       "      <td>2250.0</td>\n",
       "      <td>2250.0</td>\n",
       "      <td>0.0</td>\n",
       "      <td>0.0</td>\n",
       "      <td>2250.000</td>\n",
       "      <td>...</td>\n",
       "      <td>64875.555</td>\n",
       "      <td>64875.555</td>\n",
       "      <td>1.0</td>\n",
       "      <td>1</td>\n",
       "      <td>0.0</td>\n",
       "      <td>0.0</td>\n",
       "      <td>69.0</td>\n",
       "      <td>Active</td>\n",
       "      <td>0</td>\n",
       "      <td>0</td>\n",
       "    </tr>\n",
       "    <tr>\n",
       "      <th>2</th>\n",
       "      <td>1740877</td>\n",
       "      <td>371185</td>\n",
       "      <td>-7</td>\n",
       "      <td>31815.225</td>\n",
       "      <td>450000</td>\n",
       "      <td>0.0</td>\n",
       "      <td>0.0</td>\n",
       "      <td>0.0</td>\n",
       "      <td>0.0</td>\n",
       "      <td>2250.000</td>\n",
       "      <td>...</td>\n",
       "      <td>31460.085</td>\n",
       "      <td>31460.085</td>\n",
       "      <td>0.0</td>\n",
       "      <td>0</td>\n",
       "      <td>0.0</td>\n",
       "      <td>0.0</td>\n",
       "      <td>30.0</td>\n",
       "      <td>Active</td>\n",
       "      <td>0</td>\n",
       "      <td>0</td>\n",
       "    </tr>\n",
       "    <tr>\n",
       "      <th>3</th>\n",
       "      <td>1389973</td>\n",
       "      <td>337855</td>\n",
       "      <td>-4</td>\n",
       "      <td>236572.110</td>\n",
       "      <td>225000</td>\n",
       "      <td>2250.0</td>\n",
       "      <td>2250.0</td>\n",
       "      <td>0.0</td>\n",
       "      <td>0.0</td>\n",
       "      <td>11795.760</td>\n",
       "      <td>...</td>\n",
       "      <td>233048.970</td>\n",
       "      <td>233048.970</td>\n",
       "      <td>1.0</td>\n",
       "      <td>1</td>\n",
       "      <td>0.0</td>\n",
       "      <td>0.0</td>\n",
       "      <td>10.0</td>\n",
       "      <td>Active</td>\n",
       "      <td>0</td>\n",
       "      <td>0</td>\n",
       "    </tr>\n",
       "    <tr>\n",
       "      <th>4</th>\n",
       "      <td>1891521</td>\n",
       "      <td>126868</td>\n",
       "      <td>-1</td>\n",
       "      <td>453919.455</td>\n",
       "      <td>450000</td>\n",
       "      <td>0.0</td>\n",
       "      <td>11547.0</td>\n",
       "      <td>0.0</td>\n",
       "      <td>11547.0</td>\n",
       "      <td>22924.890</td>\n",
       "      <td>...</td>\n",
       "      <td>453919.455</td>\n",
       "      <td>453919.455</td>\n",
       "      <td>0.0</td>\n",
       "      <td>1</td>\n",
       "      <td>0.0</td>\n",
       "      <td>1.0</td>\n",
       "      <td>101.0</td>\n",
       "      <td>Active</td>\n",
       "      <td>0</td>\n",
       "      <td>0</td>\n",
       "    </tr>\n",
       "    <tr>\n",
       "      <th>...</th>\n",
       "      <td>...</td>\n",
       "      <td>...</td>\n",
       "      <td>...</td>\n",
       "      <td>...</td>\n",
       "      <td>...</td>\n",
       "      <td>...</td>\n",
       "      <td>...</td>\n",
       "      <td>...</td>\n",
       "      <td>...</td>\n",
       "      <td>...</td>\n",
       "      <td>...</td>\n",
       "      <td>...</td>\n",
       "      <td>...</td>\n",
       "      <td>...</td>\n",
       "      <td>...</td>\n",
       "      <td>...</td>\n",
       "      <td>...</td>\n",
       "      <td>...</td>\n",
       "      <td>...</td>\n",
       "      <td>...</td>\n",
       "      <td>...</td>\n",
       "    </tr>\n",
       "    <tr>\n",
       "      <th>3840307</th>\n",
       "      <td>1036507</td>\n",
       "      <td>328243</td>\n",
       "      <td>-9</td>\n",
       "      <td>0.000</td>\n",
       "      <td>45000</td>\n",
       "      <td>NaN</td>\n",
       "      <td>0.0</td>\n",
       "      <td>NaN</td>\n",
       "      <td>NaN</td>\n",
       "      <td>0.000</td>\n",
       "      <td>...</td>\n",
       "      <td>0.000</td>\n",
       "      <td>0.000</td>\n",
       "      <td>NaN</td>\n",
       "      <td>0</td>\n",
       "      <td>NaN</td>\n",
       "      <td>NaN</td>\n",
       "      <td>0.0</td>\n",
       "      <td>Active</td>\n",
       "      <td>0</td>\n",
       "      <td>0</td>\n",
       "    </tr>\n",
       "    <tr>\n",
       "      <th>3840308</th>\n",
       "      <td>1714892</td>\n",
       "      <td>347207</td>\n",
       "      <td>-9</td>\n",
       "      <td>0.000</td>\n",
       "      <td>45000</td>\n",
       "      <td>0.0</td>\n",
       "      <td>0.0</td>\n",
       "      <td>0.0</td>\n",
       "      <td>0.0</td>\n",
       "      <td>0.000</td>\n",
       "      <td>...</td>\n",
       "      <td>0.000</td>\n",
       "      <td>0.000</td>\n",
       "      <td>0.0</td>\n",
       "      <td>0</td>\n",
       "      <td>0.0</td>\n",
       "      <td>0.0</td>\n",
       "      <td>23.0</td>\n",
       "      <td>Active</td>\n",
       "      <td>0</td>\n",
       "      <td>0</td>\n",
       "    </tr>\n",
       "    <tr>\n",
       "      <th>3840309</th>\n",
       "      <td>1302323</td>\n",
       "      <td>215757</td>\n",
       "      <td>-9</td>\n",
       "      <td>275784.975</td>\n",
       "      <td>585000</td>\n",
       "      <td>270000.0</td>\n",
       "      <td>270000.0</td>\n",
       "      <td>0.0</td>\n",
       "      <td>0.0</td>\n",
       "      <td>2250.000</td>\n",
       "      <td>...</td>\n",
       "      <td>273093.975</td>\n",
       "      <td>273093.975</td>\n",
       "      <td>2.0</td>\n",
       "      <td>2</td>\n",
       "      <td>0.0</td>\n",
       "      <td>0.0</td>\n",
       "      <td>18.0</td>\n",
       "      <td>Active</td>\n",
       "      <td>0</td>\n",
       "      <td>0</td>\n",
       "    </tr>\n",
       "    <tr>\n",
       "      <th>3840310</th>\n",
       "      <td>1624872</td>\n",
       "      <td>430337</td>\n",
       "      <td>-10</td>\n",
       "      <td>0.000</td>\n",
       "      <td>450000</td>\n",
       "      <td>NaN</td>\n",
       "      <td>0.0</td>\n",
       "      <td>NaN</td>\n",
       "      <td>NaN</td>\n",
       "      <td>0.000</td>\n",
       "      <td>...</td>\n",
       "      <td>0.000</td>\n",
       "      <td>0.000</td>\n",
       "      <td>NaN</td>\n",
       "      <td>0</td>\n",
       "      <td>NaN</td>\n",
       "      <td>NaN</td>\n",
       "      <td>0.0</td>\n",
       "      <td>Active</td>\n",
       "      <td>0</td>\n",
       "      <td>0</td>\n",
       "    </tr>\n",
       "    <tr>\n",
       "      <th>3840311</th>\n",
       "      <td>2411345</td>\n",
       "      <td>236760</td>\n",
       "      <td>-10</td>\n",
       "      <td>0.000</td>\n",
       "      <td>157500</td>\n",
       "      <td>0.0</td>\n",
       "      <td>0.0</td>\n",
       "      <td>0.0</td>\n",
       "      <td>0.0</td>\n",
       "      <td>0.000</td>\n",
       "      <td>...</td>\n",
       "      <td>0.000</td>\n",
       "      <td>0.000</td>\n",
       "      <td>0.0</td>\n",
       "      <td>0</td>\n",
       "      <td>0.0</td>\n",
       "      <td>0.0</td>\n",
       "      <td>21.0</td>\n",
       "      <td>Completed</td>\n",
       "      <td>0</td>\n",
       "      <td>0</td>\n",
       "    </tr>\n",
       "  </tbody>\n",
       "</table>\n",
       "<p>3840312 rows × 23 columns</p>\n",
       "</div>"
      ],
      "text/plain": [
       "         SK_ID_PREV  SK_ID_CURR  MONTHS_BALANCE  AMT_BALANCE  \\\n",
       "0           2562384      378907              -6       56.970   \n",
       "1           2582071      363914              -1    63975.555   \n",
       "2           1740877      371185              -7    31815.225   \n",
       "3           1389973      337855              -4   236572.110   \n",
       "4           1891521      126868              -1   453919.455   \n",
       "...             ...         ...             ...          ...   \n",
       "3840307     1036507      328243              -9        0.000   \n",
       "3840308     1714892      347207              -9        0.000   \n",
       "3840309     1302323      215757              -9   275784.975   \n",
       "3840310     1624872      430337             -10        0.000   \n",
       "3840311     2411345      236760             -10        0.000   \n",
       "\n",
       "         AMT_CREDIT_LIMIT_ACTUAL  AMT_DRAWINGS_ATM_CURRENT  \\\n",
       "0                         135000                       0.0   \n",
       "1                          45000                    2250.0   \n",
       "2                         450000                       0.0   \n",
       "3                         225000                    2250.0   \n",
       "4                         450000                       0.0   \n",
       "...                          ...                       ...   \n",
       "3840307                    45000                       NaN   \n",
       "3840308                    45000                       0.0   \n",
       "3840309                   585000                  270000.0   \n",
       "3840310                   450000                       NaN   \n",
       "3840311                   157500                       0.0   \n",
       "\n",
       "         AMT_DRAWINGS_CURRENT  AMT_DRAWINGS_OTHER_CURRENT  \\\n",
       "0                       877.5                         0.0   \n",
       "1                      2250.0                         0.0   \n",
       "2                         0.0                         0.0   \n",
       "3                      2250.0                         0.0   \n",
       "4                     11547.0                         0.0   \n",
       "...                       ...                         ...   \n",
       "3840307                   0.0                         NaN   \n",
       "3840308                   0.0                         0.0   \n",
       "3840309              270000.0                         0.0   \n",
       "3840310                   0.0                         NaN   \n",
       "3840311                   0.0                         0.0   \n",
       "\n",
       "         AMT_DRAWINGS_POS_CURRENT  AMT_INST_MIN_REGULARITY  ...  \\\n",
       "0                           877.5                 1700.325  ...   \n",
       "1                             0.0                 2250.000  ...   \n",
       "2                             0.0                 2250.000  ...   \n",
       "3                             0.0                11795.760  ...   \n",
       "4                         11547.0                22924.890  ...   \n",
       "...                           ...                      ...  ...   \n",
       "3840307                       NaN                    0.000  ...   \n",
       "3840308                       0.0                    0.000  ...   \n",
       "3840309                       0.0                 2250.000  ...   \n",
       "3840310                       NaN                    0.000  ...   \n",
       "3840311                       0.0                    0.000  ...   \n",
       "\n",
       "         AMT_RECIVABLE  AMT_TOTAL_RECEIVABLE  CNT_DRAWINGS_ATM_CURRENT  \\\n",
       "0                0.000                 0.000                       0.0   \n",
       "1            64875.555             64875.555                       1.0   \n",
       "2            31460.085             31460.085                       0.0   \n",
       "3           233048.970            233048.970                       1.0   \n",
       "4           453919.455            453919.455                       0.0   \n",
       "...                ...                   ...                       ...   \n",
       "3840307          0.000                 0.000                       NaN   \n",
       "3840308          0.000                 0.000                       0.0   \n",
       "3840309     273093.975            273093.975                       2.0   \n",
       "3840310          0.000                 0.000                       NaN   \n",
       "3840311          0.000                 0.000                       0.0   \n",
       "\n",
       "         CNT_DRAWINGS_CURRENT  CNT_DRAWINGS_OTHER_CURRENT  \\\n",
       "0                           1                         0.0   \n",
       "1                           1                         0.0   \n",
       "2                           0                         0.0   \n",
       "3                           1                         0.0   \n",
       "4                           1                         0.0   \n",
       "...                       ...                         ...   \n",
       "3840307                     0                         NaN   \n",
       "3840308                     0                         0.0   \n",
       "3840309                     2                         0.0   \n",
       "3840310                     0                         NaN   \n",
       "3840311                     0                         0.0   \n",
       "\n",
       "         CNT_DRAWINGS_POS_CURRENT  CNT_INSTALMENT_MATURE_CUM  \\\n",
       "0                             1.0                       35.0   \n",
       "1                             0.0                       69.0   \n",
       "2                             0.0                       30.0   \n",
       "3                             0.0                       10.0   \n",
       "4                             1.0                      101.0   \n",
       "...                           ...                        ...   \n",
       "3840307                       NaN                        0.0   \n",
       "3840308                       0.0                       23.0   \n",
       "3840309                       0.0                       18.0   \n",
       "3840310                       NaN                        0.0   \n",
       "3840311                       0.0                       21.0   \n",
       "\n",
       "         NAME_CONTRACT_STATUS  SK_DPD  SK_DPD_DEF  \n",
       "0                      Active       0           0  \n",
       "1                      Active       0           0  \n",
       "2                      Active       0           0  \n",
       "3                      Active       0           0  \n",
       "4                      Active       0           0  \n",
       "...                       ...     ...         ...  \n",
       "3840307                Active       0           0  \n",
       "3840308                Active       0           0  \n",
       "3840309                Active       0           0  \n",
       "3840310                Active       0           0  \n",
       "3840311             Completed       0           0  \n",
       "\n",
       "[3840312 rows x 23 columns]"
      ]
     },
     "execution_count": 111,
     "metadata": {},
     "output_type": "execute_result"
    }
   ],
   "source": [
    "ccb = pd.read_csv(r'C:\\Users\\rvuon\\OneDrive\\Documents\\Learning Fuze\\database\\Project Loan\\home-credit-default-risk\\credit_card_balance.csv')\n",
    "ccb"
   ]
  },
  {
   "cell_type": "code",
   "execution_count": 112,
   "metadata": {},
   "outputs": [
    {
     "name": "stdout",
     "output_type": "stream",
     "text": [
      "<class 'pandas.core.frame.DataFrame'>\n",
      "RangeIndex: 3840312 entries, 0 to 3840311\n",
      "Data columns (total 23 columns):\n",
      " #   Column                      Dtype  \n",
      "---  ------                      -----  \n",
      " 0   SK_ID_PREV                  int64  \n",
      " 1   SK_ID_CURR                  int64  \n",
      " 2   MONTHS_BALANCE              int64  \n",
      " 3   AMT_BALANCE                 float64\n",
      " 4   AMT_CREDIT_LIMIT_ACTUAL     int64  \n",
      " 5   AMT_DRAWINGS_ATM_CURRENT    float64\n",
      " 6   AMT_DRAWINGS_CURRENT        float64\n",
      " 7   AMT_DRAWINGS_OTHER_CURRENT  float64\n",
      " 8   AMT_DRAWINGS_POS_CURRENT    float64\n",
      " 9   AMT_INST_MIN_REGULARITY     float64\n",
      " 10  AMT_PAYMENT_CURRENT         float64\n",
      " 11  AMT_PAYMENT_TOTAL_CURRENT   float64\n",
      " 12  AMT_RECEIVABLE_PRINCIPAL    float64\n",
      " 13  AMT_RECIVABLE               float64\n",
      " 14  AMT_TOTAL_RECEIVABLE        float64\n",
      " 15  CNT_DRAWINGS_ATM_CURRENT    float64\n",
      " 16  CNT_DRAWINGS_CURRENT        int64  \n",
      " 17  CNT_DRAWINGS_OTHER_CURRENT  float64\n",
      " 18  CNT_DRAWINGS_POS_CURRENT    float64\n",
      " 19  CNT_INSTALMENT_MATURE_CUM   float64\n",
      " 20  NAME_CONTRACT_STATUS        object \n",
      " 21  SK_DPD                      int64  \n",
      " 22  SK_DPD_DEF                  int64  \n",
      "dtypes: float64(15), int64(7), object(1)\n",
      "memory usage: 673.9+ MB\n"
     ]
    }
   ],
   "source": [
    "ccb.info()"
   ]
  },
  {
   "cell_type": "code",
   "execution_count": 113,
   "metadata": {},
   "outputs": [
    {
     "data": {
      "text/plain": [
       "SK_ID_PREV                    0.000000\n",
       "SK_ID_CURR                    0.000000\n",
       "MONTHS_BALANCE                0.000000\n",
       "AMT_BALANCE                   0.000000\n",
       "AMT_CREDIT_LIMIT_ACTUAL       0.000000\n",
       "AMT_DRAWINGS_ATM_CURRENT      0.195249\n",
       "AMT_DRAWINGS_CURRENT          0.000000\n",
       "AMT_DRAWINGS_OTHER_CURRENT    0.195249\n",
       "AMT_DRAWINGS_POS_CURRENT      0.195249\n",
       "AMT_INST_MIN_REGULARITY       0.079482\n",
       "AMT_PAYMENT_CURRENT           0.199981\n",
       "AMT_PAYMENT_TOTAL_CURRENT     0.000000\n",
       "AMT_RECEIVABLE_PRINCIPAL      0.000000\n",
       "AMT_RECIVABLE                 0.000000\n",
       "AMT_TOTAL_RECEIVABLE          0.000000\n",
       "CNT_DRAWINGS_ATM_CURRENT      0.195249\n",
       "CNT_DRAWINGS_CURRENT          0.000000\n",
       "CNT_DRAWINGS_OTHER_CURRENT    0.195249\n",
       "CNT_DRAWINGS_POS_CURRENT      0.195249\n",
       "CNT_INSTALMENT_MATURE_CUM     0.079482\n",
       "NAME_CONTRACT_STATUS          0.000000\n",
       "SK_DPD                        0.000000\n",
       "SK_DPD_DEF                    0.000000\n",
       "dtype: float64"
      ]
     },
     "execution_count": 113,
     "metadata": {},
     "output_type": "execute_result"
    }
   ],
   "source": [
    "def fraction_missing(column):\n",
    "    total_rows = len(column)\n",
    "    missing_count = column.isnull().sum()\n",
    "    return missing_count/total_rows\n",
    "\n",
    "missing_fraction = ccb.apply(fraction_missing)\n",
    "missing_fraction"
   ]
  },
  {
   "cell_type": "code",
   "execution_count": 114,
   "metadata": {},
   "outputs": [
    {
     "data": {
      "text/plain": [
       "Series([], dtype: float64)"
      ]
     },
     "execution_count": 114,
     "metadata": {},
     "output_type": "execute_result"
    }
   ],
   "source": [
    "high_missing_features_ccb = missing_fraction[missing_fraction > 0.5]\n",
    "high_missing_features_ccb = high_missing_features_ccb.sort_values(ascending=False)\n",
    "high_missing_features_ccb"
   ]
  },
  {
   "cell_type": "code",
   "execution_count": 115,
   "metadata": {},
   "outputs": [
    {
     "data": {
      "text/plain": [
       "NAME_CONTRACT_STATUS    0\n",
       "dtype: int64"
      ]
     },
     "execution_count": 115,
     "metadata": {},
     "output_type": "execute_result"
    }
   ],
   "source": [
    "ccb.select_dtypes(include='object').isnull().sum().sort_values(ascending=False)"
   ]
  },
  {
   "cell_type": "code",
   "execution_count": 116,
   "metadata": {},
   "outputs": [
    {
     "data": {
      "text/plain": [
       "AMT_PAYMENT_CURRENT           767988\n",
       "CNT_DRAWINGS_POS_CURRENT      749816\n",
       "AMT_DRAWINGS_ATM_CURRENT      749816\n",
       "CNT_DRAWINGS_OTHER_CURRENT    749816\n",
       "AMT_DRAWINGS_OTHER_CURRENT    749816\n",
       "AMT_DRAWINGS_POS_CURRENT      749816\n",
       "CNT_DRAWINGS_ATM_CURRENT      749816\n",
       "CNT_INSTALMENT_MATURE_CUM     305236\n",
       "AMT_INST_MIN_REGULARITY       305236\n",
       "SK_ID_PREV                         0\n",
       "AMT_TOTAL_RECEIVABLE               0\n",
       "SK_DPD                             0\n",
       "CNT_DRAWINGS_CURRENT               0\n",
       "AMT_PAYMENT_TOTAL_CURRENT          0\n",
       "AMT_RECIVABLE                      0\n",
       "AMT_RECEIVABLE_PRINCIPAL           0\n",
       "SK_ID_CURR                         0\n",
       "AMT_DRAWINGS_CURRENT               0\n",
       "AMT_CREDIT_LIMIT_ACTUAL            0\n",
       "AMT_BALANCE                        0\n",
       "MONTHS_BALANCE                     0\n",
       "SK_DPD_DEF                         0\n",
       "dtype: int64"
      ]
     },
     "execution_count": 116,
     "metadata": {},
     "output_type": "execute_result"
    }
   ],
   "source": [
    "ccb.select_dtypes(include=('int', 'float')).isnull().sum().sort_values(ascending=False)"
   ]
  },
  {
   "cell_type": "markdown",
   "metadata": {},
   "source": [
    "## Fill Category Nulls"
   ]
  },
  {
   "cell_type": "code",
   "execution_count": 117,
   "metadata": {},
   "outputs": [
    {
     "data": {
      "text/html": [
       "<div>\n",
       "<style scoped>\n",
       "    .dataframe tbody tr th:only-of-type {\n",
       "        vertical-align: middle;\n",
       "    }\n",
       "\n",
       "    .dataframe tbody tr th {\n",
       "        vertical-align: top;\n",
       "    }\n",
       "\n",
       "    .dataframe thead th {\n",
       "        text-align: right;\n",
       "    }\n",
       "</style>\n",
       "<table border=\"1\" class=\"dataframe\">\n",
       "  <thead>\n",
       "    <tr style=\"text-align: right;\">\n",
       "      <th></th>\n",
       "      <th>SK_ID_PREV</th>\n",
       "      <th>SK_ID_CURR</th>\n",
       "      <th>MONTHS_BALANCE</th>\n",
       "      <th>AMT_BALANCE</th>\n",
       "      <th>AMT_CREDIT_LIMIT_ACTUAL</th>\n",
       "      <th>AMT_DRAWINGS_ATM_CURRENT</th>\n",
       "      <th>AMT_DRAWINGS_CURRENT</th>\n",
       "      <th>AMT_DRAWINGS_OTHER_CURRENT</th>\n",
       "      <th>AMT_DRAWINGS_POS_CURRENT</th>\n",
       "      <th>AMT_INST_MIN_REGULARITY</th>\n",
       "      <th>...</th>\n",
       "      <th>AMT_RECEIVABLE_PRINCIPAL</th>\n",
       "      <th>AMT_RECIVABLE</th>\n",
       "      <th>AMT_TOTAL_RECEIVABLE</th>\n",
       "      <th>CNT_DRAWINGS_ATM_CURRENT</th>\n",
       "      <th>CNT_DRAWINGS_CURRENT</th>\n",
       "      <th>CNT_DRAWINGS_OTHER_CURRENT</th>\n",
       "      <th>CNT_DRAWINGS_POS_CURRENT</th>\n",
       "      <th>CNT_INSTALMENT_MATURE_CUM</th>\n",
       "      <th>SK_DPD</th>\n",
       "      <th>SK_DPD_DEF</th>\n",
       "    </tr>\n",
       "  </thead>\n",
       "  <tbody>\n",
       "    <tr>\n",
       "      <th>SK_ID_PREV</th>\n",
       "      <td>1.000000</td>\n",
       "      <td>0.004723</td>\n",
       "      <td>0.003670</td>\n",
       "      <td>0.005046</td>\n",
       "      <td>0.006631</td>\n",
       "      <td>0.004342</td>\n",
       "      <td>0.002624</td>\n",
       "      <td>-0.000160</td>\n",
       "      <td>0.001721</td>\n",
       "      <td>0.006460</td>\n",
       "      <td>...</td>\n",
       "      <td>0.005140</td>\n",
       "      <td>0.005035</td>\n",
       "      <td>0.005032</td>\n",
       "      <td>0.002821</td>\n",
       "      <td>0.000367</td>\n",
       "      <td>-0.001412</td>\n",
       "      <td>0.000809</td>\n",
       "      <td>-0.007219</td>\n",
       "      <td>-0.001786</td>\n",
       "      <td>0.001973</td>\n",
       "    </tr>\n",
       "    <tr>\n",
       "      <th>SK_ID_CURR</th>\n",
       "      <td>0.004723</td>\n",
       "      <td>1.000000</td>\n",
       "      <td>0.001696</td>\n",
       "      <td>0.003510</td>\n",
       "      <td>0.005991</td>\n",
       "      <td>0.000814</td>\n",
       "      <td>0.000708</td>\n",
       "      <td>0.000958</td>\n",
       "      <td>-0.000786</td>\n",
       "      <td>0.003300</td>\n",
       "      <td>...</td>\n",
       "      <td>0.003589</td>\n",
       "      <td>0.003518</td>\n",
       "      <td>0.003524</td>\n",
       "      <td>0.002082</td>\n",
       "      <td>0.002654</td>\n",
       "      <td>-0.000131</td>\n",
       "      <td>0.002135</td>\n",
       "      <td>-0.000581</td>\n",
       "      <td>-0.000962</td>\n",
       "      <td>0.001519</td>\n",
       "    </tr>\n",
       "    <tr>\n",
       "      <th>MONTHS_BALANCE</th>\n",
       "      <td>0.003670</td>\n",
       "      <td>0.001696</td>\n",
       "      <td>1.000000</td>\n",
       "      <td>0.014558</td>\n",
       "      <td>0.199900</td>\n",
       "      <td>0.036802</td>\n",
       "      <td>0.065527</td>\n",
       "      <td>0.000405</td>\n",
       "      <td>0.118146</td>\n",
       "      <td>-0.087529</td>\n",
       "      <td>...</td>\n",
       "      <td>0.016266</td>\n",
       "      <td>0.013172</td>\n",
       "      <td>0.013084</td>\n",
       "      <td>0.002536</td>\n",
       "      <td>0.113321</td>\n",
       "      <td>-0.026192</td>\n",
       "      <td>0.160207</td>\n",
       "      <td>-0.008620</td>\n",
       "      <td>0.039434</td>\n",
       "      <td>0.001659</td>\n",
       "    </tr>\n",
       "    <tr>\n",
       "      <th>AMT_BALANCE</th>\n",
       "      <td>0.005046</td>\n",
       "      <td>0.003510</td>\n",
       "      <td>0.014558</td>\n",
       "      <td>1.000000</td>\n",
       "      <td>0.489386</td>\n",
       "      <td>0.283551</td>\n",
       "      <td>0.336965</td>\n",
       "      <td>0.065366</td>\n",
       "      <td>0.169449</td>\n",
       "      <td>0.896728</td>\n",
       "      <td>...</td>\n",
       "      <td>0.999720</td>\n",
       "      <td>0.999917</td>\n",
       "      <td>0.999897</td>\n",
       "      <td>0.309968</td>\n",
       "      <td>0.259184</td>\n",
       "      <td>0.046563</td>\n",
       "      <td>0.155553</td>\n",
       "      <td>0.005009</td>\n",
       "      <td>-0.046988</td>\n",
       "      <td>0.013009</td>\n",
       "    </tr>\n",
       "    <tr>\n",
       "      <th>AMT_CREDIT_LIMIT_ACTUAL</th>\n",
       "      <td>0.006631</td>\n",
       "      <td>0.005991</td>\n",
       "      <td>0.199900</td>\n",
       "      <td>0.489386</td>\n",
       "      <td>1.000000</td>\n",
       "      <td>0.247219</td>\n",
       "      <td>0.263093</td>\n",
       "      <td>0.050579</td>\n",
       "      <td>0.234976</td>\n",
       "      <td>0.467620</td>\n",
       "      <td>...</td>\n",
       "      <td>0.490445</td>\n",
       "      <td>0.488641</td>\n",
       "      <td>0.488598</td>\n",
       "      <td>0.221808</td>\n",
       "      <td>0.204237</td>\n",
       "      <td>0.030051</td>\n",
       "      <td>0.202868</td>\n",
       "      <td>-0.157269</td>\n",
       "      <td>-0.038791</td>\n",
       "      <td>-0.002236</td>\n",
       "    </tr>\n",
       "    <tr>\n",
       "      <th>AMT_DRAWINGS_ATM_CURRENT</th>\n",
       "      <td>0.004342</td>\n",
       "      <td>0.000814</td>\n",
       "      <td>0.036802</td>\n",
       "      <td>0.283551</td>\n",
       "      <td>0.247219</td>\n",
       "      <td>1.000000</td>\n",
       "      <td>0.800190</td>\n",
       "      <td>0.017899</td>\n",
       "      <td>0.078971</td>\n",
       "      <td>0.094824</td>\n",
       "      <td>...</td>\n",
       "      <td>0.280402</td>\n",
       "      <td>0.278290</td>\n",
       "      <td>0.278260</td>\n",
       "      <td>0.732907</td>\n",
       "      <td>0.298173</td>\n",
       "      <td>0.013254</td>\n",
       "      <td>0.076083</td>\n",
       "      <td>-0.103721</td>\n",
       "      <td>-0.022044</td>\n",
       "      <td>-0.003360</td>\n",
       "    </tr>\n",
       "    <tr>\n",
       "      <th>AMT_DRAWINGS_CURRENT</th>\n",
       "      <td>0.002624</td>\n",
       "      <td>0.000708</td>\n",
       "      <td>0.065527</td>\n",
       "      <td>0.336965</td>\n",
       "      <td>0.263093</td>\n",
       "      <td>0.800190</td>\n",
       "      <td>1.000000</td>\n",
       "      <td>0.236297</td>\n",
       "      <td>0.615591</td>\n",
       "      <td>0.124469</td>\n",
       "      <td>...</td>\n",
       "      <td>0.337117</td>\n",
       "      <td>0.332831</td>\n",
       "      <td>0.332796</td>\n",
       "      <td>0.594361</td>\n",
       "      <td>0.523016</td>\n",
       "      <td>0.140032</td>\n",
       "      <td>0.359001</td>\n",
       "      <td>-0.093491</td>\n",
       "      <td>-0.020606</td>\n",
       "      <td>-0.003137</td>\n",
       "    </tr>\n",
       "    <tr>\n",
       "      <th>AMT_DRAWINGS_OTHER_CURRENT</th>\n",
       "      <td>-0.000160</td>\n",
       "      <td>0.000958</td>\n",
       "      <td>0.000405</td>\n",
       "      <td>0.065366</td>\n",
       "      <td>0.050579</td>\n",
       "      <td>0.017899</td>\n",
       "      <td>0.236297</td>\n",
       "      <td>1.000000</td>\n",
       "      <td>0.007382</td>\n",
       "      <td>0.002158</td>\n",
       "      <td>...</td>\n",
       "      <td>0.066108</td>\n",
       "      <td>0.064929</td>\n",
       "      <td>0.064923</td>\n",
       "      <td>0.012008</td>\n",
       "      <td>0.021271</td>\n",
       "      <td>0.575295</td>\n",
       "      <td>0.004458</td>\n",
       "      <td>-0.023013</td>\n",
       "      <td>-0.003693</td>\n",
       "      <td>-0.000568</td>\n",
       "    </tr>\n",
       "    <tr>\n",
       "      <th>AMT_DRAWINGS_POS_CURRENT</th>\n",
       "      <td>0.001721</td>\n",
       "      <td>-0.000786</td>\n",
       "      <td>0.118146</td>\n",
       "      <td>0.169449</td>\n",
       "      <td>0.234976</td>\n",
       "      <td>0.078971</td>\n",
       "      <td>0.615591</td>\n",
       "      <td>0.007382</td>\n",
       "      <td>1.000000</td>\n",
       "      <td>0.063562</td>\n",
       "      <td>...</td>\n",
       "      <td>0.173745</td>\n",
       "      <td>0.168974</td>\n",
       "      <td>0.168950</td>\n",
       "      <td>0.072658</td>\n",
       "      <td>0.520123</td>\n",
       "      <td>0.007620</td>\n",
       "      <td>0.542556</td>\n",
       "      <td>-0.106813</td>\n",
       "      <td>-0.015040</td>\n",
       "      <td>-0.002384</td>\n",
       "    </tr>\n",
       "    <tr>\n",
       "      <th>AMT_INST_MIN_REGULARITY</th>\n",
       "      <td>0.006460</td>\n",
       "      <td>0.003300</td>\n",
       "      <td>-0.087529</td>\n",
       "      <td>0.896728</td>\n",
       "      <td>0.467620</td>\n",
       "      <td>0.094824</td>\n",
       "      <td>0.124469</td>\n",
       "      <td>0.002158</td>\n",
       "      <td>0.063562</td>\n",
       "      <td>1.000000</td>\n",
       "      <td>...</td>\n",
       "      <td>0.896030</td>\n",
       "      <td>0.897617</td>\n",
       "      <td>0.897587</td>\n",
       "      <td>0.170616</td>\n",
       "      <td>0.148262</td>\n",
       "      <td>0.014360</td>\n",
       "      <td>0.086729</td>\n",
       "      <td>0.064320</td>\n",
       "      <td>-0.061484</td>\n",
       "      <td>-0.005715</td>\n",
       "    </tr>\n",
       "    <tr>\n",
       "      <th>AMT_PAYMENT_CURRENT</th>\n",
       "      <td>0.003472</td>\n",
       "      <td>0.000127</td>\n",
       "      <td>0.076355</td>\n",
       "      <td>0.143934</td>\n",
       "      <td>0.308294</td>\n",
       "      <td>0.189075</td>\n",
       "      <td>0.337343</td>\n",
       "      <td>0.034577</td>\n",
       "      <td>0.321055</td>\n",
       "      <td>0.333909</td>\n",
       "      <td>...</td>\n",
       "      <td>0.143162</td>\n",
       "      <td>0.142389</td>\n",
       "      <td>0.142371</td>\n",
       "      <td>0.142935</td>\n",
       "      <td>0.223483</td>\n",
       "      <td>0.017246</td>\n",
       "      <td>0.195074</td>\n",
       "      <td>-0.079266</td>\n",
       "      <td>-0.030222</td>\n",
       "      <td>-0.004340</td>\n",
       "    </tr>\n",
       "    <tr>\n",
       "      <th>AMT_PAYMENT_TOTAL_CURRENT</th>\n",
       "      <td>0.001641</td>\n",
       "      <td>0.000784</td>\n",
       "      <td>0.035614</td>\n",
       "      <td>0.151349</td>\n",
       "      <td>0.226570</td>\n",
       "      <td>0.159186</td>\n",
       "      <td>0.305726</td>\n",
       "      <td>0.025123</td>\n",
       "      <td>0.301760</td>\n",
       "      <td>0.335201</td>\n",
       "      <td>...</td>\n",
       "      <td>0.149936</td>\n",
       "      <td>0.149926</td>\n",
       "      <td>0.149914</td>\n",
       "      <td>0.125655</td>\n",
       "      <td>0.217857</td>\n",
       "      <td>0.014041</td>\n",
       "      <td>0.183973</td>\n",
       "      <td>-0.023156</td>\n",
       "      <td>-0.022475</td>\n",
       "      <td>-0.003443</td>\n",
       "    </tr>\n",
       "    <tr>\n",
       "      <th>AMT_RECEIVABLE_PRINCIPAL</th>\n",
       "      <td>0.005140</td>\n",
       "      <td>0.003589</td>\n",
       "      <td>0.016266</td>\n",
       "      <td>0.999720</td>\n",
       "      <td>0.490445</td>\n",
       "      <td>0.280402</td>\n",
       "      <td>0.337117</td>\n",
       "      <td>0.066108</td>\n",
       "      <td>0.173745</td>\n",
       "      <td>0.896030</td>\n",
       "      <td>...</td>\n",
       "      <td>1.000000</td>\n",
       "      <td>0.999727</td>\n",
       "      <td>0.999702</td>\n",
       "      <td>0.302627</td>\n",
       "      <td>0.258848</td>\n",
       "      <td>0.046543</td>\n",
       "      <td>0.157723</td>\n",
       "      <td>0.003664</td>\n",
       "      <td>-0.048290</td>\n",
       "      <td>0.006780</td>\n",
       "    </tr>\n",
       "    <tr>\n",
       "      <th>AMT_RECIVABLE</th>\n",
       "      <td>0.005035</td>\n",
       "      <td>0.003518</td>\n",
       "      <td>0.013172</td>\n",
       "      <td>0.999917</td>\n",
       "      <td>0.488641</td>\n",
       "      <td>0.278290</td>\n",
       "      <td>0.332831</td>\n",
       "      <td>0.064929</td>\n",
       "      <td>0.168974</td>\n",
       "      <td>0.897617</td>\n",
       "      <td>...</td>\n",
       "      <td>0.999727</td>\n",
       "      <td>1.000000</td>\n",
       "      <td>0.999995</td>\n",
       "      <td>0.303571</td>\n",
       "      <td>0.256347</td>\n",
       "      <td>0.046118</td>\n",
       "      <td>0.154507</td>\n",
       "      <td>0.005935</td>\n",
       "      <td>-0.046434</td>\n",
       "      <td>0.015466</td>\n",
       "    </tr>\n",
       "    <tr>\n",
       "      <th>AMT_TOTAL_RECEIVABLE</th>\n",
       "      <td>0.005032</td>\n",
       "      <td>0.003524</td>\n",
       "      <td>0.013084</td>\n",
       "      <td>0.999897</td>\n",
       "      <td>0.488598</td>\n",
       "      <td>0.278260</td>\n",
       "      <td>0.332796</td>\n",
       "      <td>0.064923</td>\n",
       "      <td>0.168950</td>\n",
       "      <td>0.897587</td>\n",
       "      <td>...</td>\n",
       "      <td>0.999702</td>\n",
       "      <td>0.999995</td>\n",
       "      <td>1.000000</td>\n",
       "      <td>0.303542</td>\n",
       "      <td>0.256317</td>\n",
       "      <td>0.046113</td>\n",
       "      <td>0.154481</td>\n",
       "      <td>0.005959</td>\n",
       "      <td>-0.046047</td>\n",
       "      <td>0.017243</td>\n",
       "    </tr>\n",
       "    <tr>\n",
       "      <th>CNT_DRAWINGS_ATM_CURRENT</th>\n",
       "      <td>0.002821</td>\n",
       "      <td>0.002082</td>\n",
       "      <td>0.002536</td>\n",
       "      <td>0.309968</td>\n",
       "      <td>0.221808</td>\n",
       "      <td>0.732907</td>\n",
       "      <td>0.594361</td>\n",
       "      <td>0.012008</td>\n",
       "      <td>0.072658</td>\n",
       "      <td>0.170616</td>\n",
       "      <td>...</td>\n",
       "      <td>0.302627</td>\n",
       "      <td>0.303571</td>\n",
       "      <td>0.303542</td>\n",
       "      <td>1.000000</td>\n",
       "      <td>0.410907</td>\n",
       "      <td>0.012730</td>\n",
       "      <td>0.108388</td>\n",
       "      <td>-0.103403</td>\n",
       "      <td>-0.029395</td>\n",
       "      <td>-0.004277</td>\n",
       "    </tr>\n",
       "    <tr>\n",
       "      <th>CNT_DRAWINGS_CURRENT</th>\n",
       "      <td>0.000367</td>\n",
       "      <td>0.002654</td>\n",
       "      <td>0.113321</td>\n",
       "      <td>0.259184</td>\n",
       "      <td>0.204237</td>\n",
       "      <td>0.298173</td>\n",
       "      <td>0.523016</td>\n",
       "      <td>0.021271</td>\n",
       "      <td>0.520123</td>\n",
       "      <td>0.148262</td>\n",
       "      <td>...</td>\n",
       "      <td>0.258848</td>\n",
       "      <td>0.256347</td>\n",
       "      <td>0.256317</td>\n",
       "      <td>0.410907</td>\n",
       "      <td>1.000000</td>\n",
       "      <td>0.033940</td>\n",
       "      <td>0.950546</td>\n",
       "      <td>-0.099186</td>\n",
       "      <td>-0.020786</td>\n",
       "      <td>-0.003106</td>\n",
       "    </tr>\n",
       "    <tr>\n",
       "      <th>CNT_DRAWINGS_OTHER_CURRENT</th>\n",
       "      <td>-0.001412</td>\n",
       "      <td>-0.000131</td>\n",
       "      <td>-0.026192</td>\n",
       "      <td>0.046563</td>\n",
       "      <td>0.030051</td>\n",
       "      <td>0.013254</td>\n",
       "      <td>0.140032</td>\n",
       "      <td>0.575295</td>\n",
       "      <td>0.007620</td>\n",
       "      <td>0.014360</td>\n",
       "      <td>...</td>\n",
       "      <td>0.046543</td>\n",
       "      <td>0.046118</td>\n",
       "      <td>0.046113</td>\n",
       "      <td>0.012730</td>\n",
       "      <td>0.033940</td>\n",
       "      <td>1.000000</td>\n",
       "      <td>0.007203</td>\n",
       "      <td>-0.021632</td>\n",
       "      <td>-0.006083</td>\n",
       "      <td>-0.000895</td>\n",
       "    </tr>\n",
       "    <tr>\n",
       "      <th>CNT_DRAWINGS_POS_CURRENT</th>\n",
       "      <td>0.000809</td>\n",
       "      <td>0.002135</td>\n",
       "      <td>0.160207</td>\n",
       "      <td>0.155553</td>\n",
       "      <td>0.202868</td>\n",
       "      <td>0.076083</td>\n",
       "      <td>0.359001</td>\n",
       "      <td>0.004458</td>\n",
       "      <td>0.542556</td>\n",
       "      <td>0.086729</td>\n",
       "      <td>...</td>\n",
       "      <td>0.157723</td>\n",
       "      <td>0.154507</td>\n",
       "      <td>0.154481</td>\n",
       "      <td>0.108388</td>\n",
       "      <td>0.950546</td>\n",
       "      <td>0.007203</td>\n",
       "      <td>1.000000</td>\n",
       "      <td>-0.129338</td>\n",
       "      <td>-0.018212</td>\n",
       "      <td>-0.002840</td>\n",
       "    </tr>\n",
       "    <tr>\n",
       "      <th>CNT_INSTALMENT_MATURE_CUM</th>\n",
       "      <td>-0.007219</td>\n",
       "      <td>-0.000581</td>\n",
       "      <td>-0.008620</td>\n",
       "      <td>0.005009</td>\n",
       "      <td>-0.157269</td>\n",
       "      <td>-0.103721</td>\n",
       "      <td>-0.093491</td>\n",
       "      <td>-0.023013</td>\n",
       "      <td>-0.106813</td>\n",
       "      <td>0.064320</td>\n",
       "      <td>...</td>\n",
       "      <td>0.003664</td>\n",
       "      <td>0.005935</td>\n",
       "      <td>0.005959</td>\n",
       "      <td>-0.103403</td>\n",
       "      <td>-0.099186</td>\n",
       "      <td>-0.021632</td>\n",
       "      <td>-0.129338</td>\n",
       "      <td>1.000000</td>\n",
       "      <td>0.059654</td>\n",
       "      <td>0.002156</td>\n",
       "    </tr>\n",
       "    <tr>\n",
       "      <th>SK_DPD</th>\n",
       "      <td>-0.001786</td>\n",
       "      <td>-0.000962</td>\n",
       "      <td>0.039434</td>\n",
       "      <td>-0.046988</td>\n",
       "      <td>-0.038791</td>\n",
       "      <td>-0.022044</td>\n",
       "      <td>-0.020606</td>\n",
       "      <td>-0.003693</td>\n",
       "      <td>-0.015040</td>\n",
       "      <td>-0.061484</td>\n",
       "      <td>...</td>\n",
       "      <td>-0.048290</td>\n",
       "      <td>-0.046434</td>\n",
       "      <td>-0.046047</td>\n",
       "      <td>-0.029395</td>\n",
       "      <td>-0.020786</td>\n",
       "      <td>-0.006083</td>\n",
       "      <td>-0.018212</td>\n",
       "      <td>0.059654</td>\n",
       "      <td>1.000000</td>\n",
       "      <td>0.218950</td>\n",
       "    </tr>\n",
       "    <tr>\n",
       "      <th>SK_DPD_DEF</th>\n",
       "      <td>0.001973</td>\n",
       "      <td>0.001519</td>\n",
       "      <td>0.001659</td>\n",
       "      <td>0.013009</td>\n",
       "      <td>-0.002236</td>\n",
       "      <td>-0.003360</td>\n",
       "      <td>-0.003137</td>\n",
       "      <td>-0.000568</td>\n",
       "      <td>-0.002384</td>\n",
       "      <td>-0.005715</td>\n",
       "      <td>...</td>\n",
       "      <td>0.006780</td>\n",
       "      <td>0.015466</td>\n",
       "      <td>0.017243</td>\n",
       "      <td>-0.004277</td>\n",
       "      <td>-0.003106</td>\n",
       "      <td>-0.000895</td>\n",
       "      <td>-0.002840</td>\n",
       "      <td>0.002156</td>\n",
       "      <td>0.218950</td>\n",
       "      <td>1.000000</td>\n",
       "    </tr>\n",
       "  </tbody>\n",
       "</table>\n",
       "<p>22 rows × 22 columns</p>\n",
       "</div>"
      ],
      "text/plain": [
       "                            SK_ID_PREV  SK_ID_CURR  MONTHS_BALANCE  \\\n",
       "SK_ID_PREV                    1.000000    0.004723        0.003670   \n",
       "SK_ID_CURR                    0.004723    1.000000        0.001696   \n",
       "MONTHS_BALANCE                0.003670    0.001696        1.000000   \n",
       "AMT_BALANCE                   0.005046    0.003510        0.014558   \n",
       "AMT_CREDIT_LIMIT_ACTUAL       0.006631    0.005991        0.199900   \n",
       "AMT_DRAWINGS_ATM_CURRENT      0.004342    0.000814        0.036802   \n",
       "AMT_DRAWINGS_CURRENT          0.002624    0.000708        0.065527   \n",
       "AMT_DRAWINGS_OTHER_CURRENT   -0.000160    0.000958        0.000405   \n",
       "AMT_DRAWINGS_POS_CURRENT      0.001721   -0.000786        0.118146   \n",
       "AMT_INST_MIN_REGULARITY       0.006460    0.003300       -0.087529   \n",
       "AMT_PAYMENT_CURRENT           0.003472    0.000127        0.076355   \n",
       "AMT_PAYMENT_TOTAL_CURRENT     0.001641    0.000784        0.035614   \n",
       "AMT_RECEIVABLE_PRINCIPAL      0.005140    0.003589        0.016266   \n",
       "AMT_RECIVABLE                 0.005035    0.003518        0.013172   \n",
       "AMT_TOTAL_RECEIVABLE          0.005032    0.003524        0.013084   \n",
       "CNT_DRAWINGS_ATM_CURRENT      0.002821    0.002082        0.002536   \n",
       "CNT_DRAWINGS_CURRENT          0.000367    0.002654        0.113321   \n",
       "CNT_DRAWINGS_OTHER_CURRENT   -0.001412   -0.000131       -0.026192   \n",
       "CNT_DRAWINGS_POS_CURRENT      0.000809    0.002135        0.160207   \n",
       "CNT_INSTALMENT_MATURE_CUM    -0.007219   -0.000581       -0.008620   \n",
       "SK_DPD                       -0.001786   -0.000962        0.039434   \n",
       "SK_DPD_DEF                    0.001973    0.001519        0.001659   \n",
       "\n",
       "                            AMT_BALANCE  AMT_CREDIT_LIMIT_ACTUAL  \\\n",
       "SK_ID_PREV                     0.005046                 0.006631   \n",
       "SK_ID_CURR                     0.003510                 0.005991   \n",
       "MONTHS_BALANCE                 0.014558                 0.199900   \n",
       "AMT_BALANCE                    1.000000                 0.489386   \n",
       "AMT_CREDIT_LIMIT_ACTUAL        0.489386                 1.000000   \n",
       "AMT_DRAWINGS_ATM_CURRENT       0.283551                 0.247219   \n",
       "AMT_DRAWINGS_CURRENT           0.336965                 0.263093   \n",
       "AMT_DRAWINGS_OTHER_CURRENT     0.065366                 0.050579   \n",
       "AMT_DRAWINGS_POS_CURRENT       0.169449                 0.234976   \n",
       "AMT_INST_MIN_REGULARITY        0.896728                 0.467620   \n",
       "AMT_PAYMENT_CURRENT            0.143934                 0.308294   \n",
       "AMT_PAYMENT_TOTAL_CURRENT      0.151349                 0.226570   \n",
       "AMT_RECEIVABLE_PRINCIPAL       0.999720                 0.490445   \n",
       "AMT_RECIVABLE                  0.999917                 0.488641   \n",
       "AMT_TOTAL_RECEIVABLE           0.999897                 0.488598   \n",
       "CNT_DRAWINGS_ATM_CURRENT       0.309968                 0.221808   \n",
       "CNT_DRAWINGS_CURRENT           0.259184                 0.204237   \n",
       "CNT_DRAWINGS_OTHER_CURRENT     0.046563                 0.030051   \n",
       "CNT_DRAWINGS_POS_CURRENT       0.155553                 0.202868   \n",
       "CNT_INSTALMENT_MATURE_CUM      0.005009                -0.157269   \n",
       "SK_DPD                        -0.046988                -0.038791   \n",
       "SK_DPD_DEF                     0.013009                -0.002236   \n",
       "\n",
       "                            AMT_DRAWINGS_ATM_CURRENT  AMT_DRAWINGS_CURRENT  \\\n",
       "SK_ID_PREV                                  0.004342              0.002624   \n",
       "SK_ID_CURR                                  0.000814              0.000708   \n",
       "MONTHS_BALANCE                              0.036802              0.065527   \n",
       "AMT_BALANCE                                 0.283551              0.336965   \n",
       "AMT_CREDIT_LIMIT_ACTUAL                     0.247219              0.263093   \n",
       "AMT_DRAWINGS_ATM_CURRENT                    1.000000              0.800190   \n",
       "AMT_DRAWINGS_CURRENT                        0.800190              1.000000   \n",
       "AMT_DRAWINGS_OTHER_CURRENT                  0.017899              0.236297   \n",
       "AMT_DRAWINGS_POS_CURRENT                    0.078971              0.615591   \n",
       "AMT_INST_MIN_REGULARITY                     0.094824              0.124469   \n",
       "AMT_PAYMENT_CURRENT                         0.189075              0.337343   \n",
       "AMT_PAYMENT_TOTAL_CURRENT                   0.159186              0.305726   \n",
       "AMT_RECEIVABLE_PRINCIPAL                    0.280402              0.337117   \n",
       "AMT_RECIVABLE                               0.278290              0.332831   \n",
       "AMT_TOTAL_RECEIVABLE                        0.278260              0.332796   \n",
       "CNT_DRAWINGS_ATM_CURRENT                    0.732907              0.594361   \n",
       "CNT_DRAWINGS_CURRENT                        0.298173              0.523016   \n",
       "CNT_DRAWINGS_OTHER_CURRENT                  0.013254              0.140032   \n",
       "CNT_DRAWINGS_POS_CURRENT                    0.076083              0.359001   \n",
       "CNT_INSTALMENT_MATURE_CUM                  -0.103721             -0.093491   \n",
       "SK_DPD                                     -0.022044             -0.020606   \n",
       "SK_DPD_DEF                                 -0.003360             -0.003137   \n",
       "\n",
       "                            AMT_DRAWINGS_OTHER_CURRENT  \\\n",
       "SK_ID_PREV                                   -0.000160   \n",
       "SK_ID_CURR                                    0.000958   \n",
       "MONTHS_BALANCE                                0.000405   \n",
       "AMT_BALANCE                                   0.065366   \n",
       "AMT_CREDIT_LIMIT_ACTUAL                       0.050579   \n",
       "AMT_DRAWINGS_ATM_CURRENT                      0.017899   \n",
       "AMT_DRAWINGS_CURRENT                          0.236297   \n",
       "AMT_DRAWINGS_OTHER_CURRENT                    1.000000   \n",
       "AMT_DRAWINGS_POS_CURRENT                      0.007382   \n",
       "AMT_INST_MIN_REGULARITY                       0.002158   \n",
       "AMT_PAYMENT_CURRENT                           0.034577   \n",
       "AMT_PAYMENT_TOTAL_CURRENT                     0.025123   \n",
       "AMT_RECEIVABLE_PRINCIPAL                      0.066108   \n",
       "AMT_RECIVABLE                                 0.064929   \n",
       "AMT_TOTAL_RECEIVABLE                          0.064923   \n",
       "CNT_DRAWINGS_ATM_CURRENT                      0.012008   \n",
       "CNT_DRAWINGS_CURRENT                          0.021271   \n",
       "CNT_DRAWINGS_OTHER_CURRENT                    0.575295   \n",
       "CNT_DRAWINGS_POS_CURRENT                      0.004458   \n",
       "CNT_INSTALMENT_MATURE_CUM                    -0.023013   \n",
       "SK_DPD                                       -0.003693   \n",
       "SK_DPD_DEF                                   -0.000568   \n",
       "\n",
       "                            AMT_DRAWINGS_POS_CURRENT  AMT_INST_MIN_REGULARITY  \\\n",
       "SK_ID_PREV                                  0.001721                 0.006460   \n",
       "SK_ID_CURR                                 -0.000786                 0.003300   \n",
       "MONTHS_BALANCE                              0.118146                -0.087529   \n",
       "AMT_BALANCE                                 0.169449                 0.896728   \n",
       "AMT_CREDIT_LIMIT_ACTUAL                     0.234976                 0.467620   \n",
       "AMT_DRAWINGS_ATM_CURRENT                    0.078971                 0.094824   \n",
       "AMT_DRAWINGS_CURRENT                        0.615591                 0.124469   \n",
       "AMT_DRAWINGS_OTHER_CURRENT                  0.007382                 0.002158   \n",
       "AMT_DRAWINGS_POS_CURRENT                    1.000000                 0.063562   \n",
       "AMT_INST_MIN_REGULARITY                     0.063562                 1.000000   \n",
       "AMT_PAYMENT_CURRENT                         0.321055                 0.333909   \n",
       "AMT_PAYMENT_TOTAL_CURRENT                   0.301760                 0.335201   \n",
       "AMT_RECEIVABLE_PRINCIPAL                    0.173745                 0.896030   \n",
       "AMT_RECIVABLE                               0.168974                 0.897617   \n",
       "AMT_TOTAL_RECEIVABLE                        0.168950                 0.897587   \n",
       "CNT_DRAWINGS_ATM_CURRENT                    0.072658                 0.170616   \n",
       "CNT_DRAWINGS_CURRENT                        0.520123                 0.148262   \n",
       "CNT_DRAWINGS_OTHER_CURRENT                  0.007620                 0.014360   \n",
       "CNT_DRAWINGS_POS_CURRENT                    0.542556                 0.086729   \n",
       "CNT_INSTALMENT_MATURE_CUM                  -0.106813                 0.064320   \n",
       "SK_DPD                                     -0.015040                -0.061484   \n",
       "SK_DPD_DEF                                 -0.002384                -0.005715   \n",
       "\n",
       "                            ...  AMT_RECEIVABLE_PRINCIPAL  AMT_RECIVABLE  \\\n",
       "SK_ID_PREV                  ...                  0.005140       0.005035   \n",
       "SK_ID_CURR                  ...                  0.003589       0.003518   \n",
       "MONTHS_BALANCE              ...                  0.016266       0.013172   \n",
       "AMT_BALANCE                 ...                  0.999720       0.999917   \n",
       "AMT_CREDIT_LIMIT_ACTUAL     ...                  0.490445       0.488641   \n",
       "AMT_DRAWINGS_ATM_CURRENT    ...                  0.280402       0.278290   \n",
       "AMT_DRAWINGS_CURRENT        ...                  0.337117       0.332831   \n",
       "AMT_DRAWINGS_OTHER_CURRENT  ...                  0.066108       0.064929   \n",
       "AMT_DRAWINGS_POS_CURRENT    ...                  0.173745       0.168974   \n",
       "AMT_INST_MIN_REGULARITY     ...                  0.896030       0.897617   \n",
       "AMT_PAYMENT_CURRENT         ...                  0.143162       0.142389   \n",
       "AMT_PAYMENT_TOTAL_CURRENT   ...                  0.149936       0.149926   \n",
       "AMT_RECEIVABLE_PRINCIPAL    ...                  1.000000       0.999727   \n",
       "AMT_RECIVABLE               ...                  0.999727       1.000000   \n",
       "AMT_TOTAL_RECEIVABLE        ...                  0.999702       0.999995   \n",
       "CNT_DRAWINGS_ATM_CURRENT    ...                  0.302627       0.303571   \n",
       "CNT_DRAWINGS_CURRENT        ...                  0.258848       0.256347   \n",
       "CNT_DRAWINGS_OTHER_CURRENT  ...                  0.046543       0.046118   \n",
       "CNT_DRAWINGS_POS_CURRENT    ...                  0.157723       0.154507   \n",
       "CNT_INSTALMENT_MATURE_CUM   ...                  0.003664       0.005935   \n",
       "SK_DPD                      ...                 -0.048290      -0.046434   \n",
       "SK_DPD_DEF                  ...                  0.006780       0.015466   \n",
       "\n",
       "                            AMT_TOTAL_RECEIVABLE  CNT_DRAWINGS_ATM_CURRENT  \\\n",
       "SK_ID_PREV                              0.005032                  0.002821   \n",
       "SK_ID_CURR                              0.003524                  0.002082   \n",
       "MONTHS_BALANCE                          0.013084                  0.002536   \n",
       "AMT_BALANCE                             0.999897                  0.309968   \n",
       "AMT_CREDIT_LIMIT_ACTUAL                 0.488598                  0.221808   \n",
       "AMT_DRAWINGS_ATM_CURRENT                0.278260                  0.732907   \n",
       "AMT_DRAWINGS_CURRENT                    0.332796                  0.594361   \n",
       "AMT_DRAWINGS_OTHER_CURRENT              0.064923                  0.012008   \n",
       "AMT_DRAWINGS_POS_CURRENT                0.168950                  0.072658   \n",
       "AMT_INST_MIN_REGULARITY                 0.897587                  0.170616   \n",
       "AMT_PAYMENT_CURRENT                     0.142371                  0.142935   \n",
       "AMT_PAYMENT_TOTAL_CURRENT               0.149914                  0.125655   \n",
       "AMT_RECEIVABLE_PRINCIPAL                0.999702                  0.302627   \n",
       "AMT_RECIVABLE                           0.999995                  0.303571   \n",
       "AMT_TOTAL_RECEIVABLE                    1.000000                  0.303542   \n",
       "CNT_DRAWINGS_ATM_CURRENT                0.303542                  1.000000   \n",
       "CNT_DRAWINGS_CURRENT                    0.256317                  0.410907   \n",
       "CNT_DRAWINGS_OTHER_CURRENT              0.046113                  0.012730   \n",
       "CNT_DRAWINGS_POS_CURRENT                0.154481                  0.108388   \n",
       "CNT_INSTALMENT_MATURE_CUM               0.005959                 -0.103403   \n",
       "SK_DPD                                 -0.046047                 -0.029395   \n",
       "SK_DPD_DEF                              0.017243                 -0.004277   \n",
       "\n",
       "                            CNT_DRAWINGS_CURRENT  CNT_DRAWINGS_OTHER_CURRENT  \\\n",
       "SK_ID_PREV                              0.000367                   -0.001412   \n",
       "SK_ID_CURR                              0.002654                   -0.000131   \n",
       "MONTHS_BALANCE                          0.113321                   -0.026192   \n",
       "AMT_BALANCE                             0.259184                    0.046563   \n",
       "AMT_CREDIT_LIMIT_ACTUAL                 0.204237                    0.030051   \n",
       "AMT_DRAWINGS_ATM_CURRENT                0.298173                    0.013254   \n",
       "AMT_DRAWINGS_CURRENT                    0.523016                    0.140032   \n",
       "AMT_DRAWINGS_OTHER_CURRENT              0.021271                    0.575295   \n",
       "AMT_DRAWINGS_POS_CURRENT                0.520123                    0.007620   \n",
       "AMT_INST_MIN_REGULARITY                 0.148262                    0.014360   \n",
       "AMT_PAYMENT_CURRENT                     0.223483                    0.017246   \n",
       "AMT_PAYMENT_TOTAL_CURRENT               0.217857                    0.014041   \n",
       "AMT_RECEIVABLE_PRINCIPAL                0.258848                    0.046543   \n",
       "AMT_RECIVABLE                           0.256347                    0.046118   \n",
       "AMT_TOTAL_RECEIVABLE                    0.256317                    0.046113   \n",
       "CNT_DRAWINGS_ATM_CURRENT                0.410907                    0.012730   \n",
       "CNT_DRAWINGS_CURRENT                    1.000000                    0.033940   \n",
       "CNT_DRAWINGS_OTHER_CURRENT              0.033940                    1.000000   \n",
       "CNT_DRAWINGS_POS_CURRENT                0.950546                    0.007203   \n",
       "CNT_INSTALMENT_MATURE_CUM              -0.099186                   -0.021632   \n",
       "SK_DPD                                 -0.020786                   -0.006083   \n",
       "SK_DPD_DEF                             -0.003106                   -0.000895   \n",
       "\n",
       "                            CNT_DRAWINGS_POS_CURRENT  \\\n",
       "SK_ID_PREV                                  0.000809   \n",
       "SK_ID_CURR                                  0.002135   \n",
       "MONTHS_BALANCE                              0.160207   \n",
       "AMT_BALANCE                                 0.155553   \n",
       "AMT_CREDIT_LIMIT_ACTUAL                     0.202868   \n",
       "AMT_DRAWINGS_ATM_CURRENT                    0.076083   \n",
       "AMT_DRAWINGS_CURRENT                        0.359001   \n",
       "AMT_DRAWINGS_OTHER_CURRENT                  0.004458   \n",
       "AMT_DRAWINGS_POS_CURRENT                    0.542556   \n",
       "AMT_INST_MIN_REGULARITY                     0.086729   \n",
       "AMT_PAYMENT_CURRENT                         0.195074   \n",
       "AMT_PAYMENT_TOTAL_CURRENT                   0.183973   \n",
       "AMT_RECEIVABLE_PRINCIPAL                    0.157723   \n",
       "AMT_RECIVABLE                               0.154507   \n",
       "AMT_TOTAL_RECEIVABLE                        0.154481   \n",
       "CNT_DRAWINGS_ATM_CURRENT                    0.108388   \n",
       "CNT_DRAWINGS_CURRENT                        0.950546   \n",
       "CNT_DRAWINGS_OTHER_CURRENT                  0.007203   \n",
       "CNT_DRAWINGS_POS_CURRENT                    1.000000   \n",
       "CNT_INSTALMENT_MATURE_CUM                  -0.129338   \n",
       "SK_DPD                                     -0.018212   \n",
       "SK_DPD_DEF                                 -0.002840   \n",
       "\n",
       "                            CNT_INSTALMENT_MATURE_CUM    SK_DPD  SK_DPD_DEF  \n",
       "SK_ID_PREV                                  -0.007219 -0.001786    0.001973  \n",
       "SK_ID_CURR                                  -0.000581 -0.000962    0.001519  \n",
       "MONTHS_BALANCE                              -0.008620  0.039434    0.001659  \n",
       "AMT_BALANCE                                  0.005009 -0.046988    0.013009  \n",
       "AMT_CREDIT_LIMIT_ACTUAL                     -0.157269 -0.038791   -0.002236  \n",
       "AMT_DRAWINGS_ATM_CURRENT                    -0.103721 -0.022044   -0.003360  \n",
       "AMT_DRAWINGS_CURRENT                        -0.093491 -0.020606   -0.003137  \n",
       "AMT_DRAWINGS_OTHER_CURRENT                  -0.023013 -0.003693   -0.000568  \n",
       "AMT_DRAWINGS_POS_CURRENT                    -0.106813 -0.015040   -0.002384  \n",
       "AMT_INST_MIN_REGULARITY                      0.064320 -0.061484   -0.005715  \n",
       "AMT_PAYMENT_CURRENT                         -0.079266 -0.030222   -0.004340  \n",
       "AMT_PAYMENT_TOTAL_CURRENT                   -0.023156 -0.022475   -0.003443  \n",
       "AMT_RECEIVABLE_PRINCIPAL                     0.003664 -0.048290    0.006780  \n",
       "AMT_RECIVABLE                                0.005935 -0.046434    0.015466  \n",
       "AMT_TOTAL_RECEIVABLE                         0.005959 -0.046047    0.017243  \n",
       "CNT_DRAWINGS_ATM_CURRENT                    -0.103403 -0.029395   -0.004277  \n",
       "CNT_DRAWINGS_CURRENT                        -0.099186 -0.020786   -0.003106  \n",
       "CNT_DRAWINGS_OTHER_CURRENT                  -0.021632 -0.006083   -0.000895  \n",
       "CNT_DRAWINGS_POS_CURRENT                    -0.129338 -0.018212   -0.002840  \n",
       "CNT_INSTALMENT_MATURE_CUM                    1.000000  0.059654    0.002156  \n",
       "SK_DPD                                       0.059654  1.000000    0.218950  \n",
       "SK_DPD_DEF                                   0.002156  0.218950    1.000000  \n",
       "\n",
       "[22 rows x 22 columns]"
      ]
     },
     "execution_count": 117,
     "metadata": {},
     "output_type": "execute_result"
    }
   ],
   "source": [
    "ccb.corr(numeric_only=True)"
   ]
  },
  {
   "cell_type": "markdown",
   "metadata": {},
   "source": [
    "#### AMT_PAYMENT_CURRENT"
   ]
  },
  {
   "cell_type": "code",
   "execution_count": 118,
   "metadata": {},
   "outputs": [
    {
     "data": {
      "text/plain": [
       "AMT_PAYMENT_CURRENT           1.000000\n",
       "AMT_PAYMENT_TOTAL_CURRENT     0.994764\n",
       "AMT_DRAWINGS_CURRENT          0.337343\n",
       "AMT_INST_MIN_REGULARITY       0.333909\n",
       "AMT_DRAWINGS_POS_CURRENT      0.321055\n",
       "AMT_CREDIT_LIMIT_ACTUAL       0.308294\n",
       "CNT_DRAWINGS_CURRENT          0.223483\n",
       "CNT_DRAWINGS_POS_CURRENT      0.195074\n",
       "AMT_DRAWINGS_ATM_CURRENT      0.189075\n",
       "AMT_BALANCE                   0.143934\n",
       "AMT_RECEIVABLE_PRINCIPAL      0.143162\n",
       "CNT_DRAWINGS_ATM_CURRENT      0.142935\n",
       "AMT_RECIVABLE                 0.142389\n",
       "AMT_TOTAL_RECEIVABLE          0.142371\n",
       "CNT_INSTALMENT_MATURE_CUM     0.079266\n",
       "MONTHS_BALANCE                0.076355\n",
       "AMT_DRAWINGS_OTHER_CURRENT    0.034577\n",
       "SK_DPD                        0.030222\n",
       "CNT_DRAWINGS_OTHER_CURRENT    0.017246\n",
       "SK_DPD_DEF                    0.004340\n",
       "SK_ID_PREV                    0.003472\n",
       "SK_ID_CURR                    0.000127\n",
       "Name: AMT_PAYMENT_CURRENT, dtype: float64"
      ]
     },
     "execution_count": 118,
     "metadata": {},
     "output_type": "execute_result"
    }
   ],
   "source": [
    "ccb.corr(numeric_only=True)['AMT_PAYMENT_CURRENT'].abs().sort_values(ascending=False)"
   ]
  },
  {
   "cell_type": "code",
   "execution_count": 119,
   "metadata": {},
   "outputs": [
    {
     "data": {
      "text/plain": [
       "AMT_PAYMENT_CURRENT\n",
       "NaN          767988\n",
       "0.000        390507\n",
       "9000.000     257297\n",
       "4500.000     143572\n",
       "6750.000     128296\n",
       "              ...  \n",
       "3528.225          1\n",
       "4152.420          1\n",
       "14445.135         1\n",
       "23886.765         1\n",
       "6009.795          1\n",
       "Name: count, Length: 163210, dtype: int64"
      ]
     },
     "execution_count": 119,
     "metadata": {},
     "output_type": "execute_result"
    }
   ],
   "source": [
    "ccb['AMT_PAYMENT_CURRENT'].value_counts(dropna=False)"
   ]
  },
  {
   "cell_type": "code",
   "execution_count": 120,
   "metadata": {},
   "outputs": [
    {
     "data": {
      "text/html": [
       "<div>\n",
       "<style scoped>\n",
       "    .dataframe tbody tr th:only-of-type {\n",
       "        vertical-align: middle;\n",
       "    }\n",
       "\n",
       "    .dataframe tbody tr th {\n",
       "        vertical-align: top;\n",
       "    }\n",
       "\n",
       "    .dataframe thead th {\n",
       "        text-align: right;\n",
       "    }\n",
       "</style>\n",
       "<table border=\"1\" class=\"dataframe\">\n",
       "  <thead>\n",
       "    <tr style=\"text-align: right;\">\n",
       "      <th></th>\n",
       "      <th>AMT_PAYMENT_CURRENT</th>\n",
       "      <th>AMT_PAYMENT_TOTAL_CURRENT</th>\n",
       "      <th>AMT_DRAWINGS_CURRENT</th>\n",
       "      <th>AMT_INST_MIN_REGULARITY</th>\n",
       "      <th>AMT_DRAWINGS_POS_CURRENT</th>\n",
       "      <th>AMT_CREDIT_LIMIT_ACTUAL</th>\n",
       "    </tr>\n",
       "  </thead>\n",
       "  <tbody>\n",
       "    <tr>\n",
       "      <th>17</th>\n",
       "      <td>0.0</td>\n",
       "      <td>0.0</td>\n",
       "      <td>0.0</td>\n",
       "      <td>0.0</td>\n",
       "      <td>0.0</td>\n",
       "      <td>67500</td>\n",
       "    </tr>\n",
       "    <tr>\n",
       "      <th>18</th>\n",
       "      <td>0.0</td>\n",
       "      <td>0.0</td>\n",
       "      <td>0.0</td>\n",
       "      <td>0.0</td>\n",
       "      <td>0.0</td>\n",
       "      <td>0</td>\n",
       "    </tr>\n",
       "    <tr>\n",
       "      <th>31</th>\n",
       "      <td>0.0</td>\n",
       "      <td>0.0</td>\n",
       "      <td>0.0</td>\n",
       "      <td>18000.0</td>\n",
       "      <td>0.0</td>\n",
       "      <td>360000</td>\n",
       "    </tr>\n",
       "    <tr>\n",
       "      <th>33</th>\n",
       "      <td>0.0</td>\n",
       "      <td>0.0</td>\n",
       "      <td>0.0</td>\n",
       "      <td>2250.0</td>\n",
       "      <td>0.0</td>\n",
       "      <td>540000</td>\n",
       "    </tr>\n",
       "    <tr>\n",
       "      <th>46</th>\n",
       "      <td>0.0</td>\n",
       "      <td>0.0</td>\n",
       "      <td>0.0</td>\n",
       "      <td>0.0</td>\n",
       "      <td>0.0</td>\n",
       "      <td>0</td>\n",
       "    </tr>\n",
       "    <tr>\n",
       "      <th>...</th>\n",
       "      <td>...</td>\n",
       "      <td>...</td>\n",
       "      <td>...</td>\n",
       "      <td>...</td>\n",
       "      <td>...</td>\n",
       "      <td>...</td>\n",
       "    </tr>\n",
       "    <tr>\n",
       "      <th>3840270</th>\n",
       "      <td>0.0</td>\n",
       "      <td>0.0</td>\n",
       "      <td>0.0</td>\n",
       "      <td>0.0</td>\n",
       "      <td>0.0</td>\n",
       "      <td>54000</td>\n",
       "    </tr>\n",
       "    <tr>\n",
       "      <th>3840282</th>\n",
       "      <td>0.0</td>\n",
       "      <td>0.0</td>\n",
       "      <td>0.0</td>\n",
       "      <td>0.0</td>\n",
       "      <td>0.0</td>\n",
       "      <td>0</td>\n",
       "    </tr>\n",
       "    <tr>\n",
       "      <th>3840284</th>\n",
       "      <td>0.0</td>\n",
       "      <td>0.0</td>\n",
       "      <td>0.0</td>\n",
       "      <td>0.0</td>\n",
       "      <td>0.0</td>\n",
       "      <td>0</td>\n",
       "    </tr>\n",
       "    <tr>\n",
       "      <th>3840286</th>\n",
       "      <td>0.0</td>\n",
       "      <td>0.0</td>\n",
       "      <td>0.0</td>\n",
       "      <td>0.0</td>\n",
       "      <td>0.0</td>\n",
       "      <td>0</td>\n",
       "    </tr>\n",
       "    <tr>\n",
       "      <th>3840311</th>\n",
       "      <td>0.0</td>\n",
       "      <td>0.0</td>\n",
       "      <td>0.0</td>\n",
       "      <td>0.0</td>\n",
       "      <td>0.0</td>\n",
       "      <td>157500</td>\n",
       "    </tr>\n",
       "  </tbody>\n",
       "</table>\n",
       "<p>390507 rows × 6 columns</p>\n",
       "</div>"
      ],
      "text/plain": [
       "         AMT_PAYMENT_CURRENT  AMT_PAYMENT_TOTAL_CURRENT  AMT_DRAWINGS_CURRENT  \\\n",
       "17                       0.0                        0.0                   0.0   \n",
       "18                       0.0                        0.0                   0.0   \n",
       "31                       0.0                        0.0                   0.0   \n",
       "33                       0.0                        0.0                   0.0   \n",
       "46                       0.0                        0.0                   0.0   \n",
       "...                      ...                        ...                   ...   \n",
       "3840270                  0.0                        0.0                   0.0   \n",
       "3840282                  0.0                        0.0                   0.0   \n",
       "3840284                  0.0                        0.0                   0.0   \n",
       "3840286                  0.0                        0.0                   0.0   \n",
       "3840311                  0.0                        0.0                   0.0   \n",
       "\n",
       "         AMT_INST_MIN_REGULARITY  AMT_DRAWINGS_POS_CURRENT  \\\n",
       "17                           0.0                       0.0   \n",
       "18                           0.0                       0.0   \n",
       "31                       18000.0                       0.0   \n",
       "33                        2250.0                       0.0   \n",
       "46                           0.0                       0.0   \n",
       "...                          ...                       ...   \n",
       "3840270                      0.0                       0.0   \n",
       "3840282                      0.0                       0.0   \n",
       "3840284                      0.0                       0.0   \n",
       "3840286                      0.0                       0.0   \n",
       "3840311                      0.0                       0.0   \n",
       "\n",
       "         AMT_CREDIT_LIMIT_ACTUAL  \n",
       "17                         67500  \n",
       "18                             0  \n",
       "31                        360000  \n",
       "33                        540000  \n",
       "46                             0  \n",
       "...                          ...  \n",
       "3840270                    54000  \n",
       "3840282                        0  \n",
       "3840284                        0  \n",
       "3840286                        0  \n",
       "3840311                   157500  \n",
       "\n",
       "[390507 rows x 6 columns]"
      ]
     },
     "execution_count": 120,
     "metadata": {},
     "output_type": "execute_result"
    }
   ],
   "source": [
    "ccb[ccb['AMT_PAYMENT_CURRENT']==0.0][['AMT_PAYMENT_CURRENT', 'AMT_PAYMENT_TOTAL_CURRENT', 'AMT_DRAWINGS_CURRENT', 'AMT_INST_MIN_REGULARITY', 'AMT_DRAWINGS_POS_CURRENT', 'AMT_CREDIT_LIMIT_ACTUAL']]"
   ]
  },
  {
   "cell_type": "code",
   "execution_count": 121,
   "metadata": {},
   "outputs": [
    {
     "data": {
      "text/html": [
       "<div>\n",
       "<style scoped>\n",
       "    .dataframe tbody tr th:only-of-type {\n",
       "        vertical-align: middle;\n",
       "    }\n",
       "\n",
       "    .dataframe tbody tr th {\n",
       "        vertical-align: top;\n",
       "    }\n",
       "\n",
       "    .dataframe thead th {\n",
       "        text-align: right;\n",
       "    }\n",
       "</style>\n",
       "<table border=\"1\" class=\"dataframe\">\n",
       "  <thead>\n",
       "    <tr style=\"text-align: right;\">\n",
       "      <th></th>\n",
       "      <th>AMT_PAYMENT_CURRENT</th>\n",
       "      <th>AMT_PAYMENT_TOTAL_CURRENT</th>\n",
       "      <th>AMT_DRAWINGS_CURRENT</th>\n",
       "      <th>AMT_INST_MIN_REGULARITY</th>\n",
       "      <th>AMT_DRAWINGS_POS_CURRENT</th>\n",
       "      <th>AMT_CREDIT_LIMIT_ACTUAL</th>\n",
       "    </tr>\n",
       "  </thead>\n",
       "  <tbody>\n",
       "    <tr>\n",
       "      <th>0</th>\n",
       "      <td>1800.0</td>\n",
       "      <td>1800.0</td>\n",
       "      <td>877.5</td>\n",
       "      <td>1700.325</td>\n",
       "      <td>877.5</td>\n",
       "      <td>135000</td>\n",
       "    </tr>\n",
       "    <tr>\n",
       "      <th>1</th>\n",
       "      <td>2250.0</td>\n",
       "      <td>2250.0</td>\n",
       "      <td>2250.0</td>\n",
       "      <td>2250.000</td>\n",
       "      <td>0.0</td>\n",
       "      <td>45000</td>\n",
       "    </tr>\n",
       "    <tr>\n",
       "      <th>2</th>\n",
       "      <td>2250.0</td>\n",
       "      <td>2250.0</td>\n",
       "      <td>0.0</td>\n",
       "      <td>2250.000</td>\n",
       "      <td>0.0</td>\n",
       "      <td>450000</td>\n",
       "    </tr>\n",
       "    <tr>\n",
       "      <th>3</th>\n",
       "      <td>11925.0</td>\n",
       "      <td>11925.0</td>\n",
       "      <td>2250.0</td>\n",
       "      <td>11795.760</td>\n",
       "      <td>0.0</td>\n",
       "      <td>225000</td>\n",
       "    </tr>\n",
       "    <tr>\n",
       "      <th>4</th>\n",
       "      <td>27000.0</td>\n",
       "      <td>27000.0</td>\n",
       "      <td>11547.0</td>\n",
       "      <td>22924.890</td>\n",
       "      <td>11547.0</td>\n",
       "      <td>450000</td>\n",
       "    </tr>\n",
       "    <tr>\n",
       "      <th>...</th>\n",
       "      <td>...</td>\n",
       "      <td>...</td>\n",
       "      <td>...</td>\n",
       "      <td>...</td>\n",
       "      <td>...</td>\n",
       "      <td>...</td>\n",
       "    </tr>\n",
       "    <tr>\n",
       "      <th>3840291</th>\n",
       "      <td>72000.0</td>\n",
       "      <td>72000.0</td>\n",
       "      <td>0.0</td>\n",
       "      <td>20580.885</td>\n",
       "      <td>0.0</td>\n",
       "      <td>405000</td>\n",
       "    </tr>\n",
       "    <tr>\n",
       "      <th>3840292</th>\n",
       "      <td>13950.0</td>\n",
       "      <td>13950.0</td>\n",
       "      <td>18000.0</td>\n",
       "      <td>13596.255</td>\n",
       "      <td>0.0</td>\n",
       "      <td>292500</td>\n",
       "    </tr>\n",
       "    <tr>\n",
       "      <th>3840295</th>\n",
       "      <td>16650.0</td>\n",
       "      <td>16650.0</td>\n",
       "      <td>180000.0</td>\n",
       "      <td>16258.320</td>\n",
       "      <td>0.0</td>\n",
       "      <td>900000</td>\n",
       "    </tr>\n",
       "    <tr>\n",
       "      <th>3840298</th>\n",
       "      <td>13500.0</td>\n",
       "      <td>13500.0</td>\n",
       "      <td>0.0</td>\n",
       "      <td>13500.000</td>\n",
       "      <td>0.0</td>\n",
       "      <td>270000</td>\n",
       "    </tr>\n",
       "    <tr>\n",
       "      <th>3840311</th>\n",
       "      <td>0.0</td>\n",
       "      <td>0.0</td>\n",
       "      <td>0.0</td>\n",
       "      <td>0.000</td>\n",
       "      <td>0.0</td>\n",
       "      <td>157500</td>\n",
       "    </tr>\n",
       "  </tbody>\n",
       "</table>\n",
       "<p>1885092 rows × 6 columns</p>\n",
       "</div>"
      ],
      "text/plain": [
       "         AMT_PAYMENT_CURRENT  AMT_PAYMENT_TOTAL_CURRENT  AMT_DRAWINGS_CURRENT  \\\n",
       "0                     1800.0                     1800.0                 877.5   \n",
       "1                     2250.0                     2250.0                2250.0   \n",
       "2                     2250.0                     2250.0                   0.0   \n",
       "3                    11925.0                    11925.0                2250.0   \n",
       "4                    27000.0                    27000.0               11547.0   \n",
       "...                      ...                        ...                   ...   \n",
       "3840291              72000.0                    72000.0                   0.0   \n",
       "3840292              13950.0                    13950.0               18000.0   \n",
       "3840295              16650.0                    16650.0              180000.0   \n",
       "3840298              13500.0                    13500.0                   0.0   \n",
       "3840311                  0.0                        0.0                   0.0   \n",
       "\n",
       "         AMT_INST_MIN_REGULARITY  AMT_DRAWINGS_POS_CURRENT  \\\n",
       "0                       1700.325                     877.5   \n",
       "1                       2250.000                       0.0   \n",
       "2                       2250.000                       0.0   \n",
       "3                      11795.760                       0.0   \n",
       "4                      22924.890                   11547.0   \n",
       "...                          ...                       ...   \n",
       "3840291                20580.885                       0.0   \n",
       "3840292                13596.255                       0.0   \n",
       "3840295                16258.320                       0.0   \n",
       "3840298                13500.000                       0.0   \n",
       "3840311                    0.000                       0.0   \n",
       "\n",
       "         AMT_CREDIT_LIMIT_ACTUAL  \n",
       "0                         135000  \n",
       "1                          45000  \n",
       "2                         450000  \n",
       "3                         225000  \n",
       "4                         450000  \n",
       "...                          ...  \n",
       "3840291                   405000  \n",
       "3840292                   292500  \n",
       "3840295                   900000  \n",
       "3840298                   270000  \n",
       "3840311                   157500  \n",
       "\n",
       "[1885092 rows x 6 columns]"
      ]
     },
     "execution_count": 121,
     "metadata": {},
     "output_type": "execute_result"
    }
   ],
   "source": [
    "ccb[ccb['AMT_PAYMENT_CURRENT']==ccb['AMT_PAYMENT_TOTAL_CURRENT']][['AMT_PAYMENT_CURRENT', 'AMT_PAYMENT_TOTAL_CURRENT', 'AMT_DRAWINGS_CURRENT', 'AMT_INST_MIN_REGULARITY', 'AMT_DRAWINGS_POS_CURRENT', 'AMT_CREDIT_LIMIT_ACTUAL']]"
   ]
  },
  {
   "cell_type": "code",
   "execution_count": 122,
   "metadata": {},
   "outputs": [
    {
     "data": {
      "text/plain": [
       "0"
      ]
     },
     "execution_count": 122,
     "metadata": {},
     "output_type": "execute_result"
    }
   ],
   "source": [
    "ccb['AMT_PAYMENT_CURRENT'] = np.where((ccb['AMT_PAYMENT_CURRENT'].isnull()) & (ccb['AMT_PAYMENT_TOTAL_CURRENT']==0), 0, ccb['AMT_PAYMENT_CURRENT'])\n",
    "ccb['AMT_PAYMENT_CURRENT'].isnull().sum()"
   ]
  },
  {
   "cell_type": "markdown",
   "metadata": {},
   "source": [
    "#### CNT_DRAWINGS_POS_CURRENT"
   ]
  },
  {
   "cell_type": "code",
   "execution_count": 123,
   "metadata": {},
   "outputs": [
    {
     "data": {
      "text/plain": [
       "CNT_DRAWINGS_POS_CURRENT\n",
       "0.0      2825594\n",
       "NaN       749816\n",
       "1.0        72216\n",
       "2.0        41061\n",
       "3.0        27337\n",
       "          ...   \n",
       "110.0          1\n",
       "165.0          1\n",
       "111.0          1\n",
       "115.0          1\n",
       "100.0          1\n",
       "Name: count, Length: 134, dtype: int64"
      ]
     },
     "execution_count": 123,
     "metadata": {},
     "output_type": "execute_result"
    }
   ],
   "source": [
    "ccb['CNT_DRAWINGS_POS_CURRENT'].value_counts(dropna=False)"
   ]
  },
  {
   "cell_type": "code",
   "execution_count": 124,
   "metadata": {},
   "outputs": [
    {
     "data": {
      "text/html": [
       "<div>\n",
       "<style scoped>\n",
       "    .dataframe tbody tr th:only-of-type {\n",
       "        vertical-align: middle;\n",
       "    }\n",
       "\n",
       "    .dataframe tbody tr th {\n",
       "        vertical-align: top;\n",
       "    }\n",
       "\n",
       "    .dataframe thead th {\n",
       "        text-align: right;\n",
       "    }\n",
       "</style>\n",
       "<table border=\"1\" class=\"dataframe\">\n",
       "  <thead>\n",
       "    <tr style=\"text-align: right;\">\n",
       "      <th></th>\n",
       "      <th>CNT_DRAWINGS_POS_CURRENT</th>\n",
       "      <th>CNT_DRAWINGS_OTHER_CURRENT</th>\n",
       "      <th>CNT_DRAWINGS_ATM_CURRENT</th>\n",
       "      <th>CNT_DRAWINGS_CURRENT</th>\n",
       "    </tr>\n",
       "  </thead>\n",
       "  <tbody>\n",
       "    <tr>\n",
       "      <th>1</th>\n",
       "      <td>0.0</td>\n",
       "      <td>0.0</td>\n",
       "      <td>1.0</td>\n",
       "      <td>1</td>\n",
       "    </tr>\n",
       "    <tr>\n",
       "      <th>2</th>\n",
       "      <td>0.0</td>\n",
       "      <td>0.0</td>\n",
       "      <td>0.0</td>\n",
       "      <td>0</td>\n",
       "    </tr>\n",
       "    <tr>\n",
       "      <th>3</th>\n",
       "      <td>0.0</td>\n",
       "      <td>0.0</td>\n",
       "      <td>1.0</td>\n",
       "      <td>1</td>\n",
       "    </tr>\n",
       "    <tr>\n",
       "      <th>5</th>\n",
       "      <td>0.0</td>\n",
       "      <td>0.0</td>\n",
       "      <td>0.0</td>\n",
       "      <td>0</td>\n",
       "    </tr>\n",
       "    <tr>\n",
       "      <th>6</th>\n",
       "      <td>0.0</td>\n",
       "      <td>0.0</td>\n",
       "      <td>1.0</td>\n",
       "      <td>1</td>\n",
       "    </tr>\n",
       "    <tr>\n",
       "      <th>...</th>\n",
       "      <td>...</td>\n",
       "      <td>...</td>\n",
       "      <td>...</td>\n",
       "      <td>...</td>\n",
       "    </tr>\n",
       "    <tr>\n",
       "      <th>3840304</th>\n",
       "      <td>0.0</td>\n",
       "      <td>0.0</td>\n",
       "      <td>0.0</td>\n",
       "      <td>0</td>\n",
       "    </tr>\n",
       "    <tr>\n",
       "      <th>3840305</th>\n",
       "      <td>0.0</td>\n",
       "      <td>0.0</td>\n",
       "      <td>0.0</td>\n",
       "      <td>0</td>\n",
       "    </tr>\n",
       "    <tr>\n",
       "      <th>3840308</th>\n",
       "      <td>0.0</td>\n",
       "      <td>0.0</td>\n",
       "      <td>0.0</td>\n",
       "      <td>0</td>\n",
       "    </tr>\n",
       "    <tr>\n",
       "      <th>3840309</th>\n",
       "      <td>0.0</td>\n",
       "      <td>0.0</td>\n",
       "      <td>2.0</td>\n",
       "      <td>2</td>\n",
       "    </tr>\n",
       "    <tr>\n",
       "      <th>3840311</th>\n",
       "      <td>0.0</td>\n",
       "      <td>0.0</td>\n",
       "      <td>0.0</td>\n",
       "      <td>0</td>\n",
       "    </tr>\n",
       "  </tbody>\n",
       "</table>\n",
       "<p>2825594 rows × 4 columns</p>\n",
       "</div>"
      ],
      "text/plain": [
       "         CNT_DRAWINGS_POS_CURRENT  CNT_DRAWINGS_OTHER_CURRENT  \\\n",
       "1                             0.0                         0.0   \n",
       "2                             0.0                         0.0   \n",
       "3                             0.0                         0.0   \n",
       "5                             0.0                         0.0   \n",
       "6                             0.0                         0.0   \n",
       "...                           ...                         ...   \n",
       "3840304                       0.0                         0.0   \n",
       "3840305                       0.0                         0.0   \n",
       "3840308                       0.0                         0.0   \n",
       "3840309                       0.0                         0.0   \n",
       "3840311                       0.0                         0.0   \n",
       "\n",
       "         CNT_DRAWINGS_ATM_CURRENT  CNT_DRAWINGS_CURRENT  \n",
       "1                             1.0                     1  \n",
       "2                             0.0                     0  \n",
       "3                             1.0                     1  \n",
       "5                             0.0                     0  \n",
       "6                             1.0                     1  \n",
       "...                           ...                   ...  \n",
       "3840304                       0.0                     0  \n",
       "3840305                       0.0                     0  \n",
       "3840308                       0.0                     0  \n",
       "3840309                       2.0                     2  \n",
       "3840311                       0.0                     0  \n",
       "\n",
       "[2825594 rows x 4 columns]"
      ]
     },
     "execution_count": 124,
     "metadata": {},
     "output_type": "execute_result"
    }
   ],
   "source": [
    "ccb[ccb['CNT_DRAWINGS_POS_CURRENT']==0][['CNT_DRAWINGS_POS_CURRENT','CNT_DRAWINGS_OTHER_CURRENT','CNT_DRAWINGS_ATM_CURRENT','CNT_DRAWINGS_CURRENT']]"
   ]
  },
  {
   "cell_type": "code",
   "execution_count": 125,
   "metadata": {},
   "outputs": [
    {
     "data": {
      "text/plain": [
       "0"
      ]
     },
     "execution_count": 125,
     "metadata": {},
     "output_type": "execute_result"
    }
   ],
   "source": [
    "ccb['CNT_DRAWINGS_POS_CURRENT'] = np.where((ccb['CNT_DRAWINGS_POS_CURRENT'].isnull()) & (ccb['CNT_DRAWINGS_CURRENT']==0), 0.0, ccb['CNT_DRAWINGS_POS_CURRENT'])\n",
    "ccb['CNT_DRAWINGS_POS_CURRENT'].isnull().sum()"
   ]
  },
  {
   "cell_type": "markdown",
   "metadata": {},
   "source": [
    "#### AMT_DRAWINGS_ATM_CURRENT"
   ]
  },
  {
   "cell_type": "code",
   "execution_count": 126,
   "metadata": {},
   "outputs": [
    {
     "data": {
      "text/plain": [
       "0"
      ]
     },
     "execution_count": 126,
     "metadata": {},
     "output_type": "execute_result"
    }
   ],
   "source": [
    "ccb['AMT_DRAWINGS_ATM_CURRENT'] = np.where((ccb['AMT_DRAWINGS_ATM_CURRENT'].isnull()) & (ccb['AMT_DRAWINGS_CURRENT']==0), 0.0, ccb['AMT_DRAWINGS_ATM_CURRENT'])\n",
    "ccb['AMT_DRAWINGS_ATM_CURRENT'].isnull().sum()"
   ]
  },
  {
   "cell_type": "markdown",
   "metadata": {},
   "source": [
    "#### CNT_DRAWINGS_OTHER_CURRENT"
   ]
  },
  {
   "cell_type": "code",
   "execution_count": 127,
   "metadata": {},
   "outputs": [
    {
     "data": {
      "text/plain": [
       "0"
      ]
     },
     "execution_count": 127,
     "metadata": {},
     "output_type": "execute_result"
    }
   ],
   "source": [
    "ccb['CNT_DRAWINGS_OTHER_CURRENT'] = np.where((ccb['CNT_DRAWINGS_OTHER_CURRENT'].isnull()) & (ccb['CNT_DRAWINGS_CURRENT']==0), 0.0, ccb['CNT_DRAWINGS_OTHER_CURRENT'])\n",
    "ccb['CNT_DRAWINGS_OTHER_CURRENT'].isnull().sum()"
   ]
  },
  {
   "cell_type": "markdown",
   "metadata": {},
   "source": [
    "#### AMT_DRAWINGS_OTHER_CURRENT"
   ]
  },
  {
   "cell_type": "code",
   "execution_count": 128,
   "metadata": {},
   "outputs": [
    {
     "data": {
      "text/plain": [
       "0"
      ]
     },
     "execution_count": 128,
     "metadata": {},
     "output_type": "execute_result"
    }
   ],
   "source": [
    "ccb['AMT_DRAWINGS_OTHER_CURRENT'] = np.where((ccb['AMT_DRAWINGS_OTHER_CURRENT'].isnull()) & (ccb['AMT_DRAWINGS_CURRENT']==0), 0.0, ccb['AMT_DRAWINGS_OTHER_CURRENT'])\n",
    "ccb['AMT_DRAWINGS_OTHER_CURRENT'].isnull().sum()"
   ]
  },
  {
   "cell_type": "markdown",
   "metadata": {},
   "source": [
    "#### AMT_DRAWINGS_POS_CURRENT"
   ]
  },
  {
   "cell_type": "code",
   "execution_count": 129,
   "metadata": {},
   "outputs": [
    {
     "data": {
      "text/plain": [
       "0"
      ]
     },
     "execution_count": 129,
     "metadata": {},
     "output_type": "execute_result"
    }
   ],
   "source": [
    "ccb['AMT_DRAWINGS_POS_CURRENT'] = np.where((ccb['AMT_DRAWINGS_POS_CURRENT'].isnull()) & (ccb['AMT_DRAWINGS_CURRENT']==0), 0.0, ccb['AMT_DRAWINGS_POS_CURRENT'])\n",
    "ccb['AMT_DRAWINGS_POS_CURRENT'].isnull().sum()"
   ]
  },
  {
   "cell_type": "markdown",
   "metadata": {},
   "source": [
    "#### CNT_DRAWINGS_ATM_CURRENT"
   ]
  },
  {
   "cell_type": "code",
   "execution_count": 130,
   "metadata": {},
   "outputs": [
    {
     "data": {
      "text/plain": [
       "0"
      ]
     },
     "execution_count": 130,
     "metadata": {},
     "output_type": "execute_result"
    }
   ],
   "source": [
    "ccb['CNT_DRAWINGS_ATM_CURRENT'] = np.where((ccb['CNT_DRAWINGS_ATM_CURRENT'].isnull()) & (ccb['CNT_DRAWINGS_CURRENT']==0), 0.0, ccb['CNT_DRAWINGS_ATM_CURRENT'])\n",
    "ccb['CNT_DRAWINGS_ATM_CURRENT'].isnull().sum()"
   ]
  },
  {
   "cell_type": "markdown",
   "metadata": {},
   "source": [
    "#### CNT_INSTALMENT_MATURE_CUM"
   ]
  },
  {
   "cell_type": "code",
   "execution_count": 131,
   "metadata": {},
   "outputs": [
    {
     "data": {
      "text/plain": [
       "CNT_INSTALMENT_MATURE_CUM\n",
       "0.0      551467\n",
       "NaN      305236\n",
       "5.0       91691\n",
       "2.0       91035\n",
       "4.0       89941\n",
       "          ...  \n",
       "116.0         6\n",
       "117.0         4\n",
       "118.0         3\n",
       "119.0         2\n",
       "120.0         1\n",
       "Name: count, Length: 122, dtype: int64"
      ]
     },
     "execution_count": 131,
     "metadata": {},
     "output_type": "execute_result"
    }
   ],
   "source": [
    "ccb['CNT_INSTALMENT_MATURE_CUM'].value_counts(dropna=False)"
   ]
  },
  {
   "cell_type": "code",
   "execution_count": 132,
   "metadata": {},
   "outputs": [
    {
     "data": {
      "text/html": [
       "<div>\n",
       "<style scoped>\n",
       "    .dataframe tbody tr th:only-of-type {\n",
       "        vertical-align: middle;\n",
       "    }\n",
       "\n",
       "    .dataframe tbody tr th {\n",
       "        vertical-align: top;\n",
       "    }\n",
       "\n",
       "    .dataframe thead th {\n",
       "        text-align: right;\n",
       "    }\n",
       "</style>\n",
       "<table border=\"1\" class=\"dataframe\">\n",
       "  <thead>\n",
       "    <tr style=\"text-align: right;\">\n",
       "      <th></th>\n",
       "      <th>CNT_INSTALMENT_MATURE_CUM</th>\n",
       "      <th>CNT_DRAWINGS_OTHER_CURRENT</th>\n",
       "    </tr>\n",
       "  </thead>\n",
       "  <tbody>\n",
       "    <tr>\n",
       "      <th>10</th>\n",
       "      <td>0.0</td>\n",
       "      <td>0.0</td>\n",
       "    </tr>\n",
       "    <tr>\n",
       "      <th>45</th>\n",
       "      <td>0.0</td>\n",
       "      <td>0.0</td>\n",
       "    </tr>\n",
       "    <tr>\n",
       "      <th>47</th>\n",
       "      <td>0.0</td>\n",
       "      <td>0.0</td>\n",
       "    </tr>\n",
       "    <tr>\n",
       "      <th>49</th>\n",
       "      <td>0.0</td>\n",
       "      <td>0.0</td>\n",
       "    </tr>\n",
       "    <tr>\n",
       "      <th>52</th>\n",
       "      <td>0.0</td>\n",
       "      <td>0.0</td>\n",
       "    </tr>\n",
       "    <tr>\n",
       "      <th>...</th>\n",
       "      <td>...</td>\n",
       "      <td>...</td>\n",
       "    </tr>\n",
       "    <tr>\n",
       "      <th>3840300</th>\n",
       "      <td>0.0</td>\n",
       "      <td>0.0</td>\n",
       "    </tr>\n",
       "    <tr>\n",
       "      <th>3840303</th>\n",
       "      <td>0.0</td>\n",
       "      <td>0.0</td>\n",
       "    </tr>\n",
       "    <tr>\n",
       "      <th>3840306</th>\n",
       "      <td>0.0</td>\n",
       "      <td>0.0</td>\n",
       "    </tr>\n",
       "    <tr>\n",
       "      <th>3840307</th>\n",
       "      <td>0.0</td>\n",
       "      <td>0.0</td>\n",
       "    </tr>\n",
       "    <tr>\n",
       "      <th>3840310</th>\n",
       "      <td>0.0</td>\n",
       "      <td>0.0</td>\n",
       "    </tr>\n",
       "  </tbody>\n",
       "</table>\n",
       "<p>550083 rows × 2 columns</p>\n",
       "</div>"
      ],
      "text/plain": [
       "         CNT_INSTALMENT_MATURE_CUM  CNT_DRAWINGS_OTHER_CURRENT\n",
       "10                             0.0                         0.0\n",
       "45                             0.0                         0.0\n",
       "47                             0.0                         0.0\n",
       "49                             0.0                         0.0\n",
       "52                             0.0                         0.0\n",
       "...                            ...                         ...\n",
       "3840300                        0.0                         0.0\n",
       "3840303                        0.0                         0.0\n",
       "3840306                        0.0                         0.0\n",
       "3840307                        0.0                         0.0\n",
       "3840310                        0.0                         0.0\n",
       "\n",
       "[550083 rows x 2 columns]"
      ]
     },
     "execution_count": 132,
     "metadata": {},
     "output_type": "execute_result"
    }
   ],
   "source": [
    "ccb[(ccb['CNT_INSTALMENT_MATURE_CUM']==0.0) & (ccb['CNT_DRAWINGS_OTHER_CURRENT'] == 0)][['CNT_INSTALMENT_MATURE_CUM', 'CNT_DRAWINGS_OTHER_CURRENT']]"
   ]
  },
  {
   "cell_type": "code",
   "execution_count": 133,
   "metadata": {},
   "outputs": [
    {
     "data": {
      "text/plain": [
       "0"
      ]
     },
     "execution_count": 133,
     "metadata": {},
     "output_type": "execute_result"
    }
   ],
   "source": [
    "ccb['CNT_INSTALMENT_MATURE_CUM'] = np.where(ccb['CNT_INSTALMENT_MATURE_CUM'].isnull(), ccb['CNT_INSTALMENT_MATURE_CUM'].mode(), ccb['CNT_INSTALMENT_MATURE_CUM'])\n",
    "ccb['CNT_INSTALMENT_MATURE_CUM'].isnull().sum()"
   ]
  },
  {
   "cell_type": "markdown",
   "metadata": {},
   "source": [
    "#### AMT_INST_MIN_REGULARITY"
   ]
  },
  {
   "cell_type": "code",
   "execution_count": 134,
   "metadata": {},
   "outputs": [
    {
     "data": {
      "text/plain": [
       "AMT_INST_MIN_REGULARITY\n",
       "0.000        1928864\n",
       "NaN           305236\n",
       "9000.000      225429\n",
       "6750.000      147469\n",
       "3375.000      127613\n",
       "              ...   \n",
       "18955.665          1\n",
       "13161.690          1\n",
       "22161.735          1\n",
       "13953.555          1\n",
       "16258.320          1\n",
       "Name: count, Length: 312267, dtype: int64"
      ]
     },
     "execution_count": 134,
     "metadata": {},
     "output_type": "execute_result"
    }
   ],
   "source": [
    "ccb['AMT_INST_MIN_REGULARITY'].value_counts(dropna=False)"
   ]
  },
  {
   "cell_type": "code",
   "execution_count": 135,
   "metadata": {},
   "outputs": [
    {
     "data": {
      "text/html": [
       "<div>\n",
       "<style scoped>\n",
       "    .dataframe tbody tr th:only-of-type {\n",
       "        vertical-align: middle;\n",
       "    }\n",
       "\n",
       "    .dataframe tbody tr th {\n",
       "        vertical-align: top;\n",
       "    }\n",
       "\n",
       "    .dataframe thead th {\n",
       "        text-align: right;\n",
       "    }\n",
       "</style>\n",
       "<table border=\"1\" class=\"dataframe\">\n",
       "  <thead>\n",
       "    <tr style=\"text-align: right;\">\n",
       "      <th></th>\n",
       "      <th>AMT_INST_MIN_REGULARITY</th>\n",
       "      <th>AMT_BALANCE</th>\n",
       "      <th>AMT_RECIVABLE</th>\n",
       "      <th>AMT_PAYMENT_TOTAL_CURRENT</th>\n",
       "    </tr>\n",
       "  </thead>\n",
       "  <tbody>\n",
       "    <tr>\n",
       "      <th>7</th>\n",
       "      <td>0.0</td>\n",
       "      <td>47962.125</td>\n",
       "      <td>47962.125</td>\n",
       "      <td>0.0</td>\n",
       "    </tr>\n",
       "    <tr>\n",
       "      <th>10</th>\n",
       "      <td>0.0</td>\n",
       "      <td>102076.560</td>\n",
       "      <td>94224.060</td>\n",
       "      <td>4500.0</td>\n",
       "    </tr>\n",
       "    <tr>\n",
       "      <th>14</th>\n",
       "      <td>0.0</td>\n",
       "      <td>0.000</td>\n",
       "      <td>0.000</td>\n",
       "      <td>0.0</td>\n",
       "    </tr>\n",
       "    <tr>\n",
       "      <th>17</th>\n",
       "      <td>0.0</td>\n",
       "      <td>0.000</td>\n",
       "      <td>0.000</td>\n",
       "      <td>0.0</td>\n",
       "    </tr>\n",
       "    <tr>\n",
       "      <th>18</th>\n",
       "      <td>0.0</td>\n",
       "      <td>0.000</td>\n",
       "      <td>0.000</td>\n",
       "      <td>0.0</td>\n",
       "    </tr>\n",
       "    <tr>\n",
       "      <th>...</th>\n",
       "      <td>...</td>\n",
       "      <td>...</td>\n",
       "      <td>...</td>\n",
       "      <td>...</td>\n",
       "    </tr>\n",
       "    <tr>\n",
       "      <th>3840306</th>\n",
       "      <td>0.0</td>\n",
       "      <td>0.000</td>\n",
       "      <td>0.000</td>\n",
       "      <td>0.0</td>\n",
       "    </tr>\n",
       "    <tr>\n",
       "      <th>3840307</th>\n",
       "      <td>0.0</td>\n",
       "      <td>0.000</td>\n",
       "      <td>0.000</td>\n",
       "      <td>0.0</td>\n",
       "    </tr>\n",
       "    <tr>\n",
       "      <th>3840308</th>\n",
       "      <td>0.0</td>\n",
       "      <td>0.000</td>\n",
       "      <td>0.000</td>\n",
       "      <td>0.0</td>\n",
       "    </tr>\n",
       "    <tr>\n",
       "      <th>3840310</th>\n",
       "      <td>0.0</td>\n",
       "      <td>0.000</td>\n",
       "      <td>0.000</td>\n",
       "      <td>0.0</td>\n",
       "    </tr>\n",
       "    <tr>\n",
       "      <th>3840311</th>\n",
       "      <td>0.0</td>\n",
       "      <td>0.000</td>\n",
       "      <td>0.000</td>\n",
       "      <td>0.0</td>\n",
       "    </tr>\n",
       "  </tbody>\n",
       "</table>\n",
       "<p>1928864 rows × 4 columns</p>\n",
       "</div>"
      ],
      "text/plain": [
       "         AMT_INST_MIN_REGULARITY  AMT_BALANCE  AMT_RECIVABLE  \\\n",
       "7                            0.0    47962.125      47962.125   \n",
       "10                           0.0   102076.560      94224.060   \n",
       "14                           0.0        0.000          0.000   \n",
       "17                           0.0        0.000          0.000   \n",
       "18                           0.0        0.000          0.000   \n",
       "...                          ...          ...            ...   \n",
       "3840306                      0.0        0.000          0.000   \n",
       "3840307                      0.0        0.000          0.000   \n",
       "3840308                      0.0        0.000          0.000   \n",
       "3840310                      0.0        0.000          0.000   \n",
       "3840311                      0.0        0.000          0.000   \n",
       "\n",
       "         AMT_PAYMENT_TOTAL_CURRENT  \n",
       "7                              0.0  \n",
       "10                          4500.0  \n",
       "14                             0.0  \n",
       "17                             0.0  \n",
       "18                             0.0  \n",
       "...                            ...  \n",
       "3840306                        0.0  \n",
       "3840307                        0.0  \n",
       "3840308                        0.0  \n",
       "3840310                        0.0  \n",
       "3840311                        0.0  \n",
       "\n",
       "[1928864 rows x 4 columns]"
      ]
     },
     "execution_count": 135,
     "metadata": {},
     "output_type": "execute_result"
    }
   ],
   "source": [
    "ccb[ccb['AMT_INST_MIN_REGULARITY']==0.0][['AMT_INST_MIN_REGULARITY', 'AMT_BALANCE', 'AMT_RECIVABLE', 'AMT_PAYMENT_TOTAL_CURRENT']]"
   ]
  },
  {
   "cell_type": "code",
   "execution_count": 136,
   "metadata": {},
   "outputs": [
    {
     "data": {
      "text/plain": [
       "SK_ID_PREV\n",
       "2377894    96\n",
       "2581635    96\n",
       "1130707    96\n",
       "1602951    96\n",
       "2775491    96\n",
       "           ..\n",
       "1896484     1\n",
       "2553866     1\n",
       "2809310     1\n",
       "2152605     1\n",
       "2191610     1\n",
       "Name: count, Length: 104307, dtype: int64"
      ]
     },
     "execution_count": 136,
     "metadata": {},
     "output_type": "execute_result"
    }
   ],
   "source": [
    "ccb['SK_ID_PREV'].value_counts()"
   ]
  },
  {
   "cell_type": "code",
   "execution_count": 137,
   "metadata": {},
   "outputs": [
    {
     "data": {
      "text/plain": [
       "SK_ID_CURR\n",
       "186401    192\n",
       "311118    178\n",
       "120076    140\n",
       "128827    129\n",
       "191826    128\n",
       "         ... \n",
       "430884      1\n",
       "354403      1\n",
       "327067      1\n",
       "336149      1\n",
       "382749      1\n",
       "Name: count, Length: 103558, dtype: int64"
      ]
     },
     "execution_count": 137,
     "metadata": {},
     "output_type": "execute_result"
    }
   ],
   "source": [
    "ccb['SK_ID_CURR'].value_counts()"
   ]
  },
  {
   "cell_type": "code",
   "execution_count": 138,
   "metadata": {},
   "outputs": [
    {
     "data": {
      "text/html": [
       "<div>\n",
       "<style scoped>\n",
       "    .dataframe tbody tr th:only-of-type {\n",
       "        vertical-align: middle;\n",
       "    }\n",
       "\n",
       "    .dataframe tbody tr th {\n",
       "        vertical-align: top;\n",
       "    }\n",
       "\n",
       "    .dataframe thead th {\n",
       "        text-align: right;\n",
       "    }\n",
       "</style>\n",
       "<table border=\"1\" class=\"dataframe\">\n",
       "  <thead>\n",
       "    <tr style=\"text-align: right;\">\n",
       "      <th></th>\n",
       "      <th>SK_ID_PREV</th>\n",
       "      <th>SK_ID_CURR</th>\n",
       "      <th>MONTHS_BALANCE</th>\n",
       "      <th>AMT_BALANCE</th>\n",
       "      <th>AMT_CREDIT_LIMIT_ACTUAL</th>\n",
       "      <th>AMT_DRAWINGS_ATM_CURRENT</th>\n",
       "      <th>AMT_DRAWINGS_CURRENT</th>\n",
       "      <th>AMT_DRAWINGS_OTHER_CURRENT</th>\n",
       "      <th>AMT_DRAWINGS_POS_CURRENT</th>\n",
       "      <th>AMT_INST_MIN_REGULARITY</th>\n",
       "      <th>...</th>\n",
       "      <th>AMT_RECIVABLE</th>\n",
       "      <th>AMT_TOTAL_RECEIVABLE</th>\n",
       "      <th>CNT_DRAWINGS_ATM_CURRENT</th>\n",
       "      <th>CNT_DRAWINGS_CURRENT</th>\n",
       "      <th>CNT_DRAWINGS_OTHER_CURRENT</th>\n",
       "      <th>CNT_DRAWINGS_POS_CURRENT</th>\n",
       "      <th>CNT_INSTALMENT_MATURE_CUM</th>\n",
       "      <th>NAME_CONTRACT_STATUS</th>\n",
       "      <th>SK_DPD</th>\n",
       "      <th>SK_DPD_DEF</th>\n",
       "    </tr>\n",
       "  </thead>\n",
       "  <tbody>\n",
       "    <tr>\n",
       "      <th>10956</th>\n",
       "      <td>2243411</td>\n",
       "      <td>186401</td>\n",
       "      <td>-3</td>\n",
       "      <td>0.000</td>\n",
       "      <td>0</td>\n",
       "      <td>0.0</td>\n",
       "      <td>0.0</td>\n",
       "      <td>0.0</td>\n",
       "      <td>0.0</td>\n",
       "      <td>0.0</td>\n",
       "      <td>...</td>\n",
       "      <td>0.000</td>\n",
       "      <td>0.000</td>\n",
       "      <td>0.0</td>\n",
       "      <td>0</td>\n",
       "      <td>0.0</td>\n",
       "      <td>0.0</td>\n",
       "      <td>64.0</td>\n",
       "      <td>Active</td>\n",
       "      <td>0</td>\n",
       "      <td>0</td>\n",
       "    </tr>\n",
       "    <tr>\n",
       "      <th>40458</th>\n",
       "      <td>1440617</td>\n",
       "      <td>186401</td>\n",
       "      <td>-38</td>\n",
       "      <td>0.000</td>\n",
       "      <td>112500</td>\n",
       "      <td>0.0</td>\n",
       "      <td>0.0</td>\n",
       "      <td>0.0</td>\n",
       "      <td>0.0</td>\n",
       "      <td>0.0</td>\n",
       "      <td>...</td>\n",
       "      <td>0.000</td>\n",
       "      <td>0.000</td>\n",
       "      <td>0.0</td>\n",
       "      <td>0</td>\n",
       "      <td>0.0</td>\n",
       "      <td>0.0</td>\n",
       "      <td>51.0</td>\n",
       "      <td>Active</td>\n",
       "      <td>0</td>\n",
       "      <td>0</td>\n",
       "    </tr>\n",
       "    <tr>\n",
       "      <th>78582</th>\n",
       "      <td>1440617</td>\n",
       "      <td>186401</td>\n",
       "      <td>-8</td>\n",
       "      <td>0.000</td>\n",
       "      <td>112500</td>\n",
       "      <td>0.0</td>\n",
       "      <td>0.0</td>\n",
       "      <td>0.0</td>\n",
       "      <td>0.0</td>\n",
       "      <td>0.0</td>\n",
       "      <td>...</td>\n",
       "      <td>0.000</td>\n",
       "      <td>0.000</td>\n",
       "      <td>0.0</td>\n",
       "      <td>0</td>\n",
       "      <td>0.0</td>\n",
       "      <td>0.0</td>\n",
       "      <td>51.0</td>\n",
       "      <td>Completed</td>\n",
       "      <td>0</td>\n",
       "      <td>0</td>\n",
       "    </tr>\n",
       "    <tr>\n",
       "      <th>138926</th>\n",
       "      <td>2243411</td>\n",
       "      <td>186401</td>\n",
       "      <td>-41</td>\n",
       "      <td>182695.680</td>\n",
       "      <td>180000</td>\n",
       "      <td>0.0</td>\n",
       "      <td>0.0</td>\n",
       "      <td>0.0</td>\n",
       "      <td>0.0</td>\n",
       "      <td>9000.0</td>\n",
       "      <td>...</td>\n",
       "      <td>182695.680</td>\n",
       "      <td>182695.680</td>\n",
       "      <td>0.0</td>\n",
       "      <td>0</td>\n",
       "      <td>0.0</td>\n",
       "      <td>0.0</td>\n",
       "      <td>55.0</td>\n",
       "      <td>Active</td>\n",
       "      <td>0</td>\n",
       "      <td>0</td>\n",
       "    </tr>\n",
       "    <tr>\n",
       "      <th>157718</th>\n",
       "      <td>2243411</td>\n",
       "      <td>186401</td>\n",
       "      <td>-23</td>\n",
       "      <td>0.000</td>\n",
       "      <td>180000</td>\n",
       "      <td>0.0</td>\n",
       "      <td>0.0</td>\n",
       "      <td>0.0</td>\n",
       "      <td>0.0</td>\n",
       "      <td>0.0</td>\n",
       "      <td>...</td>\n",
       "      <td>0.000</td>\n",
       "      <td>0.000</td>\n",
       "      <td>0.0</td>\n",
       "      <td>0</td>\n",
       "      <td>0.0</td>\n",
       "      <td>0.0</td>\n",
       "      <td>64.0</td>\n",
       "      <td>Active</td>\n",
       "      <td>0</td>\n",
       "      <td>0</td>\n",
       "    </tr>\n",
       "    <tr>\n",
       "      <th>...</th>\n",
       "      <td>...</td>\n",
       "      <td>...</td>\n",
       "      <td>...</td>\n",
       "      <td>...</td>\n",
       "      <td>...</td>\n",
       "      <td>...</td>\n",
       "      <td>...</td>\n",
       "      <td>...</td>\n",
       "      <td>...</td>\n",
       "      <td>...</td>\n",
       "      <td>...</td>\n",
       "      <td>...</td>\n",
       "      <td>...</td>\n",
       "      <td>...</td>\n",
       "      <td>...</td>\n",
       "      <td>...</td>\n",
       "      <td>...</td>\n",
       "      <td>...</td>\n",
       "      <td>...</td>\n",
       "      <td>...</td>\n",
       "      <td>...</td>\n",
       "    </tr>\n",
       "    <tr>\n",
       "      <th>3755437</th>\n",
       "      <td>2243411</td>\n",
       "      <td>186401</td>\n",
       "      <td>-76</td>\n",
       "      <td>184542.075</td>\n",
       "      <td>180000</td>\n",
       "      <td>4500.0</td>\n",
       "      <td>4500.0</td>\n",
       "      <td>0.0</td>\n",
       "      <td>0.0</td>\n",
       "      <td>9000.0</td>\n",
       "      <td>...</td>\n",
       "      <td>184542.075</td>\n",
       "      <td>184542.075</td>\n",
       "      <td>2.0</td>\n",
       "      <td>2</td>\n",
       "      <td>0.0</td>\n",
       "      <td>0.0</td>\n",
       "      <td>20.0</td>\n",
       "      <td>Active</td>\n",
       "      <td>1</td>\n",
       "      <td>1</td>\n",
       "    </tr>\n",
       "    <tr>\n",
       "      <th>3782341</th>\n",
       "      <td>2243411</td>\n",
       "      <td>186401</td>\n",
       "      <td>-40</td>\n",
       "      <td>183063.240</td>\n",
       "      <td>180000</td>\n",
       "      <td>2700.0</td>\n",
       "      <td>2700.0</td>\n",
       "      <td>0.0</td>\n",
       "      <td>0.0</td>\n",
       "      <td>9000.0</td>\n",
       "      <td>...</td>\n",
       "      <td>183063.240</td>\n",
       "      <td>183063.240</td>\n",
       "      <td>1.0</td>\n",
       "      <td>1</td>\n",
       "      <td>0.0</td>\n",
       "      <td>0.0</td>\n",
       "      <td>56.0</td>\n",
       "      <td>Active</td>\n",
       "      <td>0</td>\n",
       "      <td>0</td>\n",
       "    </tr>\n",
       "    <tr>\n",
       "      <th>3813465</th>\n",
       "      <td>2243411</td>\n",
       "      <td>186401</td>\n",
       "      <td>-46</td>\n",
       "      <td>180173.970</td>\n",
       "      <td>180000</td>\n",
       "      <td>2025.0</td>\n",
       "      <td>2025.0</td>\n",
       "      <td>0.0</td>\n",
       "      <td>0.0</td>\n",
       "      <td>9000.0</td>\n",
       "      <td>...</td>\n",
       "      <td>180173.970</td>\n",
       "      <td>180173.970</td>\n",
       "      <td>2.0</td>\n",
       "      <td>2</td>\n",
       "      <td>0.0</td>\n",
       "      <td>0.0</td>\n",
       "      <td>50.0</td>\n",
       "      <td>Active</td>\n",
       "      <td>0</td>\n",
       "      <td>0</td>\n",
       "    </tr>\n",
       "    <tr>\n",
       "      <th>3823260</th>\n",
       "      <td>2243411</td>\n",
       "      <td>186401</td>\n",
       "      <td>-7</td>\n",
       "      <td>0.000</td>\n",
       "      <td>0</td>\n",
       "      <td>0.0</td>\n",
       "      <td>0.0</td>\n",
       "      <td>0.0</td>\n",
       "      <td>0.0</td>\n",
       "      <td>0.0</td>\n",
       "      <td>...</td>\n",
       "      <td>0.000</td>\n",
       "      <td>0.000</td>\n",
       "      <td>0.0</td>\n",
       "      <td>0</td>\n",
       "      <td>0.0</td>\n",
       "      <td>0.0</td>\n",
       "      <td>64.0</td>\n",
       "      <td>Active</td>\n",
       "      <td>0</td>\n",
       "      <td>0</td>\n",
       "    </tr>\n",
       "    <tr>\n",
       "      <th>3824565</th>\n",
       "      <td>1440617</td>\n",
       "      <td>186401</td>\n",
       "      <td>-49</td>\n",
       "      <td>0.000</td>\n",
       "      <td>112500</td>\n",
       "      <td>0.0</td>\n",
       "      <td>0.0</td>\n",
       "      <td>0.0</td>\n",
       "      <td>0.0</td>\n",
       "      <td>0.0</td>\n",
       "      <td>...</td>\n",
       "      <td>-228.915</td>\n",
       "      <td>-228.915</td>\n",
       "      <td>0.0</td>\n",
       "      <td>0</td>\n",
       "      <td>0.0</td>\n",
       "      <td>0.0</td>\n",
       "      <td>51.0</td>\n",
       "      <td>Active</td>\n",
       "      <td>0</td>\n",
       "      <td>0</td>\n",
       "    </tr>\n",
       "  </tbody>\n",
       "</table>\n",
       "<p>192 rows × 23 columns</p>\n",
       "</div>"
      ],
      "text/plain": [
       "         SK_ID_PREV  SK_ID_CURR  MONTHS_BALANCE  AMT_BALANCE  \\\n",
       "10956       2243411      186401              -3        0.000   \n",
       "40458       1440617      186401             -38        0.000   \n",
       "78582       1440617      186401              -8        0.000   \n",
       "138926      2243411      186401             -41   182695.680   \n",
       "157718      2243411      186401             -23        0.000   \n",
       "...             ...         ...             ...          ...   \n",
       "3755437     2243411      186401             -76   184542.075   \n",
       "3782341     2243411      186401             -40   183063.240   \n",
       "3813465     2243411      186401             -46   180173.970   \n",
       "3823260     2243411      186401              -7        0.000   \n",
       "3824565     1440617      186401             -49        0.000   \n",
       "\n",
       "         AMT_CREDIT_LIMIT_ACTUAL  AMT_DRAWINGS_ATM_CURRENT  \\\n",
       "10956                          0                       0.0   \n",
       "40458                     112500                       0.0   \n",
       "78582                     112500                       0.0   \n",
       "138926                    180000                       0.0   \n",
       "157718                    180000                       0.0   \n",
       "...                          ...                       ...   \n",
       "3755437                   180000                    4500.0   \n",
       "3782341                   180000                    2700.0   \n",
       "3813465                   180000                    2025.0   \n",
       "3823260                        0                       0.0   \n",
       "3824565                   112500                       0.0   \n",
       "\n",
       "         AMT_DRAWINGS_CURRENT  AMT_DRAWINGS_OTHER_CURRENT  \\\n",
       "10956                     0.0                         0.0   \n",
       "40458                     0.0                         0.0   \n",
       "78582                     0.0                         0.0   \n",
       "138926                    0.0                         0.0   \n",
       "157718                    0.0                         0.0   \n",
       "...                       ...                         ...   \n",
       "3755437                4500.0                         0.0   \n",
       "3782341                2700.0                         0.0   \n",
       "3813465                2025.0                         0.0   \n",
       "3823260                   0.0                         0.0   \n",
       "3824565                   0.0                         0.0   \n",
       "\n",
       "         AMT_DRAWINGS_POS_CURRENT  AMT_INST_MIN_REGULARITY  ...  \\\n",
       "10956                         0.0                      0.0  ...   \n",
       "40458                         0.0                      0.0  ...   \n",
       "78582                         0.0                      0.0  ...   \n",
       "138926                        0.0                   9000.0  ...   \n",
       "157718                        0.0                      0.0  ...   \n",
       "...                           ...                      ...  ...   \n",
       "3755437                       0.0                   9000.0  ...   \n",
       "3782341                       0.0                   9000.0  ...   \n",
       "3813465                       0.0                   9000.0  ...   \n",
       "3823260                       0.0                      0.0  ...   \n",
       "3824565                       0.0                      0.0  ...   \n",
       "\n",
       "         AMT_RECIVABLE  AMT_TOTAL_RECEIVABLE  CNT_DRAWINGS_ATM_CURRENT  \\\n",
       "10956            0.000                 0.000                       0.0   \n",
       "40458            0.000                 0.000                       0.0   \n",
       "78582            0.000                 0.000                       0.0   \n",
       "138926      182695.680            182695.680                       0.0   \n",
       "157718           0.000                 0.000                       0.0   \n",
       "...                ...                   ...                       ...   \n",
       "3755437     184542.075            184542.075                       2.0   \n",
       "3782341     183063.240            183063.240                       1.0   \n",
       "3813465     180173.970            180173.970                       2.0   \n",
       "3823260          0.000                 0.000                       0.0   \n",
       "3824565       -228.915              -228.915                       0.0   \n",
       "\n",
       "         CNT_DRAWINGS_CURRENT  CNT_DRAWINGS_OTHER_CURRENT  \\\n",
       "10956                       0                         0.0   \n",
       "40458                       0                         0.0   \n",
       "78582                       0                         0.0   \n",
       "138926                      0                         0.0   \n",
       "157718                      0                         0.0   \n",
       "...                       ...                         ...   \n",
       "3755437                     2                         0.0   \n",
       "3782341                     1                         0.0   \n",
       "3813465                     2                         0.0   \n",
       "3823260                     0                         0.0   \n",
       "3824565                     0                         0.0   \n",
       "\n",
       "         CNT_DRAWINGS_POS_CURRENT  CNT_INSTALMENT_MATURE_CUM  \\\n",
       "10956                         0.0                       64.0   \n",
       "40458                         0.0                       51.0   \n",
       "78582                         0.0                       51.0   \n",
       "138926                        0.0                       55.0   \n",
       "157718                        0.0                       64.0   \n",
       "...                           ...                        ...   \n",
       "3755437                       0.0                       20.0   \n",
       "3782341                       0.0                       56.0   \n",
       "3813465                       0.0                       50.0   \n",
       "3823260                       0.0                       64.0   \n",
       "3824565                       0.0                       51.0   \n",
       "\n",
       "         NAME_CONTRACT_STATUS  SK_DPD  SK_DPD_DEF  \n",
       "10956                  Active       0           0  \n",
       "40458                  Active       0           0  \n",
       "78582               Completed       0           0  \n",
       "138926                 Active       0           0  \n",
       "157718                 Active       0           0  \n",
       "...                       ...     ...         ...  \n",
       "3755437                Active       1           1  \n",
       "3782341                Active       0           0  \n",
       "3813465                Active       0           0  \n",
       "3823260                Active       0           0  \n",
       "3824565                Active       0           0  \n",
       "\n",
       "[192 rows x 23 columns]"
      ]
     },
     "execution_count": 138,
     "metadata": {},
     "output_type": "execute_result"
    }
   ],
   "source": [
    "ccb[ccb['SK_ID_CURR']==186401]"
   ]
  },
  {
   "cell_type": "code",
   "execution_count": 139,
   "metadata": {},
   "outputs": [
    {
     "data": {
      "text/plain": [
       "0"
      ]
     },
     "execution_count": 139,
     "metadata": {},
     "output_type": "execute_result"
    }
   ],
   "source": [
    "ccb['AMT_INST_MIN_REGULARITY'] = ccb.groupby('SK_ID_CURR')['AMT_INST_MIN_REGULARITY'].transform(lambda x:x.fillna(x.mean()))\n",
    "ccb['AMT_INST_MIN_REGULARITY'].isnull().sum()"
   ]
  },
  {
   "cell_type": "code",
   "execution_count": 140,
   "metadata": {},
   "outputs": [
    {
     "data": {
      "text/plain": [
       "SK_ID_PREV                    0\n",
       "SK_ID_CURR                    0\n",
       "MONTHS_BALANCE                0\n",
       "AMT_BALANCE                   0\n",
       "AMT_CREDIT_LIMIT_ACTUAL       0\n",
       "AMT_DRAWINGS_ATM_CURRENT      0\n",
       "AMT_DRAWINGS_CURRENT          0\n",
       "AMT_DRAWINGS_OTHER_CURRENT    0\n",
       "AMT_DRAWINGS_POS_CURRENT      0\n",
       "AMT_INST_MIN_REGULARITY       0\n",
       "AMT_PAYMENT_CURRENT           0\n",
       "AMT_PAYMENT_TOTAL_CURRENT     0\n",
       "AMT_RECEIVABLE_PRINCIPAL      0\n",
       "AMT_RECIVABLE                 0\n",
       "AMT_TOTAL_RECEIVABLE          0\n",
       "CNT_DRAWINGS_ATM_CURRENT      0\n",
       "CNT_DRAWINGS_CURRENT          0\n",
       "CNT_DRAWINGS_OTHER_CURRENT    0\n",
       "CNT_DRAWINGS_POS_CURRENT      0\n",
       "CNT_INSTALMENT_MATURE_CUM     0\n",
       "NAME_CONTRACT_STATUS          0\n",
       "SK_DPD                        0\n",
       "SK_DPD_DEF                    0\n",
       "dtype: int64"
      ]
     },
     "execution_count": 140,
     "metadata": {},
     "output_type": "execute_result"
    }
   ],
   "source": [
    "ccb.isnull().sum()"
   ]
  },
  {
   "cell_type": "markdown",
   "metadata": {},
   "source": [
    "### Groupby SK_ID_CURR"
   ]
  },
  {
   "cell_type": "code",
   "execution_count": 141,
   "metadata": {},
   "outputs": [],
   "source": [
    "ccb = ccb[['SK_ID_CURR','AMT_BALANCE', 'AMT_CREDIT_LIMIT_ACTUAL', 'AMT_INST_MIN_REGULARITY', 'AMT_RECEIVABLE_PRINCIPAL', 'AMT_RECIVABLE', 'AMT_TOTAL_RECEIVABLE', 'CNT_INSTALMENT_MATURE_CUM']]"
   ]
  },
  {
   "cell_type": "code",
   "execution_count": 142,
   "metadata": {},
   "outputs": [
    {
     "data": {
      "text/plain": [
       "CNT_INSTALMENT_MATURE_CUM\n",
       "0.0      856703\n",
       "5.0       91691\n",
       "2.0       91035\n",
       "4.0       89941\n",
       "6.0       89829\n",
       "          ...  \n",
       "116.0         6\n",
       "117.0         4\n",
       "118.0         3\n",
       "119.0         2\n",
       "120.0         1\n",
       "Name: count, Length: 121, dtype: int64"
      ]
     },
     "execution_count": 142,
     "metadata": {},
     "output_type": "execute_result"
    }
   ],
   "source": [
    "ccb['CNT_INSTALMENT_MATURE_CUM'].value_counts()"
   ]
  },
  {
   "cell_type": "code",
   "execution_count": 143,
   "metadata": {},
   "outputs": [],
   "source": [
    "### Group by SK_ID_CURR and take the mean and mode of each feature\n",
    "\n",
    "agg_funcs = {\n",
    "    'AMT_BALANCE': mean_func,\n",
    "    'AMT_CREDIT_LIMIT_ACTUAL': mode_func,\n",
    "    'AMT_RECEIVABLE_PRINCIPAL': mean_func,\n",
    "    'AMT_RECIVABLE':  mean_func,\n",
    "    'AMT_TOTAL_RECEIVABLE': mean_func,\n",
    "    'CNT_INSTALMENT_MATURE_CUM': mode_func\n",
    "}\n",
    "\n",
    "ccb = ccb.groupby('SK_ID_CURR').agg(agg_funcs).reset_index()"
   ]
  },
  {
   "cell_type": "markdown",
   "metadata": {},
   "source": [
    "# Installments Payments"
   ]
  },
  {
   "cell_type": "code",
   "execution_count": 144,
   "metadata": {},
   "outputs": [
    {
     "data": {
      "text/html": [
       "<div>\n",
       "<style scoped>\n",
       "    .dataframe tbody tr th:only-of-type {\n",
       "        vertical-align: middle;\n",
       "    }\n",
       "\n",
       "    .dataframe tbody tr th {\n",
       "        vertical-align: top;\n",
       "    }\n",
       "\n",
       "    .dataframe thead th {\n",
       "        text-align: right;\n",
       "    }\n",
       "</style>\n",
       "<table border=\"1\" class=\"dataframe\">\n",
       "  <thead>\n",
       "    <tr style=\"text-align: right;\">\n",
       "      <th></th>\n",
       "      <th>SK_ID_PREV</th>\n",
       "      <th>SK_ID_CURR</th>\n",
       "      <th>NUM_INSTALMENT_VERSION</th>\n",
       "      <th>NUM_INSTALMENT_NUMBER</th>\n",
       "      <th>DAYS_INSTALMENT</th>\n",
       "      <th>DAYS_ENTRY_PAYMENT</th>\n",
       "      <th>AMT_INSTALMENT</th>\n",
       "      <th>AMT_PAYMENT</th>\n",
       "    </tr>\n",
       "  </thead>\n",
       "  <tbody>\n",
       "    <tr>\n",
       "      <th>0</th>\n",
       "      <td>1054186</td>\n",
       "      <td>161674</td>\n",
       "      <td>1.0</td>\n",
       "      <td>6</td>\n",
       "      <td>-1180.0</td>\n",
       "      <td>-1187.0</td>\n",
       "      <td>6948.360</td>\n",
       "      <td>6948.360</td>\n",
       "    </tr>\n",
       "    <tr>\n",
       "      <th>1</th>\n",
       "      <td>1330831</td>\n",
       "      <td>151639</td>\n",
       "      <td>0.0</td>\n",
       "      <td>34</td>\n",
       "      <td>-2156.0</td>\n",
       "      <td>-2156.0</td>\n",
       "      <td>1716.525</td>\n",
       "      <td>1716.525</td>\n",
       "    </tr>\n",
       "    <tr>\n",
       "      <th>2</th>\n",
       "      <td>2085231</td>\n",
       "      <td>193053</td>\n",
       "      <td>2.0</td>\n",
       "      <td>1</td>\n",
       "      <td>-63.0</td>\n",
       "      <td>-63.0</td>\n",
       "      <td>25425.000</td>\n",
       "      <td>25425.000</td>\n",
       "    </tr>\n",
       "    <tr>\n",
       "      <th>3</th>\n",
       "      <td>2452527</td>\n",
       "      <td>199697</td>\n",
       "      <td>1.0</td>\n",
       "      <td>3</td>\n",
       "      <td>-2418.0</td>\n",
       "      <td>-2426.0</td>\n",
       "      <td>24350.130</td>\n",
       "      <td>24350.130</td>\n",
       "    </tr>\n",
       "    <tr>\n",
       "      <th>4</th>\n",
       "      <td>2714724</td>\n",
       "      <td>167756</td>\n",
       "      <td>1.0</td>\n",
       "      <td>2</td>\n",
       "      <td>-1383.0</td>\n",
       "      <td>-1366.0</td>\n",
       "      <td>2165.040</td>\n",
       "      <td>2160.585</td>\n",
       "    </tr>\n",
       "    <tr>\n",
       "      <th>...</th>\n",
       "      <td>...</td>\n",
       "      <td>...</td>\n",
       "      <td>...</td>\n",
       "      <td>...</td>\n",
       "      <td>...</td>\n",
       "      <td>...</td>\n",
       "      <td>...</td>\n",
       "      <td>...</td>\n",
       "    </tr>\n",
       "    <tr>\n",
       "      <th>13605396</th>\n",
       "      <td>2186857</td>\n",
       "      <td>428057</td>\n",
       "      <td>0.0</td>\n",
       "      <td>66</td>\n",
       "      <td>-1624.0</td>\n",
       "      <td>NaN</td>\n",
       "      <td>67.500</td>\n",
       "      <td>NaN</td>\n",
       "    </tr>\n",
       "    <tr>\n",
       "      <th>13605397</th>\n",
       "      <td>1310347</td>\n",
       "      <td>414406</td>\n",
       "      <td>0.0</td>\n",
       "      <td>47</td>\n",
       "      <td>-1539.0</td>\n",
       "      <td>NaN</td>\n",
       "      <td>67.500</td>\n",
       "      <td>NaN</td>\n",
       "    </tr>\n",
       "    <tr>\n",
       "      <th>13605398</th>\n",
       "      <td>1308766</td>\n",
       "      <td>402199</td>\n",
       "      <td>0.0</td>\n",
       "      <td>43</td>\n",
       "      <td>-7.0</td>\n",
       "      <td>NaN</td>\n",
       "      <td>43737.435</td>\n",
       "      <td>NaN</td>\n",
       "    </tr>\n",
       "    <tr>\n",
       "      <th>13605399</th>\n",
       "      <td>1062206</td>\n",
       "      <td>409297</td>\n",
       "      <td>0.0</td>\n",
       "      <td>43</td>\n",
       "      <td>-1986.0</td>\n",
       "      <td>NaN</td>\n",
       "      <td>67.500</td>\n",
       "      <td>NaN</td>\n",
       "    </tr>\n",
       "    <tr>\n",
       "      <th>13605400</th>\n",
       "      <td>2448869</td>\n",
       "      <td>434321</td>\n",
       "      <td>1.0</td>\n",
       "      <td>19</td>\n",
       "      <td>-27.0</td>\n",
       "      <td>NaN</td>\n",
       "      <td>11504.250</td>\n",
       "      <td>NaN</td>\n",
       "    </tr>\n",
       "  </tbody>\n",
       "</table>\n",
       "<p>13605401 rows × 8 columns</p>\n",
       "</div>"
      ],
      "text/plain": [
       "          SK_ID_PREV  SK_ID_CURR  NUM_INSTALMENT_VERSION  \\\n",
       "0            1054186      161674                     1.0   \n",
       "1            1330831      151639                     0.0   \n",
       "2            2085231      193053                     2.0   \n",
       "3            2452527      199697                     1.0   \n",
       "4            2714724      167756                     1.0   \n",
       "...              ...         ...                     ...   \n",
       "13605396     2186857      428057                     0.0   \n",
       "13605397     1310347      414406                     0.0   \n",
       "13605398     1308766      402199                     0.0   \n",
       "13605399     1062206      409297                     0.0   \n",
       "13605400     2448869      434321                     1.0   \n",
       "\n",
       "          NUM_INSTALMENT_NUMBER  DAYS_INSTALMENT  DAYS_ENTRY_PAYMENT  \\\n",
       "0                             6          -1180.0             -1187.0   \n",
       "1                            34          -2156.0             -2156.0   \n",
       "2                             1            -63.0               -63.0   \n",
       "3                             3          -2418.0             -2426.0   \n",
       "4                             2          -1383.0             -1366.0   \n",
       "...                         ...              ...                 ...   \n",
       "13605396                     66          -1624.0                 NaN   \n",
       "13605397                     47          -1539.0                 NaN   \n",
       "13605398                     43             -7.0                 NaN   \n",
       "13605399                     43          -1986.0                 NaN   \n",
       "13605400                     19            -27.0                 NaN   \n",
       "\n",
       "          AMT_INSTALMENT  AMT_PAYMENT  \n",
       "0               6948.360     6948.360  \n",
       "1               1716.525     1716.525  \n",
       "2              25425.000    25425.000  \n",
       "3              24350.130    24350.130  \n",
       "4               2165.040     2160.585  \n",
       "...                  ...          ...  \n",
       "13605396          67.500          NaN  \n",
       "13605397          67.500          NaN  \n",
       "13605398       43737.435          NaN  \n",
       "13605399          67.500          NaN  \n",
       "13605400       11504.250          NaN  \n",
       "\n",
       "[13605401 rows x 8 columns]"
      ]
     },
     "execution_count": 144,
     "metadata": {},
     "output_type": "execute_result"
    }
   ],
   "source": [
    "ip = pd.read_csv(r'C:\\Users\\rvuon\\OneDrive\\Documents\\Learning Fuze\\database\\Project Loan\\home-credit-default-risk\\installments_payments.csv')\n",
    "ip"
   ]
  },
  {
   "cell_type": "code",
   "execution_count": 145,
   "metadata": {},
   "outputs": [
    {
     "name": "stdout",
     "output_type": "stream",
     "text": [
      "<class 'pandas.core.frame.DataFrame'>\n",
      "RangeIndex: 13605401 entries, 0 to 13605400\n",
      "Data columns (total 8 columns):\n",
      " #   Column                  Dtype  \n",
      "---  ------                  -----  \n",
      " 0   SK_ID_PREV              int64  \n",
      " 1   SK_ID_CURR              int64  \n",
      " 2   NUM_INSTALMENT_VERSION  float64\n",
      " 3   NUM_INSTALMENT_NUMBER   int64  \n",
      " 4   DAYS_INSTALMENT         float64\n",
      " 5   DAYS_ENTRY_PAYMENT      float64\n",
      " 6   AMT_INSTALMENT          float64\n",
      " 7   AMT_PAYMENT             float64\n",
      "dtypes: float64(5), int64(3)\n",
      "memory usage: 830.4 MB\n"
     ]
    }
   ],
   "source": [
    "ip.info()"
   ]
  },
  {
   "cell_type": "code",
   "execution_count": 146,
   "metadata": {},
   "outputs": [
    {
     "data": {
      "text/html": [
       "<div>\n",
       "<style scoped>\n",
       "    .dataframe tbody tr th:only-of-type {\n",
       "        vertical-align: middle;\n",
       "    }\n",
       "\n",
       "    .dataframe tbody tr th {\n",
       "        vertical-align: top;\n",
       "    }\n",
       "\n",
       "    .dataframe thead th {\n",
       "        text-align: right;\n",
       "    }\n",
       "</style>\n",
       "<table border=\"1\" class=\"dataframe\">\n",
       "  <thead>\n",
       "    <tr style=\"text-align: right;\">\n",
       "      <th></th>\n",
       "      <th>SK_ID_PREV</th>\n",
       "      <th>SK_ID_CURR</th>\n",
       "      <th>NUM_INSTALMENT_VERSION</th>\n",
       "      <th>NUM_INSTALMENT_NUMBER</th>\n",
       "      <th>DAYS_INSTALMENT</th>\n",
       "      <th>DAYS_ENTRY_PAYMENT</th>\n",
       "      <th>AMT_INSTALMENT</th>\n",
       "      <th>AMT_PAYMENT</th>\n",
       "    </tr>\n",
       "  </thead>\n",
       "  <tbody>\n",
       "    <tr>\n",
       "      <th>SK_ID_PREV</th>\n",
       "      <td>1.000000</td>\n",
       "      <td>0.002132</td>\n",
       "      <td>0.000685</td>\n",
       "      <td>-0.002095</td>\n",
       "      <td>0.003748</td>\n",
       "      <td>0.003734</td>\n",
       "      <td>0.002042</td>\n",
       "      <td>0.001887</td>\n",
       "    </tr>\n",
       "    <tr>\n",
       "      <th>SK_ID_CURR</th>\n",
       "      <td>0.002132</td>\n",
       "      <td>1.000000</td>\n",
       "      <td>0.000480</td>\n",
       "      <td>-0.000548</td>\n",
       "      <td>0.001191</td>\n",
       "      <td>0.001215</td>\n",
       "      <td>-0.000226</td>\n",
       "      <td>-0.000124</td>\n",
       "    </tr>\n",
       "    <tr>\n",
       "      <th>NUM_INSTALMENT_VERSION</th>\n",
       "      <td>0.000685</td>\n",
       "      <td>0.000480</td>\n",
       "      <td>1.000000</td>\n",
       "      <td>-0.323414</td>\n",
       "      <td>0.130244</td>\n",
       "      <td>0.128124</td>\n",
       "      <td>0.168109</td>\n",
       "      <td>0.177176</td>\n",
       "    </tr>\n",
       "    <tr>\n",
       "      <th>NUM_INSTALMENT_NUMBER</th>\n",
       "      <td>-0.002095</td>\n",
       "      <td>-0.000548</td>\n",
       "      <td>-0.323414</td>\n",
       "      <td>1.000000</td>\n",
       "      <td>0.090286</td>\n",
       "      <td>0.094305</td>\n",
       "      <td>-0.089640</td>\n",
       "      <td>-0.087664</td>\n",
       "    </tr>\n",
       "    <tr>\n",
       "      <th>DAYS_INSTALMENT</th>\n",
       "      <td>0.003748</td>\n",
       "      <td>0.001191</td>\n",
       "      <td>0.130244</td>\n",
       "      <td>0.090286</td>\n",
       "      <td>1.000000</td>\n",
       "      <td>0.999491</td>\n",
       "      <td>0.125985</td>\n",
       "      <td>0.127018</td>\n",
       "    </tr>\n",
       "    <tr>\n",
       "      <th>DAYS_ENTRY_PAYMENT</th>\n",
       "      <td>0.003734</td>\n",
       "      <td>0.001215</td>\n",
       "      <td>0.128124</td>\n",
       "      <td>0.094305</td>\n",
       "      <td>0.999491</td>\n",
       "      <td>1.000000</td>\n",
       "      <td>0.125555</td>\n",
       "      <td>0.126602</td>\n",
       "    </tr>\n",
       "    <tr>\n",
       "      <th>AMT_INSTALMENT</th>\n",
       "      <td>0.002042</td>\n",
       "      <td>-0.000226</td>\n",
       "      <td>0.168109</td>\n",
       "      <td>-0.089640</td>\n",
       "      <td>0.125985</td>\n",
       "      <td>0.125555</td>\n",
       "      <td>1.000000</td>\n",
       "      <td>0.937191</td>\n",
       "    </tr>\n",
       "    <tr>\n",
       "      <th>AMT_PAYMENT</th>\n",
       "      <td>0.001887</td>\n",
       "      <td>-0.000124</td>\n",
       "      <td>0.177176</td>\n",
       "      <td>-0.087664</td>\n",
       "      <td>0.127018</td>\n",
       "      <td>0.126602</td>\n",
       "      <td>0.937191</td>\n",
       "      <td>1.000000</td>\n",
       "    </tr>\n",
       "  </tbody>\n",
       "</table>\n",
       "</div>"
      ],
      "text/plain": [
       "                        SK_ID_PREV  SK_ID_CURR  NUM_INSTALMENT_VERSION  \\\n",
       "SK_ID_PREV                1.000000    0.002132                0.000685   \n",
       "SK_ID_CURR                0.002132    1.000000                0.000480   \n",
       "NUM_INSTALMENT_VERSION    0.000685    0.000480                1.000000   \n",
       "NUM_INSTALMENT_NUMBER    -0.002095   -0.000548               -0.323414   \n",
       "DAYS_INSTALMENT           0.003748    0.001191                0.130244   \n",
       "DAYS_ENTRY_PAYMENT        0.003734    0.001215                0.128124   \n",
       "AMT_INSTALMENT            0.002042   -0.000226                0.168109   \n",
       "AMT_PAYMENT               0.001887   -0.000124                0.177176   \n",
       "\n",
       "                        NUM_INSTALMENT_NUMBER  DAYS_INSTALMENT  \\\n",
       "SK_ID_PREV                          -0.002095         0.003748   \n",
       "SK_ID_CURR                          -0.000548         0.001191   \n",
       "NUM_INSTALMENT_VERSION              -0.323414         0.130244   \n",
       "NUM_INSTALMENT_NUMBER                1.000000         0.090286   \n",
       "DAYS_INSTALMENT                      0.090286         1.000000   \n",
       "DAYS_ENTRY_PAYMENT                   0.094305         0.999491   \n",
       "AMT_INSTALMENT                      -0.089640         0.125985   \n",
       "AMT_PAYMENT                         -0.087664         0.127018   \n",
       "\n",
       "                        DAYS_ENTRY_PAYMENT  AMT_INSTALMENT  AMT_PAYMENT  \n",
       "SK_ID_PREV                        0.003734        0.002042     0.001887  \n",
       "SK_ID_CURR                        0.001215       -0.000226    -0.000124  \n",
       "NUM_INSTALMENT_VERSION            0.128124        0.168109     0.177176  \n",
       "NUM_INSTALMENT_NUMBER             0.094305       -0.089640    -0.087664  \n",
       "DAYS_INSTALMENT                   0.999491        0.125985     0.127018  \n",
       "DAYS_ENTRY_PAYMENT                1.000000        0.125555     0.126602  \n",
       "AMT_INSTALMENT                    0.125555        1.000000     0.937191  \n",
       "AMT_PAYMENT                       0.126602        0.937191     1.000000  "
      ]
     },
     "execution_count": 146,
     "metadata": {},
     "output_type": "execute_result"
    }
   ],
   "source": [
    "ip.corr()"
   ]
  },
  {
   "cell_type": "markdown",
   "metadata": {},
   "source": [
    "## Fill Null Features"
   ]
  },
  {
   "cell_type": "code",
   "execution_count": 147,
   "metadata": {},
   "outputs": [
    {
     "data": {
      "text/plain": [
       "Series([], dtype: float64)"
      ]
     },
     "execution_count": 147,
     "metadata": {},
     "output_type": "execute_result"
    }
   ],
   "source": [
    "ip.select_dtypes(include='object').isnull().sum().sort_values(ascending=False)"
   ]
  },
  {
   "cell_type": "code",
   "execution_count": 148,
   "metadata": {},
   "outputs": [
    {
     "data": {
      "text/plain": [
       "DAYS_ENTRY_PAYMENT        2905\n",
       "AMT_PAYMENT               2905\n",
       "SK_ID_PREV                   0\n",
       "SK_ID_CURR                   0\n",
       "NUM_INSTALMENT_VERSION       0\n",
       "NUM_INSTALMENT_NUMBER        0\n",
       "DAYS_INSTALMENT              0\n",
       "AMT_INSTALMENT               0\n",
       "dtype: int64"
      ]
     },
     "execution_count": 148,
     "metadata": {},
     "output_type": "execute_result"
    }
   ],
   "source": [
    "ip.select_dtypes(include=('int', 'float')).isnull().sum().sort_values(ascending=False)"
   ]
  },
  {
   "cell_type": "markdown",
   "metadata": {},
   "source": [
    "#### DAYS_ENTRY_PAYMENT"
   ]
  },
  {
   "cell_type": "code",
   "execution_count": 149,
   "metadata": {},
   "outputs": [
    {
     "data": {
      "text/plain": [
       "DAYS_ENTRY_PAYMENT\n",
       "-91.0      13103\n",
       "-182.0     13090\n",
       "-154.0     13071\n",
       "-92.0      12646\n",
       "-245.0     12405\n",
       "           ...  \n",
       "-3115.0        1\n",
       "-3043.0        1\n",
       "-3071.0        1\n",
       "-3011.0        1\n",
       "-3096.0        1\n",
       "Name: count, Length: 3040, dtype: int64"
      ]
     },
     "execution_count": 149,
     "metadata": {},
     "output_type": "execute_result"
    }
   ],
   "source": [
    "ip['DAYS_ENTRY_PAYMENT'].value_counts(dropna=False)"
   ]
  },
  {
   "cell_type": "code",
   "execution_count": 150,
   "metadata": {},
   "outputs": [
    {
     "data": {
      "text/html": [
       "<div>\n",
       "<style scoped>\n",
       "    .dataframe tbody tr th:only-of-type {\n",
       "        vertical-align: middle;\n",
       "    }\n",
       "\n",
       "    .dataframe tbody tr th {\n",
       "        vertical-align: top;\n",
       "    }\n",
       "\n",
       "    .dataframe thead th {\n",
       "        text-align: right;\n",
       "    }\n",
       "</style>\n",
       "<table border=\"1\" class=\"dataframe\">\n",
       "  <thead>\n",
       "    <tr style=\"text-align: right;\">\n",
       "      <th></th>\n",
       "      <th>SK_ID_PREV</th>\n",
       "      <th>SK_ID_CURR</th>\n",
       "      <th>NUM_INSTALMENT_VERSION</th>\n",
       "      <th>NUM_INSTALMENT_NUMBER</th>\n",
       "      <th>DAYS_INSTALMENT</th>\n",
       "      <th>DAYS_ENTRY_PAYMENT</th>\n",
       "      <th>AMT_INSTALMENT</th>\n",
       "      <th>AMT_PAYMENT</th>\n",
       "    </tr>\n",
       "  </thead>\n",
       "  <tbody>\n",
       "    <tr>\n",
       "      <th>1</th>\n",
       "      <td>1330831</td>\n",
       "      <td>151639</td>\n",
       "      <td>0.0</td>\n",
       "      <td>34</td>\n",
       "      <td>-2156.0</td>\n",
       "      <td>-2156.0</td>\n",
       "      <td>1716.525</td>\n",
       "      <td>1716.525</td>\n",
       "    </tr>\n",
       "    <tr>\n",
       "      <th>2</th>\n",
       "      <td>2085231</td>\n",
       "      <td>193053</td>\n",
       "      <td>2.0</td>\n",
       "      <td>1</td>\n",
       "      <td>-63.0</td>\n",
       "      <td>-63.0</td>\n",
       "      <td>25425.000</td>\n",
       "      <td>25425.000</td>\n",
       "    </tr>\n",
       "    <tr>\n",
       "      <th>8</th>\n",
       "      <td>2723183</td>\n",
       "      <td>112102</td>\n",
       "      <td>0.0</td>\n",
       "      <td>14</td>\n",
       "      <td>-197.0</td>\n",
       "      <td>-197.0</td>\n",
       "      <td>70.740</td>\n",
       "      <td>70.740</td>\n",
       "    </tr>\n",
       "    <tr>\n",
       "      <th>12</th>\n",
       "      <td>1570206</td>\n",
       "      <td>147645</td>\n",
       "      <td>0.0</td>\n",
       "      <td>20</td>\n",
       "      <td>-761.0</td>\n",
       "      <td>-761.0</td>\n",
       "      <td>21.510</td>\n",
       "      <td>21.510</td>\n",
       "    </tr>\n",
       "    <tr>\n",
       "      <th>14</th>\n",
       "      <td>1594684</td>\n",
       "      <td>100193</td>\n",
       "      <td>0.0</td>\n",
       "      <td>56</td>\n",
       "      <td>-1153.0</td>\n",
       "      <td>-1153.0</td>\n",
       "      <td>301.860</td>\n",
       "      <td>301.860</td>\n",
       "    </tr>\n",
       "    <tr>\n",
       "      <th>...</th>\n",
       "      <td>...</td>\n",
       "      <td>...</td>\n",
       "      <td>...</td>\n",
       "      <td>...</td>\n",
       "      <td>...</td>\n",
       "      <td>...</td>\n",
       "      <td>...</td>\n",
       "      <td>...</td>\n",
       "    </tr>\n",
       "    <tr>\n",
       "      <th>13605332</th>\n",
       "      <td>2024328</td>\n",
       "      <td>443405</td>\n",
       "      <td>0.0</td>\n",
       "      <td>116</td>\n",
       "      <td>-704.0</td>\n",
       "      <td>-704.0</td>\n",
       "      <td>354.195</td>\n",
       "      <td>354.195</td>\n",
       "    </tr>\n",
       "    <tr>\n",
       "      <th>13605333</th>\n",
       "      <td>2705073</td>\n",
       "      <td>401415</td>\n",
       "      <td>0.0</td>\n",
       "      <td>25</td>\n",
       "      <td>-44.0</td>\n",
       "      <td>-44.0</td>\n",
       "      <td>144843.480</td>\n",
       "      <td>144843.480</td>\n",
       "    </tr>\n",
       "    <tr>\n",
       "      <th>13605339</th>\n",
       "      <td>1314918</td>\n",
       "      <td>438694</td>\n",
       "      <td>0.0</td>\n",
       "      <td>36</td>\n",
       "      <td>-142.0</td>\n",
       "      <td>-142.0</td>\n",
       "      <td>4.275</td>\n",
       "      <td>4.275</td>\n",
       "    </tr>\n",
       "    <tr>\n",
       "      <th>13605343</th>\n",
       "      <td>1831481</td>\n",
       "      <td>434807</td>\n",
       "      <td>1.0</td>\n",
       "      <td>2</td>\n",
       "      <td>-2855.0</td>\n",
       "      <td>-2855.0</td>\n",
       "      <td>6758.325</td>\n",
       "      <td>6758.325</td>\n",
       "    </tr>\n",
       "    <tr>\n",
       "      <th>13605347</th>\n",
       "      <td>2784672</td>\n",
       "      <td>444977</td>\n",
       "      <td>0.0</td>\n",
       "      <td>4</td>\n",
       "      <td>-157.0</td>\n",
       "      <td>-157.0</td>\n",
       "      <td>373.005</td>\n",
       "      <td>373.005</td>\n",
       "    </tr>\n",
       "  </tbody>\n",
       "</table>\n",
       "<p>3146350 rows × 8 columns</p>\n",
       "</div>"
      ],
      "text/plain": [
       "          SK_ID_PREV  SK_ID_CURR  NUM_INSTALMENT_VERSION  \\\n",
       "1            1330831      151639                     0.0   \n",
       "2            2085231      193053                     2.0   \n",
       "8            2723183      112102                     0.0   \n",
       "12           1570206      147645                     0.0   \n",
       "14           1594684      100193                     0.0   \n",
       "...              ...         ...                     ...   \n",
       "13605332     2024328      443405                     0.0   \n",
       "13605333     2705073      401415                     0.0   \n",
       "13605339     1314918      438694                     0.0   \n",
       "13605343     1831481      434807                     1.0   \n",
       "13605347     2784672      444977                     0.0   \n",
       "\n",
       "          NUM_INSTALMENT_NUMBER  DAYS_INSTALMENT  DAYS_ENTRY_PAYMENT  \\\n",
       "1                            34          -2156.0             -2156.0   \n",
       "2                             1            -63.0               -63.0   \n",
       "8                            14           -197.0              -197.0   \n",
       "12                           20           -761.0              -761.0   \n",
       "14                           56          -1153.0             -1153.0   \n",
       "...                         ...              ...                 ...   \n",
       "13605332                    116           -704.0              -704.0   \n",
       "13605333                     25            -44.0               -44.0   \n",
       "13605339                     36           -142.0              -142.0   \n",
       "13605343                      2          -2855.0             -2855.0   \n",
       "13605347                      4           -157.0              -157.0   \n",
       "\n",
       "          AMT_INSTALMENT  AMT_PAYMENT  \n",
       "1               1716.525     1716.525  \n",
       "2              25425.000    25425.000  \n",
       "8                 70.740       70.740  \n",
       "12                21.510       21.510  \n",
       "14               301.860      301.860  \n",
       "...                  ...          ...  \n",
       "13605332         354.195      354.195  \n",
       "13605333      144843.480   144843.480  \n",
       "13605339           4.275        4.275  \n",
       "13605343        6758.325     6758.325  \n",
       "13605347         373.005      373.005  \n",
       "\n",
       "[3146350 rows x 8 columns]"
      ]
     },
     "execution_count": 150,
     "metadata": {},
     "output_type": "execute_result"
    }
   ],
   "source": [
    "ip[ip['DAYS_ENTRY_PAYMENT']==ip['DAYS_INSTALMENT']]"
   ]
  },
  {
   "cell_type": "code",
   "execution_count": 151,
   "metadata": {},
   "outputs": [
    {
     "data": {
      "text/plain": [
       "0"
      ]
     },
     "execution_count": 151,
     "metadata": {},
     "output_type": "execute_result"
    }
   ],
   "source": [
    "ip['DAYS_ENTRY_PAYMENT'] = np.where(ip['DAYS_ENTRY_PAYMENT'].isnull(), ip['DAYS_INSTALMENT'], ip['DAYS_ENTRY_PAYMENT'])\n",
    "ip['DAYS_ENTRY_PAYMENT'].isnull().sum()                        "
   ]
  },
  {
   "cell_type": "markdown",
   "metadata": {},
   "source": [
    "#### AMT_PAYMENT"
   ]
  },
  {
   "cell_type": "code",
   "execution_count": 152,
   "metadata": {},
   "outputs": [
    {
     "data": {
      "text/plain": [
       "AMT_PAYMENT\n",
       "9000.000       248757\n",
       "2250.000       182654\n",
       "4500.000       178309\n",
       "6750.000       170360\n",
       "3375.000       141832\n",
       "                ...  \n",
       "26400.645           1\n",
       "1285386.480         1\n",
       "24784.110           1\n",
       "79226.730           1\n",
       "46517.490           1\n",
       "Name: count, Length: 944236, dtype: int64"
      ]
     },
     "execution_count": 152,
     "metadata": {},
     "output_type": "execute_result"
    }
   ],
   "source": [
    "ip['AMT_PAYMENT'].value_counts(dropna=False)"
   ]
  },
  {
   "cell_type": "code",
   "execution_count": 153,
   "metadata": {},
   "outputs": [
    {
     "data": {
      "text/html": [
       "<div>\n",
       "<style scoped>\n",
       "    .dataframe tbody tr th:only-of-type {\n",
       "        vertical-align: middle;\n",
       "    }\n",
       "\n",
       "    .dataframe tbody tr th {\n",
       "        vertical-align: top;\n",
       "    }\n",
       "\n",
       "    .dataframe thead th {\n",
       "        text-align: right;\n",
       "    }\n",
       "</style>\n",
       "<table border=\"1\" class=\"dataframe\">\n",
       "  <thead>\n",
       "    <tr style=\"text-align: right;\">\n",
       "      <th></th>\n",
       "      <th>SK_ID_PREV</th>\n",
       "      <th>SK_ID_CURR</th>\n",
       "      <th>NUM_INSTALMENT_VERSION</th>\n",
       "      <th>NUM_INSTALMENT_NUMBER</th>\n",
       "      <th>DAYS_INSTALMENT</th>\n",
       "      <th>DAYS_ENTRY_PAYMENT</th>\n",
       "      <th>AMT_INSTALMENT</th>\n",
       "      <th>AMT_PAYMENT</th>\n",
       "    </tr>\n",
       "  </thead>\n",
       "  <tbody>\n",
       "    <tr>\n",
       "      <th>0</th>\n",
       "      <td>1054186</td>\n",
       "      <td>161674</td>\n",
       "      <td>1.0</td>\n",
       "      <td>6</td>\n",
       "      <td>-1180.0</td>\n",
       "      <td>-1187.0</td>\n",
       "      <td>6948.360</td>\n",
       "      <td>6948.360</td>\n",
       "    </tr>\n",
       "    <tr>\n",
       "      <th>1</th>\n",
       "      <td>1330831</td>\n",
       "      <td>151639</td>\n",
       "      <td>0.0</td>\n",
       "      <td>34</td>\n",
       "      <td>-2156.0</td>\n",
       "      <td>-2156.0</td>\n",
       "      <td>1716.525</td>\n",
       "      <td>1716.525</td>\n",
       "    </tr>\n",
       "    <tr>\n",
       "      <th>2</th>\n",
       "      <td>2085231</td>\n",
       "      <td>193053</td>\n",
       "      <td>2.0</td>\n",
       "      <td>1</td>\n",
       "      <td>-63.0</td>\n",
       "      <td>-63.0</td>\n",
       "      <td>25425.000</td>\n",
       "      <td>25425.000</td>\n",
       "    </tr>\n",
       "    <tr>\n",
       "      <th>3</th>\n",
       "      <td>2452527</td>\n",
       "      <td>199697</td>\n",
       "      <td>1.0</td>\n",
       "      <td>3</td>\n",
       "      <td>-2418.0</td>\n",
       "      <td>-2426.0</td>\n",
       "      <td>24350.130</td>\n",
       "      <td>24350.130</td>\n",
       "    </tr>\n",
       "    <tr>\n",
       "      <th>5</th>\n",
       "      <td>1137312</td>\n",
       "      <td>164489</td>\n",
       "      <td>1.0</td>\n",
       "      <td>12</td>\n",
       "      <td>-1384.0</td>\n",
       "      <td>-1417.0</td>\n",
       "      <td>5970.375</td>\n",
       "      <td>5970.375</td>\n",
       "    </tr>\n",
       "    <tr>\n",
       "      <th>...</th>\n",
       "      <td>...</td>\n",
       "      <td>...</td>\n",
       "      <td>...</td>\n",
       "      <td>...</td>\n",
       "      <td>...</td>\n",
       "      <td>...</td>\n",
       "      <td>...</td>\n",
       "      <td>...</td>\n",
       "    </tr>\n",
       "    <tr>\n",
       "      <th>13605343</th>\n",
       "      <td>1831481</td>\n",
       "      <td>434807</td>\n",
       "      <td>1.0</td>\n",
       "      <td>2</td>\n",
       "      <td>-2855.0</td>\n",
       "      <td>-2855.0</td>\n",
       "      <td>6758.325</td>\n",
       "      <td>6758.325</td>\n",
       "    </tr>\n",
       "    <tr>\n",
       "      <th>13605344</th>\n",
       "      <td>2006721</td>\n",
       "      <td>442291</td>\n",
       "      <td>1.0</td>\n",
       "      <td>3</td>\n",
       "      <td>-1311.0</td>\n",
       "      <td>-1318.0</td>\n",
       "      <td>2934.225</td>\n",
       "      <td>2934.225</td>\n",
       "    </tr>\n",
       "    <tr>\n",
       "      <th>13605346</th>\n",
       "      <td>1519070</td>\n",
       "      <td>444122</td>\n",
       "      <td>1.0</td>\n",
       "      <td>5</td>\n",
       "      <td>-399.0</td>\n",
       "      <td>-407.0</td>\n",
       "      <td>4363.830</td>\n",
       "      <td>4363.830</td>\n",
       "    </tr>\n",
       "    <tr>\n",
       "      <th>13605347</th>\n",
       "      <td>2784672</td>\n",
       "      <td>444977</td>\n",
       "      <td>0.0</td>\n",
       "      <td>4</td>\n",
       "      <td>-157.0</td>\n",
       "      <td>-157.0</td>\n",
       "      <td>373.005</td>\n",
       "      <td>373.005</td>\n",
       "    </tr>\n",
       "    <tr>\n",
       "      <th>13605348</th>\n",
       "      <td>2653119</td>\n",
       "      <td>423205</td>\n",
       "      <td>1.0</td>\n",
       "      <td>14</td>\n",
       "      <td>-975.0</td>\n",
       "      <td>-974.0</td>\n",
       "      <td>12503.385</td>\n",
       "      <td>12503.385</td>\n",
       "    </tr>\n",
       "  </tbody>\n",
       "</table>\n",
       "<p>12127606 rows × 8 columns</p>\n",
       "</div>"
      ],
      "text/plain": [
       "          SK_ID_PREV  SK_ID_CURR  NUM_INSTALMENT_VERSION  \\\n",
       "0            1054186      161674                     1.0   \n",
       "1            1330831      151639                     0.0   \n",
       "2            2085231      193053                     2.0   \n",
       "3            2452527      199697                     1.0   \n",
       "5            1137312      164489                     1.0   \n",
       "...              ...         ...                     ...   \n",
       "13605343     1831481      434807                     1.0   \n",
       "13605344     2006721      442291                     1.0   \n",
       "13605346     1519070      444122                     1.0   \n",
       "13605347     2784672      444977                     0.0   \n",
       "13605348     2653119      423205                     1.0   \n",
       "\n",
       "          NUM_INSTALMENT_NUMBER  DAYS_INSTALMENT  DAYS_ENTRY_PAYMENT  \\\n",
       "0                             6          -1180.0             -1187.0   \n",
       "1                            34          -2156.0             -2156.0   \n",
       "2                             1            -63.0               -63.0   \n",
       "3                             3          -2418.0             -2426.0   \n",
       "5                            12          -1384.0             -1417.0   \n",
       "...                         ...              ...                 ...   \n",
       "13605343                      2          -2855.0             -2855.0   \n",
       "13605344                      3          -1311.0             -1318.0   \n",
       "13605346                      5           -399.0              -407.0   \n",
       "13605347                      4           -157.0              -157.0   \n",
       "13605348                     14           -975.0              -974.0   \n",
       "\n",
       "          AMT_INSTALMENT  AMT_PAYMENT  \n",
       "0               6948.360     6948.360  \n",
       "1               1716.525     1716.525  \n",
       "2              25425.000    25425.000  \n",
       "3              24350.130    24350.130  \n",
       "5               5970.375     5970.375  \n",
       "...                  ...          ...  \n",
       "13605343        6758.325     6758.325  \n",
       "13605344        2934.225     2934.225  \n",
       "13605346        4363.830     4363.830  \n",
       "13605347         373.005      373.005  \n",
       "13605348       12503.385    12503.385  \n",
       "\n",
       "[12127606 rows x 8 columns]"
      ]
     },
     "execution_count": 153,
     "metadata": {},
     "output_type": "execute_result"
    }
   ],
   "source": [
    "ip[ip['AMT_PAYMENT']==ip['AMT_INSTALMENT']]"
   ]
  },
  {
   "cell_type": "code",
   "execution_count": 154,
   "metadata": {},
   "outputs": [
    {
     "data": {
      "text/plain": [
       "0"
      ]
     },
     "execution_count": 154,
     "metadata": {},
     "output_type": "execute_result"
    }
   ],
   "source": [
    "ip['AMT_PAYMENT'] = np.where(ip['AMT_PAYMENT'].isnull(), ip['AMT_INSTALMENT'], ip['AMT_PAYMENT'])\n",
    "ip['AMT_PAYMENT'].isnull().sum()   "
   ]
  },
  {
   "cell_type": "code",
   "execution_count": 155,
   "metadata": {},
   "outputs": [],
   "source": [
    "ip = ip[['SK_ID_PREV','DAYS_ENTRY_PAYMENT', 'AMT_INSTALMENT', 'AMT_PAYMENT']]"
   ]
  },
  {
   "cell_type": "markdown",
   "metadata": {},
   "source": [
    "### Groupby SK_ID_PREV"
   ]
  },
  {
   "cell_type": "code",
   "execution_count": 156,
   "metadata": {},
   "outputs": [],
   "source": [
    "agg_funcs = {\n",
    "    'DAYS_ENTRY_PAYMENT': mean_func,\n",
    "    'AMT_INSTALMENT': mean_func,\n",
    "    'AMT_PAYMENT': mean_func\n",
    "    # 'DAYS_INSTALMENT': mean_func\n",
    "\n",
    "}\n",
    "ip = ip.groupby('SK_ID_PREV').agg(agg_funcs)"
   ]
  },
  {
   "cell_type": "markdown",
   "metadata": {},
   "source": [
    "# POS CASH Balance"
   ]
  },
  {
   "cell_type": "code",
   "execution_count": 157,
   "metadata": {},
   "outputs": [
    {
     "data": {
      "text/html": [
       "<div>\n",
       "<style scoped>\n",
       "    .dataframe tbody tr th:only-of-type {\n",
       "        vertical-align: middle;\n",
       "    }\n",
       "\n",
       "    .dataframe tbody tr th {\n",
       "        vertical-align: top;\n",
       "    }\n",
       "\n",
       "    .dataframe thead th {\n",
       "        text-align: right;\n",
       "    }\n",
       "</style>\n",
       "<table border=\"1\" class=\"dataframe\">\n",
       "  <thead>\n",
       "    <tr style=\"text-align: right;\">\n",
       "      <th></th>\n",
       "      <th>SK_ID_PREV</th>\n",
       "      <th>SK_ID_CURR</th>\n",
       "      <th>MONTHS_BALANCE</th>\n",
       "      <th>CNT_INSTALMENT</th>\n",
       "      <th>CNT_INSTALMENT_FUTURE</th>\n",
       "      <th>NAME_CONTRACT_STATUS</th>\n",
       "      <th>SK_DPD</th>\n",
       "      <th>SK_DPD_DEF</th>\n",
       "    </tr>\n",
       "  </thead>\n",
       "  <tbody>\n",
       "    <tr>\n",
       "      <th>0</th>\n",
       "      <td>1803195</td>\n",
       "      <td>182943</td>\n",
       "      <td>-31</td>\n",
       "      <td>48.0</td>\n",
       "      <td>45.0</td>\n",
       "      <td>Active</td>\n",
       "      <td>0</td>\n",
       "      <td>0</td>\n",
       "    </tr>\n",
       "    <tr>\n",
       "      <th>1</th>\n",
       "      <td>1715348</td>\n",
       "      <td>367990</td>\n",
       "      <td>-33</td>\n",
       "      <td>36.0</td>\n",
       "      <td>35.0</td>\n",
       "      <td>Active</td>\n",
       "      <td>0</td>\n",
       "      <td>0</td>\n",
       "    </tr>\n",
       "    <tr>\n",
       "      <th>2</th>\n",
       "      <td>1784872</td>\n",
       "      <td>397406</td>\n",
       "      <td>-32</td>\n",
       "      <td>12.0</td>\n",
       "      <td>9.0</td>\n",
       "      <td>Active</td>\n",
       "      <td>0</td>\n",
       "      <td>0</td>\n",
       "    </tr>\n",
       "    <tr>\n",
       "      <th>3</th>\n",
       "      <td>1903291</td>\n",
       "      <td>269225</td>\n",
       "      <td>-35</td>\n",
       "      <td>48.0</td>\n",
       "      <td>42.0</td>\n",
       "      <td>Active</td>\n",
       "      <td>0</td>\n",
       "      <td>0</td>\n",
       "    </tr>\n",
       "    <tr>\n",
       "      <th>4</th>\n",
       "      <td>2341044</td>\n",
       "      <td>334279</td>\n",
       "      <td>-35</td>\n",
       "      <td>36.0</td>\n",
       "      <td>35.0</td>\n",
       "      <td>Active</td>\n",
       "      <td>0</td>\n",
       "      <td>0</td>\n",
       "    </tr>\n",
       "    <tr>\n",
       "      <th>...</th>\n",
       "      <td>...</td>\n",
       "      <td>...</td>\n",
       "      <td>...</td>\n",
       "      <td>...</td>\n",
       "      <td>...</td>\n",
       "      <td>...</td>\n",
       "      <td>...</td>\n",
       "      <td>...</td>\n",
       "    </tr>\n",
       "    <tr>\n",
       "      <th>10001353</th>\n",
       "      <td>2448283</td>\n",
       "      <td>226558</td>\n",
       "      <td>-20</td>\n",
       "      <td>6.0</td>\n",
       "      <td>0.0</td>\n",
       "      <td>Active</td>\n",
       "      <td>843</td>\n",
       "      <td>0</td>\n",
       "    </tr>\n",
       "    <tr>\n",
       "      <th>10001354</th>\n",
       "      <td>1717234</td>\n",
       "      <td>141565</td>\n",
       "      <td>-19</td>\n",
       "      <td>12.0</td>\n",
       "      <td>0.0</td>\n",
       "      <td>Active</td>\n",
       "      <td>602</td>\n",
       "      <td>0</td>\n",
       "    </tr>\n",
       "    <tr>\n",
       "      <th>10001355</th>\n",
       "      <td>1283126</td>\n",
       "      <td>315695</td>\n",
       "      <td>-21</td>\n",
       "      <td>10.0</td>\n",
       "      <td>0.0</td>\n",
       "      <td>Active</td>\n",
       "      <td>609</td>\n",
       "      <td>0</td>\n",
       "    </tr>\n",
       "    <tr>\n",
       "      <th>10001356</th>\n",
       "      <td>1082516</td>\n",
       "      <td>450255</td>\n",
       "      <td>-22</td>\n",
       "      <td>12.0</td>\n",
       "      <td>0.0</td>\n",
       "      <td>Active</td>\n",
       "      <td>614</td>\n",
       "      <td>0</td>\n",
       "    </tr>\n",
       "    <tr>\n",
       "      <th>10001357</th>\n",
       "      <td>1259607</td>\n",
       "      <td>174278</td>\n",
       "      <td>-52</td>\n",
       "      <td>16.0</td>\n",
       "      <td>0.0</td>\n",
       "      <td>Completed</td>\n",
       "      <td>0</td>\n",
       "      <td>0</td>\n",
       "    </tr>\n",
       "  </tbody>\n",
       "</table>\n",
       "<p>10001358 rows × 8 columns</p>\n",
       "</div>"
      ],
      "text/plain": [
       "          SK_ID_PREV  SK_ID_CURR  MONTHS_BALANCE  CNT_INSTALMENT  \\\n",
       "0            1803195      182943             -31            48.0   \n",
       "1            1715348      367990             -33            36.0   \n",
       "2            1784872      397406             -32            12.0   \n",
       "3            1903291      269225             -35            48.0   \n",
       "4            2341044      334279             -35            36.0   \n",
       "...              ...         ...             ...             ...   \n",
       "10001353     2448283      226558             -20             6.0   \n",
       "10001354     1717234      141565             -19            12.0   \n",
       "10001355     1283126      315695             -21            10.0   \n",
       "10001356     1082516      450255             -22            12.0   \n",
       "10001357     1259607      174278             -52            16.0   \n",
       "\n",
       "          CNT_INSTALMENT_FUTURE NAME_CONTRACT_STATUS  SK_DPD  SK_DPD_DEF  \n",
       "0                          45.0               Active       0           0  \n",
       "1                          35.0               Active       0           0  \n",
       "2                           9.0               Active       0           0  \n",
       "3                          42.0               Active       0           0  \n",
       "4                          35.0               Active       0           0  \n",
       "...                         ...                  ...     ...         ...  \n",
       "10001353                    0.0               Active     843           0  \n",
       "10001354                    0.0               Active     602           0  \n",
       "10001355                    0.0               Active     609           0  \n",
       "10001356                    0.0               Active     614           0  \n",
       "10001357                    0.0            Completed       0           0  \n",
       "\n",
       "[10001358 rows x 8 columns]"
      ]
     },
     "execution_count": 157,
     "metadata": {},
     "output_type": "execute_result"
    }
   ],
   "source": [
    "pcb = pd.read_csv(r'C:\\Users\\rvuon\\OneDrive\\Documents\\Learning Fuze\\database\\Project Loan\\home-credit-default-risk\\POS_CASH_balance.csv')\n",
    "pcb"
   ]
  },
  {
   "cell_type": "code",
   "execution_count": 158,
   "metadata": {},
   "outputs": [
    {
     "name": "stdout",
     "output_type": "stream",
     "text": [
      "<class 'pandas.core.frame.DataFrame'>\n",
      "RangeIndex: 10001358 entries, 0 to 10001357\n",
      "Data columns (total 8 columns):\n",
      " #   Column                 Dtype  \n",
      "---  ------                 -----  \n",
      " 0   SK_ID_PREV             int64  \n",
      " 1   SK_ID_CURR             int64  \n",
      " 2   MONTHS_BALANCE         int64  \n",
      " 3   CNT_INSTALMENT         float64\n",
      " 4   CNT_INSTALMENT_FUTURE  float64\n",
      " 5   NAME_CONTRACT_STATUS   object \n",
      " 6   SK_DPD                 int64  \n",
      " 7   SK_DPD_DEF             int64  \n",
      "dtypes: float64(2), int64(5), object(1)\n",
      "memory usage: 610.4+ MB\n"
     ]
    }
   ],
   "source": [
    "pcb.info()"
   ]
  },
  {
   "cell_type": "code",
   "execution_count": 159,
   "metadata": {},
   "outputs": [
    {
     "data": {
      "text/html": [
       "<div>\n",
       "<style scoped>\n",
       "    .dataframe tbody tr th:only-of-type {\n",
       "        vertical-align: middle;\n",
       "    }\n",
       "\n",
       "    .dataframe tbody tr th {\n",
       "        vertical-align: top;\n",
       "    }\n",
       "\n",
       "    .dataframe thead th {\n",
       "        text-align: right;\n",
       "    }\n",
       "</style>\n",
       "<table border=\"1\" class=\"dataframe\">\n",
       "  <thead>\n",
       "    <tr style=\"text-align: right;\">\n",
       "      <th></th>\n",
       "      <th>SK_ID_PREV</th>\n",
       "      <th>SK_ID_CURR</th>\n",
       "      <th>MONTHS_BALANCE</th>\n",
       "      <th>CNT_INSTALMENT</th>\n",
       "      <th>CNT_INSTALMENT_FUTURE</th>\n",
       "      <th>SK_DPD</th>\n",
       "      <th>SK_DPD_DEF</th>\n",
       "    </tr>\n",
       "  </thead>\n",
       "  <tbody>\n",
       "    <tr>\n",
       "      <th>SK_ID_PREV</th>\n",
       "      <td>1.000000</td>\n",
       "      <td>-0.000336</td>\n",
       "      <td>0.001835</td>\n",
       "      <td>0.003820</td>\n",
       "      <td>0.003679</td>\n",
       "      <td>-0.000487</td>\n",
       "      <td>0.004848</td>\n",
       "    </tr>\n",
       "    <tr>\n",
       "      <th>SK_ID_CURR</th>\n",
       "      <td>-0.000336</td>\n",
       "      <td>1.000000</td>\n",
       "      <td>0.000404</td>\n",
       "      <td>0.000144</td>\n",
       "      <td>-0.000559</td>\n",
       "      <td>0.003118</td>\n",
       "      <td>0.001948</td>\n",
       "    </tr>\n",
       "    <tr>\n",
       "      <th>MONTHS_BALANCE</th>\n",
       "      <td>0.001835</td>\n",
       "      <td>0.000404</td>\n",
       "      <td>1.000000</td>\n",
       "      <td>0.336163</td>\n",
       "      <td>0.271595</td>\n",
       "      <td>-0.018939</td>\n",
       "      <td>-0.000381</td>\n",
       "    </tr>\n",
       "    <tr>\n",
       "      <th>CNT_INSTALMENT</th>\n",
       "      <td>0.003820</td>\n",
       "      <td>0.000144</td>\n",
       "      <td>0.336163</td>\n",
       "      <td>1.000000</td>\n",
       "      <td>0.871276</td>\n",
       "      <td>-0.060803</td>\n",
       "      <td>-0.014154</td>\n",
       "    </tr>\n",
       "    <tr>\n",
       "      <th>CNT_INSTALMENT_FUTURE</th>\n",
       "      <td>0.003679</td>\n",
       "      <td>-0.000559</td>\n",
       "      <td>0.271595</td>\n",
       "      <td>0.871276</td>\n",
       "      <td>1.000000</td>\n",
       "      <td>-0.082004</td>\n",
       "      <td>-0.017436</td>\n",
       "    </tr>\n",
       "    <tr>\n",
       "      <th>SK_DPD</th>\n",
       "      <td>-0.000487</td>\n",
       "      <td>0.003118</td>\n",
       "      <td>-0.018939</td>\n",
       "      <td>-0.060803</td>\n",
       "      <td>-0.082004</td>\n",
       "      <td>1.000000</td>\n",
       "      <td>0.245782</td>\n",
       "    </tr>\n",
       "    <tr>\n",
       "      <th>SK_DPD_DEF</th>\n",
       "      <td>0.004848</td>\n",
       "      <td>0.001948</td>\n",
       "      <td>-0.000381</td>\n",
       "      <td>-0.014154</td>\n",
       "      <td>-0.017436</td>\n",
       "      <td>0.245782</td>\n",
       "      <td>1.000000</td>\n",
       "    </tr>\n",
       "  </tbody>\n",
       "</table>\n",
       "</div>"
      ],
      "text/plain": [
       "                       SK_ID_PREV  SK_ID_CURR  MONTHS_BALANCE  CNT_INSTALMENT  \\\n",
       "SK_ID_PREV               1.000000   -0.000336        0.001835        0.003820   \n",
       "SK_ID_CURR              -0.000336    1.000000        0.000404        0.000144   \n",
       "MONTHS_BALANCE           0.001835    0.000404        1.000000        0.336163   \n",
       "CNT_INSTALMENT           0.003820    0.000144        0.336163        1.000000   \n",
       "CNT_INSTALMENT_FUTURE    0.003679   -0.000559        0.271595        0.871276   \n",
       "SK_DPD                  -0.000487    0.003118       -0.018939       -0.060803   \n",
       "SK_DPD_DEF               0.004848    0.001948       -0.000381       -0.014154   \n",
       "\n",
       "                       CNT_INSTALMENT_FUTURE    SK_DPD  SK_DPD_DEF  \n",
       "SK_ID_PREV                          0.003679 -0.000487    0.004848  \n",
       "SK_ID_CURR                         -0.000559  0.003118    0.001948  \n",
       "MONTHS_BALANCE                      0.271595 -0.018939   -0.000381  \n",
       "CNT_INSTALMENT                      0.871276 -0.060803   -0.014154  \n",
       "CNT_INSTALMENT_FUTURE               1.000000 -0.082004   -0.017436  \n",
       "SK_DPD                             -0.082004  1.000000    0.245782  \n",
       "SK_DPD_DEF                         -0.017436  0.245782    1.000000  "
      ]
     },
     "execution_count": 159,
     "metadata": {},
     "output_type": "execute_result"
    }
   ],
   "source": [
    "pcb.corr(numeric_only=True)"
   ]
  },
  {
   "cell_type": "markdown",
   "metadata": {},
   "source": [
    "## Fill Numerical Nulls"
   ]
  },
  {
   "cell_type": "code",
   "execution_count": 160,
   "metadata": {},
   "outputs": [
    {
     "data": {
      "text/plain": [
       "NAME_CONTRACT_STATUS    0\n",
       "dtype: int64"
      ]
     },
     "execution_count": 160,
     "metadata": {},
     "output_type": "execute_result"
    }
   ],
   "source": [
    "pcb.select_dtypes(include='object').isnull().sum().sort_values(ascending=True)"
   ]
  },
  {
   "cell_type": "code",
   "execution_count": 161,
   "metadata": {},
   "outputs": [
    {
     "data": {
      "text/plain": [
       "CNT_INSTALMENT_FUTURE    26087\n",
       "CNT_INSTALMENT           26071\n",
       "SK_ID_PREV                   0\n",
       "SK_ID_CURR                   0\n",
       "MONTHS_BALANCE               0\n",
       "SK_DPD                       0\n",
       "SK_DPD_DEF                   0\n",
       "dtype: int64"
      ]
     },
     "execution_count": 161,
     "metadata": {},
     "output_type": "execute_result"
    }
   ],
   "source": [
    "pcb.select_dtypes(include=('int', 'float')).isnull().sum().sort_values(ascending=False)"
   ]
  },
  {
   "cell_type": "markdown",
   "metadata": {},
   "source": [
    "#### CNT_INSTALMENT_FUTURE"
   ]
  },
  {
   "cell_type": "code",
   "execution_count": 162,
   "metadata": {},
   "outputs": [
    {
     "data": {
      "text/plain": [
       "CNT_INSTALMENT_FUTURE\n",
       "0.0     1185960\n",
       "6.0      614058\n",
       "4.0      613632\n",
       "5.0      600295\n",
       "3.0      582007\n",
       "         ...   \n",
       "85.0          1\n",
       "82.0          1\n",
       "83.0          1\n",
       "81.0          1\n",
       "84.0          1\n",
       "Name: count, Length: 80, dtype: int64"
      ]
     },
     "execution_count": 162,
     "metadata": {},
     "output_type": "execute_result"
    }
   ],
   "source": [
    "pcb['CNT_INSTALMENT_FUTURE'].value_counts(dropna=False)"
   ]
  },
  {
   "cell_type": "code",
   "execution_count": 163,
   "metadata": {},
   "outputs": [
    {
     "data": {
      "text/html": [
       "<div>\n",
       "<style scoped>\n",
       "    .dataframe tbody tr th:only-of-type {\n",
       "        vertical-align: middle;\n",
       "    }\n",
       "\n",
       "    .dataframe tbody tr th {\n",
       "        vertical-align: top;\n",
       "    }\n",
       "\n",
       "    .dataframe thead th {\n",
       "        text-align: right;\n",
       "    }\n",
       "</style>\n",
       "<table border=\"1\" class=\"dataframe\">\n",
       "  <thead>\n",
       "    <tr style=\"text-align: right;\">\n",
       "      <th></th>\n",
       "      <th>SK_ID_PREV</th>\n",
       "      <th>SK_ID_CURR</th>\n",
       "      <th>MONTHS_BALANCE</th>\n",
       "      <th>CNT_INSTALMENT</th>\n",
       "      <th>CNT_INSTALMENT_FUTURE</th>\n",
       "      <th>NAME_CONTRACT_STATUS</th>\n",
       "      <th>SK_DPD</th>\n",
       "      <th>SK_DPD_DEF</th>\n",
       "    </tr>\n",
       "  </thead>\n",
       "  <tbody>\n",
       "    <tr>\n",
       "      <th>709</th>\n",
       "      <td>1889585</td>\n",
       "      <td>403422</td>\n",
       "      <td>-6</td>\n",
       "      <td>NaN</td>\n",
       "      <td>NaN</td>\n",
       "      <td>Signed</td>\n",
       "      <td>0</td>\n",
       "      <td>0</td>\n",
       "    </tr>\n",
       "    <tr>\n",
       "      <th>759</th>\n",
       "      <td>1618886</td>\n",
       "      <td>382448</td>\n",
       "      <td>-2</td>\n",
       "      <td>NaN</td>\n",
       "      <td>NaN</td>\n",
       "      <td>Signed</td>\n",
       "      <td>0</td>\n",
       "      <td>0</td>\n",
       "    </tr>\n",
       "    <tr>\n",
       "      <th>1887</th>\n",
       "      <td>2288203</td>\n",
       "      <td>429576</td>\n",
       "      <td>-6</td>\n",
       "      <td>NaN</td>\n",
       "      <td>NaN</td>\n",
       "      <td>Signed</td>\n",
       "      <td>0</td>\n",
       "      <td>0</td>\n",
       "    </tr>\n",
       "    <tr>\n",
       "      <th>1899</th>\n",
       "      <td>2110224</td>\n",
       "      <td>167171</td>\n",
       "      <td>-6</td>\n",
       "      <td>NaN</td>\n",
       "      <td>NaN</td>\n",
       "      <td>Signed</td>\n",
       "      <td>0</td>\n",
       "      <td>0</td>\n",
       "    </tr>\n",
       "    <tr>\n",
       "      <th>1910</th>\n",
       "      <td>2031967</td>\n",
       "      <td>235187</td>\n",
       "      <td>-5</td>\n",
       "      <td>NaN</td>\n",
       "      <td>NaN</td>\n",
       "      <td>Signed</td>\n",
       "      <td>0</td>\n",
       "      <td>0</td>\n",
       "    </tr>\n",
       "    <tr>\n",
       "      <th>...</th>\n",
       "      <td>...</td>\n",
       "      <td>...</td>\n",
       "      <td>...</td>\n",
       "      <td>...</td>\n",
       "      <td>...</td>\n",
       "      <td>...</td>\n",
       "      <td>...</td>\n",
       "      <td>...</td>\n",
       "    </tr>\n",
       "    <tr>\n",
       "      <th>9998668</th>\n",
       "      <td>1770932</td>\n",
       "      <td>441177</td>\n",
       "      <td>-10</td>\n",
       "      <td>NaN</td>\n",
       "      <td>NaN</td>\n",
       "      <td>Signed</td>\n",
       "      <td>0</td>\n",
       "      <td>0</td>\n",
       "    </tr>\n",
       "    <tr>\n",
       "      <th>9998696</th>\n",
       "      <td>1770932</td>\n",
       "      <td>441177</td>\n",
       "      <td>-11</td>\n",
       "      <td>NaN</td>\n",
       "      <td>NaN</td>\n",
       "      <td>Signed</td>\n",
       "      <td>0</td>\n",
       "      <td>0</td>\n",
       "    </tr>\n",
       "    <tr>\n",
       "      <th>9999114</th>\n",
       "      <td>1770932</td>\n",
       "      <td>441177</td>\n",
       "      <td>-8</td>\n",
       "      <td>NaN</td>\n",
       "      <td>NaN</td>\n",
       "      <td>Signed</td>\n",
       "      <td>0</td>\n",
       "      <td>0</td>\n",
       "    </tr>\n",
       "    <tr>\n",
       "      <th>9999116</th>\n",
       "      <td>1770932</td>\n",
       "      <td>441177</td>\n",
       "      <td>-9</td>\n",
       "      <td>NaN</td>\n",
       "      <td>NaN</td>\n",
       "      <td>Signed</td>\n",
       "      <td>0</td>\n",
       "      <td>0</td>\n",
       "    </tr>\n",
       "    <tr>\n",
       "      <th>9999511</th>\n",
       "      <td>1770932</td>\n",
       "      <td>441177</td>\n",
       "      <td>-5</td>\n",
       "      <td>NaN</td>\n",
       "      <td>NaN</td>\n",
       "      <td>Signed</td>\n",
       "      <td>0</td>\n",
       "      <td>0</td>\n",
       "    </tr>\n",
       "  </tbody>\n",
       "</table>\n",
       "<p>26087 rows × 8 columns</p>\n",
       "</div>"
      ],
      "text/plain": [
       "         SK_ID_PREV  SK_ID_CURR  MONTHS_BALANCE  CNT_INSTALMENT  \\\n",
       "709         1889585      403422              -6             NaN   \n",
       "759         1618886      382448              -2             NaN   \n",
       "1887        2288203      429576              -6             NaN   \n",
       "1899        2110224      167171              -6             NaN   \n",
       "1910        2031967      235187              -5             NaN   \n",
       "...             ...         ...             ...             ...   \n",
       "9998668     1770932      441177             -10             NaN   \n",
       "9998696     1770932      441177             -11             NaN   \n",
       "9999114     1770932      441177              -8             NaN   \n",
       "9999116     1770932      441177              -9             NaN   \n",
       "9999511     1770932      441177              -5             NaN   \n",
       "\n",
       "         CNT_INSTALMENT_FUTURE NAME_CONTRACT_STATUS  SK_DPD  SK_DPD_DEF  \n",
       "709                        NaN               Signed       0           0  \n",
       "759                        NaN               Signed       0           0  \n",
       "1887                       NaN               Signed       0           0  \n",
       "1899                       NaN               Signed       0           0  \n",
       "1910                       NaN               Signed       0           0  \n",
       "...                        ...                  ...     ...         ...  \n",
       "9998668                    NaN               Signed       0           0  \n",
       "9998696                    NaN               Signed       0           0  \n",
       "9999114                    NaN               Signed       0           0  \n",
       "9999116                    NaN               Signed       0           0  \n",
       "9999511                    NaN               Signed       0           0  \n",
       "\n",
       "[26087 rows x 8 columns]"
      ]
     },
     "execution_count": 163,
     "metadata": {},
     "output_type": "execute_result"
    }
   ],
   "source": [
    "pcb[pcb['CNT_INSTALMENT_FUTURE'].isnull()]"
   ]
  },
  {
   "cell_type": "code",
   "execution_count": 164,
   "metadata": {},
   "outputs": [
    {
     "data": {
      "text/plain": [
       "0"
      ]
     },
     "execution_count": 164,
     "metadata": {},
     "output_type": "execute_result"
    }
   ],
   "source": [
    "pcb['CNT_INSTALMENT_FUTURE'] = np.where(pcb['CNT_INSTALMENT_FUTURE'].isnull(), pcb['CNT_INSTALMENT_FUTURE'].mode(), pcb['CNT_INSTALMENT_FUTURE'])\n",
    "pcb['CNT_INSTALMENT_FUTURE'].isnull().sum()"
   ]
  },
  {
   "cell_type": "markdown",
   "metadata": {},
   "source": [
    "#### CNT_INSTALMENT"
   ]
  },
  {
   "cell_type": "code",
   "execution_count": 165,
   "metadata": {},
   "outputs": [
    {
     "data": {
      "text/plain": [
       "CNT_INSTALMENT\n",
       "12.0    2496845\n",
       "24.0    1517472\n",
       "10.0    1243449\n",
       "6.0     1065500\n",
       "18.0     727394\n",
       "         ...   \n",
       "70.0          2\n",
       "63.0          2\n",
       "92.0          1\n",
       "81.0          1\n",
       "68.0          1\n",
       "Name: count, Length: 74, dtype: int64"
      ]
     },
     "execution_count": 165,
     "metadata": {},
     "output_type": "execute_result"
    }
   ],
   "source": [
    "pcb['CNT_INSTALMENT'].value_counts(dropna=False)"
   ]
  },
  {
   "cell_type": "code",
   "execution_count": 166,
   "metadata": {},
   "outputs": [
    {
     "data": {
      "text/plain": [
       "0"
      ]
     },
     "execution_count": 166,
     "metadata": {},
     "output_type": "execute_result"
    }
   ],
   "source": [
    "pcb['CNT_INSTALMENT'] = np.where(pcb['CNT_INSTALMENT'].isnull(), pcb['CNT_INSTALMENT'].mode(), pcb['CNT_INSTALMENT'])\n",
    "pcb['CNT_INSTALMENT'].isnull().sum()"
   ]
  },
  {
   "cell_type": "code",
   "execution_count": 167,
   "metadata": {},
   "outputs": [
    {
     "data": {
      "text/plain": [
       "SK_ID_PREV               0\n",
       "SK_ID_CURR               0\n",
       "MONTHS_BALANCE           0\n",
       "CNT_INSTALMENT           0\n",
       "CNT_INSTALMENT_FUTURE    0\n",
       "NAME_CONTRACT_STATUS     0\n",
       "SK_DPD                   0\n",
       "SK_DPD_DEF               0\n",
       "dtype: int64"
      ]
     },
     "execution_count": 167,
     "metadata": {},
     "output_type": "execute_result"
    }
   ],
   "source": [
    "pcb.isnull().sum()"
   ]
  },
  {
   "cell_type": "markdown",
   "metadata": {},
   "source": [
    "### Groupby SK_ID_CURR"
   ]
  },
  {
   "cell_type": "code",
   "execution_count": 168,
   "metadata": {},
   "outputs": [],
   "source": [
    "pcb = pcb[['SK_ID_CURR','NAME_CONTRACT_STATUS', 'CNT_INSTALMENT','CNT_INSTALMENT_FUTURE']]"
   ]
  },
  {
   "cell_type": "code",
   "execution_count": 169,
   "metadata": {},
   "outputs": [
    {
     "data": {
      "text/html": [
       "<div>\n",
       "<style scoped>\n",
       "    .dataframe tbody tr th:only-of-type {\n",
       "        vertical-align: middle;\n",
       "    }\n",
       "\n",
       "    .dataframe tbody tr th {\n",
       "        vertical-align: top;\n",
       "    }\n",
       "\n",
       "    .dataframe thead th {\n",
       "        text-align: right;\n",
       "    }\n",
       "</style>\n",
       "<table border=\"1\" class=\"dataframe\">\n",
       "  <thead>\n",
       "    <tr style=\"text-align: right;\">\n",
       "      <th></th>\n",
       "      <th>SK_ID_CURR</th>\n",
       "      <th>NAME_CONTRACT_STATUS</th>\n",
       "      <th>CNT_INSTALMENT</th>\n",
       "      <th>CNT_INSTALMENT_FUTURE</th>\n",
       "    </tr>\n",
       "  </thead>\n",
       "  <tbody>\n",
       "    <tr>\n",
       "      <th>0</th>\n",
       "      <td>100001</td>\n",
       "      <td>Active</td>\n",
       "      <td>4.0</td>\n",
       "      <td>0.0</td>\n",
       "    </tr>\n",
       "    <tr>\n",
       "      <th>1</th>\n",
       "      <td>100002</td>\n",
       "      <td>Active</td>\n",
       "      <td>24.0</td>\n",
       "      <td>6.0</td>\n",
       "    </tr>\n",
       "    <tr>\n",
       "      <th>2</th>\n",
       "      <td>100003</td>\n",
       "      <td>Active</td>\n",
       "      <td>12.0</td>\n",
       "      <td>0.0</td>\n",
       "    </tr>\n",
       "    <tr>\n",
       "      <th>3</th>\n",
       "      <td>100004</td>\n",
       "      <td>Active</td>\n",
       "      <td>4.0</td>\n",
       "      <td>0.0</td>\n",
       "    </tr>\n",
       "    <tr>\n",
       "      <th>4</th>\n",
       "      <td>100005</td>\n",
       "      <td>Active</td>\n",
       "      <td>12.0</td>\n",
       "      <td>0.0</td>\n",
       "    </tr>\n",
       "    <tr>\n",
       "      <th>...</th>\n",
       "      <td>...</td>\n",
       "      <td>...</td>\n",
       "      <td>...</td>\n",
       "      <td>...</td>\n",
       "    </tr>\n",
       "    <tr>\n",
       "      <th>337247</th>\n",
       "      <td>456251</td>\n",
       "      <td>Active</td>\n",
       "      <td>8.0</td>\n",
       "      <td>0.0</td>\n",
       "    </tr>\n",
       "    <tr>\n",
       "      <th>337248</th>\n",
       "      <td>456252</td>\n",
       "      <td>Active</td>\n",
       "      <td>6.0</td>\n",
       "      <td>0.0</td>\n",
       "    </tr>\n",
       "    <tr>\n",
       "      <th>337249</th>\n",
       "      <td>456253</td>\n",
       "      <td>Active</td>\n",
       "      <td>6.0</td>\n",
       "      <td>0.0</td>\n",
       "    </tr>\n",
       "    <tr>\n",
       "      <th>337250</th>\n",
       "      <td>456254</td>\n",
       "      <td>Active</td>\n",
       "      <td>14.0</td>\n",
       "      <td>8.0</td>\n",
       "    </tr>\n",
       "    <tr>\n",
       "      <th>337251</th>\n",
       "      <td>456255</td>\n",
       "      <td>Active</td>\n",
       "      <td>36.0</td>\n",
       "      <td>0.0</td>\n",
       "    </tr>\n",
       "  </tbody>\n",
       "</table>\n",
       "<p>337252 rows × 4 columns</p>\n",
       "</div>"
      ],
      "text/plain": [
       "        SK_ID_CURR NAME_CONTRACT_STATUS  CNT_INSTALMENT  CNT_INSTALMENT_FUTURE\n",
       "0           100001               Active             4.0                    0.0\n",
       "1           100002               Active            24.0                    6.0\n",
       "2           100003               Active            12.0                    0.0\n",
       "3           100004               Active             4.0                    0.0\n",
       "4           100005               Active            12.0                    0.0\n",
       "...            ...                  ...             ...                    ...\n",
       "337247      456251               Active             8.0                    0.0\n",
       "337248      456252               Active             6.0                    0.0\n",
       "337249      456253               Active             6.0                    0.0\n",
       "337250      456254               Active            14.0                    8.0\n",
       "337251      456255               Active            36.0                    0.0\n",
       "\n",
       "[337252 rows x 4 columns]"
      ]
     },
     "execution_count": 169,
     "metadata": {},
     "output_type": "execute_result"
    }
   ],
   "source": [
    "agg_funcs = {\n",
    "    'NAME_CONTRACT_STATUS': mode_func,\n",
    "    'CNT_INSTALMENT': mode_func,\n",
    "    'CNT_INSTALMENT_FUTURE': mode_func\n",
    "}\n",
    "\n",
    "pcb.groupby('SK_ID_CURR').agg(agg_funcs).reset_index()"
   ]
  },
  {
   "cell_type": "markdown",
   "metadata": {},
   "source": [
    "# Previous Application"
   ]
  },
  {
   "cell_type": "code",
   "execution_count": 170,
   "metadata": {},
   "outputs": [
    {
     "data": {
      "text/html": [
       "<div>\n",
       "<style scoped>\n",
       "    .dataframe tbody tr th:only-of-type {\n",
       "        vertical-align: middle;\n",
       "    }\n",
       "\n",
       "    .dataframe tbody tr th {\n",
       "        vertical-align: top;\n",
       "    }\n",
       "\n",
       "    .dataframe thead th {\n",
       "        text-align: right;\n",
       "    }\n",
       "</style>\n",
       "<table border=\"1\" class=\"dataframe\">\n",
       "  <thead>\n",
       "    <tr style=\"text-align: right;\">\n",
       "      <th></th>\n",
       "      <th>SK_ID_PREV</th>\n",
       "      <th>SK_ID_CURR</th>\n",
       "      <th>NAME_CONTRACT_TYPE</th>\n",
       "      <th>AMT_ANNUITY</th>\n",
       "      <th>AMT_APPLICATION</th>\n",
       "      <th>AMT_CREDIT</th>\n",
       "      <th>AMT_DOWN_PAYMENT</th>\n",
       "      <th>AMT_GOODS_PRICE</th>\n",
       "      <th>WEEKDAY_APPR_PROCESS_START</th>\n",
       "      <th>HOUR_APPR_PROCESS_START</th>\n",
       "      <th>...</th>\n",
       "      <th>NAME_SELLER_INDUSTRY</th>\n",
       "      <th>CNT_PAYMENT</th>\n",
       "      <th>NAME_YIELD_GROUP</th>\n",
       "      <th>PRODUCT_COMBINATION</th>\n",
       "      <th>DAYS_FIRST_DRAWING</th>\n",
       "      <th>DAYS_FIRST_DUE</th>\n",
       "      <th>DAYS_LAST_DUE_1ST_VERSION</th>\n",
       "      <th>DAYS_LAST_DUE</th>\n",
       "      <th>DAYS_TERMINATION</th>\n",
       "      <th>NFLAG_INSURED_ON_APPROVAL</th>\n",
       "    </tr>\n",
       "  </thead>\n",
       "  <tbody>\n",
       "    <tr>\n",
       "      <th>0</th>\n",
       "      <td>2030495</td>\n",
       "      <td>271877</td>\n",
       "      <td>Consumer loans</td>\n",
       "      <td>1730.430</td>\n",
       "      <td>17145.0</td>\n",
       "      <td>17145.0</td>\n",
       "      <td>0.0</td>\n",
       "      <td>17145.0</td>\n",
       "      <td>SATURDAY</td>\n",
       "      <td>15</td>\n",
       "      <td>...</td>\n",
       "      <td>Connectivity</td>\n",
       "      <td>12.0</td>\n",
       "      <td>middle</td>\n",
       "      <td>POS mobile with interest</td>\n",
       "      <td>365243.0</td>\n",
       "      <td>-42.0</td>\n",
       "      <td>300.0</td>\n",
       "      <td>-42.0</td>\n",
       "      <td>-37.0</td>\n",
       "      <td>0.0</td>\n",
       "    </tr>\n",
       "    <tr>\n",
       "      <th>1</th>\n",
       "      <td>2802425</td>\n",
       "      <td>108129</td>\n",
       "      <td>Cash loans</td>\n",
       "      <td>25188.615</td>\n",
       "      <td>607500.0</td>\n",
       "      <td>679671.0</td>\n",
       "      <td>NaN</td>\n",
       "      <td>607500.0</td>\n",
       "      <td>THURSDAY</td>\n",
       "      <td>11</td>\n",
       "      <td>...</td>\n",
       "      <td>XNA</td>\n",
       "      <td>36.0</td>\n",
       "      <td>low_action</td>\n",
       "      <td>Cash X-Sell: low</td>\n",
       "      <td>365243.0</td>\n",
       "      <td>-134.0</td>\n",
       "      <td>916.0</td>\n",
       "      <td>365243.0</td>\n",
       "      <td>365243.0</td>\n",
       "      <td>1.0</td>\n",
       "    </tr>\n",
       "    <tr>\n",
       "      <th>2</th>\n",
       "      <td>2523466</td>\n",
       "      <td>122040</td>\n",
       "      <td>Cash loans</td>\n",
       "      <td>15060.735</td>\n",
       "      <td>112500.0</td>\n",
       "      <td>136444.5</td>\n",
       "      <td>NaN</td>\n",
       "      <td>112500.0</td>\n",
       "      <td>TUESDAY</td>\n",
       "      <td>11</td>\n",
       "      <td>...</td>\n",
       "      <td>XNA</td>\n",
       "      <td>12.0</td>\n",
       "      <td>high</td>\n",
       "      <td>Cash X-Sell: high</td>\n",
       "      <td>365243.0</td>\n",
       "      <td>-271.0</td>\n",
       "      <td>59.0</td>\n",
       "      <td>365243.0</td>\n",
       "      <td>365243.0</td>\n",
       "      <td>1.0</td>\n",
       "    </tr>\n",
       "    <tr>\n",
       "      <th>3</th>\n",
       "      <td>2819243</td>\n",
       "      <td>176158</td>\n",
       "      <td>Cash loans</td>\n",
       "      <td>47041.335</td>\n",
       "      <td>450000.0</td>\n",
       "      <td>470790.0</td>\n",
       "      <td>NaN</td>\n",
       "      <td>450000.0</td>\n",
       "      <td>MONDAY</td>\n",
       "      <td>7</td>\n",
       "      <td>...</td>\n",
       "      <td>XNA</td>\n",
       "      <td>12.0</td>\n",
       "      <td>middle</td>\n",
       "      <td>Cash X-Sell: middle</td>\n",
       "      <td>365243.0</td>\n",
       "      <td>-482.0</td>\n",
       "      <td>-152.0</td>\n",
       "      <td>-182.0</td>\n",
       "      <td>-177.0</td>\n",
       "      <td>1.0</td>\n",
       "    </tr>\n",
       "    <tr>\n",
       "      <th>4</th>\n",
       "      <td>1784265</td>\n",
       "      <td>202054</td>\n",
       "      <td>Cash loans</td>\n",
       "      <td>31924.395</td>\n",
       "      <td>337500.0</td>\n",
       "      <td>404055.0</td>\n",
       "      <td>NaN</td>\n",
       "      <td>337500.0</td>\n",
       "      <td>THURSDAY</td>\n",
       "      <td>9</td>\n",
       "      <td>...</td>\n",
       "      <td>XNA</td>\n",
       "      <td>24.0</td>\n",
       "      <td>high</td>\n",
       "      <td>Cash Street: high</td>\n",
       "      <td>NaN</td>\n",
       "      <td>NaN</td>\n",
       "      <td>NaN</td>\n",
       "      <td>NaN</td>\n",
       "      <td>NaN</td>\n",
       "      <td>NaN</td>\n",
       "    </tr>\n",
       "    <tr>\n",
       "      <th>...</th>\n",
       "      <td>...</td>\n",
       "      <td>...</td>\n",
       "      <td>...</td>\n",
       "      <td>...</td>\n",
       "      <td>...</td>\n",
       "      <td>...</td>\n",
       "      <td>...</td>\n",
       "      <td>...</td>\n",
       "      <td>...</td>\n",
       "      <td>...</td>\n",
       "      <td>...</td>\n",
       "      <td>...</td>\n",
       "      <td>...</td>\n",
       "      <td>...</td>\n",
       "      <td>...</td>\n",
       "      <td>...</td>\n",
       "      <td>...</td>\n",
       "      <td>...</td>\n",
       "      <td>...</td>\n",
       "      <td>...</td>\n",
       "      <td>...</td>\n",
       "    </tr>\n",
       "    <tr>\n",
       "      <th>1670209</th>\n",
       "      <td>2300464</td>\n",
       "      <td>352015</td>\n",
       "      <td>Consumer loans</td>\n",
       "      <td>14704.290</td>\n",
       "      <td>267295.5</td>\n",
       "      <td>311400.0</td>\n",
       "      <td>0.0</td>\n",
       "      <td>267295.5</td>\n",
       "      <td>WEDNESDAY</td>\n",
       "      <td>12</td>\n",
       "      <td>...</td>\n",
       "      <td>Furniture</td>\n",
       "      <td>30.0</td>\n",
       "      <td>low_normal</td>\n",
       "      <td>POS industry with interest</td>\n",
       "      <td>365243.0</td>\n",
       "      <td>-508.0</td>\n",
       "      <td>362.0</td>\n",
       "      <td>-358.0</td>\n",
       "      <td>-351.0</td>\n",
       "      <td>0.0</td>\n",
       "    </tr>\n",
       "    <tr>\n",
       "      <th>1670210</th>\n",
       "      <td>2357031</td>\n",
       "      <td>334635</td>\n",
       "      <td>Consumer loans</td>\n",
       "      <td>6622.020</td>\n",
       "      <td>87750.0</td>\n",
       "      <td>64291.5</td>\n",
       "      <td>29250.0</td>\n",
       "      <td>87750.0</td>\n",
       "      <td>TUESDAY</td>\n",
       "      <td>15</td>\n",
       "      <td>...</td>\n",
       "      <td>Furniture</td>\n",
       "      <td>12.0</td>\n",
       "      <td>middle</td>\n",
       "      <td>POS industry with interest</td>\n",
       "      <td>365243.0</td>\n",
       "      <td>-1604.0</td>\n",
       "      <td>-1274.0</td>\n",
       "      <td>-1304.0</td>\n",
       "      <td>-1297.0</td>\n",
       "      <td>0.0</td>\n",
       "    </tr>\n",
       "    <tr>\n",
       "      <th>1670211</th>\n",
       "      <td>2659632</td>\n",
       "      <td>249544</td>\n",
       "      <td>Consumer loans</td>\n",
       "      <td>11520.855</td>\n",
       "      <td>105237.0</td>\n",
       "      <td>102523.5</td>\n",
       "      <td>10525.5</td>\n",
       "      <td>105237.0</td>\n",
       "      <td>MONDAY</td>\n",
       "      <td>12</td>\n",
       "      <td>...</td>\n",
       "      <td>Consumer electronics</td>\n",
       "      <td>10.0</td>\n",
       "      <td>low_normal</td>\n",
       "      <td>POS household with interest</td>\n",
       "      <td>365243.0</td>\n",
       "      <td>-1457.0</td>\n",
       "      <td>-1187.0</td>\n",
       "      <td>-1187.0</td>\n",
       "      <td>-1181.0</td>\n",
       "      <td>0.0</td>\n",
       "    </tr>\n",
       "    <tr>\n",
       "      <th>1670212</th>\n",
       "      <td>2785582</td>\n",
       "      <td>400317</td>\n",
       "      <td>Cash loans</td>\n",
       "      <td>18821.520</td>\n",
       "      <td>180000.0</td>\n",
       "      <td>191880.0</td>\n",
       "      <td>NaN</td>\n",
       "      <td>180000.0</td>\n",
       "      <td>WEDNESDAY</td>\n",
       "      <td>9</td>\n",
       "      <td>...</td>\n",
       "      <td>XNA</td>\n",
       "      <td>12.0</td>\n",
       "      <td>low_normal</td>\n",
       "      <td>Cash X-Sell: low</td>\n",
       "      <td>365243.0</td>\n",
       "      <td>-1155.0</td>\n",
       "      <td>-825.0</td>\n",
       "      <td>-825.0</td>\n",
       "      <td>-817.0</td>\n",
       "      <td>1.0</td>\n",
       "    </tr>\n",
       "    <tr>\n",
       "      <th>1670213</th>\n",
       "      <td>2418762</td>\n",
       "      <td>261212</td>\n",
       "      <td>Cash loans</td>\n",
       "      <td>16431.300</td>\n",
       "      <td>360000.0</td>\n",
       "      <td>360000.0</td>\n",
       "      <td>NaN</td>\n",
       "      <td>360000.0</td>\n",
       "      <td>SUNDAY</td>\n",
       "      <td>10</td>\n",
       "      <td>...</td>\n",
       "      <td>XNA</td>\n",
       "      <td>48.0</td>\n",
       "      <td>middle</td>\n",
       "      <td>Cash X-Sell: middle</td>\n",
       "      <td>365243.0</td>\n",
       "      <td>-1163.0</td>\n",
       "      <td>247.0</td>\n",
       "      <td>-443.0</td>\n",
       "      <td>-423.0</td>\n",
       "      <td>0.0</td>\n",
       "    </tr>\n",
       "  </tbody>\n",
       "</table>\n",
       "<p>1670214 rows × 37 columns</p>\n",
       "</div>"
      ],
      "text/plain": [
       "         SK_ID_PREV  SK_ID_CURR NAME_CONTRACT_TYPE  AMT_ANNUITY  \\\n",
       "0           2030495      271877     Consumer loans     1730.430   \n",
       "1           2802425      108129         Cash loans    25188.615   \n",
       "2           2523466      122040         Cash loans    15060.735   \n",
       "3           2819243      176158         Cash loans    47041.335   \n",
       "4           1784265      202054         Cash loans    31924.395   \n",
       "...             ...         ...                ...          ...   \n",
       "1670209     2300464      352015     Consumer loans    14704.290   \n",
       "1670210     2357031      334635     Consumer loans     6622.020   \n",
       "1670211     2659632      249544     Consumer loans    11520.855   \n",
       "1670212     2785582      400317         Cash loans    18821.520   \n",
       "1670213     2418762      261212         Cash loans    16431.300   \n",
       "\n",
       "         AMT_APPLICATION  AMT_CREDIT  AMT_DOWN_PAYMENT  AMT_GOODS_PRICE  \\\n",
       "0                17145.0     17145.0               0.0          17145.0   \n",
       "1               607500.0    679671.0               NaN         607500.0   \n",
       "2               112500.0    136444.5               NaN         112500.0   \n",
       "3               450000.0    470790.0               NaN         450000.0   \n",
       "4               337500.0    404055.0               NaN         337500.0   \n",
       "...                  ...         ...               ...              ...   \n",
       "1670209         267295.5    311400.0               0.0         267295.5   \n",
       "1670210          87750.0     64291.5           29250.0          87750.0   \n",
       "1670211         105237.0    102523.5           10525.5         105237.0   \n",
       "1670212         180000.0    191880.0               NaN         180000.0   \n",
       "1670213         360000.0    360000.0               NaN         360000.0   \n",
       "\n",
       "        WEEKDAY_APPR_PROCESS_START  HOUR_APPR_PROCESS_START  ...  \\\n",
       "0                         SATURDAY                       15  ...   \n",
       "1                         THURSDAY                       11  ...   \n",
       "2                          TUESDAY                       11  ...   \n",
       "3                           MONDAY                        7  ...   \n",
       "4                         THURSDAY                        9  ...   \n",
       "...                            ...                      ...  ...   \n",
       "1670209                  WEDNESDAY                       12  ...   \n",
       "1670210                    TUESDAY                       15  ...   \n",
       "1670211                     MONDAY                       12  ...   \n",
       "1670212                  WEDNESDAY                        9  ...   \n",
       "1670213                     SUNDAY                       10  ...   \n",
       "\n",
       "         NAME_SELLER_INDUSTRY  CNT_PAYMENT  NAME_YIELD_GROUP  \\\n",
       "0                Connectivity         12.0            middle   \n",
       "1                         XNA         36.0        low_action   \n",
       "2                         XNA         12.0              high   \n",
       "3                         XNA         12.0            middle   \n",
       "4                         XNA         24.0              high   \n",
       "...                       ...          ...               ...   \n",
       "1670209             Furniture         30.0        low_normal   \n",
       "1670210             Furniture         12.0            middle   \n",
       "1670211  Consumer electronics         10.0        low_normal   \n",
       "1670212                   XNA         12.0        low_normal   \n",
       "1670213                   XNA         48.0            middle   \n",
       "\n",
       "                 PRODUCT_COMBINATION  DAYS_FIRST_DRAWING DAYS_FIRST_DUE  \\\n",
       "0           POS mobile with interest            365243.0          -42.0   \n",
       "1                   Cash X-Sell: low            365243.0         -134.0   \n",
       "2                  Cash X-Sell: high            365243.0         -271.0   \n",
       "3                Cash X-Sell: middle            365243.0         -482.0   \n",
       "4                  Cash Street: high                 NaN            NaN   \n",
       "...                              ...                 ...            ...   \n",
       "1670209   POS industry with interest            365243.0         -508.0   \n",
       "1670210   POS industry with interest            365243.0        -1604.0   \n",
       "1670211  POS household with interest            365243.0        -1457.0   \n",
       "1670212             Cash X-Sell: low            365243.0        -1155.0   \n",
       "1670213          Cash X-Sell: middle            365243.0        -1163.0   \n",
       "\n",
       "        DAYS_LAST_DUE_1ST_VERSION  DAYS_LAST_DUE DAYS_TERMINATION  \\\n",
       "0                           300.0          -42.0            -37.0   \n",
       "1                           916.0       365243.0         365243.0   \n",
       "2                            59.0       365243.0         365243.0   \n",
       "3                          -152.0         -182.0           -177.0   \n",
       "4                             NaN            NaN              NaN   \n",
       "...                           ...            ...              ...   \n",
       "1670209                     362.0         -358.0           -351.0   \n",
       "1670210                   -1274.0        -1304.0          -1297.0   \n",
       "1670211                   -1187.0        -1187.0          -1181.0   \n",
       "1670212                    -825.0         -825.0           -817.0   \n",
       "1670213                     247.0         -443.0           -423.0   \n",
       "\n",
       "        NFLAG_INSURED_ON_APPROVAL  \n",
       "0                             0.0  \n",
       "1                             1.0  \n",
       "2                             1.0  \n",
       "3                             1.0  \n",
       "4                             NaN  \n",
       "...                           ...  \n",
       "1670209                       0.0  \n",
       "1670210                       0.0  \n",
       "1670211                       0.0  \n",
       "1670212                       1.0  \n",
       "1670213                       0.0  \n",
       "\n",
       "[1670214 rows x 37 columns]"
      ]
     },
     "execution_count": 170,
     "metadata": {},
     "output_type": "execute_result"
    }
   ],
   "source": [
    "pa = pd.read_csv(r'C:\\Users\\rvuon\\OneDrive\\Documents\\Learning Fuze\\database\\Project Loan\\home-credit-default-risk\\previous_application.csv')\n",
    "pa"
   ]
  },
  {
   "cell_type": "code",
   "execution_count": 171,
   "metadata": {},
   "outputs": [
    {
     "name": "stdout",
     "output_type": "stream",
     "text": [
      "<class 'pandas.core.frame.DataFrame'>\n",
      "RangeIndex: 1670214 entries, 0 to 1670213\n",
      "Data columns (total 37 columns):\n",
      " #   Column                       Non-Null Count    Dtype  \n",
      "---  ------                       --------------    -----  \n",
      " 0   SK_ID_PREV                   1670214 non-null  int64  \n",
      " 1   SK_ID_CURR                   1670214 non-null  int64  \n",
      " 2   NAME_CONTRACT_TYPE           1670214 non-null  object \n",
      " 3   AMT_ANNUITY                  1297979 non-null  float64\n",
      " 4   AMT_APPLICATION              1670214 non-null  float64\n",
      " 5   AMT_CREDIT                   1670213 non-null  float64\n",
      " 6   AMT_DOWN_PAYMENT             774370 non-null   float64\n",
      " 7   AMT_GOODS_PRICE              1284699 non-null  float64\n",
      " 8   WEEKDAY_APPR_PROCESS_START   1670214 non-null  object \n",
      " 9   HOUR_APPR_PROCESS_START      1670214 non-null  int64  \n",
      " 10  FLAG_LAST_APPL_PER_CONTRACT  1670214 non-null  object \n",
      " 11  NFLAG_LAST_APPL_IN_DAY       1670214 non-null  int64  \n",
      " 12  RATE_DOWN_PAYMENT            774370 non-null   float64\n",
      " 13  RATE_INTEREST_PRIMARY        5951 non-null     float64\n",
      " 14  RATE_INTEREST_PRIVILEGED     5951 non-null     float64\n",
      " 15  NAME_CASH_LOAN_PURPOSE       1670214 non-null  object \n",
      " 16  NAME_CONTRACT_STATUS         1670214 non-null  object \n",
      " 17  DAYS_DECISION                1670214 non-null  int64  \n",
      " 18  NAME_PAYMENT_TYPE            1670214 non-null  object \n",
      " 19  CODE_REJECT_REASON           1670214 non-null  object \n",
      " 20  NAME_TYPE_SUITE              849809 non-null   object \n",
      " 21  NAME_CLIENT_TYPE             1670214 non-null  object \n",
      " 22  NAME_GOODS_CATEGORY          1670214 non-null  object \n",
      " 23  NAME_PORTFOLIO               1670214 non-null  object \n",
      " 24  NAME_PRODUCT_TYPE            1670214 non-null  object \n",
      " 25  CHANNEL_TYPE                 1670214 non-null  object \n",
      " 26  SELLERPLACE_AREA             1670214 non-null  int64  \n",
      " 27  NAME_SELLER_INDUSTRY         1670214 non-null  object \n",
      " 28  CNT_PAYMENT                  1297984 non-null  float64\n",
      " 29  NAME_YIELD_GROUP             1670214 non-null  object \n",
      " 30  PRODUCT_COMBINATION          1669868 non-null  object \n",
      " 31  DAYS_FIRST_DRAWING           997149 non-null   float64\n",
      " 32  DAYS_FIRST_DUE               997149 non-null   float64\n",
      " 33  DAYS_LAST_DUE_1ST_VERSION    997149 non-null   float64\n",
      " 34  DAYS_LAST_DUE                997149 non-null   float64\n",
      " 35  DAYS_TERMINATION             997149 non-null   float64\n",
      " 36  NFLAG_INSURED_ON_APPROVAL    997149 non-null   float64\n",
      "dtypes: float64(15), int64(6), object(16)\n",
      "memory usage: 471.5+ MB\n"
     ]
    }
   ],
   "source": [
    "pa.info()"
   ]
  },
  {
   "cell_type": "code",
   "execution_count": 172,
   "metadata": {},
   "outputs": [
    {
     "data": {
      "text/plain": [
       "SK_ID_PREV                     0.000000e+00\n",
       "SK_ID_CURR                     0.000000e+00\n",
       "NAME_CONTRACT_TYPE             0.000000e+00\n",
       "AMT_ANNUITY                    2.228667e-01\n",
       "AMT_APPLICATION                0.000000e+00\n",
       "AMT_CREDIT                     5.987257e-07\n",
       "AMT_DOWN_PAYMENT               5.363648e-01\n",
       "AMT_GOODS_PRICE                2.308177e-01\n",
       "WEEKDAY_APPR_PROCESS_START     0.000000e+00\n",
       "HOUR_APPR_PROCESS_START        0.000000e+00\n",
       "FLAG_LAST_APPL_PER_CONTRACT    0.000000e+00\n",
       "NFLAG_LAST_APPL_IN_DAY         0.000000e+00\n",
       "RATE_DOWN_PAYMENT              5.363648e-01\n",
       "RATE_INTEREST_PRIMARY          9.964370e-01\n",
       "RATE_INTEREST_PRIVILEGED       9.964370e-01\n",
       "NAME_CASH_LOAN_PURPOSE         0.000000e+00\n",
       "NAME_CONTRACT_STATUS           0.000000e+00\n",
       "DAYS_DECISION                  0.000000e+00\n",
       "NAME_PAYMENT_TYPE              0.000000e+00\n",
       "CODE_REJECT_REASON             0.000000e+00\n",
       "NAME_TYPE_SUITE                4.911975e-01\n",
       "NAME_CLIENT_TYPE               0.000000e+00\n",
       "NAME_GOODS_CATEGORY            0.000000e+00\n",
       "NAME_PORTFOLIO                 0.000000e+00\n",
       "NAME_PRODUCT_TYPE              0.000000e+00\n",
       "CHANNEL_TYPE                   0.000000e+00\n",
       "SELLERPLACE_AREA               0.000000e+00\n",
       "NAME_SELLER_INDUSTRY           0.000000e+00\n",
       "CNT_PAYMENT                    2.228637e-01\n",
       "NAME_YIELD_GROUP               0.000000e+00\n",
       "PRODUCT_COMBINATION            2.071591e-04\n",
       "DAYS_FIRST_DRAWING             4.029813e-01\n",
       "DAYS_FIRST_DUE                 4.029813e-01\n",
       "DAYS_LAST_DUE_1ST_VERSION      4.029813e-01\n",
       "DAYS_LAST_DUE                  4.029813e-01\n",
       "DAYS_TERMINATION               4.029813e-01\n",
       "NFLAG_INSURED_ON_APPROVAL      4.029813e-01\n",
       "dtype: float64"
      ]
     },
     "execution_count": 172,
     "metadata": {},
     "output_type": "execute_result"
    }
   ],
   "source": [
    "missing_fraction = pa.apply(fraction_missing)\n",
    "missing_fraction"
   ]
  },
  {
   "cell_type": "code",
   "execution_count": 173,
   "metadata": {},
   "outputs": [
    {
     "data": {
      "text/plain": [
       "RATE_INTEREST_PRIMARY       0.996437\n",
       "RATE_INTEREST_PRIVILEGED    0.996437\n",
       "AMT_DOWN_PAYMENT            0.536365\n",
       "RATE_DOWN_PAYMENT           0.536365\n",
       "dtype: float64"
      ]
     },
     "execution_count": 173,
     "metadata": {},
     "output_type": "execute_result"
    }
   ],
   "source": [
    "high_missing_features_pa = missing_fraction[missing_fraction > 0.5]\n",
    "high_missing_features_pa = high_missing_features_pa.sort_values(ascending=False)\n",
    "high_missing_features_pa"
   ]
  },
  {
   "cell_type": "code",
   "execution_count": 174,
   "metadata": {},
   "outputs": [],
   "source": [
    "pa = pa.drop(columns=['RATE_INTEREST_PRIMARY', 'RATE_INTEREST_PRIVILEGED', 'AMT_DOWN_PAYMENT', 'RATE_DOWN_PAYMENT'])"
   ]
  },
  {
   "cell_type": "markdown",
   "metadata": {},
   "source": [
    "## Fill Category Nulls"
   ]
  },
  {
   "cell_type": "code",
   "execution_count": 175,
   "metadata": {},
   "outputs": [
    {
     "data": {
      "text/plain": [
       "NAME_TYPE_SUITE                820405\n",
       "PRODUCT_COMBINATION               346\n",
       "NAME_CONTRACT_TYPE                  0\n",
       "WEEKDAY_APPR_PROCESS_START          0\n",
       "FLAG_LAST_APPL_PER_CONTRACT         0\n",
       "NAME_CASH_LOAN_PURPOSE              0\n",
       "NAME_CONTRACT_STATUS                0\n",
       "NAME_PAYMENT_TYPE                   0\n",
       "CODE_REJECT_REASON                  0\n",
       "NAME_CLIENT_TYPE                    0\n",
       "NAME_GOODS_CATEGORY                 0\n",
       "NAME_PORTFOLIO                      0\n",
       "NAME_PRODUCT_TYPE                   0\n",
       "CHANNEL_TYPE                        0\n",
       "NAME_SELLER_INDUSTRY                0\n",
       "NAME_YIELD_GROUP                    0\n",
       "dtype: int64"
      ]
     },
     "execution_count": 175,
     "metadata": {},
     "output_type": "execute_result"
    }
   ],
   "source": [
    "pa.select_dtypes(include='object').isnull().sum().sort_values(ascending=False)"
   ]
  },
  {
   "cell_type": "markdown",
   "metadata": {},
   "source": [
    "#### NAME_TYPE_SUITE"
   ]
  },
  {
   "cell_type": "code",
   "execution_count": 176,
   "metadata": {},
   "outputs": [
    {
     "data": {
      "text/plain": [
       "NAME_TYPE_SUITE\n",
       "NaN                820405\n",
       "Unaccompanied      508970\n",
       "Family             213263\n",
       "Spouse, partner     67069\n",
       "Children            31566\n",
       "Other_B             17624\n",
       "Other_A              9077\n",
       "Group of people      2240\n",
       "Name: count, dtype: int64"
      ]
     },
     "execution_count": 176,
     "metadata": {},
     "output_type": "execute_result"
    }
   ],
   "source": [
    "pa['NAME_TYPE_SUITE'].value_counts(dropna=False)"
   ]
  },
  {
   "cell_type": "code",
   "execution_count": 177,
   "metadata": {},
   "outputs": [
    {
     "data": {
      "text/plain": [
       "0"
      ]
     },
     "execution_count": 177,
     "metadata": {},
     "output_type": "execute_result"
    }
   ],
   "source": [
    "pa['NAME_TYPE_SUITE'] = np.where(pa['NAME_TYPE_SUITE'].isnull(), pa['NAME_TYPE_SUITE'].mode(), pa['NAME_TYPE_SUITE'])\n",
    "pa['NAME_TYPE_SUITE'].isnull().sum()"
   ]
  },
  {
   "cell_type": "markdown",
   "metadata": {},
   "source": [
    "#### PRODUCT_COMBINATION"
   ]
  },
  {
   "cell_type": "code",
   "execution_count": 178,
   "metadata": {},
   "outputs": [
    {
     "data": {
      "text/plain": [
       "0"
      ]
     },
     "execution_count": 178,
     "metadata": {},
     "output_type": "execute_result"
    }
   ],
   "source": [
    "pa['PRODUCT_COMBINATION'] = np.where(pa['PRODUCT_COMBINATION'].isnull(), pa['PRODUCT_COMBINATION'].mode(), pa['PRODUCT_COMBINATION'])\n",
    "pa['PRODUCT_COMBINATION'].isnull().sum()"
   ]
  },
  {
   "cell_type": "markdown",
   "metadata": {},
   "source": [
    "### Fill Numerical Nulls"
   ]
  },
  {
   "cell_type": "code",
   "execution_count": 179,
   "metadata": {},
   "outputs": [
    {
     "data": {
      "text/html": [
       "<div>\n",
       "<style scoped>\n",
       "    .dataframe tbody tr th:only-of-type {\n",
       "        vertical-align: middle;\n",
       "    }\n",
       "\n",
       "    .dataframe tbody tr th {\n",
       "        vertical-align: top;\n",
       "    }\n",
       "\n",
       "    .dataframe thead th {\n",
       "        text-align: right;\n",
       "    }\n",
       "</style>\n",
       "<table border=\"1\" class=\"dataframe\">\n",
       "  <thead>\n",
       "    <tr style=\"text-align: right;\">\n",
       "      <th></th>\n",
       "      <th>SK_ID_PREV</th>\n",
       "      <th>SK_ID_CURR</th>\n",
       "      <th>AMT_ANNUITY</th>\n",
       "      <th>AMT_APPLICATION</th>\n",
       "      <th>AMT_CREDIT</th>\n",
       "      <th>AMT_GOODS_PRICE</th>\n",
       "      <th>HOUR_APPR_PROCESS_START</th>\n",
       "      <th>NFLAG_LAST_APPL_IN_DAY</th>\n",
       "      <th>DAYS_DECISION</th>\n",
       "      <th>SELLERPLACE_AREA</th>\n",
       "      <th>CNT_PAYMENT</th>\n",
       "      <th>DAYS_FIRST_DRAWING</th>\n",
       "      <th>DAYS_FIRST_DUE</th>\n",
       "      <th>DAYS_LAST_DUE_1ST_VERSION</th>\n",
       "      <th>DAYS_LAST_DUE</th>\n",
       "      <th>DAYS_TERMINATION</th>\n",
       "      <th>NFLAG_INSURED_ON_APPROVAL</th>\n",
       "    </tr>\n",
       "  </thead>\n",
       "  <tbody>\n",
       "    <tr>\n",
       "      <th>SK_ID_PREV</th>\n",
       "      <td>1.000000</td>\n",
       "      <td>-0.000321</td>\n",
       "      <td>0.011459</td>\n",
       "      <td>0.003302</td>\n",
       "      <td>0.003659</td>\n",
       "      <td>0.015293</td>\n",
       "      <td>-0.002652</td>\n",
       "      <td>-0.002828</td>\n",
       "      <td>0.019100</td>\n",
       "      <td>-0.001079</td>\n",
       "      <td>0.015589</td>\n",
       "      <td>-0.001478</td>\n",
       "      <td>-0.000071</td>\n",
       "      <td>0.001222</td>\n",
       "      <td>0.001915</td>\n",
       "      <td>0.001781</td>\n",
       "      <td>0.003986</td>\n",
       "    </tr>\n",
       "    <tr>\n",
       "      <th>SK_ID_CURR</th>\n",
       "      <td>-0.000321</td>\n",
       "      <td>1.000000</td>\n",
       "      <td>0.000577</td>\n",
       "      <td>0.000280</td>\n",
       "      <td>0.000195</td>\n",
       "      <td>0.000369</td>\n",
       "      <td>0.002842</td>\n",
       "      <td>0.000098</td>\n",
       "      <td>-0.000637</td>\n",
       "      <td>0.001265</td>\n",
       "      <td>0.000031</td>\n",
       "      <td>-0.001329</td>\n",
       "      <td>-0.000757</td>\n",
       "      <td>0.000252</td>\n",
       "      <td>-0.000318</td>\n",
       "      <td>-0.000020</td>\n",
       "      <td>0.000876</td>\n",
       "    </tr>\n",
       "    <tr>\n",
       "      <th>AMT_ANNUITY</th>\n",
       "      <td>0.011459</td>\n",
       "      <td>0.000577</td>\n",
       "      <td>1.000000</td>\n",
       "      <td>0.808872</td>\n",
       "      <td>0.816429</td>\n",
       "      <td>0.820895</td>\n",
       "      <td>-0.036201</td>\n",
       "      <td>0.020639</td>\n",
       "      <td>0.279051</td>\n",
       "      <td>-0.015027</td>\n",
       "      <td>0.394535</td>\n",
       "      <td>0.052839</td>\n",
       "      <td>-0.053295</td>\n",
       "      <td>-0.068877</td>\n",
       "      <td>0.082659</td>\n",
       "      <td>0.068022</td>\n",
       "      <td>0.283080</td>\n",
       "    </tr>\n",
       "    <tr>\n",
       "      <th>AMT_APPLICATION</th>\n",
       "      <td>0.003302</td>\n",
       "      <td>0.000280</td>\n",
       "      <td>0.808872</td>\n",
       "      <td>1.000000</td>\n",
       "      <td>0.975824</td>\n",
       "      <td>0.999884</td>\n",
       "      <td>-0.014415</td>\n",
       "      <td>0.004310</td>\n",
       "      <td>0.133660</td>\n",
       "      <td>-0.007649</td>\n",
       "      <td>0.680630</td>\n",
       "      <td>0.074544</td>\n",
       "      <td>-0.049532</td>\n",
       "      <td>-0.084905</td>\n",
       "      <td>0.172627</td>\n",
       "      <td>0.148618</td>\n",
       "      <td>0.259219</td>\n",
       "    </tr>\n",
       "    <tr>\n",
       "      <th>AMT_CREDIT</th>\n",
       "      <td>0.003659</td>\n",
       "      <td>0.000195</td>\n",
       "      <td>0.816429</td>\n",
       "      <td>0.975824</td>\n",
       "      <td>1.000000</td>\n",
       "      <td>0.993087</td>\n",
       "      <td>-0.021039</td>\n",
       "      <td>-0.025179</td>\n",
       "      <td>0.133763</td>\n",
       "      <td>-0.009567</td>\n",
       "      <td>0.674278</td>\n",
       "      <td>-0.036813</td>\n",
       "      <td>0.002881</td>\n",
       "      <td>0.044031</td>\n",
       "      <td>0.224829</td>\n",
       "      <td>0.214320</td>\n",
       "      <td>0.263932</td>\n",
       "    </tr>\n",
       "    <tr>\n",
       "      <th>AMT_GOODS_PRICE</th>\n",
       "      <td>0.015293</td>\n",
       "      <td>0.000369</td>\n",
       "      <td>0.820895</td>\n",
       "      <td>0.999884</td>\n",
       "      <td>0.993087</td>\n",
       "      <td>1.000000</td>\n",
       "      <td>-0.045267</td>\n",
       "      <td>-0.017100</td>\n",
       "      <td>0.290422</td>\n",
       "      <td>-0.015842</td>\n",
       "      <td>0.672129</td>\n",
       "      <td>-0.024445</td>\n",
       "      <td>-0.021062</td>\n",
       "      <td>0.016883</td>\n",
       "      <td>0.211696</td>\n",
       "      <td>0.209296</td>\n",
       "      <td>0.243400</td>\n",
       "    </tr>\n",
       "    <tr>\n",
       "      <th>HOUR_APPR_PROCESS_START</th>\n",
       "      <td>-0.002652</td>\n",
       "      <td>0.002842</td>\n",
       "      <td>-0.036201</td>\n",
       "      <td>-0.014415</td>\n",
       "      <td>-0.021039</td>\n",
       "      <td>-0.045267</td>\n",
       "      <td>1.000000</td>\n",
       "      <td>0.005789</td>\n",
       "      <td>-0.039962</td>\n",
       "      <td>0.015671</td>\n",
       "      <td>-0.055511</td>\n",
       "      <td>0.014321</td>\n",
       "      <td>-0.002797</td>\n",
       "      <td>-0.016567</td>\n",
       "      <td>-0.018018</td>\n",
       "      <td>-0.018254</td>\n",
       "      <td>-0.117318</td>\n",
       "    </tr>\n",
       "    <tr>\n",
       "      <th>NFLAG_LAST_APPL_IN_DAY</th>\n",
       "      <td>-0.002828</td>\n",
       "      <td>0.000098</td>\n",
       "      <td>0.020639</td>\n",
       "      <td>0.004310</td>\n",
       "      <td>-0.025179</td>\n",
       "      <td>-0.017100</td>\n",
       "      <td>0.005789</td>\n",
       "      <td>1.000000</td>\n",
       "      <td>0.016555</td>\n",
       "      <td>0.000912</td>\n",
       "      <td>0.063347</td>\n",
       "      <td>-0.000409</td>\n",
       "      <td>-0.002288</td>\n",
       "      <td>-0.001981</td>\n",
       "      <td>-0.002277</td>\n",
       "      <td>-0.000744</td>\n",
       "      <td>-0.007124</td>\n",
       "    </tr>\n",
       "    <tr>\n",
       "      <th>DAYS_DECISION</th>\n",
       "      <td>0.019100</td>\n",
       "      <td>-0.000637</td>\n",
       "      <td>0.279051</td>\n",
       "      <td>0.133660</td>\n",
       "      <td>0.133763</td>\n",
       "      <td>0.290422</td>\n",
       "      <td>-0.039962</td>\n",
       "      <td>0.016555</td>\n",
       "      <td>1.000000</td>\n",
       "      <td>-0.018382</td>\n",
       "      <td>0.246453</td>\n",
       "      <td>-0.012007</td>\n",
       "      <td>0.176711</td>\n",
       "      <td>0.089167</td>\n",
       "      <td>0.448549</td>\n",
       "      <td>0.400179</td>\n",
       "      <td>-0.028905</td>\n",
       "    </tr>\n",
       "    <tr>\n",
       "      <th>SELLERPLACE_AREA</th>\n",
       "      <td>-0.001079</td>\n",
       "      <td>0.001265</td>\n",
       "      <td>-0.015027</td>\n",
       "      <td>-0.007649</td>\n",
       "      <td>-0.009567</td>\n",
       "      <td>-0.015842</td>\n",
       "      <td>0.015671</td>\n",
       "      <td>0.000912</td>\n",
       "      <td>-0.018382</td>\n",
       "      <td>1.000000</td>\n",
       "      <td>-0.010646</td>\n",
       "      <td>0.007401</td>\n",
       "      <td>-0.002166</td>\n",
       "      <td>-0.007510</td>\n",
       "      <td>-0.006291</td>\n",
       "      <td>-0.006675</td>\n",
       "      <td>-0.018280</td>\n",
       "    </tr>\n",
       "    <tr>\n",
       "      <th>CNT_PAYMENT</th>\n",
       "      <td>0.015589</td>\n",
       "      <td>0.000031</td>\n",
       "      <td>0.394535</td>\n",
       "      <td>0.680630</td>\n",
       "      <td>0.674278</td>\n",
       "      <td>0.672129</td>\n",
       "      <td>-0.055511</td>\n",
       "      <td>0.063347</td>\n",
       "      <td>0.246453</td>\n",
       "      <td>-0.010646</td>\n",
       "      <td>1.000000</td>\n",
       "      <td>0.309900</td>\n",
       "      <td>-0.204907</td>\n",
       "      <td>-0.381013</td>\n",
       "      <td>0.088903</td>\n",
       "      <td>0.055121</td>\n",
       "      <td>0.320520</td>\n",
       "    </tr>\n",
       "    <tr>\n",
       "      <th>DAYS_FIRST_DRAWING</th>\n",
       "      <td>-0.001478</td>\n",
       "      <td>-0.001329</td>\n",
       "      <td>0.052839</td>\n",
       "      <td>0.074544</td>\n",
       "      <td>-0.036813</td>\n",
       "      <td>-0.024445</td>\n",
       "      <td>0.014321</td>\n",
       "      <td>-0.000409</td>\n",
       "      <td>-0.012007</td>\n",
       "      <td>0.007401</td>\n",
       "      <td>0.309900</td>\n",
       "      <td>1.000000</td>\n",
       "      <td>0.004710</td>\n",
       "      <td>-0.803494</td>\n",
       "      <td>-0.257466</td>\n",
       "      <td>-0.396284</td>\n",
       "      <td>0.177652</td>\n",
       "    </tr>\n",
       "    <tr>\n",
       "      <th>DAYS_FIRST_DUE</th>\n",
       "      <td>-0.000071</td>\n",
       "      <td>-0.000757</td>\n",
       "      <td>-0.053295</td>\n",
       "      <td>-0.049532</td>\n",
       "      <td>0.002881</td>\n",
       "      <td>-0.021062</td>\n",
       "      <td>-0.002797</td>\n",
       "      <td>-0.002288</td>\n",
       "      <td>0.176711</td>\n",
       "      <td>-0.002166</td>\n",
       "      <td>-0.204907</td>\n",
       "      <td>0.004710</td>\n",
       "      <td>1.000000</td>\n",
       "      <td>0.513949</td>\n",
       "      <td>0.401838</td>\n",
       "      <td>0.323608</td>\n",
       "      <td>-0.119048</td>\n",
       "    </tr>\n",
       "    <tr>\n",
       "      <th>DAYS_LAST_DUE_1ST_VERSION</th>\n",
       "      <td>0.001222</td>\n",
       "      <td>0.000252</td>\n",
       "      <td>-0.068877</td>\n",
       "      <td>-0.084905</td>\n",
       "      <td>0.044031</td>\n",
       "      <td>0.016883</td>\n",
       "      <td>-0.016567</td>\n",
       "      <td>-0.001981</td>\n",
       "      <td>0.089167</td>\n",
       "      <td>-0.007510</td>\n",
       "      <td>-0.381013</td>\n",
       "      <td>-0.803494</td>\n",
       "      <td>0.513949</td>\n",
       "      <td>1.000000</td>\n",
       "      <td>0.423462</td>\n",
       "      <td>0.493174</td>\n",
       "      <td>-0.221947</td>\n",
       "    </tr>\n",
       "    <tr>\n",
       "      <th>DAYS_LAST_DUE</th>\n",
       "      <td>0.001915</td>\n",
       "      <td>-0.000318</td>\n",
       "      <td>0.082659</td>\n",
       "      <td>0.172627</td>\n",
       "      <td>0.224829</td>\n",
       "      <td>0.211696</td>\n",
       "      <td>-0.018018</td>\n",
       "      <td>-0.002277</td>\n",
       "      <td>0.448549</td>\n",
       "      <td>-0.006291</td>\n",
       "      <td>0.088903</td>\n",
       "      <td>-0.257466</td>\n",
       "      <td>0.401838</td>\n",
       "      <td>0.423462</td>\n",
       "      <td>1.000000</td>\n",
       "      <td>0.927990</td>\n",
       "      <td>0.012560</td>\n",
       "    </tr>\n",
       "    <tr>\n",
       "      <th>DAYS_TERMINATION</th>\n",
       "      <td>0.001781</td>\n",
       "      <td>-0.000020</td>\n",
       "      <td>0.068022</td>\n",
       "      <td>0.148618</td>\n",
       "      <td>0.214320</td>\n",
       "      <td>0.209296</td>\n",
       "      <td>-0.018254</td>\n",
       "      <td>-0.000744</td>\n",
       "      <td>0.400179</td>\n",
       "      <td>-0.006675</td>\n",
       "      <td>0.055121</td>\n",
       "      <td>-0.396284</td>\n",
       "      <td>0.323608</td>\n",
       "      <td>0.493174</td>\n",
       "      <td>0.927990</td>\n",
       "      <td>1.000000</td>\n",
       "      <td>-0.003065</td>\n",
       "    </tr>\n",
       "    <tr>\n",
       "      <th>NFLAG_INSURED_ON_APPROVAL</th>\n",
       "      <td>0.003986</td>\n",
       "      <td>0.000876</td>\n",
       "      <td>0.283080</td>\n",
       "      <td>0.259219</td>\n",
       "      <td>0.263932</td>\n",
       "      <td>0.243400</td>\n",
       "      <td>-0.117318</td>\n",
       "      <td>-0.007124</td>\n",
       "      <td>-0.028905</td>\n",
       "      <td>-0.018280</td>\n",
       "      <td>0.320520</td>\n",
       "      <td>0.177652</td>\n",
       "      <td>-0.119048</td>\n",
       "      <td>-0.221947</td>\n",
       "      <td>0.012560</td>\n",
       "      <td>-0.003065</td>\n",
       "      <td>1.000000</td>\n",
       "    </tr>\n",
       "  </tbody>\n",
       "</table>\n",
       "</div>"
      ],
      "text/plain": [
       "                           SK_ID_PREV  SK_ID_CURR  AMT_ANNUITY  \\\n",
       "SK_ID_PREV                   1.000000   -0.000321     0.011459   \n",
       "SK_ID_CURR                  -0.000321    1.000000     0.000577   \n",
       "AMT_ANNUITY                  0.011459    0.000577     1.000000   \n",
       "AMT_APPLICATION              0.003302    0.000280     0.808872   \n",
       "AMT_CREDIT                   0.003659    0.000195     0.816429   \n",
       "AMT_GOODS_PRICE              0.015293    0.000369     0.820895   \n",
       "HOUR_APPR_PROCESS_START     -0.002652    0.002842    -0.036201   \n",
       "NFLAG_LAST_APPL_IN_DAY      -0.002828    0.000098     0.020639   \n",
       "DAYS_DECISION                0.019100   -0.000637     0.279051   \n",
       "SELLERPLACE_AREA            -0.001079    0.001265    -0.015027   \n",
       "CNT_PAYMENT                  0.015589    0.000031     0.394535   \n",
       "DAYS_FIRST_DRAWING          -0.001478   -0.001329     0.052839   \n",
       "DAYS_FIRST_DUE              -0.000071   -0.000757    -0.053295   \n",
       "DAYS_LAST_DUE_1ST_VERSION    0.001222    0.000252    -0.068877   \n",
       "DAYS_LAST_DUE                0.001915   -0.000318     0.082659   \n",
       "DAYS_TERMINATION             0.001781   -0.000020     0.068022   \n",
       "NFLAG_INSURED_ON_APPROVAL    0.003986    0.000876     0.283080   \n",
       "\n",
       "                           AMT_APPLICATION  AMT_CREDIT  AMT_GOODS_PRICE  \\\n",
       "SK_ID_PREV                        0.003302    0.003659         0.015293   \n",
       "SK_ID_CURR                        0.000280    0.000195         0.000369   \n",
       "AMT_ANNUITY                       0.808872    0.816429         0.820895   \n",
       "AMT_APPLICATION                   1.000000    0.975824         0.999884   \n",
       "AMT_CREDIT                        0.975824    1.000000         0.993087   \n",
       "AMT_GOODS_PRICE                   0.999884    0.993087         1.000000   \n",
       "HOUR_APPR_PROCESS_START          -0.014415   -0.021039        -0.045267   \n",
       "NFLAG_LAST_APPL_IN_DAY            0.004310   -0.025179        -0.017100   \n",
       "DAYS_DECISION                     0.133660    0.133763         0.290422   \n",
       "SELLERPLACE_AREA                 -0.007649   -0.009567        -0.015842   \n",
       "CNT_PAYMENT                       0.680630    0.674278         0.672129   \n",
       "DAYS_FIRST_DRAWING                0.074544   -0.036813        -0.024445   \n",
       "DAYS_FIRST_DUE                   -0.049532    0.002881        -0.021062   \n",
       "DAYS_LAST_DUE_1ST_VERSION        -0.084905    0.044031         0.016883   \n",
       "DAYS_LAST_DUE                     0.172627    0.224829         0.211696   \n",
       "DAYS_TERMINATION                  0.148618    0.214320         0.209296   \n",
       "NFLAG_INSURED_ON_APPROVAL         0.259219    0.263932         0.243400   \n",
       "\n",
       "                           HOUR_APPR_PROCESS_START  NFLAG_LAST_APPL_IN_DAY  \\\n",
       "SK_ID_PREV                               -0.002652               -0.002828   \n",
       "SK_ID_CURR                                0.002842                0.000098   \n",
       "AMT_ANNUITY                              -0.036201                0.020639   \n",
       "AMT_APPLICATION                          -0.014415                0.004310   \n",
       "AMT_CREDIT                               -0.021039               -0.025179   \n",
       "AMT_GOODS_PRICE                          -0.045267               -0.017100   \n",
       "HOUR_APPR_PROCESS_START                   1.000000                0.005789   \n",
       "NFLAG_LAST_APPL_IN_DAY                    0.005789                1.000000   \n",
       "DAYS_DECISION                            -0.039962                0.016555   \n",
       "SELLERPLACE_AREA                          0.015671                0.000912   \n",
       "CNT_PAYMENT                              -0.055511                0.063347   \n",
       "DAYS_FIRST_DRAWING                        0.014321               -0.000409   \n",
       "DAYS_FIRST_DUE                           -0.002797               -0.002288   \n",
       "DAYS_LAST_DUE_1ST_VERSION                -0.016567               -0.001981   \n",
       "DAYS_LAST_DUE                            -0.018018               -0.002277   \n",
       "DAYS_TERMINATION                         -0.018254               -0.000744   \n",
       "NFLAG_INSURED_ON_APPROVAL                -0.117318               -0.007124   \n",
       "\n",
       "                           DAYS_DECISION  SELLERPLACE_AREA  CNT_PAYMENT  \\\n",
       "SK_ID_PREV                      0.019100         -0.001079     0.015589   \n",
       "SK_ID_CURR                     -0.000637          0.001265     0.000031   \n",
       "AMT_ANNUITY                     0.279051         -0.015027     0.394535   \n",
       "AMT_APPLICATION                 0.133660         -0.007649     0.680630   \n",
       "AMT_CREDIT                      0.133763         -0.009567     0.674278   \n",
       "AMT_GOODS_PRICE                 0.290422         -0.015842     0.672129   \n",
       "HOUR_APPR_PROCESS_START        -0.039962          0.015671    -0.055511   \n",
       "NFLAG_LAST_APPL_IN_DAY          0.016555          0.000912     0.063347   \n",
       "DAYS_DECISION                   1.000000         -0.018382     0.246453   \n",
       "SELLERPLACE_AREA               -0.018382          1.000000    -0.010646   \n",
       "CNT_PAYMENT                     0.246453         -0.010646     1.000000   \n",
       "DAYS_FIRST_DRAWING             -0.012007          0.007401     0.309900   \n",
       "DAYS_FIRST_DUE                  0.176711         -0.002166    -0.204907   \n",
       "DAYS_LAST_DUE_1ST_VERSION       0.089167         -0.007510    -0.381013   \n",
       "DAYS_LAST_DUE                   0.448549         -0.006291     0.088903   \n",
       "DAYS_TERMINATION                0.400179         -0.006675     0.055121   \n",
       "NFLAG_INSURED_ON_APPROVAL      -0.028905         -0.018280     0.320520   \n",
       "\n",
       "                           DAYS_FIRST_DRAWING  DAYS_FIRST_DUE  \\\n",
       "SK_ID_PREV                          -0.001478       -0.000071   \n",
       "SK_ID_CURR                          -0.001329       -0.000757   \n",
       "AMT_ANNUITY                          0.052839       -0.053295   \n",
       "AMT_APPLICATION                      0.074544       -0.049532   \n",
       "AMT_CREDIT                          -0.036813        0.002881   \n",
       "AMT_GOODS_PRICE                     -0.024445       -0.021062   \n",
       "HOUR_APPR_PROCESS_START              0.014321       -0.002797   \n",
       "NFLAG_LAST_APPL_IN_DAY              -0.000409       -0.002288   \n",
       "DAYS_DECISION                       -0.012007        0.176711   \n",
       "SELLERPLACE_AREA                     0.007401       -0.002166   \n",
       "CNT_PAYMENT                          0.309900       -0.204907   \n",
       "DAYS_FIRST_DRAWING                   1.000000        0.004710   \n",
       "DAYS_FIRST_DUE                       0.004710        1.000000   \n",
       "DAYS_LAST_DUE_1ST_VERSION           -0.803494        0.513949   \n",
       "DAYS_LAST_DUE                       -0.257466        0.401838   \n",
       "DAYS_TERMINATION                    -0.396284        0.323608   \n",
       "NFLAG_INSURED_ON_APPROVAL            0.177652       -0.119048   \n",
       "\n",
       "                           DAYS_LAST_DUE_1ST_VERSION  DAYS_LAST_DUE  \\\n",
       "SK_ID_PREV                                  0.001222       0.001915   \n",
       "SK_ID_CURR                                  0.000252      -0.000318   \n",
       "AMT_ANNUITY                                -0.068877       0.082659   \n",
       "AMT_APPLICATION                            -0.084905       0.172627   \n",
       "AMT_CREDIT                                  0.044031       0.224829   \n",
       "AMT_GOODS_PRICE                             0.016883       0.211696   \n",
       "HOUR_APPR_PROCESS_START                    -0.016567      -0.018018   \n",
       "NFLAG_LAST_APPL_IN_DAY                     -0.001981      -0.002277   \n",
       "DAYS_DECISION                               0.089167       0.448549   \n",
       "SELLERPLACE_AREA                           -0.007510      -0.006291   \n",
       "CNT_PAYMENT                                -0.381013       0.088903   \n",
       "DAYS_FIRST_DRAWING                         -0.803494      -0.257466   \n",
       "DAYS_FIRST_DUE                              0.513949       0.401838   \n",
       "DAYS_LAST_DUE_1ST_VERSION                   1.000000       0.423462   \n",
       "DAYS_LAST_DUE                               0.423462       1.000000   \n",
       "DAYS_TERMINATION                            0.493174       0.927990   \n",
       "NFLAG_INSURED_ON_APPROVAL                  -0.221947       0.012560   \n",
       "\n",
       "                           DAYS_TERMINATION  NFLAG_INSURED_ON_APPROVAL  \n",
       "SK_ID_PREV                         0.001781                   0.003986  \n",
       "SK_ID_CURR                        -0.000020                   0.000876  \n",
       "AMT_ANNUITY                        0.068022                   0.283080  \n",
       "AMT_APPLICATION                    0.148618                   0.259219  \n",
       "AMT_CREDIT                         0.214320                   0.263932  \n",
       "AMT_GOODS_PRICE                    0.209296                   0.243400  \n",
       "HOUR_APPR_PROCESS_START           -0.018254                  -0.117318  \n",
       "NFLAG_LAST_APPL_IN_DAY            -0.000744                  -0.007124  \n",
       "DAYS_DECISION                      0.400179                  -0.028905  \n",
       "SELLERPLACE_AREA                  -0.006675                  -0.018280  \n",
       "CNT_PAYMENT                        0.055121                   0.320520  \n",
       "DAYS_FIRST_DRAWING                -0.396284                   0.177652  \n",
       "DAYS_FIRST_DUE                     0.323608                  -0.119048  \n",
       "DAYS_LAST_DUE_1ST_VERSION          0.493174                  -0.221947  \n",
       "DAYS_LAST_DUE                      0.927990                   0.012560  \n",
       "DAYS_TERMINATION                   1.000000                  -0.003065  \n",
       "NFLAG_INSURED_ON_APPROVAL         -0.003065                   1.000000  "
      ]
     },
     "execution_count": 179,
     "metadata": {},
     "output_type": "execute_result"
    }
   ],
   "source": [
    "pa.corr(numeric_only=True)"
   ]
  },
  {
   "cell_type": "code",
   "execution_count": 180,
   "metadata": {},
   "outputs": [
    {
     "data": {
      "text/plain": [
       "NFLAG_INSURED_ON_APPROVAL    673065\n",
       "DAYS_TERMINATION             673065\n",
       "DAYS_LAST_DUE                673065\n",
       "DAYS_LAST_DUE_1ST_VERSION    673065\n",
       "DAYS_FIRST_DUE               673065\n",
       "DAYS_FIRST_DRAWING           673065\n",
       "AMT_GOODS_PRICE              385515\n",
       "AMT_ANNUITY                  372235\n",
       "CNT_PAYMENT                  372230\n",
       "AMT_CREDIT                        1\n",
       "SK_ID_PREV                        0\n",
       "SELLERPLACE_AREA                  0\n",
       "SK_ID_CURR                        0\n",
       "NFLAG_LAST_APPL_IN_DAY            0\n",
       "HOUR_APPR_PROCESS_START           0\n",
       "AMT_APPLICATION                   0\n",
       "DAYS_DECISION                     0\n",
       "dtype: int64"
      ]
     },
     "execution_count": 180,
     "metadata": {},
     "output_type": "execute_result"
    }
   ],
   "source": [
    "pa.select_dtypes(include=('int', 'float')).isnull().sum().sort_values(ascending=False)"
   ]
  },
  {
   "cell_type": "markdown",
   "metadata": {},
   "source": [
    "#### NFLAG_INSURED_ON_APPROVAL"
   ]
  },
  {
   "cell_type": "code",
   "execution_count": 181,
   "metadata": {},
   "outputs": [
    {
     "data": {
      "text/plain": [
       "NFLAG_INSURED_ON_APPROVAL\n",
       "NaN    673065\n",
       "0.0    665527\n",
       "1.0    331622\n",
       "Name: count, dtype: int64"
      ]
     },
     "execution_count": 181,
     "metadata": {},
     "output_type": "execute_result"
    }
   ],
   "source": [
    "pa['NFLAG_INSURED_ON_APPROVAL'].value_counts(dropna=False)"
   ]
  },
  {
   "cell_type": "code",
   "execution_count": 192,
   "metadata": {},
   "outputs": [
    {
     "data": {
      "text/plain": [
       "0"
      ]
     },
     "execution_count": 192,
     "metadata": {},
     "output_type": "execute_result"
    }
   ],
   "source": [
    "pa['NFLAG_INSURED_ON_APPROVAL'] = np.where( pa['NFLAG_INSURED_ON_APPROVAL'].isnull(), pa['NFLAG_INSURED_ON_APPROVAL'].mode(), pa['NFLAG_INSURED_ON_APPROVAL'])\n",
    "pa['NFLAG_INSURED_ON_APPROVAL'].isnull().sum()"
   ]
  },
  {
   "cell_type": "markdown",
   "metadata": {},
   "source": [
    "#### DAYS_TERMINATION"
   ]
  },
  {
   "cell_type": "code",
   "execution_count": 193,
   "metadata": {},
   "outputs": [
    {
     "data": {
      "text/plain": [
       "DAYS_TERMINATION\n",
       " NaN         673065\n",
       " 365243.0    225913\n",
       "-233.0          786\n",
       "-170.0          770\n",
       "-184.0          770\n",
       "              ...  \n",
       "-2844.0           1\n",
       "-2829.0           1\n",
       "-2874.0           1\n",
       "-2847.0           1\n",
       "-2815.0           1\n",
       "Name: count, Length: 2831, dtype: int64"
      ]
     },
     "execution_count": 193,
     "metadata": {},
     "output_type": "execute_result"
    }
   ],
   "source": [
    "pa['DAYS_TERMINATION'].value_counts(dropna=False)"
   ]
  },
  {
   "cell_type": "code",
   "execution_count": 194,
   "metadata": {},
   "outputs": [
    {
     "data": {
      "text/plain": [
       "0"
      ]
     },
     "execution_count": 194,
     "metadata": {},
     "output_type": "execute_result"
    }
   ],
   "source": [
    "pa['DAYS_TERMINATION'] = np.where( pa['DAYS_TERMINATION'].isnull(), pa['DAYS_TERMINATION'].mode(), pa['DAYS_TERMINATION'])\n",
    "pa['DAYS_TERMINATION'].isnull().sum()"
   ]
  },
  {
   "cell_type": "markdown",
   "metadata": {},
   "source": [
    "#### DAYS_LAST_DUE"
   ]
  },
  {
   "cell_type": "code",
   "execution_count": 195,
   "metadata": {},
   "outputs": [
    {
     "data": {
      "text/plain": [
       "DAYS_LAST_DUE\n",
       " NaN         673065\n",
       " 365243.0    211221\n",
       "-245.0          658\n",
       "-188.0          650\n",
       "-239.0          642\n",
       "              ...  \n",
       "-2848.0           1\n",
       "-2834.0           1\n",
       "-2849.0           1\n",
       "-2858.0           1\n",
       "-2833.0           1\n",
       "Name: count, Length: 2874, dtype: int64"
      ]
     },
     "execution_count": 195,
     "metadata": {},
     "output_type": "execute_result"
    }
   ],
   "source": [
    "pa['DAYS_LAST_DUE'].value_counts(dropna=False)"
   ]
  },
  {
   "cell_type": "code",
   "execution_count": 196,
   "metadata": {},
   "outputs": [
    {
     "data": {
      "text/plain": [
       "0"
      ]
     },
     "execution_count": 196,
     "metadata": {},
     "output_type": "execute_result"
    }
   ],
   "source": [
    "pa['DAYS_LAST_DUE'] = np.where( pa['DAYS_LAST_DUE'].isnull(), pa['DAYS_LAST_DUE'].mode(), pa['DAYS_LAST_DUE'])\n",
    "pa['DAYS_LAST_DUE'].isnull().sum()"
   ]
  },
  {
   "cell_type": "markdown",
   "metadata": {},
   "source": [
    "#### DAYS_LAST_DUE_1ST_VERSION"
   ]
  },
  {
   "cell_type": "code",
   "execution_count": 197,
   "metadata": {},
   "outputs": [
    {
     "data": {
      "text/plain": [
       "DAYS_LAST_DUE_1ST_VERSION\n",
       "NaN         673065\n",
       "365243.0     93864\n",
       "9.0            720\n",
       "8.0            706\n",
       "0.0            705\n",
       "             ...  \n",
       "1774.0           1\n",
       "1746.0           1\n",
       "1798.0           1\n",
       "1790.0           1\n",
       "1760.0           1\n",
       "Name: count, Length: 4606, dtype: int64"
      ]
     },
     "execution_count": 197,
     "metadata": {},
     "output_type": "execute_result"
    }
   ],
   "source": [
    "pa['DAYS_LAST_DUE_1ST_VERSION'].value_counts(dropna=False)"
   ]
  },
  {
   "cell_type": "code",
   "execution_count": 199,
   "metadata": {},
   "outputs": [
    {
     "data": {
      "text/plain": [
       "0"
      ]
     },
     "execution_count": 199,
     "metadata": {},
     "output_type": "execute_result"
    }
   ],
   "source": [
    "pa['DAYS_LAST_DUE_1ST_VERSION'] = np.where( pa['DAYS_LAST_DUE_1ST_VERSION'].isnull(), pa['DAYS_LAST_DUE_1ST_VERSION'].mode(), pa['DAYS_LAST_DUE_1ST_VERSION'])\n",
    "pa['DAYS_LAST_DUE_1ST_VERSION'].isnull().sum()"
   ]
  },
  {
   "cell_type": "markdown",
   "metadata": {},
   "source": [
    "#### DAYS_FIRST_DUE"
   ]
  },
  {
   "cell_type": "code",
   "execution_count": 200,
   "metadata": {},
   "outputs": [
    {
     "data": {
      "text/plain": [
       "DAYS_FIRST_DUE\n",
       " NaN         673065\n",
       " 365243.0     40645\n",
       "-334.0          772\n",
       "-509.0          760\n",
       "-208.0          751\n",
       "              ...  \n",
       "-2889.0          86\n",
       "-2890.0          73\n",
       "-2891.0          55\n",
       "-2.0             14\n",
       "-2892.0           9\n",
       "Name: count, Length: 2893, dtype: int64"
      ]
     },
     "execution_count": 200,
     "metadata": {},
     "output_type": "execute_result"
    }
   ],
   "source": [
    "pa['DAYS_FIRST_DUE'].value_counts(dropna=False)"
   ]
  },
  {
   "cell_type": "code",
   "execution_count": 201,
   "metadata": {},
   "outputs": [
    {
     "data": {
      "text/plain": [
       "0"
      ]
     },
     "execution_count": 201,
     "metadata": {},
     "output_type": "execute_result"
    }
   ],
   "source": [
    "pa['DAYS_FIRST_DUE'] = np.where( pa['DAYS_FIRST_DUE'].isnull(), pa['DAYS_FIRST_DUE'].mode(), pa['DAYS_FIRST_DUE'])\n",
    "pa['DAYS_FIRST_DUE'].isnull().sum()"
   ]
  },
  {
   "cell_type": "markdown",
   "metadata": {},
   "source": [
    "#### DAYS_FIRST_DRAWING"
   ]
  },
  {
   "cell_type": "code",
   "execution_count": 202,
   "metadata": {},
   "outputs": [
    {
     "data": {
      "text/plain": [
       "DAYS_FIRST_DRAWING\n",
       " 365243.0    934444\n",
       " NaN         673065\n",
       "-228.0          123\n",
       "-212.0          121\n",
       "-224.0          121\n",
       "              ...  \n",
       "-1995.0           1\n",
       "-1687.0           1\n",
       "-1739.0           1\n",
       "-1921.0           1\n",
       "-1879.0           1\n",
       "Name: count, Length: 2839, dtype: int64"
      ]
     },
     "execution_count": 202,
     "metadata": {},
     "output_type": "execute_result"
    }
   ],
   "source": [
    "pa['DAYS_FIRST_DRAWING'].value_counts(dropna=False)"
   ]
  },
  {
   "cell_type": "code",
   "execution_count": null,
   "metadata": {},
   "outputs": [],
   "source": [
    "pa['DAYS_FIRST_DRAWING'] = np.where( pa['DAYS_FIRST_DRAWING'].isnull(), pa['DAYS_FIRST_DRAWING'].mode(), pa['DAYS_FIRST_DRAWING'])\n",
    "pa['DAYS_FIRST_DRAWING'].isnull().sum()"
   ]
  },
  {
   "cell_type": "markdown",
   "metadata": {},
   "source": [
    "#### AMT_GOODS_PRICE"
   ]
  },
  {
   "cell_type": "code",
   "execution_count": 203,
   "metadata": {},
   "outputs": [
    {
     "data": {
      "text/plain": [
       "AMT_GOODS_PRICE\n",
       "NaN          385515\n",
       "45000.00      47831\n",
       "225000.00     43549\n",
       "135000.00     40666\n",
       "450000.00     38926\n",
       "              ...  \n",
       "185292.00         1\n",
       "225054.00         1\n",
       "156212.55         1\n",
       "99896.31          1\n",
       "267295.50         1\n",
       "Name: count, Length: 93886, dtype: int64"
      ]
     },
     "execution_count": 203,
     "metadata": {},
     "output_type": "execute_result"
    }
   ],
   "source": [
    "pa['AMT_GOODS_PRICE'].value_counts(dropna=False)"
   ]
  },
  {
   "cell_type": "code",
   "execution_count": 205,
   "metadata": {},
   "outputs": [
    {
     "data": {
      "text/plain": [
       "AMT_GOODS_PRICE              1.000000\n",
       "AMT_APPLICATION              0.999884\n",
       "AMT_CREDIT                   0.993087\n",
       "AMT_ANNUITY                  0.820895\n",
       "CNT_PAYMENT                  0.672129\n",
       "DAYS_DECISION                0.290422\n",
       "DAYS_LAST_DUE                0.280200\n",
       "DAYS_TERMINATION             0.278638\n",
       "DAYS_LAST_DUE_1ST_VERSION    0.233658\n",
       "DAYS_FIRST_DUE               0.233444\n",
       "NFLAG_INSURED_ON_APPROVAL    0.065418\n",
       "SK_ID_PREV                   0.015293\n",
       "SK_ID_CURR                   0.000369\n",
       "SELLERPLACE_AREA            -0.015842\n",
       "NFLAG_LAST_APPL_IN_DAY      -0.017100\n",
       "DAYS_FIRST_DRAWING          -0.024445\n",
       "HOUR_APPR_PROCESS_START     -0.045267\n",
       "Name: AMT_GOODS_PRICE, dtype: float64"
      ]
     },
     "execution_count": 205,
     "metadata": {},
     "output_type": "execute_result"
    }
   ],
   "source": [
    "pa.corr(numeric_only=True)['AMT_GOODS_PRICE'].sort_values(ascending=False)"
   ]
  },
  {
   "cell_type": "code",
   "execution_count": 206,
   "metadata": {},
   "outputs": [
    {
     "data": {
      "text/html": [
       "<div>\n",
       "<style scoped>\n",
       "    .dataframe tbody tr th:only-of-type {\n",
       "        vertical-align: middle;\n",
       "    }\n",
       "\n",
       "    .dataframe tbody tr th {\n",
       "        vertical-align: top;\n",
       "    }\n",
       "\n",
       "    .dataframe thead th {\n",
       "        text-align: right;\n",
       "    }\n",
       "</style>\n",
       "<table border=\"1\" class=\"dataframe\">\n",
       "  <thead>\n",
       "    <tr style=\"text-align: right;\">\n",
       "      <th></th>\n",
       "      <th>AMT_GOODS_PRICE</th>\n",
       "      <th>AMT_APPLICATION</th>\n",
       "      <th>AMT_CREDIT</th>\n",
       "      <th>AMT_ANNUITY</th>\n",
       "      <th>CNT_PAYMENT</th>\n",
       "    </tr>\n",
       "  </thead>\n",
       "  <tbody>\n",
       "    <tr>\n",
       "      <th>6</th>\n",
       "      <td>NaN</td>\n",
       "      <td>0.0</td>\n",
       "      <td>0.0</td>\n",
       "      <td>NaN</td>\n",
       "      <td>NaN</td>\n",
       "    </tr>\n",
       "    <tr>\n",
       "      <th>7</th>\n",
       "      <td>NaN</td>\n",
       "      <td>0.0</td>\n",
       "      <td>0.0</td>\n",
       "      <td>NaN</td>\n",
       "      <td>NaN</td>\n",
       "    </tr>\n",
       "    <tr>\n",
       "      <th>8</th>\n",
       "      <td>NaN</td>\n",
       "      <td>0.0</td>\n",
       "      <td>0.0</td>\n",
       "      <td>NaN</td>\n",
       "      <td>NaN</td>\n",
       "    </tr>\n",
       "    <tr>\n",
       "      <th>9</th>\n",
       "      <td>NaN</td>\n",
       "      <td>0.0</td>\n",
       "      <td>0.0</td>\n",
       "      <td>NaN</td>\n",
       "      <td>NaN</td>\n",
       "    </tr>\n",
       "    <tr>\n",
       "      <th>22</th>\n",
       "      <td>NaN</td>\n",
       "      <td>0.0</td>\n",
       "      <td>0.0</td>\n",
       "      <td>NaN</td>\n",
       "      <td>NaN</td>\n",
       "    </tr>\n",
       "    <tr>\n",
       "      <th>...</th>\n",
       "      <td>...</td>\n",
       "      <td>...</td>\n",
       "      <td>...</td>\n",
       "      <td>...</td>\n",
       "      <td>...</td>\n",
       "    </tr>\n",
       "    <tr>\n",
       "      <th>1670186</th>\n",
       "      <td>NaN</td>\n",
       "      <td>0.0</td>\n",
       "      <td>0.0</td>\n",
       "      <td>NaN</td>\n",
       "      <td>NaN</td>\n",
       "    </tr>\n",
       "    <tr>\n",
       "      <th>1670187</th>\n",
       "      <td>NaN</td>\n",
       "      <td>0.0</td>\n",
       "      <td>0.0</td>\n",
       "      <td>NaN</td>\n",
       "      <td>NaN</td>\n",
       "    </tr>\n",
       "    <tr>\n",
       "      <th>1670190</th>\n",
       "      <td>NaN</td>\n",
       "      <td>0.0</td>\n",
       "      <td>0.0</td>\n",
       "      <td>NaN</td>\n",
       "      <td>NaN</td>\n",
       "    </tr>\n",
       "    <tr>\n",
       "      <th>1670192</th>\n",
       "      <td>NaN</td>\n",
       "      <td>0.0</td>\n",
       "      <td>67500.0</td>\n",
       "      <td>3375.0</td>\n",
       "      <td>0.0</td>\n",
       "    </tr>\n",
       "    <tr>\n",
       "      <th>1670193</th>\n",
       "      <td>NaN</td>\n",
       "      <td>0.0</td>\n",
       "      <td>0.0</td>\n",
       "      <td>NaN</td>\n",
       "      <td>NaN</td>\n",
       "    </tr>\n",
       "  </tbody>\n",
       "</table>\n",
       "<p>385515 rows × 5 columns</p>\n",
       "</div>"
      ],
      "text/plain": [
       "         AMT_GOODS_PRICE  AMT_APPLICATION  AMT_CREDIT  AMT_ANNUITY  \\\n",
       "6                    NaN              0.0         0.0          NaN   \n",
       "7                    NaN              0.0         0.0          NaN   \n",
       "8                    NaN              0.0         0.0          NaN   \n",
       "9                    NaN              0.0         0.0          NaN   \n",
       "22                   NaN              0.0         0.0          NaN   \n",
       "...                  ...              ...         ...          ...   \n",
       "1670186              NaN              0.0         0.0          NaN   \n",
       "1670187              NaN              0.0         0.0          NaN   \n",
       "1670190              NaN              0.0         0.0          NaN   \n",
       "1670192              NaN              0.0     67500.0       3375.0   \n",
       "1670193              NaN              0.0         0.0          NaN   \n",
       "\n",
       "         CNT_PAYMENT  \n",
       "6                NaN  \n",
       "7                NaN  \n",
       "8                NaN  \n",
       "9                NaN  \n",
       "22               NaN  \n",
       "...              ...  \n",
       "1670186          NaN  \n",
       "1670187          NaN  \n",
       "1670190          NaN  \n",
       "1670192          0.0  \n",
       "1670193          NaN  \n",
       "\n",
       "[385515 rows x 5 columns]"
      ]
     },
     "execution_count": 206,
     "metadata": {},
     "output_type": "execute_result"
    }
   ],
   "source": [
    "pa[pa['AMT_GOODS_PRICE'].isnull()][['AMT_GOODS_PRICE', 'AMT_APPLICATION', 'AMT_CREDIT', 'AMT_ANNUITY', 'CNT_PAYMENT']]"
   ]
  },
  {
   "cell_type": "code",
   "execution_count": 207,
   "metadata": {},
   "outputs": [
    {
     "data": {
      "text/plain": [
       "0"
      ]
     },
     "execution_count": 207,
     "metadata": {},
     "output_type": "execute_result"
    }
   ],
   "source": [
    "pa['AMT_GOODS_PRICE'] = np.where(pa['AMT_GOODS_PRICE'].isnull(), pa['AMT_GOODS_PRICE'].mean, pa['AMT_GOODS_PRICE'])\n",
    "pa['AMT_GOODS_PRICE'].isnull().sum()"
   ]
  },
  {
   "cell_type": "markdown",
   "metadata": {},
   "source": [
    "#### AMT_ANNUITY"
   ]
  },
  {
   "cell_type": "code",
   "execution_count": 208,
   "metadata": {},
   "outputs": [
    {
     "data": {
      "text/plain": [
       "AMT_ANNUITY\n",
       "NaN          372235\n",
       "2250.000      31865\n",
       "11250.000     13974\n",
       "6750.000      13442\n",
       "9000.000      12496\n",
       "              ...  \n",
       "3794.445          1\n",
       "8723.160          1\n",
       "27948.330         1\n",
       "25374.285         1\n",
       "14704.290         1\n",
       "Name: count, Length: 357960, dtype: int64"
      ]
     },
     "execution_count": 208,
     "metadata": {},
     "output_type": "execute_result"
    }
   ],
   "source": [
    "pa['AMT_ANNUITY'].value_counts(dropna=False)"
   ]
  },
  {
   "cell_type": "code",
   "execution_count": 210,
   "metadata": {},
   "outputs": [
    {
     "data": {
      "text/plain": [
       "346"
      ]
     },
     "execution_count": 210,
     "metadata": {},
     "output_type": "execute_result"
    }
   ],
   "source": [
    "pa['AMT_ANNUITY'] = pa.groupby('NAME_CONTRACT_TYPE')['AMT_ANNUITY'].transform(lambda x: x.fillna(x.mean()))\n",
    "pa['AMT_ANNUITY'].isnull().sum()"
   ]
  },
  {
   "cell_type": "code",
   "execution_count": 211,
   "metadata": {},
   "outputs": [
    {
     "data": {
      "text/plain": [
       "0"
      ]
     },
     "execution_count": 211,
     "metadata": {},
     "output_type": "execute_result"
    }
   ],
   "source": [
    "pa['AMT_ANNUITY'] = np.where(pa['AMT_ANNUITY'].isnull(), pa['AMT_ANNUITY'].mean(), pa['AMT_ANNUITY'])\n",
    "pa['AMT_ANNUITY'].isnull().sum()"
   ]
  },
  {
   "cell_type": "markdown",
   "metadata": {},
   "source": [
    "#### CNT_PAYMENT"
   ]
  },
  {
   "cell_type": "code",
   "execution_count": 212,
   "metadata": {},
   "outputs": [
    {
     "data": {
      "text/plain": [
       "CNT_PAYMENT\n",
       "NaN     372230\n",
       "12.0    323049\n",
       "6.0     190461\n",
       "0.0     144985\n",
       "10.0    141851\n",
       "24.0    137764\n",
       "18.0     77430\n",
       "36.0     72583\n",
       "60.0     53600\n",
       "48.0     47316\n",
       "8.0      30349\n",
       "4.0      26924\n",
       "30.0     16924\n",
       "14.0      8253\n",
       "42.0      7136\n",
       "16.0      5710\n",
       "5.0       3957\n",
       "54.0      2104\n",
       "20.0      1805\n",
       "7.0       1434\n",
       "9.0       1236\n",
       "3.0       1100\n",
       "15.0       904\n",
       "11.0       669\n",
       "72.0       139\n",
       "13.0        51\n",
       "17.0        48\n",
       "84.0        45\n",
       "22.0        37\n",
       "23.0        27\n",
       "26.0        13\n",
       "35.0        11\n",
       "66.0        10\n",
       "28.0         8\n",
       "29.0         8\n",
       "32.0         6\n",
       "19.0         6\n",
       "34.0         4\n",
       "59.0         4\n",
       "41.0         3\n",
       "47.0         3\n",
       "45.0         3\n",
       "21.0         3\n",
       "44.0         2\n",
       "39.0         2\n",
       "46.0         2\n",
       "38.0         2\n",
       "33.0         1\n",
       "40.0         1\n",
       "53.0         1\n",
       "Name: count, dtype: int64"
      ]
     },
     "execution_count": 212,
     "metadata": {},
     "output_type": "execute_result"
    }
   ],
   "source": [
    "pa['CNT_PAYMENT'].value_counts(dropna=False)"
   ]
  },
  {
   "cell_type": "code",
   "execution_count": 214,
   "metadata": {},
   "outputs": [
    {
     "data": {
      "text/plain": [
       "346"
      ]
     },
     "execution_count": 214,
     "metadata": {},
     "output_type": "execute_result"
    }
   ],
   "source": [
    "pa['CNT_PAYMENT'] = pa.groupby('NAME_CONTRACT_TYPE')['CNT_PAYMENT'].transform(lambda x: x.fillna(x.mode()).iloc[0])\n",
    "pa['CNT_PAYMENT'].isnull().sum()"
   ]
  },
  {
   "cell_type": "code",
   "execution_count": 215,
   "metadata": {},
   "outputs": [
    {
     "data": {
      "text/plain": [
       "0"
      ]
     },
     "execution_count": 215,
     "metadata": {},
     "output_type": "execute_result"
    }
   ],
   "source": [
    "pa['CNT_PAYMENT'] = np.where(pa['CNT_PAYMENT'].isnull(), pa['CNT_PAYMENT'].mode(), pa['CNT_PAYMENT'])\n",
    "pa['CNT_PAYMENT'].isnull().sum()"
   ]
  }
 ],
 "metadata": {
  "kernelspec": {
   "display_name": "Python 3",
   "language": "python",
   "name": "python3"
  },
  "language_info": {
   "codemirror_mode": {
    "name": "ipython",
    "version": 3
   },
   "file_extension": ".py",
   "mimetype": "text/x-python",
   "name": "python",
   "nbconvert_exporter": "python",
   "pygments_lexer": "ipython3",
   "version": "3.12.3"
  }
 },
 "nbformat": 4,
 "nbformat_minor": 2
}
